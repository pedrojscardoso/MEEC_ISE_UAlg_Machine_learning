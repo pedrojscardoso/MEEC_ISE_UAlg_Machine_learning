{
 "cells": [
  {
   "cell_type": "markdown",
   "id": "e4fd64e5-e970-4209-8945-cf4816d0d286",
   "metadata": {},
   "source": [
    "# Introduction \n",
    "\n",
    "In this notebook we'll be looking of two issues:\n",
    "- Missing data\n",
    "- Converting categorical to numerical "
   ]
  },
  {
   "cell_type": "markdown",
   "id": "5876354a",
   "metadata": {},
   "source": [
    "# Missing Data\n",
    "\n",
    "- Missing values are common in dealing with real-world problems (data from long periods, multiple sources) \n",
    "- ML models require careful handling of missing data. \n",
    "- One strategy is imputing the missing values. Stategies include\n",
    "    - interpolation, e.g., mean, median or mode\n",
    "    - matrix factorization methods like SVD\n",
    "    - statistical models like Kalman filters\n",
    "    - etc\n",
    "\n",
    "In this notebook we'll be looking at: \n",
    "- Mean -  average of all values in a set\n",
    "- Median - the \"middle\" number in a set of numbers sorted by size\n",
    "- Mode - the most common category / numerical value.\n",
    "\n",
    "More, basic Pandas DataFrame operation will be used.\n",
    "\n",
    "So, first, in kaggle you can find a competion which tries to build predictive model that answers the question: “what sorts of people were more likely to survive?” using passenger data (ie name, age, gender, socio-economic class, etc). See https://www.kaggle.com/competitions/titanic/ for full details. \n",
    "\n",
    "Let us try to build our own participating solution and, for that, start by loading the dataset using the pandas library. "
   ]
  },
  {
   "cell_type": "code",
   "execution_count": null,
   "id": "905c135f",
   "metadata": {
    "ExecuteTime": {
     "end_time": "2022-11-14T16:40:43.956032Z",
     "start_time": "2022-11-14T16:40:43.596049Z"
    }
   },
   "outputs": [],
   "source": [
    "import pandas as pd\n",
    "\n",
    "titanic_df = pd.read_csv(\"data/titanic_train.csv\")\n",
    "titanic_df.head(5) # show the first 5 lines"
   ]
  },
  {
   "cell_type": "markdown",
   "id": "20907d8f",
   "metadata": {},
   "source": [
    "We can see immediately that:\n",
    "- there are categorical and numerical features\n",
    "- there are some missing values\n",
    "\n",
    "this can also be cheched by running the `.info()` method and looking to the _Non-Null Count_ column"
   ]
  },
  {
   "cell_type": "code",
   "execution_count": null,
   "id": "7f7aa9b1",
   "metadata": {
    "ExecuteTime": {
     "end_time": "2022-11-14T16:40:45.389736Z",
     "start_time": "2022-11-14T16:40:45.353583Z"
    }
   },
   "outputs": [],
   "source": [
    "titanic_df.info()"
   ]
  },
  {
   "cell_type": "markdown",
   "id": "bdc87089",
   "metadata": {},
   "source": [
    "For example, _Age_ is number (float64) and is define for 714 rows. \n",
    "\n",
    "As many algorithms do not accept `nan` values, several strategies can be taken to solve this, e.g.:\n",
    "- remove rows with _nan_\n",
    "- numerical data: replace the _nan_ values by, e.g., 0, mean, median etc.\n",
    "- categorical data: replace the _nan_ values by, e.g., mode, \"\" (empty string) etc."
   ]
  },
  {
   "cell_type": "markdown",
   "id": "0d9d1fe2-6883-4609-83e1-26cf7d6c9c8b",
   "metadata": {},
   "source": [
    "## Remove rows with _nan_\n",
    "\n",
    "Removing rows with `nan`, can be achieve using `.dropna()` method, but can represent a major loss of the original data"
   ]
  },
  {
   "cell_type": "code",
   "execution_count": null,
   "id": "90088e26",
   "metadata": {
    "ExecuteTime": {
     "end_time": "2022-11-14T16:41:09.739512Z",
     "start_time": "2022-11-14T16:41:09.723948Z"
    }
   },
   "outputs": [],
   "source": [
    "# remove non uncomplete rows\n",
    "titanic_df_with_nan_dropped = titanic_df.dropna()\n",
    "titanic_df_with_nan_dropped.info()"
   ]
  },
  {
   "cell_type": "markdown",
   "id": "768a3012-5487-4c29-a08a-b38d258d5250",
   "metadata": {},
   "source": [
    "The original dataset had 891 entries which would be reduced to 183. Maybe this not a good idea...! "
   ]
  },
  {
   "cell_type": "markdown",
   "id": "9802de78",
   "metadata": {},
   "source": [
    "## Numerical data: replace the nan values by, e.g., 0, mean, median etc.\n",
    "\n",
    "In the example exists numerical (_Age_) and categorical(_Cabin_) missing data. Let us look first to the numerical one.\n",
    "\n",
    "First look at the distribution of the data"
   ]
  },
  {
   "cell_type": "code",
   "execution_count": null,
   "id": "80efae45-55a8-4311-a7e1-90837a1cdbd2",
   "metadata": {
    "ExecuteTime": {
     "end_time": "2022-11-14T16:41:25.140550Z",
     "start_time": "2022-11-14T16:41:24.407202Z"
    }
   },
   "outputs": [],
   "source": [
    "titanic_df[\"Age\"].plot(kind=\"box\")"
   ]
  },
  {
   "cell_type": "code",
   "execution_count": null,
   "id": "f9cf452e-6f30-4354-b1fd-6ad85977781a",
   "metadata": {
    "ExecuteTime": {
     "end_time": "2022-11-14T16:41:26.195714Z",
     "start_time": "2022-11-14T16:41:26.051851Z"
    }
   },
   "outputs": [],
   "source": [
    "titanic_df[\"Age\"].plot(kind=\"hist\")"
   ]
  },
  {
   "cell_type": "markdown",
   "id": "bfd40b4e-a9bf-49c0-83d7-e9f7bc5279b3",
   "metadata": {},
   "source": [
    "- Replace Missing Values with Mean\n",
    "    - when data is \"centered\" - equaly distributed around the mean value\n",
    "\n",
    "- Replace Missing Values with Median\n",
    "    - when data is \"skewed\" - not equaly distributed around the mean value\n"
   ]
  },
  {
   "cell_type": "markdown",
   "id": "b4e777c7-50c7-4a28-8601-c0586ad0d6e2",
   "metadata": {},
   "source": [
    "First compute the `mean` / `median` (we could also define our own constant)"
   ]
  },
  {
   "cell_type": "code",
   "execution_count": null,
   "id": "6deace12",
   "metadata": {
    "ExecuteTime": {
     "end_time": "2022-11-14T16:41:47.183627Z",
     "start_time": "2022-11-14T16:41:47.176346Z"
    }
   },
   "outputs": [],
   "source": [
    "# remove non uncomplete rows\n",
    "value_to_replace_nan = titanic_df[\"Age\"].median() #try with 0, .median()\n",
    "print(\"value_to_replace_nan: \", value_to_replace_nan)"
   ]
  },
  {
   "cell_type": "markdown",
   "id": "fcf93b76-b400-4923-ae7f-38e57d6e28d4",
   "metadata": {},
   "source": [
    "Then use the `.fillna()` method applied to the _Age_ column with the computed value"
   ]
  },
  {
   "cell_type": "code",
   "execution_count": null,
   "id": "67f10b4f-79db-48a4-aa99-3de74de3ac95",
   "metadata": {
    "ExecuteTime": {
     "end_time": "2022-11-14T16:41:54.775330Z",
     "start_time": "2022-11-14T16:41:54.771748Z"
    }
   },
   "outputs": [],
   "source": [
    "titanic_df_with_nan_replaced_by_mean = titanic_df.copy() # make a copy so we do not loose original dataset for later experiments!\n",
    "\n",
    "titanic_df_with_nan_replaced_by_mean[\"Age\"] = titanic_df[\"Age\"].fillna(value_to_replace_nan)"
   ]
  },
  {
   "cell_type": "markdown",
   "id": "957283c8-3196-4b82-887c-79326ecd0c94",
   "metadata": {},
   "source": [
    "You can check that the dataframe no longer misses values on the _Age_ column"
   ]
  },
  {
   "cell_type": "code",
   "execution_count": null,
   "id": "ae096a90-1d37-4d2f-82d1-e74e8d36f78f",
   "metadata": {
    "ExecuteTime": {
     "end_time": "2022-11-14T16:41:57.864770Z",
     "start_time": "2022-11-14T16:41:57.836050Z"
    }
   },
   "outputs": [],
   "source": [
    "titanic_df_with_nan_replaced_by_mean.info()"
   ]
  },
  {
   "cell_type": "markdown",
   "id": "eb3fa77a",
   "metadata": {},
   "source": [
    "## Categorical data: replace the nan values by, e.g., mode, \"\" (empty string) etc.\n",
    "\n",
    "This case is somehow distinct from other since, the _Cabin_ column has \"lots\" of distinct values, with \"few\" repetitions. \n",
    "In other cases this can be values from more limited sets (e.g, a color, True/False, animal species, etc)."
   ]
  },
  {
   "cell_type": "code",
   "execution_count": null,
   "id": "9f41ebe9",
   "metadata": {
    "ExecuteTime": {
     "end_time": "2022-11-14T16:42:18.351933Z",
     "start_time": "2022-11-14T16:42:18.345357Z"
    }
   },
   "outputs": [],
   "source": [
    "print(set(titanic_df[\"Cabin\"]))"
   ]
  },
  {
   "cell_type": "markdown",
   "id": "395c4c60",
   "metadata": {},
   "source": [
    "So, maybe, it would be more useful to know the deck (1st letter) and from there compute the mode"
   ]
  },
  {
   "cell_type": "code",
   "execution_count": null,
   "id": "34930a3a",
   "metadata": {
    "ExecuteTime": {
     "end_time": "2022-11-14T16:42:32.103408Z",
     "start_time": "2022-11-14T16:42:32.050876Z"
    }
   },
   "outputs": [],
   "source": [
    "def transf(x):\n",
    "    try:\n",
    "        return x[0] # return 1st letter\n",
    "    except:\n",
    "        return x # return the value if an exception was rased (e.g., when x is nan)\n",
    "\n",
    "titanic_cabin_df = titanic_df.copy() # make a copy so we do not loose original dataset for later experiments!\n",
    "titanic_cabin_df[\"Cabin\"] = titanic_df[\"Cabin\"].apply(transf)\n",
    "\n",
    "titanic_cabin_df"
   ]
  },
  {
   "cell_type": "markdown",
   "id": "0659f936",
   "metadata": {},
   "source": [
    "We can now see that, for the known cabins/\"deck\", the mode should be \"C\" by plotting an histogram"
   ]
  },
  {
   "cell_type": "code",
   "execution_count": null,
   "id": "c9e95cd6",
   "metadata": {
    "ExecuteTime": {
     "end_time": "2022-11-14T16:42:44.387560Z",
     "start_time": "2022-11-14T16:42:44.244536Z"
    }
   },
   "outputs": [],
   "source": [
    "titanic_cabin_df[\"Cabin\"].value_counts().plot(kind='bar')"
   ]
  },
  {
   "cell_type": "markdown",
   "id": "a5e36131-6623-4be3-9419-2dbb8ae2da31",
   "metadata": {},
   "source": [
    "Or by computing the mode of the \"Cabin\" column"
   ]
  },
  {
   "cell_type": "code",
   "execution_count": null,
   "id": "e3f2b7c1",
   "metadata": {
    "ExecuteTime": {
     "end_time": "2022-11-14T16:42:49.069139Z",
     "start_time": "2022-11-14T16:42:49.062600Z"
    }
   },
   "outputs": [],
   "source": [
    "value_to_replace_nan = titanic_cabin_df[\"Cabin\"].mode()\n",
    "value_to_replace_nan"
   ]
  },
  {
   "cell_type": "markdown",
   "id": "b6fe85dd-bfd1-4dd3-a976-725f73b81bf7",
   "metadata": {},
   "source": [
    "As before we can use the `.fillna()` method"
   ]
  },
  {
   "cell_type": "code",
   "execution_count": null,
   "id": "fbebc958",
   "metadata": {
    "ExecuteTime": {
     "end_time": "2022-11-14T16:42:55.944468Z",
     "start_time": "2022-11-14T16:42:55.908720Z"
    }
   },
   "outputs": [],
   "source": [
    "titanic_cabin_df[\"Cabin\"] = titanic_cabin_df[\"Cabin\"].fillna(value_to_replace_nan[0])\n",
    "titanic_cabin_df"
   ]
  },
  {
   "cell_type": "markdown",
   "id": "c111efa8",
   "metadata": {},
   "source": [
    "# Converting categorical to numerical \n",
    "\n",
    "The majority of the ML algorithms does not accept categorical (string) values as input. So categorical data must be somehow converted to numerical.\n",
    "Solutions include:\n",
    "- categories mapping (e.g., True->1 / False->0 or S->0 / M->1 / L->2 / etc.)\n",
    "- one hot encoding of data\n",
    "\n",
    "Here we'll be looking at the later case (one hot encoding )\n",
    "\n",
    "For a simpler example, consider the following pandas dataframe"
   ]
  },
  {
   "cell_type": "code",
   "execution_count": null,
   "id": "45cfbf28",
   "metadata": {
    "ExecuteTime": {
     "end_time": "2022-11-14T16:43:00.081169Z",
     "start_time": "2022-11-14T16:43:00.070570Z"
    }
   },
   "outputs": [],
   "source": [
    "df = pd.DataFrame({\"Col1\": [\"a\", \"b\",\"a\", \"a\", \"c\"]})\n",
    "df"
   ]
  },
  {
   "cell_type": "markdown",
   "id": "7c1692c5-d13b-4c00-b04b-2d7df71e895f",
   "metadata": {},
   "source": [
    "Now, pandas provides the `.get_dummies()` method, resulting in"
   ]
  },
  {
   "cell_type": "code",
   "execution_count": null,
   "id": "e58b019d",
   "metadata": {
    "ExecuteTime": {
     "end_time": "2022-11-14T16:43:02.770934Z",
     "start_time": "2022-11-14T16:43:02.752601Z"
    }
   },
   "outputs": [],
   "source": [
    "pd.get_dummies(df)"
   ]
  },
  {
   "cell_type": "markdown",
   "id": "e6b15af1",
   "metadata": {},
   "source": [
    "For the Titanic example we could just do, which whill apply the `.get_dummies()` method to all categorical columns."
   ]
  },
  {
   "cell_type": "code",
   "execution_count": null,
   "id": "b215cbb3",
   "metadata": {
    "ExecuteTime": {
     "end_time": "2022-11-14T16:43:05.751820Z",
     "start_time": "2022-11-14T16:43:05.701946Z"
    }
   },
   "outputs": [],
   "source": [
    "pd.get_dummies(titanic_df)"
   ]
  },
  {
   "cell_type": "markdown",
   "id": "f05a25bd-69ab-4417-ab10-cecb44e157d0",
   "metadata": {},
   "source": [
    "In our case, the previous operation should be combined with the previous ones as 1371 columns where returned (for instance a column was creted for each name in the dataframe)"
   ]
  },
  {
   "cell_type": "code",
   "execution_count": null,
   "id": "4e1656f2-7d9d-474f-a639-0ed174cf28a4",
   "metadata": {
    "ExecuteTime": {
     "end_time": "2022-11-14T16:43:27.219148Z",
     "start_time": "2022-11-14T16:43:27.190244Z"
    }
   },
   "outputs": [],
   "source": [
    "print(set(pd.get_dummies(titanic_df).columns))"
   ]
  },
  {
   "cell_type": "code",
   "execution_count": null,
   "id": "26bb524f",
   "metadata": {},
   "outputs": [],
   "source": []
  }
 ],
 "metadata": {
  "kernelspec": {
   "display_name": "Python 3 (ipykernel)",
   "language": "python",
   "name": "python3"
  },
  "language_info": {
   "codemirror_mode": {
    "name": "ipython",
    "version": 3
   },
   "file_extension": ".py",
   "mimetype": "text/x-python",
   "name": "python",
   "nbconvert_exporter": "python",
   "pygments_lexer": "ipython3",
   "version": "3.10.6"
  },
  "nbTranslate": {
   "displayLangs": [
    "pt",
    "en"
   ],
   "hotkey": "alt-t",
   "langInMainMenu": true,
   "sourceLang": "en",
   "targetLang": "pt",
   "useGoogleTranslate": true
  },
  "toc": {
   "base_numbering": 1,
   "nav_menu": {},
   "number_sections": true,
   "sideBar": true,
   "skip_h1_title": false,
   "title_cell": "Table of Contents",
   "title_sidebar": "Contents",
   "toc_cell": false,
   "toc_position": {},
   "toc_section_display": true,
   "toc_window_display": false
  },
  "varInspector": {
   "cols": {
    "lenName": 16,
    "lenType": 16,
    "lenVar": 40
   },
   "kernels_config": {
    "python": {
     "delete_cmd_postfix": "",
     "delete_cmd_prefix": "del ",
     "library": "var_list.py",
     "varRefreshCmd": "print(var_dic_list())"
    },
    "r": {
     "delete_cmd_postfix": ") ",
     "delete_cmd_prefix": "rm(",
     "library": "var_list.r",
     "varRefreshCmd": "cat(var_dic_list()) "
    }
   },
   "types_to_exclude": [
    "module",
    "function",
    "builtin_function_or_method",
    "instance",
    "_Feature"
   ],
   "window_display": false
  }
 },
 "nbformat": 4,
 "nbformat_minor": 5
}
