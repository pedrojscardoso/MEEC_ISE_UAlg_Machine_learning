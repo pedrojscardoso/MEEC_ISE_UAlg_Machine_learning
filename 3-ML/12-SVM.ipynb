{
 "cells": [
  {
   "cell_type": "markdown",
   "source": [
    "___\n",
    "<h1> Machine Learning </h1>\n",
    "<h2> M. Sc. in Electrical and Computer Engineering </h2>\n",
    "<h3> Instituto Superior de Engenharia / Universidade do Algarve </h3>\n",
    "\n",
    "[MEEC](https://ise.ualg.pt/en/curso/1477) / [ISE](https://ise.ualg.pt) / [UAlg](https://www.ualg.pt)\n",
    "\n",
    "Pedro J. S. Cardoso (pcardoso@ualg.pt)\n",
    "___"
   ],
   "metadata": {
    "collapsed": false
   }
  },
  {
   "cell_type": "markdown",
   "metadata": {},
   "source": [
    "# SVM \n",
    "\n",
    "Support vector machines (SVMs) are a set of supervised learning methods used for classification, regression and outliers detection.\n",
    "See https://scikit-learn.org/stable/modules/svm.html for an explanation of the module and https://scikit-learn.org/stable/modules/svm.html#svm-mathematical-formulation for a the mathematical formulation.\n",
    "\n",
    "## Classification"
   ]
  },
  {
   "cell_type": "code",
   "execution_count": null,
   "metadata": {},
   "outputs": [],
   "source": [
    "from sklearn.svm import SVC\n",
    "from sklearn.datasets import load_iris\n",
    "from sklearn.model_selection import train_test_split\n",
    "\n",
    "iris = load_iris()\n",
    "\n",
    "X_train, X_test, y_train, y_test = train_test_split(iris.data,\n",
    "                                                    iris.target, \n",
    "                                                    random_state=10)"
   ]
  },
  {
   "cell_type": "code",
   "execution_count": null,
   "metadata": {
    "ExecuteTime": {
     "end_time": "2019-05-16T13:35:16.314484Z",
     "start_time": "2019-05-16T13:35:15.241585Z"
    }
   },
   "outputs": [],
   "source": [
    "svm = SVC(\n",
    "    C=.1, \n",
    "    kernel='poly', \n",
    "    degree=4).fit(X_train, y_train)\n",
    "\n",
    "score = svm.score(X_test, y_test)\n",
    "score"
   ]
  },
  {
   "cell_type": "code",
   "execution_count": null,
   "metadata": {},
   "outputs": [],
   "source": [
    "svm = SVC(\n",
    "    C=.01, \n",
    "    kernel='poly', \n",
    "    degree=4).fit(X_train, y_train)\n",
    "\n",
    "score = svm.score(X_test, y_test)\n",
    "print(score)\n",
    "print('\"1.0!! Pure luke\"!! try with other random state value (train_test_split)!')"
   ]
  },
  {
   "cell_type": "markdown",
   "metadata": {},
   "source": [
    "See also https://scikit-learn.org/stable/auto_examples/svm/plot_iris_svc.html#sphx-glr-auto-examples-svm-plot-iris-svc-py"
   ]
  },
  {
   "cell_type": "markdown",
   "metadata": {
    "ExecuteTime": {
     "end_time": "2019-05-13T13:53:16.149339Z",
     "start_time": "2019-05-13T13:53:16.146331Z"
    }
   },
   "source": [
    "## Regression\n",
    "\n",
    "Next we present a few examples of regression using SVM\n",
    "\n",
    "### LinearSVR"
   ]
  },
  {
   "cell_type": "code",
   "execution_count": null,
   "metadata": {
    "ExecuteTime": {
     "end_time": "2019-05-16T13:35:16.343454Z",
     "start_time": "2019-05-16T13:35:16.316470Z"
    }
   },
   "outputs": [],
   "source": [
    "%matplotlib inline\n",
    "from sklearn.svm import LinearSVR\n",
    "from sklearn.datasets import load_boston\n",
    "from sklearn.model_selection import train_test_split\n",
    "import matplotlib.pyplot as plt\n",
    "import numpy as np\n",
    "\n",
    "boston = load_boston()\n",
    "\n",
    "X = boston.data\n",
    "y = boston.target\n",
    "\n",
    "X_train, X_test, y_train, y_test = train_test_split(X,y,\n",
    "                                                    shuffle=True,\n",
    "                                                    random_state=1,\n",
    "                                                    test_size=0.1)\n",
    "\n",
    "svm = LinearSVR(C=100,\n",
    "                max_iter=100000,\n",
    "                random_state=1\n",
    "               ).fit(X_train, y_train)\n",
    "\n",
    "score = svm.score(X_test, y_test)\n",
    "score        "
   ]
  },
  {
   "cell_type": "code",
   "execution_count": null,
   "metadata": {
    "ExecuteTime": {
     "end_time": "2019-05-16T13:35:17.089819Z",
     "start_time": "2019-05-16T13:35:16.344442Z"
    }
   },
   "outputs": [],
   "source": [
    "y_pred = svm.predict(X_test)\n",
    "\n",
    "plt.figure(figsize=(15,10))\n",
    "\n",
    "plt.plot(y_test, c='b')\n",
    "plt.plot(y_pred, c='g')\n",
    "plt.plot(np.abs(y_pred-y_test), c='r')\n",
    "plt.xlabel(\"House_i in the test dataset\")\n",
    "plt.ylabel(\"House value\")\n",
    "\n",
    "plt.legend([\"test\", \"pred\", \"$\\Delta = |y_i-\\hat{y_i}|$\"])"
   ]
  },
  {
   "cell_type": "markdown",
   "metadata": {},
   "source": [
    "### SVR:  kernel='poly'\n",
    "\n",
    "After some \"fight\" with the parameters..."
   ]
  },
  {
   "cell_type": "code",
   "execution_count": null,
   "metadata": {
    "ExecuteTime": {
     "end_time": "2019-05-16T13:35:17.118787Z",
     "start_time": "2019-05-16T13:35:17.090814Z"
    }
   },
   "outputs": [],
   "source": [
    "from sklearn.svm import SVR\n",
    "\n",
    "svm = SVR(C=10000, \n",
    "          kernel='poly', \n",
    "          gamma=.00001,\n",
    "          degree=3,\n",
    "          max_iter=100000000,\n",
    "          shrinking=True\n",
    "         ).fit(X_train, y_train)\n",
    "\n",
    "score = svm.score(X_test, y_test)\n",
    "score        "
   ]
  },
  {
   "cell_type": "code",
   "execution_count": null,
   "metadata": {
    "ExecuteTime": {
     "end_time": "2019-05-16T13:35:17.463662Z",
     "start_time": "2019-05-16T13:35:17.119775Z"
    }
   },
   "outputs": [],
   "source": [
    "y_pred = svm.predict(X_test)\n",
    "\n",
    "import pandas as pd\n",
    "df = pd.DataFrame([y_test, y_pred, y_pred-y_test]).T\n",
    "df.columns =  [\"test\", \"pred\", \"\\Delta\"]\n",
    "df\n"
   ]
  },
  {
   "cell_type": "code",
   "execution_count": null,
   "metadata": {
    "ExecuteTime": {
     "end_time": "2019-05-16T13:35:17.781319Z",
     "start_time": "2019-05-16T13:35:17.525582Z"
    }
   },
   "outputs": [],
   "source": [
    "plt.figure(figsize=(15,10))\n",
    "\n",
    "plt.plot(y_test, c='b')\n",
    "plt.plot(y_pred, c='g')\n",
    "plt.plot(np.abs(y_pred-y_test), c='r')\n",
    "plt.xlabel(\"House_i in the test dataset\")\n",
    "plt.ylabel(\"House value\")\n",
    "\n",
    "plt.legend([\"test\", \"pred\", \"$\\Delta = |y_i-\\hat{y_i}|$\"])\n",
    "\n",
    "plt.show()"
   ]
  },
  {
   "cell_type": "code",
   "execution_count": null,
   "metadata": {},
   "outputs": [],
   "source": [
    "X_test"
   ]
  },
  {
   "cell_type": "markdown",
   "metadata": {},
   "source": [
    "   "
   ]
  },
  {
   "cell_type": "markdown",
   "metadata": {
    "ExecuteTime": {
     "end_time": "2019-05-13T14:35:32.287129Z",
     "start_time": "2019-05-13T14:35:32.283133Z"
    }
   },
   "source": [
    "# Cross validation\n",
    "\n",
    "But, really, how good are our models?\n",
    "\n",
    "## Classification"
   ]
  },
  {
   "cell_type": "code",
   "execution_count": null,
   "metadata": {
    "ExecuteTime": {
     "end_time": "2019-05-16T13:35:19.525540Z",
     "start_time": "2019-05-16T13:35:17.783318Z"
    }
   },
   "outputs": [],
   "source": [
    "from sklearn.model_selection import cross_val_score\n",
    "from sklearn.datasets import load_iris\n",
    "from sklearn.svm import SVC\n",
    "\n",
    "svc = SVC()\n",
    "scores = cross_val_score(estimator=svc, # model\n",
    "                         X=iris.data, \n",
    "                         y=iris.target, # X, y\n",
    "                         cv=5,       #number of folds - default 3-fold cross validation (see alternatives in documentation)\n",
    "                         n_jobs=-1,  # use all CPU\n",
    "                         verbose=1,   # verbose level \n",
    "                        )\n",
    "scores"
   ]
  },
  {
   "cell_type": "markdown",
   "metadata": {},
   "source": [
    "## Regression"
   ]
  },
  {
   "cell_type": "code",
   "execution_count": null,
   "metadata": {
    "ExecuteTime": {
     "end_time": "2019-05-16T13:36:06.759000Z",
     "start_time": "2019-05-16T13:36:06.701060Z"
    }
   },
   "outputs": [],
   "source": [
    "from sklearn.svm import LinearSVR\n",
    "from sklearn.datasets import load_boston\n",
    "from sklearn.model_selection import train_test_split\n",
    "\n",
    "boston = load_boston()\n",
    "\n",
    "svr = SVR(C=1000)\n",
    "\n",
    "scores = cross_val_score(estimator=svr, # model\n",
    "                         X=boston.data, \n",
    "                         y=boston.target, # X, y\n",
    "                         cv=5,       #number of folds - default 3-fold cross validation (see alternatives in documentation)\n",
    "                         n_jobs=-1,  # use all CPU\n",
    "                         verbose=1,   # verbose level \n",
    "                        )\n",
    "scores"
   ]
  },
  {
   "cell_type": "markdown",
   "metadata": {
    "ExecuteTime": {
     "end_time": "2019-05-13T14:41:19.621304Z",
     "start_time": "2019-05-13T14:41:19.617309Z"
    }
   },
   "source": [
    "... needs improvements!?"
   ]
  },
  {
   "cell_type": "code",
   "execution_count": null,
   "metadata": {},
   "outputs": [],
   "source": []
  }
 ],
 "metadata": {
  "kernelspec": {
   "display_name": "Python 3 (ipykernel)",
   "language": "python",
   "name": "python3"
  },
  "language_info": {
   "codemirror_mode": {
    "name": "ipython",
    "version": 3
   },
   "file_extension": ".py",
   "mimetype": "text/x-python",
   "name": "python",
   "nbconvert_exporter": "python",
   "pygments_lexer": "ipython3",
   "version": "3.10.6"
  },
  "nbTranslate": {
   "displayLangs": [
    "*"
   ],
   "hotkey": "alt-t",
   "langInMainMenu": true,
   "sourceLang": "en",
   "targetLang": "fr",
   "useGoogleTranslate": true
  },
  "toc": {
   "base_numbering": 1,
   "nav_menu": {},
   "number_sections": true,
   "sideBar": true,
   "skip_h1_title": false,
   "title_cell": "Table of Contents",
   "title_sidebar": "Contents",
   "toc_cell": false,
   "toc_position": {},
   "toc_section_display": true,
   "toc_window_display": false
  },
  "varInspector": {
   "cols": {
    "lenName": 16,
    "lenType": 16,
    "lenVar": 40
   },
   "kernels_config": {
    "python": {
     "delete_cmd_postfix": "",
     "delete_cmd_prefix": "del ",
     "library": "var_list.py",
     "varRefreshCmd": "print(var_dic_list())"
    },
    "r": {
     "delete_cmd_postfix": ") ",
     "delete_cmd_prefix": "rm(",
     "library": "var_list.r",
     "varRefreshCmd": "cat(var_dic_list()) "
    }
   },
   "types_to_exclude": [
    "module",
    "function",
    "builtin_function_or_method",
    "instance",
    "_Feature"
   ],
   "window_display": false
  }
 },
 "nbformat": 4,
 "nbformat_minor": 4
}
