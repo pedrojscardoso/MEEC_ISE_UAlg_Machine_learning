{
 "cells": [
  {
   "cell_type": "markdown",
   "source": [
    "___\n",
    "<h1> Machine Learning </h1>\n",
    "<h2> M. Sc. in Electrical and Computer Engineering </h2>\n",
    "<h3> Instituto Superior de Engenharia / Universidade do Algarve </h3>\n",
    "\n",
    "[MEEC](https://ise.ualg.pt/en/curso/1477) / [ISE](https://ise.ualg.pt) / [UAlg](https://www.ualg.pt)\n",
    "\n",
    "Pedro J. S. Cardoso (pcardoso@ualg.pt)\n",
    "___"
   ],
   "metadata": {
    "collapsed": false
   }
  },
  {
   "cell_type": "markdown",
   "metadata": {},
   "source": [
    "# Grid Search\n",
    "## Simple Grid Search\n",
    "In this part we'll do some simple grid search (by hand)"
   ]
  },
  {
   "cell_type": "code",
   "execution_count": null,
   "metadata": {
    "ExecuteTime": {
     "end_time": "2019-05-16T13:38:45.980498Z",
     "start_time": "2019-05-16T13:38:44.934539Z"
    }
   },
   "outputs": [],
   "source": [
    "from sklearn.svm import SVC\n",
    "from sklearn.datasets import load_digits\n",
    "from sklearn.model_selection import train_test_split\n",
    "from sklearn.model_selection import cross_val_score\n",
    "from sklearn.model_selection import GridSearchCV\n",
    "\n",
    "import pandas as pd\n",
    "import matplotlib.pyplot as plt"
   ]
  },
  {
   "cell_type": "markdown",
   "metadata": {},
   "source": [
    "Let us start by doing it without a validation set"
   ]
  },
  {
   "cell_type": "code",
   "execution_count": null,
   "metadata": {
    "ExecuteTime": {
     "end_time": "2019-05-16T13:38:45.988467Z",
     "start_time": "2019-05-16T13:38:45.981471Z"
    }
   },
   "outputs": [],
   "source": [
    "digits = load_digits()\n",
    "\n",
    "X_train, X_test, y_train, y_test = train_test_split(digits.data,\n",
    "                                                    digits.target, \n",
    "                                                    random_state=100)"
   ]
  },
  {
   "cell_type": "markdown",
   "metadata": {},
   "source": [
    "Find the best parameters according with the training and validation sets"
   ]
  },
  {
   "cell_type": "code",
   "execution_count": null,
   "metadata": {
    "ExecuteTime": {
     "end_time": "2019-05-16T13:38:49.272793Z",
     "start_time": "2019-05-16T13:38:49.228838Z"
    }
   },
   "outputs": [],
   "source": [
    "best_score = 0\n",
    "\n",
    "list_of_params = [.001, 0.01, 0.1, 1, 10, 100]\n",
    "\n",
    "for gamma in list_of_params:\n",
    "    for C in list_of_params:\n",
    "        \n",
    "        svm = SVC(gamma=gamma, C=C).fit(X_train, y_train)\n",
    "        \n",
    "        score = svm.score(X_test, y_test)\n",
    "        \n",
    "        if score > best_score:\n",
    "            best_model = svm\n",
    "            best_score = score\n",
    "            best_params = {'C': C, 'gamma': gamma}\n",
    "\n",
    "print(f'Over the test set, the best params are: {best_params} with a score of: {best_score}')"
   ]
  },
  {
   "cell_type": "markdown",
   "metadata": {},
   "source": [
    "## The Danger of Overfitting the Parameters and the Validation Set\n",
    "\n",
    "We tried many different parameters and selected the one with best accuracy on the test set, but this accuracy won’t necessarily carry over to new data. Because we used the test data to adjust the parameters, we can no longer use it to assess how good the model is. \n",
    "\n",
    "This is the same reason we needed to split the data into training and test sets in the first place; we need an independent\n",
    "dataset to evaluate, one that was not used to create the model.\n",
    "\n",
    "Let us start by building a training (60%), a testing (20%), and a validation (20%) set"
   ]
  },
  {
   "cell_type": "code",
   "execution_count": null,
   "metadata": {
    "ExecuteTime": {
     "end_time": "2019-05-16T13:39:43.838991Z",
     "start_time": "2019-05-16T13:39:43.831000Z"
    }
   },
   "outputs": [],
   "source": [
    "digits = load_digits()\n",
    "\n",
    "X_train_validate, X_test, y_train_validate, y_test = train_test_split(digits.data,\n",
    "                                                    digits.target, \n",
    "                                                    test_size=.2,\n",
    "                    (X_test, y_test)                                random_state=0)\n",
    "\n",
    "X_train, X_validate, y_train, y_validate = train_test_split(X_train_validate,\n",
    "                                                    y_train_validate, \n",
    "                                                    test_size=.25, # this will give 20% of the original set\n",
    "                                                    random_state=0)"
   ]
  },
  {
   "cell_type": "markdown",
   "metadata": {},
   "source": [
    "Do the same grid search..."
   ]
  },
  {
   "cell_type": "code",
   "execution_count": null,
   "metadata": {
    "ExecuteTime": {
     "end_time": "2019-05-16T13:39:46.119266Z",
     "start_time": "2019-05-16T13:39:46.085301Z"
    }
   },
   "outputs": [],
   "source": [
    "best_score = 0\n",
    "\n",
    "list_of_params = [.001, 0.01, 0.1, 1, 10, 100]\n",
    "\n",
    "for gamma in list_of_params:\n",
    "    for C in list_of_params:\n",
    "        svm = SVC(gamma=gamma, C=C).fit(X_train, y_train)\n",
    "        score = svm.score(X_validate, y_validate)\n",
    "        \n",
    "        if score > best_score:\n",
    "            best_score = score\n",
    "            best_params = {'C': C, 'gamma': gamma}\n",
    "            \n",
    "print(f'Over the validation set, the best params are: {best_params} with a score of: {best_score}')   "
   ]
  },
  {
   "cell_type": "markdown",
   "metadata": {},
   "source": [
    "Now we rebuild the model on the combined training and validation set and test it with the test set: How does it behave on the test set?"
   ]
  },
  {
   "cell_type": "code",
   "execution_count": null,
   "metadata": {},
   "outputs": [],
   "source": [
    "svm = SVC(**best_params).fit(X_train_validate, y_train_validate)\n",
    "score = svm.score(X_test, y_test)\n",
    "\n",
    "print(f'Over the test set the score is: {score}')"
   ]
  },
  {
   "cell_type": "markdown",
   "metadata": {},
   "source": [
    "Not bad ehm!?"
   ]
  },
  {
   "cell_type": "markdown",
   "metadata": {},
   "source": [
    "## Grid Search with Cross-Validation\n",
    "\n",
    "For a better estimate of the generalization performance, instead of using a single split into a training and a validation set, we can use cross-validation to evaluate the performance of each parameter combination."
   ]
  },
  {
   "cell_type": "code",
   "execution_count": null,
   "metadata": {},
   "outputs": [],
   "source": [
    "digits = load_digits()\n",
    "\n",
    "X_train, X_test, y_train, y_test = train_test_split(digits.data,\n",
    "                                                    digits.target, \n",
    "                                                    random_state=100)"
   ]
  },
  {
   "cell_type": "code",
   "execution_count": null,
   "metadata": {
    "ExecuteTime": {
     "end_time": "2019-05-16T13:40:10.896122Z",
     "start_time": "2019-05-16T13:40:10.693314Z"
    }
   },
   "outputs": [],
   "source": [
    "best_score = 0\n",
    "\n",
    "labels=[]\n",
    "values=[]\n",
    "\n",
    "list_of_params = [.001, 0.01, 0.1, 1, 10, 100]\n",
    "\n",
    "for gamma in list_of_params:\n",
    "    for C in list_of_params:\n",
    "        svm = SVC(gamma=gamma, C=C)\n",
    "        score_array = cross_val_score(estimator=svm, \n",
    "                                      X=X_train, \n",
    "                                      y=y_train, \n",
    "                                      cv=10)\n",
    "        \n",
    "        mean_score = score_array.mean()\n",
    "        \n",
    "        labels.append(f'C={C}/gamma={gamma}')\n",
    "        values.append(score_array)\n",
    "        \n",
    "        if mean_score > best_score:\n",
    "            best_score = mean_score\n",
    "            best_score_array = score_array\n",
    "            best_params = {'C': C, 'gamma': gamma}\n",
    "\n",
    "        \n",
    "        \n",
    "print(f'best param are {best_params} with a mean score {best_score} \\n(the scores values where {best_score_array})')"
   ]
  },
  {
   "cell_type": "code",
   "execution_count": null,
   "metadata": {},
   "outputs": [],
   "source": [
    "SVC(**best_params).fit(X_train, y_train).score(X_test, y_test)"
   ]
  },
  {
   "cell_type": "markdown",
   "metadata": {},
   "source": [
    "The all set of values are"
   ]
  },
  {
   "cell_type": "code",
   "execution_count": null,
   "metadata": {},
   "outputs": [],
   "source": [
    "values"
   ]
  },
  {
   "cell_type": "markdown",
   "metadata": {},
   "source": [
    "Lets us plot these values"
   ]
  },
  {
   "cell_type": "code",
   "execution_count": null,
   "metadata": {
    "ExecuteTime": {
     "end_time": "2019-05-16T13:40:18.348582Z",
     "start_time": "2019-05-16T13:40:17.837119Z"
    }
   },
   "outputs": [],
   "source": [
    "fig, ax = plt.subplots(figsize=(15,5))\n",
    "\n",
    "ax.boxplot(values)\n",
    "ax.set_xticklabels(labels=labels, rotation=75)\n",
    "plt.ylabel(\"score\")\n",
    "\n",
    "plt.show()"
   ]
  },
  {
   "cell_type": "markdown",
   "metadata": {},
   "source": [
    "\n",
    "## GridSearchCV\n",
    "Because grid search with cross-validation is such a commonly used method to adjust parameters, scikit-learn provides the GridSearchCV class, which implements it in the form of an estimator. \n",
    "\n",
    "(https://scikit-learn.org/stable/modules/generated/sklearn.model_selection.GridSearchCV.html)"
   ]
  },
  {
   "cell_type": "code",
   "execution_count": null,
   "metadata": {
    "ExecuteTime": {
     "end_time": "2019-05-16T13:41:22.871401Z",
     "start_time": "2019-05-16T13:41:22.638651Z"
    }
   },
   "outputs": [],
   "source": [
    "list_of_params = [.001, 0.01, 0.1, 1, 10, 100]\n",
    "param_grid = {\n",
    "        'C': list_of_params, \n",
    "        'gamma': list_of_params\n",
    "    } \n",
    "\n",
    "digits = load_digits()\n",
    "X_train, X_test, y_train, y_test = train_test_split(digits.data,\n",
    "                                                    digits.target, \n",
    "                                                    random_state=0)\n",
    "clf = GridSearchCV(estimator=SVC(), \n",
    "                 param_grid=param_grid, \n",
    "                 cv=5, \n",
    "                 return_train_score=True).fit(X_train, y_train)\n",
    "\n",
    "print(f'best score: { clf.best_score_}\\n best params: {clf.best_params_}\\n score over test: {clf.score(X_test, y_test)}\\n\\n Best estimator: {clf.best_estimator_}')"
   ]
  },
  {
   "cell_type": "markdown",
   "metadata": {},
   "source": [
    "Now, we can use `pandas` to have a better look at the results"
   ]
  },
  {
   "cell_type": "code",
   "execution_count": null,
   "metadata": {
    "ExecuteTime": {
     "end_time": "2019-05-16T13:41:27.123669Z",
     "start_time": "2019-05-16T13:41:25.021694Z"
    },
    "scrolled": false
   },
   "outputs": [],
   "source": [
    "results = pd.DataFrame(clf.cv_results_)"
   ]
  },
  {
   "cell_type": "code",
   "execution_count": null,
   "metadata": {
    "ExecuteTime": {
     "end_time": "2019-05-16T13:41:27.304505Z",
     "start_time": "2019-05-16T13:41:27.124630Z"
    }
   },
   "outputs": [],
   "source": [
    "results.sort_values(by='mean_test_score', ascending=False).head(10)"
   ]
  },
  {
   "cell_type": "markdown",
   "metadata": {},
   "source": [
    "And now with data never seen"
   ]
  },
  {
   "cell_type": "code",
   "execution_count": null,
   "metadata": {},
   "outputs": [],
   "source": [
    "clf = SVC(**clf.best_params_).fit(X_train, y_train)\n",
    "clf.score(X_test, y_test)"
   ]
  },
  {
   "cell_type": "markdown",
   "metadata": {},
   "source": [
    "## Search over spaces that are not grids"
   ]
  },
  {
   "cell_type": "code",
   "execution_count": null,
   "metadata": {
    "ExecuteTime": {
     "end_time": "2019-05-16T13:41:51.221426Z",
     "start_time": "2019-05-16T13:41:50.965688Z"
    }
   },
   "outputs": [],
   "source": [
    "param_grid = [\n",
    "                {\n",
    "                    'kernel': ['rbf'], \n",
    "                    'C': [1, 10, 100],\n",
    "                    'gamma': [0.001, 0.01, 0.1]\n",
    "                },\n",
    "                {\n",
    "                    'kernel': ['linear'],\n",
    "                    'C': [0.001, 0.01, 0.1, 1, 10, 100]\n",
    "                }\n",
    "            ]\n",
    "\n",
    "clf = GridSearchCV(\n",
    "            estimator=SVC(), \n",
    "            param_grid=param_grid, \n",
    "            cv=5, \n",
    "            return_train_score=True).fit(X_train, y_train)\n",
    "\n",
    "print(f'best score: { clf.best_score_}\\n best params: {clf.best_params_}\\n score over test: {clf.score(X_test, y_test)}\\n\\n Best estimator: {clf.best_estimator_}')"
   ]
  }
 ],
 "metadata": {
  "kernelspec": {
   "display_name": "Python 3",
   "language": "python",
   "name": "python3"
  },
  "language_info": {
   "codemirror_mode": {
    "name": "ipython",
    "version": 3
   },
   "file_extension": ".py",
   "mimetype": "text/x-python",
   "name": "python",
   "nbconvert_exporter": "python",
   "pygments_lexer": "ipython3",
   "version": "3.10.4"
  },
  "nbTranslate": {
   "displayLangs": [
    "*"
   ],
   "hotkey": "alt-t",
   "langInMainMenu": true,
   "sourceLang": "en",
   "targetLang": "fr",
   "useGoogleTranslate": true
  },
  "toc": {
   "base_numbering": 1,
   "nav_menu": {
    "height": "148px",
    "width": "339px"
   },
   "number_sections": true,
   "sideBar": true,
   "skip_h1_title": false,
   "title_cell": "Table of Contents",
   "title_sidebar": "Contents",
   "toc_cell": false,
   "toc_position": {},
   "toc_section_display": true,
   "toc_window_display": false
  },
  "varInspector": {
   "cols": {
    "lenName": 16,
    "lenType": 16,
    "lenVar": 40
   },
   "kernels_config": {
    "python": {
     "delete_cmd_postfix": "",
     "delete_cmd_prefix": "del ",
     "library": "var_list.py",
     "varRefreshCmd": "print(var_dic_list())"
    },
    "r": {
     "delete_cmd_postfix": ") ",
     "delete_cmd_prefix": "rm(",
     "library": "var_list.r",
     "varRefreshCmd": "cat(var_dic_list()) "
    }
   },
   "types_to_exclude": [
    "module",
    "function",
    "builtin_function_or_method",
    "instance",
    "_Feature"
   ],
   "window_display": false
  }
 },
 "nbformat": 4,
 "nbformat_minor": 2
}
