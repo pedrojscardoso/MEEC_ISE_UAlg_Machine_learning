{
 "cells": [
  {
   "cell_type": "markdown",
   "metadata": {},
   "source": [
    "# Cross validation"
   ]
  },
  {
   "cell_type": "markdown",
   "metadata": {},
   "source": [
    "https://scikit-learn.org/stable/modules/generated/sklearn.model_selection.cross_val_score.html"
   ]
  },
  {
   "cell_type": "code",
   "execution_count": null,
   "metadata": {
    "ExecuteTime": {
     "end_time": "2019-05-16T13:05:28.341052Z",
     "start_time": "2019-05-16T13:05:28.337067Z"
    }
   },
   "outputs": [],
   "source": [
    "from sklearn.model_selection import cross_val_score\n",
    "from sklearn.datasets import load_iris\n",
    "from sklearn.linear_model import LogisticRegression\n",
    "\n",
    "import matplotlib.pyplot as plt"
   ]
  },
  {
   "cell_type": "markdown",
   "metadata": {},
   "source": [
    "Load the iris dataset and define a Logistic Regression classification model"
   ]
  },
  {
   "cell_type": "code",
   "execution_count": null,
   "metadata": {
    "ExecuteTime": {
     "end_time": "2019-05-16T13:07:45.662514Z",
     "start_time": "2019-05-16T13:07:45.657521Z"
    }
   },
   "outputs": [],
   "source": [
    "iris = load_iris()\n",
    "\n",
    "log_reg = LogisticRegression(\n",
    "                        random_state=1, \n",
    "                        C=200,\n",
    "                        solver='lbfgs',\n",
    "                        multi_class='auto',\n",
    "                        max_iter=10000)"
   ]
  },
  {
   "cell_type": "markdown",
   "metadata": {},
   "source": [
    "To compute the accuracy of the model a cross validation score is now used"
   ]
  },
  {
   "cell_type": "code",
   "execution_count": null,
   "metadata": {
    "ExecuteTime": {
     "end_time": "2019-05-16T13:07:47.842979Z",
     "start_time": "2019-05-16T13:07:46.872981Z"
    }
   },
   "outputs": [],
   "source": [
    "scores = cross_val_score(estimator=log_reg, # model\n",
    "                         X=iris.data, y=iris.target, # X, y\n",
    "                         cv=5,       #number of folds - default 5-fold cross validation (see alternatives in documentation)\n",
    "                         n_jobs=-1,  # use all CPU\n",
    "                         verbose=1,   # verbose level \n",
    "                        )"
   ]
  },
  {
   "cell_type": "markdown",
   "metadata": {},
   "source": [
    "Note that for LogisticRegression, Score is the mean accuracy on the given test data and labels.\n",
    "\n",
    "(https://scikit-learn.org/stable/modules/generated/sklearn.linear_model.LogisticRegression.html#sklearn.linear_model.LogisticRegression.score)"
   ]
  },
  {
   "cell_type": "code",
   "execution_count": null,
   "metadata": {},
   "outputs": [],
   "source": [
    "scores"
   ]
  },
  {
   "cell_type": "markdown",
   "metadata": {},
   "source": [
    "Average CV score - we can conclude that we expect the model to be around x% accurate on average"
   ]
  },
  {
   "cell_type": "code",
   "execution_count": null,
   "metadata": {
    "ExecuteTime": {
     "end_time": "2019-05-16T13:07:49.350873Z",
     "start_time": "2019-05-16T13:07:49.345880Z"
    }
   },
   "outputs": [],
   "source": [
    "scores.mean()"
   ]
  },
  {
   "cell_type": "markdown",
   "metadata": {},
   "source": [
    "And the standard deviation"
   ]
  },
  {
   "cell_type": "code",
   "execution_count": null,
   "metadata": {
    "ExecuteTime": {
     "end_time": "2019-05-16T13:07:50.100821Z",
     "start_time": "2019-05-16T13:07:50.096814Z"
    }
   },
   "outputs": [],
   "source": [
    "scores.std()"
   ]
  },
  {
   "cell_type": "markdown",
   "metadata": {},
   "source": [
    "Having multiple splits of the data also provides some information about how sensitive our model is to the selection of the training dataset. For the iris dataset, we saw accuracies between ~90% and 100%. This is quite a range, and it provides us with an idea about how the model might perform in the worst case and best case scenarios when applied to new data."
   ]
  },
  {
   "cell_type": "markdown",
   "metadata": {},
   "source": [
    "The main disadvantage of cross-validation is increased computational cost. As we are now training k models instead of a single model, cross-validation will be roughly $k$ times slower than doing a single split of the data."
   ]
  },
  {
   "cell_type": "markdown",
   "metadata": {},
   "source": [
    "# Stratified k-Fold Cross-Validation and Other Strategies\n",
    "\n",
    "## k-fold's\n",
    "\n",
    "Splitting the dataset into k folds by starting with the first one-k-th part of the data, as\n",
    "described in the previous section, might not always be a good idea.\n",
    "\n",
    "How would a 3 fold CV work over a dataset with the data ordered as in the iris dataset!?"
   ]
  },
  {
   "cell_type": "code",
   "execution_count": null,
   "metadata": {
    "ExecuteTime": {
     "end_time": "2019-05-16T13:08:13.190704Z",
     "start_time": "2019-05-16T13:08:13.185720Z"
    }
   },
   "outputs": [],
   "source": [
    "iris.target"
   ]
  },
  {
   "cell_type": "markdown",
   "metadata": {},
   "source": [
    "Note that `cross_val_score` by default, classification, uses **stratified k-fold cross-validation**: split the data such that the proportions between classes are the same in each fold as they are in the whole dataset. So the results were not so bad as using standard CV.\n",
    "\n",
    "Let us see how bad it could be (https://scikit-learn.org/stable/modules/generated/sklearn.model_selection.KFold.html):"
   ]
  },
  {
   "cell_type": "code",
   "execution_count": null,
   "metadata": {
    "ExecuteTime": {
     "end_time": "2019-05-16T13:08:18.189298Z",
     "start_time": "2019-05-16T13:08:18.161333Z"
    }
   },
   "outputs": [],
   "source": [
    "from sklearn.model_selection import KFold\n",
    "kfold = KFold(n_splits=3, \n",
    "              shuffle=False)\n",
    "\n",
    "cross_val_score(estimator=log_reg, \n",
    "                X=iris.data, \n",
    "                y=iris.target, \n",
    "                cv=kfold #  int, cross-validation generator or an iterable, optional\n",
    "               )"
   ]
  },
  {
   "cell_type": "markdown",
   "metadata": {},
   "source": [
    "0! Why!!????? Can you guess?"
   ]
  },
  {
   "cell_type": "markdown",
   "metadata": {},
   "source": [
    "with a 5-fold we have some improvements, but..."
   ]
  },
  {
   "cell_type": "code",
   "execution_count": null,
   "metadata": {
    "ExecuteTime": {
     "end_time": "2019-05-16T13:08:38.819857Z",
     "start_time": "2019-05-16T13:08:38.609072Z"
    }
   },
   "outputs": [],
   "source": [
    "kfold = KFold(n_splits=5, \n",
    "              shuffle=False)\n",
    "\n",
    "cross_val_score(estimator=log_reg, \n",
    "                X=iris.data, \n",
    "                y=iris.target, \n",
    "                cv=kfold #  int, cross-validation generator or an iterable, optional\n",
    "               )"
   ]
  },
  {
   "cell_type": "markdown",
   "metadata": {},
   "source": [
    "But, Kfold class allows us to shuffle the data\n",
    "(https://scikit-learn.org/stable/modules/classes.html#module-sklearn.model_selection)"
   ]
  },
  {
   "cell_type": "code",
   "execution_count": null,
   "metadata": {
    "ExecuteTime": {
     "end_time": "2019-05-16T13:08:49.505154Z",
     "start_time": "2019-05-16T13:08:49.297377Z"
    }
   },
   "outputs": [],
   "source": [
    "kfold = KFold(n_splits=3, \n",
    "              shuffle=True, \n",
    "              random_state=0)\n",
    "\n",
    "cross_val_score(estimator=log_reg, \n",
    "                X=iris.data, \n",
    "                y=iris.target, \n",
    "                cv=kfold \n",
    "               )"
   ]
  },
  {
   "cell_type": "markdown",
   "metadata": {},
   "source": [
    "## Stratified k-fold\n",
    "\n",
    "Basically, this does the same as the first CV computation, but with stratified data\n",
    "\n",
    "https://scikit-learn.org/stable/modules/generated/sklearn.model_selection.StratifiedKFold.html#sklearn.model_selection.StratifiedKFold"
   ]
  },
  {
   "cell_type": "code",
   "execution_count": null,
   "metadata": {},
   "outputs": [],
   "source": [
    "from sklearn.model_selection import StratifiedKFold\n",
    "skf = StratifiedKFold()\n",
    "\n",
    "score = cross_val_score(estimator=log_reg, \n",
    "                X=iris.data, \n",
    "                y=iris.target, \n",
    "                cv=skf #  int, cross-validation generator or an iterable, optional\n",
    "               )\n",
    "score"
   ]
  },
  {
   "cell_type": "markdown",
   "metadata": {},
   "source": [
    "## Leave-one-out CV\n",
    "\n",
    "Leave-one-out cross-validation:  is as $k$-fold cross-validation where each fold is a single sample. For each split, you pick a single data point to be the test set. \n",
    "        \n",
    "This can be very time consuming, particularly for large datasets, but sometimes provides better estimates on small datasets\n",
    "\n",
    "https://scikit-learn.org/stable/modules/generated/sklearn.model_selection.LeaveOneOut.html#sklearn.model_selection.LeaveOneOut\n"
   ]
  },
  {
   "cell_type": "code",
   "execution_count": null,
   "metadata": {
    "ExecuteTime": {
     "end_time": "2019-05-16T13:14:25.648305Z",
     "start_time": "2019-05-16T13:14:17.666456Z"
    }
   },
   "outputs": [],
   "source": [
    "from sklearn.model_selection import LeaveOneOut\n",
    "loo = LeaveOneOut()\n",
    "\n",
    "score = cross_val_score(estimator=log_reg, \n",
    "                X=iris.data, \n",
    "                y=iris.target, \n",
    "                cv=loo, #  int, cross-validation generator or an iterable, optional\n",
    "                verbose=True,\n",
    "                        n_jobs=-1\n",
    "               )\n",
    "score"
   ]
  },
  {
   "cell_type": "code",
   "execution_count": null,
   "metadata": {
    "ExecuteTime": {
     "end_time": "2019-05-16T13:14:25.655306Z",
     "start_time": "2019-05-16T13:14:25.650304Z"
    }
   },
   "outputs": [],
   "source": [
    "len(score)"
   ]
  },
  {
   "cell_type": "code",
   "execution_count": null,
   "metadata": {
    "ExecuteTime": {
     "end_time": "2019-05-16T13:14:25.742208Z",
     "start_time": "2019-05-16T13:14:25.657295Z"
    }
   },
   "outputs": [],
   "source": [
    "score.mean()"
   ]
  },
  {
   "cell_type": "code",
   "execution_count": null,
   "metadata": {
    "ExecuteTime": {
     "end_time": "2019-05-16T13:14:25.847118Z",
     "start_time": "2019-05-16T13:14:25.744206Z"
    }
   },
   "outputs": [],
   "source": [
    "score.std()"
   ]
  },
  {
   "cell_type": "code",
   "execution_count": null,
   "metadata": {
    "ExecuteTime": {
     "end_time": "2019-05-16T13:14:26.043902Z",
     "start_time": "2019-05-16T13:14:25.848101Z"
    }
   },
   "outputs": [],
   "source": [
    "plt.plot(score)\n",
    "plt.show()"
   ]
  },
  {
   "cell_type": "markdown",
   "metadata": {},
   "source": [
    "## Shuffle-split cross-validation\n",
    "\n",
    "In shuffle-split cross-validation, each split samples `train_size` many points for the training set and `test_size` many (disjoint) point for the test set.\n",
    "This splitting is repeated `n_iter` times. \n",
    "\n",
    "https://scikit-learn.org/stable/modules/generated/sklearn.model_selection.ShuffleSplit.html#sklearn.model_selection.ShuffleSplit"
   ]
  },
  {
   "cell_type": "code",
   "execution_count": null,
   "metadata": {
    "ExecuteTime": {
     "end_time": "2019-05-16T13:14:41.683224Z",
     "start_time": "2019-05-16T13:14:41.146771Z"
    }
   },
   "outputs": [],
   "source": [
    "from sklearn.model_selection import ShuffleSplit\n",
    "ss = ShuffleSplit(n_splits=10, \n",
    "                  train_size=.75, \n",
    "                  #     test_size wil be complement of the train_size\n",
    "                  random_state=1)\n",
    "\n",
    "score = cross_val_score(estimator=log_reg, \n",
    "                X=iris.data, \n",
    "                y=iris.target,  \n",
    "                cv=ss)\n",
    "score"
   ]
  },
  {
   "cell_type": "code",
   "execution_count": null,
   "metadata": {
    "ExecuteTime": {
     "end_time": "2019-05-16T13:14:42.953077Z",
     "start_time": "2019-05-16T13:14:42.947068Z"
    }
   },
   "outputs": [],
   "source": [
    "score.mean()"
   ]
  },
  {
   "cell_type": "markdown",
   "metadata": {},
   "source": [
    "## Stratified Shuffle-split cross-validation\n",
    "There is also a stratified variant of ShuffleSplit, aptly named StratifiedShuffleSplit, which can provide more reliable results for classification tasks.\n",
    "\n",
    "https://scikit-learn.org/stable/modules/generated/sklearn.model_selection.StratifiedShuffleSplit.html#sklearn.model_selection.StratifiedShuffleSplit"
   ]
  },
  {
   "cell_type": "code",
   "execution_count": null,
   "metadata": {
    "ExecuteTime": {
     "end_time": "2019-05-16T13:14:51.202831Z",
     "start_time": "2019-05-16T13:14:50.763280Z"
    }
   },
   "outputs": [],
   "source": [
    "from sklearn.model_selection import StratifiedShuffleSplit\n",
    "sss = StratifiedShuffleSplit(\n",
    "    n_splits=10, \n",
    "    train_size=.75, \n",
    "#     test_size wil be complement of the train_size\n",
    "    random_state=1)\n",
    "\n",
    "score = cross_val_score(estimator=log_reg, \n",
    "                X=iris.data, \n",
    "                y=iris.target, \n",
    "                cv=sss)\n",
    "score"
   ]
  },
  {
   "cell_type": "code",
   "execution_count": null,
   "metadata": {
    "ExecuteTime": {
     "end_time": "2019-05-16T13:14:51.895820Z",
     "start_time": "2019-05-16T13:14:51.890824Z"
    }
   },
   "outputs": [],
   "source": [
    "score.mean()"
   ]
  },
  {
   "cell_type": "markdown",
   "metadata": {},
   "source": [
    "See https://scikit-learn.org/stable/modules/classes.html#module-sklearn.model_selection for other options"
   ]
  }
 ],
 "metadata": {
  "kernelspec": {
   "display_name": "Python 3 (ipykernel)",
   "language": "python",
   "name": "python3"
  },
  "language_info": {
   "codemirror_mode": {
    "name": "ipython",
    "version": 3
   },
   "file_extension": ".py",
   "mimetype": "text/x-python",
   "name": "python",
   "nbconvert_exporter": "python",
   "pygments_lexer": "ipython3",
   "version": "3.10.6"
  },
  "nbTranslate": {
   "displayLangs": [
    "*"
   ],
   "hotkey": "alt-t",
   "langInMainMenu": true,
   "sourceLang": "en",
   "targetLang": "fr",
   "useGoogleTranslate": true
  },
  "toc": {
   "base_numbering": 1,
   "nav_menu": {},
   "number_sections": true,
   "sideBar": true,
   "skip_h1_title": false,
   "title_cell": "Table of Contents",
   "title_sidebar": "Contents",
   "toc_cell": false,
   "toc_position": {},
   "toc_section_display": true,
   "toc_window_display": false
  },
  "varInspector": {
   "cols": {
    "lenName": 16,
    "lenType": 16,
    "lenVar": 40
   },
   "kernels_config": {
    "python": {
     "delete_cmd_postfix": "",
     "delete_cmd_prefix": "del ",
     "library": "var_list.py",
     "varRefreshCmd": "print(var_dic_list())"
    },
    "r": {
     "delete_cmd_postfix": ") ",
     "delete_cmd_prefix": "rm(",
     "library": "var_list.r",
     "varRefreshCmd": "cat(var_dic_list()) "
    }
   },
   "types_to_exclude": [
    "module",
    "function",
    "builtin_function_or_method",
    "instance",
    "_Feature"
   ],
   "window_display": false
  }
 },
 "nbformat": 4,
 "nbformat_minor": 4
}
