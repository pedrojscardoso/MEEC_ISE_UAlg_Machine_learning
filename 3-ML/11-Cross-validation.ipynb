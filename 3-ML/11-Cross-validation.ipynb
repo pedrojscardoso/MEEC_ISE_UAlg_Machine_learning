{
 "cells": [
  {
   "cell_type": "markdown",
   "source": [
    "___\n",
    "<h1> Machine Learning </h1>\n",
    "<h2> M. Sc. in Electrical and Computer Engineering </h2>\n",
    "<h3> Instituto Superior de Engenharia / Universidade do Algarve </h3>\n",
    "\n",
    "[MEEC](https://ise.ualg.pt/en/curso/1477) / [ISE](https://ise.ualg.pt) / [UAlg](https://www.ualg.pt)\n",
    "\n",
    "Pedro J. S. Cardoso (pcardoso@ualg.pt)\n",
    "___"
   ],
   "metadata": {
    "collapsed": false
   }
  },
  {
   "cell_type": "markdown",
   "metadata": {},
   "source": [
    "# Cross validation\n",
    "\n",
    "Cross validation is a technique used to evaluate the performance of a model. It is particularly useful when the amount of data is limited, as it allows to use all the data for training and testing.\n",
    "\n",
    "|-------|-------|-------|-------|-------|------|\n",
    "|# train|Fold 1 |Fold 2 |Fold 3 |Fold 4 |Fold 5|\n",
    "|-------|-------|-------|-------|-------|------|\n",
    "|1      |Test   |Train  |Train  |Train  |Train |\n",
    "|2      |Train  |Test   |Train  |Train  |Train |\n",
    "|3      |Train  |Train  |Test   |Train  |Train |\n",
    "|4      |Train  |Train  |Train  |Test   |Train |\n",
    "|5      |Train  |Train  |Train  |Train  |Test  |\n",
    "|-------|-------|-------|-------|-------|------|\n",
    "\n",
    "The process is as follows:\n",
    "1. Split the data into k parts (folds)\n",
    "2. Train the model on k-1 parts and test on the remaining part\n",
    "3. Repeat the process k times, each time using a different part as the test set\n",
    "4. Compute the average performance of the model\n",
    "5. Optionally, compute the standard deviation of the performance\n",
    "6. Train the model on the entire dataset using the best hyperparameters found in the cross-validation process\n",
    "\n",
    "There are some drawbacks to this method, such as:\n",
    "- It is computationally expensive, as it requires training the model k times\n",
    "- It does not provide a model that can be used for prediction, as the model is trained on a different dataset each time\n",
    "- It can be sensitive to the way the data is split\n",
    "- It can be sensitive to the choice of k\n"
   ]
  },
  {
   "cell_type": "markdown",
   "metadata": {},
   "source": [
    "Using scikit-learn, cross-validation can be done using the `cross_val_score` function. Let us see an example using the iris dataset and a logistic regression model.\n",
    "\n",
    "https://scikit-learn.org/stable/modules/generated/sklearn.model_selection.cross_val_score.html"
   ]
  },
  {
   "cell_type": "code",
   "execution_count": 1,
   "metadata": {
    "ExecuteTime": {
     "end_time": "2024-10-29T14:41:02.143608Z",
     "start_time": "2024-10-29T14:41:01.935652Z"
    }
   },
   "outputs": [],
   "source": [
    "from sklearn.model_selection import cross_val_score\n",
    "from sklearn.datasets import load_iris\n",
    "from sklearn.linear_model import LogisticRegression\n",
    "import matplotlib.pyplot as plt"
   ]
  },
  {
   "cell_type": "markdown",
   "metadata": {},
   "source": [
    "Load the iris dataset and define a Logistic Regression classification model"
   ]
  },
  {
   "cell_type": "code",
   "execution_count": 2,
   "metadata": {
    "ExecuteTime": {
     "end_time": "2024-10-29T14:41:02.149198Z",
     "start_time": "2024-10-29T14:41:02.144388Z"
    }
   },
   "outputs": [],
   "source": [
    "iris = load_iris()\n",
    "\n",
    "log_reg = LogisticRegression(\n",
    "                        random_state=1, \n",
    "                        C=200,\n",
    "                        solver='lbfgs',\n",
    "                        max_iter=10000)"
   ]
  },
  {
   "cell_type": "markdown",
   "metadata": {},
   "source": [
    "To compute the accuracy of the model a cross validation score is now used"
   ]
  },
  {
   "cell_type": "code",
   "execution_count": 3,
   "metadata": {
    "ExecuteTime": {
     "end_time": "2024-10-29T14:41:03.307601Z",
     "start_time": "2024-10-29T14:41:02.150485Z"
    }
   },
   "outputs": [
    {
     "name": "stderr",
     "output_type": "stream",
     "text": [
      "[Parallel(n_jobs=-1)]: Using backend LokyBackend with 8 concurrent workers.\n",
      "[Parallel(n_jobs=-1)]: Done   2 out of   5 | elapsed:    1.1s remaining:    1.7s\n",
      "[Parallel(n_jobs=-1)]: Done   5 out of   5 | elapsed:    1.1s finished\n"
     ]
    }
   ],
   "source": [
    "scores = cross_val_score(estimator=log_reg, # model\n",
    "                         X=iris.data, y=iris.target, # X, y\n",
    "                         cv=5,       #number of folds - default 5-fold cross validation (see alternatives in documentation)\n",
    "                         n_jobs=-1,  # use all CPU\n",
    "                         verbose=1,   # verbose level \n",
    "                        )"
   ]
  },
  {
   "cell_type": "markdown",
   "metadata": {},
   "source": [
    "The computed scores, which are the accuracy of the model in each fold, are stored in the variable `scores`."
   ]
  },
  {
   "cell_type": "code",
   "execution_count": 4,
   "metadata": {
    "ExecuteTime": {
     "end_time": "2024-10-29T14:41:03.314620Z",
     "start_time": "2024-10-29T14:41:03.309317Z"
    }
   },
   "outputs": [
    {
     "data": {
      "text/plain": "array([1.        , 1.        , 0.93333333, 0.93333333, 1.        ])"
     },
     "execution_count": 4,
     "metadata": {},
     "output_type": "execute_result"
    }
   ],
   "source": [
    "scores"
   ]
  },
  {
   "cell_type": "markdown",
   "metadata": {},
   "source": [
    "Average CV score - we can conclude that we expect the model to be around x% accurate on average"
   ]
  },
  {
   "cell_type": "code",
   "execution_count": 5,
   "metadata": {
    "ExecuteTime": {
     "end_time": "2024-10-29T14:41:03.318109Z",
     "start_time": "2024-10-29T14:41:03.315625Z"
    }
   },
   "outputs": [
    {
     "data": {
      "text/plain": "0.9733333333333334"
     },
     "execution_count": 5,
     "metadata": {},
     "output_type": "execute_result"
    }
   ],
   "source": [
    "scores.mean()"
   ]
  },
  {
   "cell_type": "markdown",
   "metadata": {},
   "source": [
    "And the standard deviation"
   ]
  },
  {
   "cell_type": "code",
   "execution_count": 6,
   "metadata": {
    "ExecuteTime": {
     "end_time": "2024-10-29T14:41:03.320950Z",
     "start_time": "2024-10-29T14:41:03.318759Z"
    }
   },
   "outputs": [
    {
     "data": {
      "text/plain": "0.03265986323710903"
     },
     "execution_count": 6,
     "metadata": {},
     "output_type": "execute_result"
    }
   ],
   "source": [
    "scores.std()"
   ]
  },
  {
   "cell_type": "markdown",
   "metadata": {},
   "source": [
    "Having multiple splits of the data also provides some information about how sensitive our model is to the selection of the training dataset. For the iris dataset, we saw accuracies between ~90% and 100%. This is quite a range, and it provides us with an idea about how the model might perform in the worst case and best case scenarios when applied to new data."
   ]
  },
  {
   "cell_type": "markdown",
   "metadata": {},
   "source": [
    "The main disadvantage of cross-validation is increased computational cost. As we are now training k models instead of a single model, cross-validation will be roughly $k$ times slower than doing a single split of the data."
   ]
  },
  {
   "cell_type": "markdown",
   "metadata": {},
   "source": [
    "# Stratified k-Fold Cross-Validation and Other Strategies\n",
    "\n",
    "## k-fold's\n",
    "\n",
    "Splitting the dataset into k folds by starting with the first one-k-th part of the data, as described in the previous section, might not always be a good idea.\n",
    "\n",
    "How would a 3 fold CV work over a dataset with the data ordered as in the iris dataset!?"
   ]
  },
  {
   "cell_type": "code",
   "execution_count": 7,
   "metadata": {
    "ExecuteTime": {
     "end_time": "2024-10-29T14:41:03.323652Z",
     "start_time": "2024-10-29T14:41:03.321556Z"
    }
   },
   "outputs": [
    {
     "data": {
      "text/plain": "array([0, 0, 0, 0, 0, 0, 0, 0, 0, 0, 0, 0, 0, 0, 0, 0, 0, 0, 0, 0, 0, 0,\n       0, 0, 0, 0, 0, 0, 0, 0, 0, 0, 0, 0, 0, 0, 0, 0, 0, 0, 0, 0, 0, 0,\n       0, 0, 0, 0, 0, 0, 1, 1, 1, 1, 1, 1, 1, 1, 1, 1, 1, 1, 1, 1, 1, 1,\n       1, 1, 1, 1, 1, 1, 1, 1, 1, 1, 1, 1, 1, 1, 1, 1, 1, 1, 1, 1, 1, 1,\n       1, 1, 1, 1, 1, 1, 1, 1, 1, 1, 1, 1, 2, 2, 2, 2, 2, 2, 2, 2, 2, 2,\n       2, 2, 2, 2, 2, 2, 2, 2, 2, 2, 2, 2, 2, 2, 2, 2, 2, 2, 2, 2, 2, 2,\n       2, 2, 2, 2, 2, 2, 2, 2, 2, 2, 2, 2, 2, 2, 2, 2, 2, 2])"
     },
     "execution_count": 7,
     "metadata": {},
     "output_type": "execute_result"
    }
   ],
   "source": [
    "iris.target"
   ]
  },
  {
   "cell_type": "markdown",
   "metadata": {},
   "source": [
    "Note that `cross_val_score` by default, classification, uses **stratified k-fold cross-validation**: split the data such that the proportions between classes are the same in each fold as they are in the whole dataset. So the results were not so bad as using standard CV.\n",
    "\n",
    "Let us see how bad it could be (https://scikit-learn.org/stable/modules/generated/sklearn.model_selection.KFold.html):"
   ]
  },
  {
   "cell_type": "code",
   "execution_count": 8,
   "metadata": {
    "ExecuteTime": {
     "end_time": "2024-10-29T14:41:03.339002Z",
     "start_time": "2024-10-29T14:41:03.324301Z"
    }
   },
   "outputs": [
    {
     "data": {
      "text/plain": "array([0., 0., 0.])"
     },
     "execution_count": 8,
     "metadata": {},
     "output_type": "execute_result"
    }
   ],
   "source": [
    "from sklearn.model_selection import KFold\n",
    "kfold = KFold(n_splits=3, \n",
    "              shuffle=False)\n",
    "\n",
    "cross_val_score(estimator=log_reg, \n",
    "                X=iris.data, \n",
    "                y=iris.target, \n",
    "                cv=kfold #  int, cross-validation generator or an iterable, optional\n",
    "               )"
   ]
  },
  {
   "cell_type": "markdown",
   "metadata": {},
   "source": [
    "0! Why!!????? Can you guess?"
   ]
  },
  {
   "cell_type": "markdown",
   "metadata": {},
   "source": [
    "with a 5-fold we have some improvements, but..."
   ]
  },
  {
   "cell_type": "code",
   "execution_count": 9,
   "metadata": {
    "ExecuteTime": {
     "end_time": "2024-10-29T14:41:03.367387Z",
     "start_time": "2024-10-29T14:41:03.343770Z"
    }
   },
   "outputs": [
    {
     "data": {
      "text/plain": "array([1.        , 1.        , 0.86666667, 1.        , 0.83333333])"
     },
     "execution_count": 9,
     "metadata": {},
     "output_type": "execute_result"
    }
   ],
   "source": [
    "kfold = KFold(n_splits=5, \n",
    "              shuffle=False)\n",
    "\n",
    "cross_val_score(estimator=log_reg, \n",
    "                X=iris.data, \n",
    "                y=iris.target, \n",
    "                cv=kfold #  int, cross-validation generator or an iterable, optional\n",
    "               )"
   ]
  },
  {
   "cell_type": "markdown",
   "metadata": {},
   "source": [
    "Kfold class allows us to shuffle the data\n",
    "(https://scikit-learn.org/stable/modules/classes.html#module-sklearn.model_selection)"
   ]
  },
  {
   "cell_type": "code",
   "execution_count": 10,
   "metadata": {
    "ExecuteTime": {
     "end_time": "2024-10-29T14:41:03.385098Z",
     "start_time": "2024-10-29T14:41:03.368090Z"
    }
   },
   "outputs": [
    {
     "data": {
      "text/plain": "array([0.98, 0.98, 0.96])"
     },
     "execution_count": 10,
     "metadata": {},
     "output_type": "execute_result"
    }
   ],
   "source": [
    "kfold = KFold(n_splits=3, \n",
    "              shuffle=True, \n",
    "              random_state=0)\n",
    "\n",
    "cross_val_score(estimator=log_reg, \n",
    "                X=iris.data, \n",
    "                y=iris.target, \n",
    "                cv=kfold \n",
    "               )"
   ]
  },
  {
   "cell_type": "markdown",
   "metadata": {},
   "source": [
    "## Stratified k-fold\n",
    "\n",
    "Basically, this does the same as the first CV computation, but with stratified data\n",
    "\n",
    "https://scikit-learn.org/stable/modules/generated/sklearn.model_selection.StratifiedKFold.html#sklearn.model_selection.StratifiedKFold"
   ]
  },
  {
   "cell_type": "code",
   "execution_count": 11,
   "metadata": {
    "ExecuteTime": {
     "end_time": "2024-10-29T14:41:03.410194Z",
     "start_time": "2024-10-29T14:41:03.385908Z"
    }
   },
   "outputs": [
    {
     "data": {
      "text/plain": "array([1.        , 1.        , 0.93333333, 0.93333333, 1.        ])"
     },
     "execution_count": 11,
     "metadata": {},
     "output_type": "execute_result"
    }
   ],
   "source": [
    "from sklearn.model_selection import StratifiedKFold\n",
    "skf = StratifiedKFold()\n",
    "\n",
    "score = cross_val_score(estimator=log_reg, \n",
    "                X=iris.data, \n",
    "                y=iris.target, \n",
    "                cv=skf #  int, cross-validation generator or an iterable, optional\n",
    "               )\n",
    "score"
   ]
  },
  {
   "cell_type": "markdown",
   "metadata": {},
   "source": [
    "## Leave-one-out CV\n",
    "\n",
    "Leave-one-out cross-validation:  is as $k$-fold cross-validation where each fold is a single sample. For each split, you pick a single data point to be the test set. \n",
    "        \n",
    "This can be very time consuming, particularly for large datasets, but sometimes provides better estimates on small datasets\n",
    "\n",
    "https://scikit-learn.org/stable/modules/generated/sklearn.model_selection.LeaveOneOut.html#sklearn.model_selection.LeaveOneOut\n"
   ]
  },
  {
   "cell_type": "code",
   "execution_count": 12,
   "metadata": {
    "ExecuteTime": {
     "end_time": "2024-10-29T14:41:04.166909Z",
     "start_time": "2024-10-29T14:41:03.411129Z"
    }
   },
   "outputs": [
    {
     "name": "stderr",
     "output_type": "stream",
     "text": [
      "[Parallel(n_jobs=-1)]: Using backend LokyBackend with 8 concurrent workers.\n",
      "[Parallel(n_jobs=-1)]: Done  65 tasks      | elapsed:    0.1s\n",
      "[Parallel(n_jobs=-1)]: Done 150 out of 150 | elapsed:    0.7s finished\n"
     ]
    },
    {
     "data": {
      "text/plain": "array([1., 1., 1., 1., 1., 1., 1., 1., 1., 1., 1., 1., 1., 1., 1., 1., 1.,\n       1., 1., 1., 1., 1., 1., 1., 1., 1., 1., 1., 1., 1., 1., 1., 1., 1.,\n       1., 1., 1., 1., 1., 1., 1., 1., 1., 1., 1., 1., 1., 1., 1., 1., 1.,\n       1., 1., 1., 1., 1., 1., 1., 1., 1., 1., 1., 1., 1., 1., 1., 1., 1.,\n       1., 1., 0., 1., 1., 1., 1., 1., 1., 1., 1., 1., 1., 1., 1., 0., 1.,\n       1., 1., 1., 1., 1., 1., 1., 1., 1., 1., 1., 1., 1., 1., 1., 1., 1.,\n       1., 1., 1., 1., 1., 1., 1., 1., 1., 1., 1., 1., 1., 1., 1., 1., 1.,\n       1., 1., 1., 1., 1., 1., 1., 1., 1., 1., 1., 1., 1., 1., 0., 1., 1.,\n       1., 1., 1., 1., 1., 1., 1., 1., 1., 1., 1., 1., 1., 1.])"
     },
     "execution_count": 12,
     "metadata": {},
     "output_type": "execute_result"
    }
   ],
   "source": [
    "from sklearn.model_selection import LeaveOneOut\n",
    "loo = LeaveOneOut()\n",
    "\n",
    "score = cross_val_score(estimator=log_reg, \n",
    "                X=iris.data, \n",
    "                y=iris.target, \n",
    "                cv=loo, #  int, cross-validation generator or an iterable, optional\n",
    "                verbose=True,\n",
    "                        n_jobs=-1\n",
    "               )\n",
    "score"
   ]
  },
  {
   "cell_type": "code",
   "execution_count": 13,
   "metadata": {
    "ExecuteTime": {
     "end_time": "2024-10-29T14:41:04.170464Z",
     "start_time": "2024-10-29T14:41:04.167924Z"
    }
   },
   "outputs": [
    {
     "data": {
      "text/plain": "150"
     },
     "execution_count": 13,
     "metadata": {},
     "output_type": "execute_result"
    }
   ],
   "source": [
    "len(score)"
   ]
  },
  {
   "cell_type": "code",
   "execution_count": 14,
   "metadata": {
    "ExecuteTime": {
     "end_time": "2024-10-29T14:41:04.173648Z",
     "start_time": "2024-10-29T14:41:04.171315Z"
    }
   },
   "outputs": [
    {
     "data": {
      "text/plain": "0.98"
     },
     "execution_count": 14,
     "metadata": {},
     "output_type": "execute_result"
    }
   ],
   "source": [
    "score.mean()"
   ]
  },
  {
   "cell_type": "code",
   "execution_count": 15,
   "metadata": {
    "ExecuteTime": {
     "end_time": "2024-10-29T14:41:04.176916Z",
     "start_time": "2024-10-29T14:41:04.174285Z"
    }
   },
   "outputs": [
    {
     "data": {
      "text/plain": "0.13999999999999999"
     },
     "execution_count": 15,
     "metadata": {},
     "output_type": "execute_result"
    }
   ],
   "source": [
    "score.std()"
   ]
  },
  {
   "cell_type": "code",
   "execution_count": 16,
   "metadata": {
    "ExecuteTime": {
     "end_time": "2024-10-29T14:41:04.304032Z",
     "start_time": "2024-10-29T14:41:04.177732Z"
    }
   },
   "outputs": [
    {
     "data": {
      "text/plain": "<Figure size 640x480 with 1 Axes>",
      "image/png": "[encoded data removed]"
     },
     "metadata": {},
     "output_type": "display_data"
    }
   ],
   "source": [
    "plt.plot(score)\n",
    "plt.show()"
   ]
  },
  {
   "cell_type": "markdown",
   "metadata": {},
   "source": [
    "## Shuffle-split cross-validation\n",
    "\n",
    "In shuffle-split cross-validation, each split samples `train_size` many points for the training set and `test_size` many (disjoint) point for the test set.\n",
    "This splitting is repeated `n_iter` times. \n",
    "\n",
    "https://scikit-learn.org/stable/modules/generated/sklearn.model_selection.ShuffleSplit.html#sklearn.model_selection.ShuffleSplit"
   ]
  },
  {
   "cell_type": "code",
   "execution_count": 17,
   "metadata": {
    "ExecuteTime": {
     "end_time": "2024-10-29T14:41:04.389638Z",
     "start_time": "2024-10-29T14:41:04.305824Z"
    }
   },
   "outputs": [
    {
     "data": {
      "text/plain": "array([1.        , 0.97368421, 0.97368421, 1.        , 0.94736842,\n       1.        , 0.97368421, 1.        , 0.94736842, 1.        ])"
     },
     "execution_count": 17,
     "metadata": {},
     "output_type": "execute_result"
    }
   ],
   "source": [
    "from sklearn.model_selection import ShuffleSplit\n",
    "ss = ShuffleSplit(n_splits=10, \n",
    "                  train_size=.75, \n",
    "                  #     test_size wil be complement of the train_size\n",
    "                  random_state=1)\n",
    "\n",
    "score = cross_val_score(estimator=log_reg, \n",
    "                X=iris.data, \n",
    "                y=iris.target,  \n",
    "                cv=ss)\n",
    "score"
   ]
  },
  {
   "cell_type": "code",
   "execution_count": 18,
   "metadata": {
    "ExecuteTime": {
     "end_time": "2024-10-29T14:41:04.407474Z",
     "start_time": "2024-10-29T14:41:04.401888Z"
    }
   },
   "outputs": [
    {
     "data": {
      "text/plain": "0.9815789473684211"
     },
     "execution_count": 18,
     "metadata": {},
     "output_type": "execute_result"
    }
   ],
   "source": [
    "score.mean()"
   ]
  },
  {
   "cell_type": "markdown",
   "metadata": {},
   "source": [
    "## Stratified Shuffle-split cross-validation\n",
    "There is also a stratified variant of ShuffleSplit, aptly named StratifiedShuffleSplit, which can provide more reliable results for classification tasks.\n",
    "\n",
    "https://scikit-learn.org/stable/modules/generated/sklearn.model_selection.StratifiedShuffleSplit.html#sklearn.model_selection.StratifiedShuffleSplit"
   ]
  },
  {
   "cell_type": "code",
   "execution_count": 19,
   "metadata": {
    "ExecuteTime": {
     "end_time": "2024-10-29T14:41:04.474736Z",
     "start_time": "2024-10-29T14:41:04.409038Z"
    }
   },
   "outputs": [
    {
     "data": {
      "text/plain": "array([1.        , 1.        , 0.97368421, 0.94736842, 0.94736842,\n       1.        , 0.94736842, 1.        , 1.        , 0.94736842])"
     },
     "execution_count": 19,
     "metadata": {},
     "output_type": "execute_result"
    }
   ],
   "source": [
    "from sklearn.model_selection import StratifiedShuffleSplit\n",
    "sss = StratifiedShuffleSplit(\n",
    "    n_splits=10, \n",
    "    train_size=.75, \n",
    "#     test_size wil be complement of the train_size\n",
    "    random_state=1)\n",
    "\n",
    "score = cross_val_score(estimator=log_reg, \n",
    "                X=iris.data, \n",
    "                y=iris.target, \n",
    "                cv=sss)\n",
    "score"
   ]
  },
  {
   "cell_type": "code",
   "execution_count": 20,
   "metadata": {
    "ExecuteTime": {
     "end_time": "2024-10-29T14:41:04.478259Z",
     "start_time": "2024-10-29T14:41:04.475488Z"
    }
   },
   "outputs": [
    {
     "data": {
      "text/plain": "0.9763157894736842"
     },
     "execution_count": 20,
     "metadata": {},
     "output_type": "execute_result"
    }
   ],
   "source": [
    "score.mean()"
   ]
  },
  {
   "cell_type": "markdown",
   "metadata": {},
   "source": [
    "See https://scikit-learn.org/stable/modules/classes.html#module-sklearn.model_selection for other options"
   ]
  },
  {
   "cell_type": "code",
   "outputs": [],
   "source": [],
   "metadata": {
    "collapsed": false,
    "ExecuteTime": {
     "end_time": "2024-10-29T14:41:04.480467Z",
     "start_time": "2024-10-29T14:41:04.479071Z"
    }
   },
   "execution_count": 20
  }
 ],
 "metadata": {
  "kernelspec": {
   "display_name": "Python 3 (ipykernel)",
   "language": "python",
   "name": "python3"
  },
  "language_info": {
   "codemirror_mode": {
    "name": "ipython",
    "version": 3
   },
   "file_extension": ".py",
   "mimetype": "text/x-python",
   "name": "python",
   "nbconvert_exporter": "python",
   "pygments_lexer": "ipython3",
   "version": "3.10.6"
  },
  "nbTranslate": {
   "displayLangs": [
    "*"
   ],
   "hotkey": "alt-t",
   "langInMainMenu": true,
   "sourceLang": "en",
   "targetLang": "fr",
   "useGoogleTranslate": true
  },
  "toc": {
   "base_numbering": 1,
   "nav_menu": {},
   "number_sections": true,
   "sideBar": true,
   "skip_h1_title": false,
   "title_cell": "Table of Contents",
   "title_sidebar": "Contents",
   "toc_cell": false,
   "toc_position": {},
   "toc_section_display": true,
   "toc_window_display": false
  },
  "varInspector": {
   "cols": {
    "lenName": 16,
    "lenType": 16,
    "lenVar": 40
   },
   "kernels_config": {
    "python": {
     "delete_cmd_postfix": "",
     "delete_cmd_prefix": "del ",
     "library": "var_list.py",
     "varRefreshCmd": "print(var_dic_list())"
    },
    "r": {
     "delete_cmd_postfix": ") ",
     "delete_cmd_prefix": "rm(",
     "library": "var_list.r",
     "varRefreshCmd": "cat(var_dic_list()) "
    }
   },
   "types_to_exclude": [
    "module",
    "function",
    "builtin_function_or_method",
    "instance",
    "_Feature"
   ],
   "window_display": false
  }
 },
 "nbformat": 4,
 "nbformat_minor": 4
}
