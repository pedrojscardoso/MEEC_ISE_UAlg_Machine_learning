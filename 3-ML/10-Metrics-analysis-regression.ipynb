{
 "cells": [
  {
   "cell_type": "markdown",
   "source": [
    "___\n",
    "<h1> Machine Learning </h1>\n",
    "<h2> M. Sc. in Electrical and Computer Engineering </h2>\n",
    "<h3> Instituto Superior de Engenharia / Universidade do Algarve </h3>\n",
    "\n",
    "[MEEC](https://ise.ualg.pt/en/curso/1477) / [ISE](https://ise.ualg.pt) / [UAlg](https://www.ualg.pt)\n",
    "\n",
    "Pedro J. S. Cardoso (pcardoso@ualg.pt)\n",
    "___"
   ],
   "metadata": {
    "collapsed": false
   }
  },
  {
   "cell_type": "markdown",
   "source": [
    "# Introduction\n",
    "\n",
    "As for classification, the final step is usually to evaluate the performance of the regression algorithm.\n",
    "Measuring regression performance allows to compare how well different algorithms perform on a particular dataset."
   ],
   "metadata": {
    "collapsed": false
   }
  },
  {
   "cell_type": "markdown",
   "source": [
    "## Max Error\n",
    "\n",
    "The max error is the worst case error, i.e., the largest difference between the predicted value and the true value. It is given by:\n",
    "$$ \\text{Max Error} = \\max_i |y_i - \\hat{y}_i| $$\n",
    "where $y_i$ is the true value and $\\hat{y}_i$ is the predicted value for the $i$-th sample.\n",
    "\n",
    "It computes the maximum residual error, a metric that captures the worst case error between the predicted value and the true value.\n"
   ],
   "metadata": {
    "collapsed": false
   }
  },
  {
   "cell_type": "code",
   "execution_count": 8,
   "outputs": [
    {
     "data": {
      "text/plain": "3"
     },
     "execution_count": 8,
     "metadata": {},
     "output_type": "execute_result"
    }
   ],
   "source": [
    "from sklearn.metrics import max_error\n",
    "y_true = [3, 2, 7, 1]\n",
    "y_pred = [4, 2, 10, 1]\n",
    "max_error(y_true, y_pred)"
   ],
   "metadata": {
    "collapsed": false,
    "ExecuteTime": {
     "end_time": "2023-10-23T12:54:56.687473Z",
     "start_time": "2023-10-23T12:54:56.642534Z"
    }
   }
  },
  {
   "cell_type": "markdown",
   "source": [
    "## Mean Absolute Error\n",
    "\n",
    "The mean absolute error (MAE) is the average of the absolute differences between predictions and true values. It is given by:\n",
    "$$ \\text{MAE} = \\frac{1}{n_{\\text{samples}}} \\sum_{i=1}^{n_{\\text{samples}}} |y_i - \\hat{y}_i| $$\n",
    "where $y_i$ is the true value and $\\hat{y}_i$ is the predicted value for the $i$-th sample.\n",
    "\n",
    "It is a risk metric corresponding to the expected value of the absolute error loss or l1-norm loss."
   ],
   "metadata": {
    "collapsed": false
   }
  },
  {
   "cell_type": "code",
   "execution_count": 9,
   "outputs": [
    {
     "data": {
      "text/plain": "1.0"
     },
     "execution_count": 9,
     "metadata": {},
     "output_type": "execute_result"
    }
   ],
   "source": [
    "from sklearn.metrics import mean_absolute_error\n",
    "\n",
    "mean_absolute_error(y_true, y_pred)"
   ],
   "metadata": {
    "collapsed": false,
    "ExecuteTime": {
     "end_time": "2023-10-23T12:54:56.688499Z",
     "start_time": "2023-10-23T12:54:56.652805Z"
    }
   }
  },
  {
   "cell_type": "markdown",
   "source": [
    "##Mean Squared Error\n",
    "\n",
    "The mean squared error (MSE) is the average of the squared differences between predictions and true values. It is given by:\n",
    "$$ \\text{MSE} = \\frac{1}{n_{\\text{samples}}} \\sum_{i=1}^{n_{\\text{samples}}} (y_i - \\hat{y}_i)^2 $$\n",
    "where $y_i$ is the true value and $\\hat{y}_i$ is the predicted value for the $i$-th sample.\n",
    "\n",
    "Bigger errors are more penalized than in the previous MAE."
   ],
   "metadata": {
    "collapsed": false
   }
  },
  {
   "cell_type": "markdown",
   "source": [
    "from sklearn.metrics import mean_squared_error\n",
    "\n",
    "mean_squared_error(y_true, y_pred)"
   ],
   "metadata": {
    "collapsed": false
   }
  },
  {
   "cell_type": "markdown",
   "source": [
    "## Mean Squared Logarithmic Error\n",
    "\n",
    "The mean squared logarithmic error (MSLE) is the average of the squared differences between the natural logarithm of the predictions and the natural logarithm of the true values. It is given by:\n",
    "$$ \\text{MSLE} = \\frac{1}{n_{\\text{samples}}} \\sum_{i=1}^{n_{\\text{samples}}} (\\log_e y_i - \\log_e \\hat{y}_i)^2 $$\n",
    "where $y_i$ is the true value and $\\hat{y}_i$ is the predicted value for the $i$-th sample.\n",
    "\n",
    "This metric is best to use when targets having exponential growth, such as population counts, average sales of a commodity over a span of years etc. Note that this metric penalizes an under-predicted estimate greater than an over-predicted estimate.\n",
    "\n",
    "In some cases, 1 is added to the input arrays to avoid having undefined values:\n",
    "$$ \\text{MSLE} = \\frac{1}{n_{\\text{samples}}} \\sum_{i=1}^{n_{\\text{samples}}} (\\log_e (1+y_i) - \\log_e (1+\\hat{y}_i))^2 $$\n",
    "where $y_i$ is the true value and $\\hat{y}_i$ is the predicted value for the $i$-th sample."
   ],
   "metadata": {
    "collapsed": false
   }
  },
  {
   "cell_type": "code",
   "execution_count": 10,
   "outputs": [
    {
     "data": {
      "text/plain": "0.03780145583910837"
     },
     "execution_count": 10,
     "metadata": {},
     "output_type": "execute_result"
    }
   ],
   "source": [
    "from sklearn.metrics import mean_squared_log_error\n",
    "\n",
    "mean_squared_log_error(y_true, y_pred)"
   ],
   "metadata": {
    "collapsed": false,
    "ExecuteTime": {
     "end_time": "2023-10-23T12:54:56.721879Z",
     "start_time": "2023-10-23T12:54:56.675915Z"
    }
   }
  },
  {
   "cell_type": "markdown",
   "source": [
    "## R^2\n",
    "\n",
    "The coefficient of determination, denoted $R^2$ or $r^2$ and pronounced \"R squared\", is the proportion of the variance in the dependent variable that is predictable from the independent variable(s). It is given by:\n",
    "$$ R^2 = 1 - \\frac{\\sum_{i=1}^{n_{\\text{samples}}} (y_i - \\hat{y}_i)^2}{\\sum_{i=1}^{n_{\\text{samples}}} (y_i - \\bar{y})^2} $$\n",
    "where $y_i$ is the true value, $\\hat{y}_i$ is the predicted value for the $i$-th sample, and $\\bar{y}$ is the mean of the true values.\n",
    "\n",
    "It provides a measure of how well future samples are likely to be predicted by the model. Best possible score is 1.0 and it can be negative (because the model can be arbitrarily worse)."
   ],
   "metadata": {
    "collapsed": false
   }
  },
  {
   "cell_type": "code",
   "execution_count": 11,
   "outputs": [
    {
     "data": {
      "text/plain": "0.5180722891566265"
     },
     "execution_count": 11,
     "metadata": {},
     "output_type": "execute_result"
    }
   ],
   "source": [
    "from sklearn.metrics import r2_score\n",
    "\n",
    "r2_score(y_true, y_pred)"
   ],
   "metadata": {
    "collapsed": false,
    "ExecuteTime": {
     "end_time": "2023-10-23T12:54:56.740574Z",
     "start_time": "2023-10-23T12:54:56.688055Z"
    }
   }
  },
  {
   "cell_type": "markdown",
   "source": [
    "## Conclusion\n",
    "\n",
    "Depending on the problem, different metrics can be used to evaluate the performance of a regression algorithm. On of the most accepted metrics is the $R^2$ score, which is the default metric in most regression algorithms in scikit-learn. A good alternative / complement is the mean absolute error (MAE), which is less sensitive to outliers than the mean squared error (MSE)."
   ],
   "metadata": {
    "collapsed": false
   }
  },
  {
   "cell_type": "markdown",
   "source": [
    "# Example\n",
    "\n",
    "Consider the following example, where we compare the performance of different regression algorithms on the Boston dataset."
   ],
   "metadata": {
    "collapsed": false
   }
  },
  {
   "cell_type": "code",
   "execution_count": null,
   "outputs": [],
   "source": [],
   "metadata": {
    "collapsed": false
   }
  }
 ],
 "metadata": {
  "kernelspec": {
   "display_name": "Python 3",
   "language": "python",
   "name": "python3"
  },
  "language_info": {
   "codemirror_mode": {
    "name": "ipython",
    "version": 2
   },
   "file_extension": ".py",
   "mimetype": "text/x-python",
   "name": "python",
   "nbconvert_exporter": "python",
   "pygments_lexer": "ipython2",
   "version": "2.7.6"
  }
 },
 "nbformat": 4,
 "nbformat_minor": 0
}
