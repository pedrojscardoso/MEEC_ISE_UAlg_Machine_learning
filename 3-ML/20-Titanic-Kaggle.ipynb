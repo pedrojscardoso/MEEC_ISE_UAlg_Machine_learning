{
 "cells": [
  {
   "cell_type": "markdown",
   "id": "041d04a1",
   "metadata": {},
   "source": [
    "# Buildind a model for the Kaggle Titanic Competition: summary (a 1st approach)\n",
    "\n",
    "You can find the competion here: https://www.kaggle.com/c/titanic\n",
    "\n",
    "The procedure could be the following.\n",
    "\n",
    "## Load datasets\n",
    "\n",
    "Load the train and test dataset. Then you will\n",
    "- Train and validade on the train dataset\n",
    "- Do prediction on test dataset and submit them to kaggle "
   ]
  },
  {
   "cell_type": "code",
   "execution_count": null,
   "id": "d6740c54",
   "metadata": {},
   "outputs": [],
   "source": [
    "import pandas as pd\n",
    "\n",
    "train_df = pd.read_csv(\"data/titanic_train.csv\")\n",
    "test_df = pd.read_csv(\"data/titanic_test.csv\")"
   ]
  },
  {
   "cell_type": "markdown",
   "id": "2980aef2-fdfd-42a5-a780-200b5084d8c1",
   "metadata": {},
   "source": [
    "Take a glimpse at the data "
   ]
  },
  {
   "cell_type": "code",
   "execution_count": null,
   "id": "c46d72d2-c54f-4ddb-b3ac-aeba398a508a",
   "metadata": {},
   "outputs": [],
   "source": [
    "train_df.head()  "
   ]
  },
  {
   "cell_type": "code",
   "execution_count": null,
   "id": "206f3534-e678-4dd6-976f-faa621d36b03",
   "metadata": {},
   "outputs": [],
   "source": [
    "test_df.head()  "
   ]
  },
  {
   "cell_type": "markdown",
   "id": "e43e7f25-c9b7-4f15-a71a-f31d44a96a26",
   "metadata": {},
   "source": [
    "Keep the test's _PassengerId_ for later (submission fase)"
   ]
  },
  {
   "cell_type": "code",
   "execution_count": null,
   "id": "f019b328-85fe-4b99-9c1a-287a69a1b791",
   "metadata": {},
   "outputs": [],
   "source": [
    "test_passenger_id = test_df[\"PassengerId\"]"
   ]
  },
  {
   "cell_type": "markdown",
   "id": "9ae31251-0dac-46c9-a8a1-51725f7583fb",
   "metadata": {},
   "source": [
    "Get the target from train_df (test does not have it) and drop that column"
   ]
  },
  {
   "cell_type": "code",
   "execution_count": null,
   "id": "130c9f8d-7c9c-4356-a934-a795b634ea62",
   "metadata": {},
   "outputs": [],
   "source": [
    "target = train_df[\"Survived\"].values\n",
    "train_df = train_df.drop([\"Survived\"], axis=1)"
   ]
  },
  {
   "cell_type": "markdown",
   "id": "a9bf06f0-a34c-458b-a8ef-760ba0de5dc6",
   "metadata": {},
   "source": [
    "Concatenate the test and train dataframes as they will suffer the same operations, but remember their dimension as you'll need them later"
   ]
  },
  {
   "cell_type": "code",
   "execution_count": null,
   "id": "d5e72ca5-4112-4172-a3b5-45391993e18e",
   "metadata": {},
   "outputs": [],
   "source": [
    "m_train, n_train = train_df.shape\n",
    "m_test, n_test = test_df.shape\n",
    "\n",
    "df = pd.concat([train_df, test_df], axis=0)\n",
    "df.info()"
   ]
  },
  {
   "cell_type": "markdown",
   "id": "57436bc3-b0f0-498c-929f-767fdbfcd694",
   "metadata": {},
   "source": [
    "## Remove non-informative (?) columns"
   ]
  },
  {
   "cell_type": "markdown",
   "id": "1401c7fc",
   "metadata": {},
   "source": [
    "In a first approach, we might suppose that the _PassengerId_, _Name_ and _Ticket_ might be irrelevant and can be dropped"
   ]
  },
  {
   "cell_type": "code",
   "execution_count": null,
   "id": "ac52e3af",
   "metadata": {},
   "outputs": [],
   "source": [
    "df = df.drop([\"PassengerId\", \"Name\", \"Ticket\"], axis=1)"
   ]
  },
  {
   "cell_type": "markdown",
   "id": "87a48498-6f63-46e4-8a9d-1b9f35866877",
   "metadata": {},
   "source": [
    "## Replace `nan` in numerical columns by the median/mean value of the remaining values\n",
    "\n",
    "Replace the \"nan\" _Ages_ and _Fare_ by the mean value "
   ]
  },
  {
   "cell_type": "code",
   "execution_count": null,
   "id": "176fd738",
   "metadata": {},
   "outputs": [],
   "source": [
    "age_mean_value = df[\"Age\"].median()\n",
    "df[\"Age\"] = df[\"Age\"].fillna(age_mean_value)\n",
    "\n",
    "fare_mean_value = df[\"Fare\"].mean()\n",
    "df[\"Fare\"] = df[\"Fare\"].fillna(fare_mean_value)"
   ]
  },
  {
   "cell_type": "markdown",
   "id": "cc918e02",
   "metadata": {},
   "source": [
    "## Apply one hot encoding to categorical classes\n",
    "\n",
    "In our case, perhaps is better to replace the _Cabin_ by the corresponding deck (see 19-Missing-Data.ipynb) and then do the one hot encoding"
   ]
  },
  {
   "cell_type": "code",
   "execution_count": null,
   "id": "aa49118b",
   "metadata": {},
   "outputs": [],
   "source": [
    "def transf(x):\n",
    "    try:\n",
    "        return x[0]\n",
    "    except:\n",
    "        return x\n",
    "\n",
    "df[\"Cabin\"] = df[\"Cabin\"].apply(transf)\n",
    "df = pd.get_dummies(df)"
   ]
  },
  {
   "cell_type": "code",
   "execution_count": null,
   "id": "4a712d3d",
   "metadata": {},
   "outputs": [],
   "source": [
    "df.head()"
   ]
  },
  {
   "cell_type": "markdown",
   "id": "17b8a935-6024-45ab-8a60-0e8f874553c0",
   "metadata": {},
   "source": [
    "## Transformed dataset\n",
    "\n",
    "The transformed dataset has now the following configuration"
   ]
  },
  {
   "cell_type": "code",
   "execution_count": null,
   "id": "79300f4b",
   "metadata": {},
   "outputs": [],
   "source": [
    "df.info()"
   ]
  },
  {
   "cell_type": "code",
   "execution_count": null,
   "id": "7ae9ccb2-3eea-4870-8439-c38d6b38a7d1",
   "metadata": {},
   "outputs": [],
   "source": [
    "df.describe().T"
   ]
  },
  {
   "cell_type": "markdown",
   "id": "164d2bbf-b843-4908-a521-d8a05f85ed90",
   "metadata": {},
   "source": [
    "## Recover the train and test dataset"
   ]
  },
  {
   "cell_type": "code",
   "execution_count": null,
   "id": "6280f6a4-6e90-40ee-9f40-c2a2190815b2",
   "metadata": {},
   "outputs": [],
   "source": [
    "train_df = df.iloc[:m_train, :]\n",
    "test_df = df.iloc[m_train:, :]"
   ]
  },
  {
   "cell_type": "markdown",
   "id": "07a5973f",
   "metadata": {},
   "source": [
    "## Model \n",
    "\n",
    "To build the model get the data from the dataframe"
   ]
  },
  {
   "cell_type": "code",
   "execution_count": null,
   "id": "5ab74ac1",
   "metadata": {},
   "outputs": [],
   "source": [
    "data = train_df.values"
   ]
  },
  {
   "cell_type": "markdown",
   "id": "61b07f41-fc5c-4b5f-bca6-afcdffbd7306",
   "metadata": {},
   "source": [
    "Find the \"best\" `RandomForestClassifier` model doing grid search cross validation"
   ]
  },
  {
   "cell_type": "code",
   "execution_count": null,
   "id": "ebb7733f",
   "metadata": {},
   "outputs": [],
   "source": [
    "from sklearn.ensemble import RandomForestClassifier\n",
    "from sklearn.model_selection import GridSearchCV\n",
    "\n",
    "parameters = {\"n_estimators\": [10, 50, 100], \"max_depth\": [5, 10, 20, None]}\n",
    "\n",
    "gscv = GridSearchCV(\n",
    "    estimator=RandomForestClassifier(random_state=0),\n",
    "    param_grid=parameters,\n",
    "    cv=5,  # number of folds in a (Stratified)KFold,\n",
    ")\n",
    "\n",
    "gscv.fit(data, target)"
   ]
  },
  {
   "cell_type": "markdown",
   "id": "24b0a282-0adc-4be6-8f17-8bd57a1ddce5",
   "metadata": {},
   "source": [
    "## Get the best achieved model and predict for test data"
   ]
  },
  {
   "cell_type": "code",
   "execution_count": null,
   "id": "9c0efee0-1594-4689-9d65-03e7557568d4",
   "metadata": {},
   "outputs": [],
   "source": [
    "model = gscv.best_estimator_\n",
    "prediction = model.predict(test_df.values)\n",
    "prediction"
   ]
  },
  {
   "cell_type": "markdown",
   "id": "b1473efd-70f6-4284-8412-20fc75fad174",
   "metadata": {},
   "source": [
    "## Submit to Kaggle\n",
    "\n",
    "Build the csv file to be subbmited to Kaggle"
   ]
  },
  {
   "cell_type": "code",
   "execution_count": null,
   "id": "8e72bc2c-6de5-4c17-b2ec-b56eb4ad2f55",
   "metadata": {},
   "outputs": [],
   "source": [
    "df_pred = pd.DataFrame(\n",
    "    {\n",
    "        \"PassengerId\": test_passenger_id, # retrieved after loading\n",
    "        \"Survived\": prediction\n",
    "    })\n",
    "\n",
    "df_pred"
   ]
  },
  {
   "cell_type": "markdown",
   "id": "ffd0f248-630e-41fc-8cf2-427bc94fbcab",
   "metadata": {},
   "source": [
    "save the prediction in a csv file"
   ]
  },
  {
   "cell_type": "code",
   "execution_count": null,
   "id": "19c1f19c-67e7-4c32-90c0-8f2506321cff",
   "metadata": {},
   "outputs": [],
   "source": [
    "df_pred.to_csv(\"my_titanic_survival_predictions.csv\", index=False)"
   ]
  },
  {
   "cell_type": "markdown",
   "id": "ab3b5e88-6129-4114-acad-d248cfc9678b",
   "metadata": {},
   "source": [
    "## Not good enough...?\n",
    "If you don't like your results you can see training details and try to some actions..."
   ]
  },
  {
   "cell_type": "code",
   "execution_count": null,
   "id": "f8dd293a-cc9f-4ab0-b7ea-1d80d9f86c5a",
   "metadata": {},
   "outputs": [],
   "source": [
    "gscv.best_score_"
   ]
  },
  {
   "cell_type": "markdown",
   "id": "deac6ff6-aea7-4bbb-bfc7-8f786e0f67d1",
   "metadata": {},
   "source": [
    "The best paramters"
   ]
  },
  {
   "cell_type": "code",
   "execution_count": null,
   "id": "55143958-c860-4ac6-b803-6ddb6bb6a8af",
   "metadata": {
    "tags": []
   },
   "outputs": [],
   "source": [
    "gscv.best_params_"
   ]
  },
  {
   "cell_type": "markdown",
   "id": "73bb7ed3-4fd3-4965-a69d-70601425c703",
   "metadata": {},
   "source": [
    "and the CV results"
   ]
  },
  {
   "cell_type": "code",
   "execution_count": null,
   "id": "6c45b7b7-caa1-4245-8764-96e62ac5862d",
   "metadata": {},
   "outputs": [],
   "source": [
    "gscv.cv_results_"
   ]
  },
  {
   "cell_type": "code",
   "execution_count": null,
   "id": "f7ba1ce8-f2c1-45f0-af5e-57c92b1ccc27",
   "metadata": {},
   "outputs": [],
   "source": []
  }
 ],
 "metadata": {
  "kernelspec": {
   "display_name": "Python 3 (ipykernel)",
   "language": "python",
   "name": "python3"
  },
  "language_info": {
   "codemirror_mode": {
    "name": "ipython",
    "version": 3
   },
   "file_extension": ".py",
   "mimetype": "text/x-python",
   "name": "python",
   "nbconvert_exporter": "python",
   "pygments_lexer": "ipython3",
   "version": "3.10.6"
  },
  "nbTranslate": {
   "displayLangs": [
    "pt",
    "en"
   ],
   "hotkey": "alt-t",
   "langInMainMenu": true,
   "sourceLang": "en",
   "targetLang": "pt",
   "useGoogleTranslate": true
  },
  "toc": {
   "base_numbering": 1,
   "nav_menu": {},
   "number_sections": true,
   "sideBar": true,
   "skip_h1_title": false,
   "title_cell": "Table of Contents",
   "title_sidebar": "Contents",
   "toc_cell": false,
   "toc_position": {},
   "toc_section_display": true,
   "toc_window_display": false
  },
  "varInspector": {
   "cols": {
    "lenName": 16,
    "lenType": 16,
    "lenVar": 40
   },
   "kernels_config": {
    "python": {
     "delete_cmd_postfix": "",
     "delete_cmd_prefix": "del ",
     "library": "var_list.py",
     "varRefreshCmd": "print(var_dic_list())"
    },
    "r": {
     "delete_cmd_postfix": ") ",
     "delete_cmd_prefix": "rm(",
     "library": "var_list.r",
     "varRefreshCmd": "cat(var_dic_list()) "
    }
   },
   "types_to_exclude": [
    "module",
    "function",
    "builtin_function_or_method",
    "instance",
    "_Feature"
   ],
   "window_display": false
  }
 },
 "nbformat": 4,
 "nbformat_minor": 5
}
