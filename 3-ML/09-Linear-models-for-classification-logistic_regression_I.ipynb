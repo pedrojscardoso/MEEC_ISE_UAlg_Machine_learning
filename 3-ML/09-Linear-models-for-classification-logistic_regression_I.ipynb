{
 "cells": [
  {
   "cell_type": "markdown",
   "metadata": {
    "collapsed": true
   },
   "source": [
    "# Linear models for classification\n",
    "\n",
    "## Logistic Regression"
   ]
  },
  {
   "cell_type": "code",
   "execution_count": null,
   "metadata": {
    "ExecuteTime": {
     "end_time": "2019-05-02T13:48:42.049534Z",
     "start_time": "2019-05-02T13:48:42.043539Z"
    }
   },
   "outputs": [],
   "source": [
    "from sklearn.model_selection import train_test_split\n",
    "from sklearn.linear_model import LogisticRegression\n",
    "from sklearn.datasets import load_iris\n",
    "\n",
    "import matplotlib.pyplot as plt\n",
    "import numpy as np"
   ]
  },
  {
   "cell_type": "markdown",
   "metadata": {},
   "source": [
    "Let us load the Iris dataset and then restrict our data to the last two target_names"
   ]
  },
  {
   "cell_type": "code",
   "execution_count": null,
   "metadata": {
    "ExecuteTime": {
     "end_time": "2019-05-02T13:48:42.722406Z",
     "start_time": "2019-05-02T13:48:42.713432Z"
    }
   },
   "outputs": [],
   "source": [
    "iris = load_iris()\n",
    "\n",
    "iris.target"
   ]
  },
  {
   "cell_type": "code",
   "execution_count": null,
   "metadata": {
    "ExecuteTime": {
     "end_time": "2019-05-02T13:48:43.102018Z",
     "start_time": "2019-05-02T13:48:43.096023Z"
    }
   },
   "outputs": [],
   "source": [
    "idx = (iris.target == 1) + (iris.target == 2)\n",
    "idx"
   ]
  },
  {
   "cell_type": "code",
   "execution_count": null,
   "metadata": {
    "ExecuteTime": {
     "end_time": "2019-05-02T13:48:43.605376Z",
     "start_time": "2019-05-02T13:48:43.601367Z"
    }
   },
   "outputs": [],
   "source": [
    "iris.data = iris.data[idx]\n",
    "iris.target = iris.target[idx]\n",
    "len(iris.target)"
   ]
  },
  {
   "cell_type": "markdown",
   "metadata": {},
   "source": [
    "The usual splitting of the data, and the the fitting and scoring "
   ]
  },
  {
   "cell_type": "code",
   "execution_count": null,
   "metadata": {
    "ExecuteTime": {
     "end_time": "2019-05-02T13:49:23.521266Z",
     "start_time": "2019-05-02T13:49:23.513286Z"
    }
   },
   "outputs": [],
   "source": [
    "x_train, x_test, y_train, y_test = train_test_split(iris.data, iris.target, random_state=1)\n",
    "\n",
    "lr = LogisticRegression().fit(x_train, y_train)\n",
    "\n",
    "lr.score(x_test, y_test)"
   ]
  },
  {
   "cell_type": "markdown",
   "metadata": {},
   "source": [
    "The implementation can fit binary, One-vs- Rest, or multinomial logistic regression with optional L2 or L1 regularization.\n",
    "\n",
    "https://scikit-learn.org/stable/modules/generated/sklearn.linear_model.LogisticRegression.html"
   ]
  },
  {
   "cell_type": "code",
   "execution_count": null,
   "metadata": {
    "ExecuteTime": {
     "end_time": "2019-05-02T14:00:35.861561Z",
     "start_time": "2019-05-02T14:00:34.970443Z"
    },
    "scrolled": false
   },
   "outputs": [],
   "source": [
    "score_l1 = []\n",
    "score_l2 = []\n",
    "\n",
    "coefs_l1 = []\n",
    "coefs_l2 = []\n",
    "\n",
    "Cs = list(np.arange(0.0001, 20, .25))\n",
    "for C in Cs:\n",
    "    # note that C is the Inverse of regularization strength; smaller values specify stronger regularization\n",
    "    lr = LogisticRegression(penalty='l1', C=C, solver='liblinear', max_iter=500).fit(x_train, y_train)\n",
    "    score_l1.append(lr.score(x_test, y_test))\n",
    "    coefs_l1.append(lr.coef_[0])\n",
    "\n",
    "    lr = LogisticRegression(penalty='l2', C=C, solver='liblinear').fit(x_train, y_train)\n",
    "    score_l2.append(lr.score(x_test, y_test))\n",
    "    coefs_l2.append(lr.coef_[0])\n"
   ]
  },
  {
   "cell_type": "markdown",
   "metadata": {},
   "source": [
    "How does the score behaves when changind the regularization parameter (remeber:  C is the Inverse of regularization strength; smaller values specify stronger regularization)\n"
   ]
  },
  {
   "cell_type": "code",
   "execution_count": null,
   "metadata": {
    "ExecuteTime": {
     "end_time": "2019-05-02T14:00:37.174203Z",
     "start_time": "2019-05-02T14:00:37.058309Z"
    }
   },
   "outputs": [],
   "source": [
    "plt.plot(Cs,score_l1)\n",
    "plt.plot(Cs,score_l2)\n",
    "plt.legend([\"l1\", \"l2\"])\n",
    "plt.ylabel(\"score\")\n",
    "plt.xlabel(\"C\")"
   ]
  },
  {
   "cell_type": "markdown",
   "metadata": {},
   "source": [
    "And, the \"$\\beta$'s\"?\n",
    "\n",
    "For the l1 regularization:"
   ]
  },
  {
   "cell_type": "code",
   "execution_count": null,
   "metadata": {},
   "outputs": [],
   "source": [
    "plt.plot(Cs, coefs_l1)\n",
    "plt.legend((\"b0\", \"b1\", \"b2\", \"b3\"))"
   ]
  },
  {
   "cell_type": "markdown",
   "metadata": {},
   "source": [
    "For the l2 regularization:"
   ]
  },
  {
   "cell_type": "code",
   "execution_count": null,
   "metadata": {},
   "outputs": [],
   "source": [
    "plt.plot(Cs, coefs_l2)\n",
    "plt.legend((\"b0\", \"b1\", \"b2\", \"b3\"))"
   ]
  },
  {
   "cell_type": "code",
   "execution_count": null,
   "metadata": {},
   "outputs": [],
   "source": []
  }
 ],
 "metadata": {
  "kernelspec": {
   "display_name": "Python 3",
   "language": "python",
   "name": "python3"
  },
  "language_info": {
   "codemirror_mode": {
    "name": "ipython",
    "version": 3
   },
   "file_extension": ".py",
   "mimetype": "text/x-python",
   "name": "python",
   "nbconvert_exporter": "python",
   "pygments_lexer": "ipython3",
   "version": "3.10.4"
  },
  "nbTranslate": {
   "displayLangs": [
    "*"
   ],
   "hotkey": "alt-t",
   "langInMainMenu": true,
   "sourceLang": "en",
   "targetLang": "fr",
   "useGoogleTranslate": true
  },
  "toc": {
   "base_numbering": 1,
   "nav_menu": {},
   "number_sections": true,
   "sideBar": true,
   "skip_h1_title": false,
   "title_cell": "Table of Contents",
   "title_sidebar": "Contents",
   "toc_cell": false,
   "toc_position": {},
   "toc_section_display": true,
   "toc_window_display": false
  },
  "varInspector": {
   "cols": {
    "lenName": 16,
    "lenType": 16,
    "lenVar": 40
   },
   "kernels_config": {
    "python": {
     "delete_cmd_postfix": "",
     "delete_cmd_prefix": "del ",
     "library": "var_list.py",
     "varRefreshCmd": "print(var_dic_list())"
    },
    "r": {
     "delete_cmd_postfix": ") ",
     "delete_cmd_prefix": "rm(",
     "library": "var_list.r",
     "varRefreshCmd": "cat(var_dic_list()) "
    }
   },
   "types_to_exclude": [
    "module",
    "function",
    "builtin_function_or_method",
    "instance",
    "_Feature"
   ],
   "window_display": false
  }
 },
 "nbformat": 4,
 "nbformat_minor": 2
}
