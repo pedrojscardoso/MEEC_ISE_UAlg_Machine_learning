{
 "cells": [
  {
   "cell_type": "markdown",
   "source": [
    "___\n",
    "<h1> Machine Learning </h1>\n",
    "<h2> M. Sc. in Electrical and Computer Engineering </h2>\n",
    "<h3> Instituto Superior de Engenharia / Universidade do Algarve </h3>\n",
    "\n",
    "[MEEC](https://ise.ualg.pt/en/curso/1477) / [ISE](https://ise.ualg.pt) / [UAlg](https://www.ualg.pt)\n",
    "\n",
    "Pedro J. S. Cardoso (pcardoso@ualg.pt)\n",
    "___\n",
    "\n",
    "_Note: running this notebook will, probably, require some hours._ "
   ],
   "metadata": {
    "collapsed": false
   }
  },
  {
   "cell_type": "markdown",
   "metadata": {},
   "source": [
    "# Support vector machines (SVMs) \n",
    "\n",
    "Support vector machines (SVMs) are a set of supervised learning methods used for classification, regression and outliers detection.\n",
    "\n",
    "The advantages of support vector machines are:\n",
    "* Effective in high dimensional spaces.\n",
    "* Still effective in cases where number of dimensions is greater than the number of samples.\n",
    "* Uses a subset of training points in the decision function (called support vectors), so it is also memory efficient.\n",
    "* Versatile: different Kernel functions can be specified for the decision function. Common kernels are provided, but it is also possible to specify custom kernels.\n",
    "\n",
    "See https://scikit-learn.org/stable/modules/svm.html for an explanation of the module and https://scikit-learn.org/stable/modules/svm.html#svm-mathematical-formulation for a the mathematical formulation.\n",
    "\n",
    "\n",
    "\n",
    "## Classification\n",
    "\n",
    "Let us start with a simple example of classification using SVM. We will use the iris dataset and, as usual, we will split the dataset into training and test sets."
   ]
  },
  {
   "cell_type": "code",
   "execution_count": 1,
   "metadata": {
    "ExecuteTime": {
     "end_time": "2023-11-07T14:48:49.990666Z",
     "start_time": "2023-11-07T14:48:49.408007Z"
    }
   },
   "outputs": [],
   "source": [
    "from sklearn.svm import SVC\n",
    "from sklearn.datasets import load_iris\n",
    "from sklearn.model_selection import train_test_split\n",
    "\n",
    "iris = load_iris()\n",
    "\n",
    "X_train, X_test, y_train, y_test = train_test_split(iris.data,\n",
    "                                                    iris.target, \n",
    "                                                    random_state=10)"
   ]
  },
  {
   "cell_type": "markdown",
   "source": [
    "Now, let us train a SVM classifier using the training set and test it using the test set."
   ],
   "metadata": {
    "collapsed": false
   }
  },
  {
   "cell_type": "code",
   "execution_count": 2,
   "metadata": {
    "ExecuteTime": {
     "end_time": "2023-11-07T14:48:50.016148Z",
     "start_time": "2023-11-07T14:48:49.992571Z"
    }
   },
   "outputs": [
    {
     "data": {
      "text/plain": "0.9736842105263158"
     },
     "execution_count": 2,
     "metadata": {},
     "output_type": "execute_result"
    }
   ],
   "source": [
    "svm = SVC(C=.1, \n",
    "          kernel='poly', \n",
    "          degree=4).fit(X_train, y_train)\n",
    "\n",
    "score = svm.score(X_test, y_test)\n",
    "score"
   ]
  },
  {
   "cell_type": "markdown",
   "source": [
    "Changing C and kernel parameters, we can get better results."
   ],
   "metadata": {
    "collapsed": false
   }
  },
  {
   "cell_type": "code",
   "execution_count": 3,
   "metadata": {
    "ExecuteTime": {
     "end_time": "2023-11-07T14:48:50.016331Z",
     "start_time": "2023-11-07T14:48:49.998688Z"
    }
   },
   "outputs": [
    {
     "name": "stdout",
     "output_type": "stream",
     "text": [
      "1.0\n",
      "\"1.0!! Pure luke\"!! try with other random state value (train_test_split)!\n"
     ]
    }
   ],
   "source": [
    "svm = SVC(\n",
    "    C=.01, \n",
    "    kernel='poly', \n",
    "    degree=4).fit(X_train, y_train)\n",
    "\n",
    "score = svm.score(X_test, y_test)\n",
    "print(score)\n",
    "print('\"1.0!! Pure luke\"!! try with other random state value (train_test_split)!')"
   ]
  },
  {
   "cell_type": "markdown",
   "metadata": {},
   "source": [
    "See also https://scikit-learn.org/stable/auto_examples/svm/plot_iris_svc.html#sphx-glr-auto-examples-svm-plot-iris-svc-py"
   ]
  },
  {
   "cell_type": "markdown",
   "metadata": {
    "ExecuteTime": {
     "end_time": "2019-05-13T13:53:16.149339Z",
     "start_time": "2019-05-13T13:53:16.146331Z"
    }
   },
   "source": [
    "## Regression\n",
    "\n",
    "Next we present a few examples of regression using SVM. \n",
    "\n",
    "Let us consider the Seoul Bike Sharing Demand dataset. The dataset contains the hourly count of rental bikes between years 2017 and 2018 in Seoul, Korea with the corresponding weather and seasonal information. The dataset can be downloaded from https://archive.ics.uci.edu/dataset/560/seoul+bike+sharing+demand but we have already downloaded it and saved it in the data folder.\n",
    "\n",
    "Let us start by loading the dataset into a pandas dataframe. "
   ]
  },
  {
   "cell_type": "code",
   "execution_count": 4,
   "metadata": {
    "ExecuteTime": {
     "end_time": "2023-11-07T14:48:50.272415Z",
     "start_time": "2023-11-07T14:48:50.002205Z"
    }
   },
   "outputs": [
    {
     "data": {
      "text/plain": "         Date  Rented Bike Count  Hour  Temperature(C)  Humidity(%)  \\\n0  01/12/2017                254     0            -5.2           37   \n1  01/12/2017                204     1            -5.5           38   \n2  01/12/2017                173     2            -6.0           39   \n3  01/12/2017                107     3            -6.2           40   \n4  01/12/2017                 78     4            -6.0           36   \n\n   Wind speed (m/s)  Visibility (10m)  Dew point temperature(C)  \\\n0               2.2              2000                     -17.6   \n1               0.8              2000                     -17.6   \n2               1.0              2000                     -17.7   \n3               0.9              2000                     -17.6   \n4               2.3              2000                     -18.6   \n\n   Solar Radiation (MJ/m2)  Rainfall(mm)  Snowfall (cm) Seasons     Holiday  \\\n0                      0.0           0.0            0.0  Winter  No Holiday   \n1                      0.0           0.0            0.0  Winter  No Holiday   \n2                      0.0           0.0            0.0  Winter  No Holiday   \n3                      0.0           0.0            0.0  Winter  No Holiday   \n4                      0.0           0.0            0.0  Winter  No Holiday   \n\n  Functioning Day  \n0             Yes  \n1             Yes  \n2             Yes  \n3             Yes  \n4             Yes  ",
      "text/html": "<div>\n<style scoped>\n    .dataframe tbody tr th:only-of-type {\n        vertical-align: middle;\n    }\n\n    .dataframe tbody tr th {\n        vertical-align: top;\n    }\n\n    .dataframe thead th {\n        text-align: right;\n    }\n</style>\n<table border=\"1\" class=\"dataframe\">\n  <thead>\n    <tr style=\"text-align: right;\">\n      <th></th>\n      <th>Date</th>\n      <th>Rented Bike Count</th>\n      <th>Hour</th>\n      <th>Temperature(C)</th>\n      <th>Humidity(%)</th>\n      <th>Wind speed (m/s)</th>\n      <th>Visibility (10m)</th>\n      <th>Dew point temperature(C)</th>\n      <th>Solar Radiation (MJ/m2)</th>\n      <th>Rainfall(mm)</th>\n      <th>Snowfall (cm)</th>\n      <th>Seasons</th>\n      <th>Holiday</th>\n      <th>Functioning Day</th>\n    </tr>\n  </thead>\n  <tbody>\n    <tr>\n      <th>0</th>\n      <td>01/12/2017</td>\n      <td>254</td>\n      <td>0</td>\n      <td>-5.2</td>\n      <td>37</td>\n      <td>2.2</td>\n      <td>2000</td>\n      <td>-17.6</td>\n      <td>0.0</td>\n      <td>0.0</td>\n      <td>0.0</td>\n      <td>Winter</td>\n      <td>No Holiday</td>\n      <td>Yes</td>\n    </tr>\n    <tr>\n      <th>1</th>\n      <td>01/12/2017</td>\n      <td>204</td>\n      <td>1</td>\n      <td>-5.5</td>\n      <td>38</td>\n      <td>0.8</td>\n      <td>2000</td>\n      <td>-17.6</td>\n      <td>0.0</td>\n      <td>0.0</td>\n      <td>0.0</td>\n      <td>Winter</td>\n      <td>No Holiday</td>\n      <td>Yes</td>\n    </tr>\n    <tr>\n      <th>2</th>\n      <td>01/12/2017</td>\n      <td>173</td>\n      <td>2</td>\n      <td>-6.0</td>\n      <td>39</td>\n      <td>1.0</td>\n      <td>2000</td>\n      <td>-17.7</td>\n      <td>0.0</td>\n      <td>0.0</td>\n      <td>0.0</td>\n      <td>Winter</td>\n      <td>No Holiday</td>\n      <td>Yes</td>\n    </tr>\n    <tr>\n      <th>3</th>\n      <td>01/12/2017</td>\n      <td>107</td>\n      <td>3</td>\n      <td>-6.2</td>\n      <td>40</td>\n      <td>0.9</td>\n      <td>2000</td>\n      <td>-17.6</td>\n      <td>0.0</td>\n      <td>0.0</td>\n      <td>0.0</td>\n      <td>Winter</td>\n      <td>No Holiday</td>\n      <td>Yes</td>\n    </tr>\n    <tr>\n      <th>4</th>\n      <td>01/12/2017</td>\n      <td>78</td>\n      <td>4</td>\n      <td>-6.0</td>\n      <td>36</td>\n      <td>2.3</td>\n      <td>2000</td>\n      <td>-18.6</td>\n      <td>0.0</td>\n      <td>0.0</td>\n      <td>0.0</td>\n      <td>Winter</td>\n      <td>No Holiday</td>\n      <td>Yes</td>\n    </tr>\n  </tbody>\n</table>\n</div>"
     },
     "execution_count": 4,
     "metadata": {},
     "output_type": "execute_result"
    }
   ],
   "source": [
    "import pandas as pd\n",
    "df = pd.read_csv('./data/SeoulBikeData.csv')\n",
    "df.head()"
   ]
  },
  {
   "cell_type": "markdown",
   "source": [
    "By calling the dataframe's info method, we can see that there are no missing values but there are some categorical columns."
   ],
   "metadata": {
    "collapsed": false
   }
  },
  {
   "cell_type": "code",
   "execution_count": 5,
   "outputs": [
    {
     "name": "stdout",
     "output_type": "stream",
     "text": [
      "<class 'pandas.core.frame.DataFrame'>\n",
      "RangeIndex: 8760 entries, 0 to 8759\n",
      "Data columns (total 14 columns):\n",
      " #   Column                    Non-Null Count  Dtype  \n",
      "---  ------                    --------------  -----  \n",
      " 0   Date                      8760 non-null   object \n",
      " 1   Rented Bike Count         8760 non-null   int64  \n",
      " 2   Hour                      8760 non-null   int64  \n",
      " 3   Temperature(C)            8760 non-null   float64\n",
      " 4   Humidity(%)               8760 non-null   int64  \n",
      " 5   Wind speed (m/s)          8760 non-null   float64\n",
      " 6   Visibility (10m)          8760 non-null   int64  \n",
      " 7   Dew point temperature(C)  8760 non-null   float64\n",
      " 8   Solar Radiation (MJ/m2)   8760 non-null   float64\n",
      " 9   Rainfall(mm)              8760 non-null   float64\n",
      " 10  Snowfall (cm)             8760 non-null   float64\n",
      " 11  Seasons                   8760 non-null   object \n",
      " 12  Holiday                   8760 non-null   object \n",
      " 13  Functioning Day           8760 non-null   object \n",
      "dtypes: float64(6), int64(4), object(4)\n",
      "memory usage: 958.2+ KB\n"
     ]
    }
   ],
   "source": [
    "df.info()"
   ],
   "metadata": {
    "collapsed": false,
    "ExecuteTime": {
     "end_time": "2023-11-07T14:48:50.285306Z",
     "start_time": "2023-11-07T14:48:50.273657Z"
    }
   }
  },
  {
   "cell_type": "markdown",
   "source": [
    "The categorical columns need to be converted into, for example, dummy variables. \n",
    "\n",
    "A dummy variable is a numerical variable used in regression analysis to represent subgroups of the sample in your study. In research design, a dummy variable is often used to distinguish different treatment groups. for example the season column has four categories: Spring, Summer, Autumn, and Winter. We can convert this column into four columns, one for each category, and use 0 or 1 to indicate if the sample belongs to that category or not. To achieve this, we can use the pandas get_dummies method."
   ],
   "metadata": {
    "collapsed": false
   }
  },
  {
   "cell_type": "code",
   "execution_count": 6,
   "outputs": [
    {
     "data": {
      "text/plain": "            Date  Rented Bike Count  Hour  Temperature(C)  Humidity(%)  \\\n0     01/12/2017                254     0            -5.2           37   \n1     01/12/2017                204     1            -5.5           38   \n2     01/12/2017                173     2            -6.0           39   \n3     01/12/2017                107     3            -6.2           40   \n4     01/12/2017                 78     4            -6.0           36   \n...          ...                ...   ...             ...          ...   \n8755  30/11/2018               1003    19             4.2           34   \n8756  30/11/2018                764    20             3.4           37   \n8757  30/11/2018                694    21             2.6           39   \n8758  30/11/2018                712    22             2.1           41   \n8759  30/11/2018                584    23             1.9           43   \n\n      Wind speed (m/s)  Visibility (10m)  Dew point temperature(C)  \\\n0                  2.2              2000                     -17.6   \n1                  0.8              2000                     -17.6   \n2                  1.0              2000                     -17.7   \n3                  0.9              2000                     -17.6   \n4                  2.3              2000                     -18.6   \n...                ...               ...                       ...   \n8755               2.6              1894                     -10.3   \n8756               2.3              2000                      -9.9   \n8757               0.3              1968                      -9.9   \n8758               1.0              1859                      -9.8   \n8759               1.3              1909                      -9.3   \n\n      Solar Radiation (MJ/m2)  Rainfall(mm)  Snowfall (cm)  Seasons_Spring  \\\n0                         0.0           0.0            0.0           False   \n1                         0.0           0.0            0.0           False   \n2                         0.0           0.0            0.0           False   \n3                         0.0           0.0            0.0           False   \n4                         0.0           0.0            0.0           False   \n...                       ...           ...            ...             ...   \n8755                      0.0           0.0            0.0           False   \n8756                      0.0           0.0            0.0           False   \n8757                      0.0           0.0            0.0           False   \n8758                      0.0           0.0            0.0           False   \n8759                      0.0           0.0            0.0           False   \n\n      Seasons_Summer  Seasons_Winter  Holiday_No Holiday  Functioning Day_Yes  \n0              False            True                True                 True  \n1              False            True                True                 True  \n2              False            True                True                 True  \n3              False            True                True                 True  \n4              False            True                True                 True  \n...              ...             ...                 ...                  ...  \n8755           False           False                True                 True  \n8756           False           False                True                 True  \n8757           False           False                True                 True  \n8758           False           False                True                 True  \n8759           False           False                True                 True  \n\n[8760 rows x 16 columns]",
      "text/html": "<div>\n<style scoped>\n    .dataframe tbody tr th:only-of-type {\n        vertical-align: middle;\n    }\n\n    .dataframe tbody tr th {\n        vertical-align: top;\n    }\n\n    .dataframe thead th {\n        text-align: right;\n    }\n</style>\n<table border=\"1\" class=\"dataframe\">\n  <thead>\n    <tr style=\"text-align: right;\">\n      <th></th>\n      <th>Date</th>\n      <th>Rented Bike Count</th>\n      <th>Hour</th>\n      <th>Temperature(C)</th>\n      <th>Humidity(%)</th>\n      <th>Wind speed (m/s)</th>\n      <th>Visibility (10m)</th>\n      <th>Dew point temperature(C)</th>\n      <th>Solar Radiation (MJ/m2)</th>\n      <th>Rainfall(mm)</th>\n      <th>Snowfall (cm)</th>\n      <th>Seasons_Spring</th>\n      <th>Seasons_Summer</th>\n      <th>Seasons_Winter</th>\n      <th>Holiday_No Holiday</th>\n      <th>Functioning Day_Yes</th>\n    </tr>\n  </thead>\n  <tbody>\n    <tr>\n      <th>0</th>\n      <td>01/12/2017</td>\n      <td>254</td>\n      <td>0</td>\n      <td>-5.2</td>\n      <td>37</td>\n      <td>2.2</td>\n      <td>2000</td>\n      <td>-17.6</td>\n      <td>0.0</td>\n      <td>0.0</td>\n      <td>0.0</td>\n      <td>False</td>\n      <td>False</td>\n      <td>True</td>\n      <td>True</td>\n      <td>True</td>\n    </tr>\n    <tr>\n      <th>1</th>\n      <td>01/12/2017</td>\n      <td>204</td>\n      <td>1</td>\n      <td>-5.5</td>\n      <td>38</td>\n      <td>0.8</td>\n      <td>2000</td>\n      <td>-17.6</td>\n      <td>0.0</td>\n      <td>0.0</td>\n      <td>0.0</td>\n      <td>False</td>\n      <td>False</td>\n      <td>True</td>\n      <td>True</td>\n      <td>True</td>\n    </tr>\n    <tr>\n      <th>2</th>\n      <td>01/12/2017</td>\n      <td>173</td>\n      <td>2</td>\n      <td>-6.0</td>\n      <td>39</td>\n      <td>1.0</td>\n      <td>2000</td>\n      <td>-17.7</td>\n      <td>0.0</td>\n      <td>0.0</td>\n      <td>0.0</td>\n      <td>False</td>\n      <td>False</td>\n      <td>True</td>\n      <td>True</td>\n      <td>True</td>\n    </tr>\n    <tr>\n      <th>3</th>\n      <td>01/12/2017</td>\n      <td>107</td>\n      <td>3</td>\n      <td>-6.2</td>\n      <td>40</td>\n      <td>0.9</td>\n      <td>2000</td>\n      <td>-17.6</td>\n      <td>0.0</td>\n      <td>0.0</td>\n      <td>0.0</td>\n      <td>False</td>\n      <td>False</td>\n      <td>True</td>\n      <td>True</td>\n      <td>True</td>\n    </tr>\n    <tr>\n      <th>4</th>\n      <td>01/12/2017</td>\n      <td>78</td>\n      <td>4</td>\n      <td>-6.0</td>\n      <td>36</td>\n      <td>2.3</td>\n      <td>2000</td>\n      <td>-18.6</td>\n      <td>0.0</td>\n      <td>0.0</td>\n      <td>0.0</td>\n      <td>False</td>\n      <td>False</td>\n      <td>True</td>\n      <td>True</td>\n      <td>True</td>\n    </tr>\n    <tr>\n      <th>...</th>\n      <td>...</td>\n      <td>...</td>\n      <td>...</td>\n      <td>...</td>\n      <td>...</td>\n      <td>...</td>\n      <td>...</td>\n      <td>...</td>\n      <td>...</td>\n      <td>...</td>\n      <td>...</td>\n      <td>...</td>\n      <td>...</td>\n      <td>...</td>\n      <td>...</td>\n      <td>...</td>\n    </tr>\n    <tr>\n      <th>8755</th>\n      <td>30/11/2018</td>\n      <td>1003</td>\n      <td>19</td>\n      <td>4.2</td>\n      <td>34</td>\n      <td>2.6</td>\n      <td>1894</td>\n      <td>-10.3</td>\n      <td>0.0</td>\n      <td>0.0</td>\n      <td>0.0</td>\n      <td>False</td>\n      <td>False</td>\n      <td>False</td>\n      <td>True</td>\n      <td>True</td>\n    </tr>\n    <tr>\n      <th>8756</th>\n      <td>30/11/2018</td>\n      <td>764</td>\n      <td>20</td>\n      <td>3.4</td>\n      <td>37</td>\n      <td>2.3</td>\n      <td>2000</td>\n      <td>-9.9</td>\n      <td>0.0</td>\n      <td>0.0</td>\n      <td>0.0</td>\n      <td>False</td>\n      <td>False</td>\n      <td>False</td>\n      <td>True</td>\n      <td>True</td>\n    </tr>\n    <tr>\n      <th>8757</th>\n      <td>30/11/2018</td>\n      <td>694</td>\n      <td>21</td>\n      <td>2.6</td>\n      <td>39</td>\n      <td>0.3</td>\n      <td>1968</td>\n      <td>-9.9</td>\n      <td>0.0</td>\n      <td>0.0</td>\n      <td>0.0</td>\n      <td>False</td>\n      <td>False</td>\n      <td>False</td>\n      <td>True</td>\n      <td>True</td>\n    </tr>\n    <tr>\n      <th>8758</th>\n      <td>30/11/2018</td>\n      <td>712</td>\n      <td>22</td>\n      <td>2.1</td>\n      <td>41</td>\n      <td>1.0</td>\n      <td>1859</td>\n      <td>-9.8</td>\n      <td>0.0</td>\n      <td>0.0</td>\n      <td>0.0</td>\n      <td>False</td>\n      <td>False</td>\n      <td>False</td>\n      <td>True</td>\n      <td>True</td>\n    </tr>\n    <tr>\n      <th>8759</th>\n      <td>30/11/2018</td>\n      <td>584</td>\n      <td>23</td>\n      <td>1.9</td>\n      <td>43</td>\n      <td>1.3</td>\n      <td>1909</td>\n      <td>-9.3</td>\n      <td>0.0</td>\n      <td>0.0</td>\n      <td>0.0</td>\n      <td>False</td>\n      <td>False</td>\n      <td>False</td>\n      <td>True</td>\n      <td>True</td>\n    </tr>\n  </tbody>\n</table>\n<p>8760 rows × 16 columns</p>\n</div>"
     },
     "execution_count": 6,
     "metadata": {},
     "output_type": "execute_result"
    }
   ],
   "source": [
    "df = pd.get_dummies(df, columns=['Seasons', 'Holiday', 'Functioning Day'], drop_first=True)\n",
    "df"
   ],
   "metadata": {
    "collapsed": false,
    "ExecuteTime": {
     "end_time": "2023-11-07T14:48:50.311203Z",
     "start_time": "2023-11-07T14:48:50.281295Z"
    }
   }
  },
  {
   "cell_type": "markdown",
   "source": [
    "We can split this column into two columns: month and day, and day of week. To achieve this, we can use the pandas to_datetime method as follows:"
   ],
   "metadata": {
    "collapsed": false
   }
  },
  {
   "cell_type": "code",
   "execution_count": 7,
   "outputs": [],
   "source": [
    "# make sure the date column is in datetime format\n",
    "df['Date'] = pd.to_datetime(df['Date'], format='%d/%m/%Y')\n",
    "\n",
    "# create new columns for month, day, and day of week\n",
    "df['month'] = df['Date'].dt.month\n",
    "df['day'] = df['Date'].dt.day\n",
    "df['day_of_week'] = df['Date'].dt.day_of_week\n",
    "\n",
    "# drop the original date column\n",
    "df.drop('Date', axis=1, inplace=True)"
   ],
   "metadata": {
    "collapsed": false,
    "ExecuteTime": {
     "end_time": "2023-11-07T14:48:50.311329Z",
     "start_time": "2023-11-07T14:48:50.294483Z"
    }
   }
  },
  {
   "cell_type": "markdown",
   "source": [
    "Let us now recheck the dataframe's info method."
   ],
   "metadata": {
    "collapsed": false
   }
  },
  {
   "cell_type": "code",
   "execution_count": 8,
   "outputs": [
    {
     "name": "stdout",
     "output_type": "stream",
     "text": [
      "<class 'pandas.core.frame.DataFrame'>\n",
      "RangeIndex: 8760 entries, 0 to 8759\n",
      "Data columns (total 18 columns):\n",
      " #   Column                    Non-Null Count  Dtype  \n",
      "---  ------                    --------------  -----  \n",
      " 0   Rented Bike Count         8760 non-null   int64  \n",
      " 1   Hour                      8760 non-null   int64  \n",
      " 2   Temperature(C)            8760 non-null   float64\n",
      " 3   Humidity(%)               8760 non-null   int64  \n",
      " 4   Wind speed (m/s)          8760 non-null   float64\n",
      " 5   Visibility (10m)          8760 non-null   int64  \n",
      " 6   Dew point temperature(C)  8760 non-null   float64\n",
      " 7   Solar Radiation (MJ/m2)   8760 non-null   float64\n",
      " 8   Rainfall(mm)              8760 non-null   float64\n",
      " 9   Snowfall (cm)             8760 non-null   float64\n",
      " 10  Seasons_Spring            8760 non-null   bool   \n",
      " 11  Seasons_Summer            8760 non-null   bool   \n",
      " 12  Seasons_Winter            8760 non-null   bool   \n",
      " 13  Holiday_No Holiday        8760 non-null   bool   \n",
      " 14  Functioning Day_Yes       8760 non-null   bool   \n",
      " 15  month                     8760 non-null   int32  \n",
      " 16  day                       8760 non-null   int32  \n",
      " 17  day_of_week               8760 non-null   int32  \n",
      "dtypes: bool(5), float64(6), int32(3), int64(4)\n",
      "memory usage: 829.9 KB\n"
     ]
    }
   ],
   "source": [
    "df.info()"
   ],
   "metadata": {
    "collapsed": false,
    "ExecuteTime": {
     "end_time": "2023-11-07T14:48:50.418489Z",
     "start_time": "2023-11-07T14:48:50.303642Z"
    }
   }
  },
  {
   "cell_type": "markdown",
   "source": [
    "Since the target variable is the Rented Bike Count, we can split the dataframe into two dataframes: one with the target variable and another with the remaining variables."
   ],
   "metadata": {
    "collapsed": false
   }
  },
  {
   "cell_type": "code",
   "execution_count": 9,
   "outputs": [],
   "source": [
    "X = df.drop('Rented Bike Count', axis=1)\n",
    "y = df['Rented Bike Count']"
   ],
   "metadata": {
    "collapsed": false,
    "ExecuteTime": {
     "end_time": "2023-11-07T14:48:50.420616Z",
     "start_time": "2023-11-07T14:48:50.309583Z"
    }
   }
  },
  {
   "cell_type": "markdown",
   "source": [
    "Following the usual procedure, we can split the dataset into training and test sets. Shuffling the dataset is important to avoid any ordering bias."
   ],
   "metadata": {
    "collapsed": false
   }
  },
  {
   "cell_type": "code",
   "execution_count": 10,
   "outputs": [],
   "source": [
    "X_train, X_test, y_train, y_test = train_test_split(X, y,\n",
    "                                                    shuffle=True,\n",
    "                                                    random_state=42,\n",
    "                                                    test_size=0.2)"
   ],
   "metadata": {
    "collapsed": false,
    "ExecuteTime": {
     "end_time": "2023-11-07T14:48:50.471456Z",
     "start_time": "2023-11-07T14:48:50.312679Z"
    }
   }
  },
  {
   "cell_type": "markdown",
   "source": [
    "To train a SVM regressor, we can use the SVR class from the sklearn.svm module. Furthermore, we can use the GridSearchCV class to perform a grid search to find the best parameters for the SVR model."
   ],
   "metadata": {
    "collapsed": false
   }
  },
  {
   "cell_type": "code",
   "execution_count": 11,
   "outputs": [],
   "source": [
    "from sklearn.svm import SVR\n",
    "from sklearn.model_selection import GridSearchCV\n",
    "\n",
    "def create_model_with_GSCV(X_train, y_train):\n",
    "    grid_search_parameters = [\n",
    "        {'kernel': ['linear'], 'C': [10**i for i in range(-2, 3)]},\n",
    "        {'kernel': ['rbf'], 'C': [10**i for i in range(-2, 3)], 'gamma': [10**i for i in range(-2, 3)]},\n",
    "        {'kernel': ['poly'], 'C': [10**i for i in range(-2, 3)], 'degree': [2]}\n",
    "    ]\n",
    "    \n",
    "    # create the model\n",
    "    svr = SVR()\n",
    "    \n",
    "    # create grid search and fit it to the training data\n",
    "    gs_model = GridSearchCV(estimator=svr,\n",
    "                            param_grid=grid_search_parameters,\n",
    "                            cv=5,\n",
    "                            n_jobs=-1,\n",
    "                            verbose=1).fit(X_train, y_train)\n",
    "    return gs_model"
   ],
   "metadata": {
    "collapsed": false,
    "ExecuteTime": {
     "end_time": "2023-11-07T14:48:50.476308Z",
     "start_time": "2023-11-07T14:48:50.319527Z"
    }
   }
  },
  {
   "cell_type": "code",
   "execution_count": null,
   "outputs": [
    {
     "name": "stdout",
     "output_type": "stream",
     "text": [
      "Fitting 5 folds for each of 35 candidates, totalling 175 fits\n"
     ]
    }
   ],
   "source": [
    "gdcv_model = create_model_with_GSCV(X_train, y_train)"
   ],
   "metadata": {
    "collapsed": false,
    "is_executing": true,
    "ExecuteTime": {
     "start_time": "2023-11-07T14:48:50.323566Z"
    }
   }
  },
  {
   "cell_type": "markdown",
   "source": [
    "The best parameters and score can be obtained as follows:"
   ],
   "metadata": {
    "collapsed": false
   }
  },
  {
   "cell_type": "code",
   "execution_count": null,
   "outputs": [],
   "source": [
    "gdcv_model.best_params_"
   ],
   "metadata": {
    "collapsed": false,
    "is_executing": true
   }
  },
  {
   "cell_type": "code",
   "execution_count": null,
   "outputs": [],
   "source": [
    "gdcv_model.best_score_ "
   ],
   "metadata": {
    "collapsed": false,
    "is_executing": true
   }
  },
  {
   "cell_type": "markdown",
   "source": [
    "Note that refit is by default=True, which means that the GridSearchCV will refit an estimator using the best found parameters on the whole dataset. And the best estimator can be obtained as follows:"
   ],
   "metadata": {
    "collapsed": false
   }
  },
  {
   "cell_type": "code",
   "execution_count": null,
   "outputs": [],
   "source": [
    "model = gdcv_model.best_estimator_"
   ],
   "metadata": {
    "collapsed": false,
    "is_executing": true
   }
  },
  {
   "cell_type": "markdown",
   "source": [
    "Over the test set, we can obtain the score as follows, which somehow indicates how well the model generalizes."
   ],
   "metadata": {
    "collapsed": false
   }
  },
  {
   "cell_type": "code",
   "execution_count": null,
   "outputs": [],
   "source": [
    "model.score(X_test, y_test)"
   ],
   "metadata": {
    "collapsed": false,
    "is_executing": true
   }
  },
  {
   "cell_type": "markdown",
   "source": [
    "We can make predictions over the test set as follows and compare the predicted values with the actual values, by plotting them. On a prefect regression, the points would be on the diagonal."
   ],
   "metadata": {
    "collapsed": false
   }
  },
  {
   "cell_type": "code",
   "execution_count": null,
   "outputs": [],
   "source": [
    "import matplotlib.pyplot as plt\n",
    "\n",
    "# make predictions over the test set\n",
    "pred = model.predict(X_test)\n",
    "\n",
    "# plot pred vs actual\n",
    "plt.figure(figsize=(10,10))\n",
    "plt.plot(y_test.values, pred, c='g', marker='o', linestyle='None')\n",
    "plt.plot([0,3500], [0, 3500], c='r')\n",
    "plt.xlabel(\"Actual\")\n",
    "plt.ylabel(\"Predicted\")\n",
    "plt.title(\"Actual vs Predicted\")\n"
   ],
   "metadata": {
    "collapsed": false,
    "is_executing": true
   }
  }
 ],
 "metadata": {
  "kernelspec": {
   "display_name": "Python 3 (ipykernel)",
   "language": "python",
   "name": "python3"
  },
  "language_info": {
   "codemirror_mode": {
    "name": "ipython",
    "version": 3
   },
   "file_extension": ".py",
   "mimetype": "text/x-python",
   "name": "python",
   "nbconvert_exporter": "python",
   "pygments_lexer": "ipython3",
   "version": "3.10.6"
  },
  "nbTranslate": {
   "displayLangs": [
    "*"
   ],
   "hotkey": "alt-t",
   "langInMainMenu": true,
   "sourceLang": "en",
   "targetLang": "fr",
   "useGoogleTranslate": true
  },
  "toc": {
   "base_numbering": 1,
   "nav_menu": {},
   "number_sections": true,
   "sideBar": true,
   "skip_h1_title": false,
   "title_cell": "Table of Contents",
   "title_sidebar": "Contents",
   "toc_cell": false,
   "toc_position": {},
   "toc_section_display": true,
   "toc_window_display": false
  },
  "varInspector": {
   "cols": {
    "lenName": 16,
    "lenType": 16,
    "lenVar": 40
   },
   "kernels_config": {
    "python": {
     "delete_cmd_postfix": "",
     "delete_cmd_prefix": "del ",
     "library": "var_list.py",
     "varRefreshCmd": "print(var_dic_list())"
    },
    "r": {
     "delete_cmd_postfix": ") ",
     "delete_cmd_prefix": "rm(",
     "library": "var_list.r",
     "varRefreshCmd": "cat(var_dic_list()) "
    }
   },
   "types_to_exclude": [
    "module",
    "function",
    "builtin_function_or_method",
    "instance",
    "_Feature"
   ],
   "window_display": false
  }
 },
 "nbformat": 4,
 "nbformat_minor": 4
}
