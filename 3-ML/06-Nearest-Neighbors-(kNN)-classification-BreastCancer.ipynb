{
 "cells": [
  {
   "cell_type": "markdown",
   "metadata": {},
   "source": [
    "# $k$-Nearest Neighbors (kNN): Classification - Breast Cancer"
   ]
  },
  {
   "cell_type": "code",
   "execution_count": null,
   "metadata": {
    "ExecuteTime": {
     "end_time": "2019-05-02T13:09:36.763055Z",
     "start_time": "2019-05-02T13:09:21.301288Z"
    }
   },
   "outputs": [],
   "source": [
    "#!pip3 install mglearn\n",
    "\n",
    "from sklearn.datasets import load_breast_cancer\n",
    "from sklearn.model_selection import train_test_split\n",
    "from sklearn.neighbors import KNeighborsClassifier\n",
    "\n",
    "\n",
    "import matplotlib.pyplot as plt\n",
    "import mglearn.plots\n",
    "# from mglearn.datasets import make_wave\n",
    "import numpy as np\n",
    "\n",
    "np.random.seed(1)\n"
   ]
  },
  {
   "cell_type": "markdown",
   "metadata": {
    "ExecuteTime": {
     "end_time": "2018-04-19T09:44:19.347007Z",
     "start_time": "2018-04-19T09:44:19.331984Z"
    }
   },
   "source": [
    "## Load data\n",
    "\n",
    "Let us start by loading data"
   ]
  },
  {
   "cell_type": "code",
   "execution_count": null,
   "metadata": {
    "ExecuteTime": {
     "end_time": "2019-05-02T13:09:36.813985Z",
     "start_time": "2019-05-02T13:09:36.766028Z"
    }
   },
   "outputs": [],
   "source": [
    "cancer = load_breast_cancer()\n",
    "print(cancer.DESCR)"
   ]
  },
  {
   "cell_type": "code",
   "execution_count": null,
   "metadata": {
    "ExecuteTime": {
     "end_time": "2019-05-02T13:09:36.882161Z",
     "start_time": "2019-05-02T13:09:36.814976Z"
    }
   },
   "outputs": [],
   "source": [
    "cancer.feature_names"
   ]
  },
  {
   "cell_type": "code",
   "execution_count": null,
   "metadata": {
    "ExecuteTime": {
     "end_time": "2019-05-02T13:09:37.000234Z",
     "start_time": "2019-05-02T13:09:36.884148Z"
    }
   },
   "outputs": [],
   "source": [
    "cancer.target_names"
   ]
  },
  {
   "cell_type": "markdown",
   "metadata": {},
   "source": [
    "Let us split the data in training and test data\n",
    "(https://scikit-learn.org/stable/modules/generated/sklearn.model_selection.train_test_split.html)"
   ]
  },
  {
   "cell_type": "code",
   "execution_count": null,
   "metadata": {
    "ExecuteTime": {
     "end_time": "2019-05-02T13:09:37.137358Z",
     "start_time": "2019-05-02T13:09:37.014214Z"
    }
   },
   "outputs": [],
   "source": [
    "X_train, X_test, y_train, y_test = train_test_split(\n",
    "    cancer.data, \n",
    "    cancer.target,\n",
    "    stratify=cancer.target,\n",
    "    shuffle=True\n",
    ")\n",
    "print(f\"Train shape: {X_train.shape} \\nTest shape: {X_test.shape}\")"
   ]
  },
  {
   "cell_type": "markdown",
   "metadata": {},
   "source": [
    "# Train and test\n",
    "\n",
    "Prepare and train the classifier\n",
    "(https://scikit-learn.org/stable/modules/generated/sklearn.neighbors.KNeighborsClassifier.html)"
   ]
  },
  {
   "cell_type": "code",
   "execution_count": null,
   "metadata": {
    "ExecuteTime": {
     "end_time": "2019-05-02T13:09:37.241647Z",
     "start_time": "2019-05-02T13:09:37.140337Z"
    }
   },
   "outputs": [],
   "source": [
    "knc = KNeighborsClassifier(\n",
    "    n_neighbors=3, \n",
    "    p=1 # Minkowski metric\n",
    ").fit(X_train, y_train)"
   ]
  },
  {
   "cell_type": "markdown",
   "metadata": {},
   "source": [
    "do prediction on the test data"
   ]
  },
  {
   "cell_type": "code",
   "execution_count": null,
   "metadata": {
    "ExecuteTime": {
     "end_time": "2019-05-02T13:09:37.372590Z",
     "start_time": "2019-05-02T13:09:37.246643Z"
    }
   },
   "outputs": [],
   "source": [
    "predicted = knc.predict(X_test)\n",
    "predicted"
   ]
  },
  {
   "cell_type": "markdown",
   "metadata": {},
   "source": [
    "which predictions were correct?"
   ]
  },
  {
   "cell_type": "code",
   "execution_count": null,
   "metadata": {
    "ExecuteTime": {
     "end_time": "2019-05-02T13:09:37.465729Z",
     "start_time": "2019-05-02T13:09:37.378554Z"
    }
   },
   "outputs": [],
   "source": [
    "predicted == y_test"
   ]
  },
  {
   "cell_type": "markdown",
   "metadata": {},
   "source": [
    "We can check the models's accuracy (mean accuracy = (TP+TN)/n), meaning the model predicted the class correctly for x% of the samples in the test dataset.\n",
    "(https://scikit-learn.org/stable/modules/generated/sklearn.neighbors.KNeighborsClassifier.html#sklearn.neighbors.KNeighborsClassifier.score)"
   ]
  },
  {
   "cell_type": "code",
   "execution_count": null,
   "metadata": {
    "ExecuteTime": {
     "end_time": "2019-05-02T13:09:37.600089Z",
     "start_time": "2019-05-02T13:09:37.467723Z"
    }
   },
   "outputs": [],
   "source": [
    "knc.score(X_test, y_test)"
   ]
  },
  {
   "cell_type": "markdown",
   "metadata": {},
   "source": [
    "I.e., the accuracy (percentage of correctness) is"
   ]
  },
  {
   "cell_type": "code",
   "execution_count": null,
   "metadata": {},
   "outputs": [],
   "source": [
    "sum(predicted == y_test) / len(predicted)"
   ]
  },
  {
   "cell_type": "markdown",
   "metadata": {},
   "source": [
    "And the predicted probabilities are"
   ]
  },
  {
   "cell_type": "code",
   "execution_count": null,
   "metadata": {},
   "outputs": [],
   "source": [
    "knc.predict_proba(X_test)"
   ]
  },
  {
   "cell_type": "markdown",
   "metadata": {},
   "source": [
    "## Metrics\n",
    "\n",
    "We can also run a full set of metrics"
   ]
  },
  {
   "cell_type": "code",
   "execution_count": null,
   "metadata": {},
   "outputs": [],
   "source": [
    "from sklearn.metrics import accuracy_score, f1_score, confusion_matrix, precision_score, recall_score,  confusion_matrix, classification_report\n",
    "\n",
    "y_pred = predicted"
   ]
  },
  {
   "cell_type": "code",
   "execution_count": null,
   "metadata": {},
   "outputs": [],
   "source": [
    "accuracy_score(y_test, y_pred)"
   ]
  },
  {
   "cell_type": "code",
   "execution_count": null,
   "metadata": {},
   "outputs": [],
   "source": [
    "f1_score(y_test, y_pred)"
   ]
  },
  {
   "cell_type": "code",
   "execution_count": null,
   "metadata": {},
   "outputs": [],
   "source": [
    "confusion_matrix(y_test, y_pred)"
   ]
  },
  {
   "cell_type": "code",
   "execution_count": null,
   "metadata": {},
   "outputs": [],
   "source": [
    "precision_score(y_test, y_pred)"
   ]
  },
  {
   "cell_type": "code",
   "execution_count": null,
   "metadata": {},
   "outputs": [],
   "source": [
    "recall_score(y_test, y_pred)"
   ]
  },
  {
   "cell_type": "code",
   "execution_count": null,
   "metadata": {},
   "outputs": [],
   "source": [
    "print(classification_report(y_test, y_pred))"
   ]
  },
  {
   "cell_type": "markdown",
   "metadata": {},
   "source": [
    "# Plot some projections\n",
    "We can also do some plots, but this data as more than 2 dimensions... lets plot some projections "
   ]
  },
  {
   "cell_type": "code",
   "execution_count": null,
   "metadata": {
    "ExecuteTime": {
     "end_time": "2019-05-02T13:09:38.853014Z",
     "start_time": "2019-05-02T13:09:37.603085Z"
    }
   },
   "outputs": [],
   "source": [
    "fig = plt.figure(figsize=(30, 30))\n",
    "\n",
    "n_components = 6\n",
    "\n",
    "for i in range(n_components):\n",
    "    for j in range(n_components):\n",
    "        if i < j: \n",
    "            # get an \"ax\"\n",
    "            ax = fig.add_subplot(n_components, n_components, (i * n_components) + j + 1) \n",
    "            \n",
    "            # get the indeces of the 'malignant' / 'benign'\n",
    "            idx_cl_1 = (y_test == 0).nonzero()\n",
    "            idx_cl_2 = (y_test == 1).nonzero()\n",
    "            \n",
    "            # see which ones where correctly predicted\n",
    "            idx_falses = (~(y_test == predicted)).nonzero()\n",
    "            \n",
    "            # and do the plot on the ax\n",
    "            ax.scatter(X_test[idx_cl_1, i], X_test[idx_cl_1, j], marker='8', s=50, label='class 1')\n",
    "            ax.scatter(X_test[idx_cl_2, i], X_test[idx_cl_2, j], marker='8', s=50, label='class 2')\n",
    "            ax.scatter(X_test[idx_falses, i], X_test[idx_falses, j], marker='*', s=50, c='r', label='wrong!')\n",
    "            ax.legend()\n",
    "            ax.set_xlabel(cancer.feature_names[i])\n",
    "            ax.set_ylabel(cancer.feature_names[j])\n",
    "        \n",
    "            # ax.legend()\n",
    "plt.show()"
   ]
  },
  {
   "cell_type": "markdown",
   "metadata": {},
   "source": [
    "# Knn analysis using part of the features"
   ]
  },
  {
   "cell_type": "code",
   "execution_count": null,
   "metadata": {
    "ExecuteTime": {
     "end_time": "2019-05-02T13:09:56.096406Z",
     "start_time": "2019-05-02T13:09:38.854012Z"
    }
   },
   "outputs": [],
   "source": [
    "n_components = 6\n",
    "\n",
    "fig = plt.figure(figsize=(30, 30))\n",
    "\n",
    "for i in range(n_components):\n",
    "    for j in range(n_components):\n",
    "        if i < j: \n",
    "            # get an ax\n",
    "            ax = fig.add_subplot(n_components, n_components, (i * n_components) + j + 1) \n",
    "            \n",
    "            # get i and j features\n",
    "            partial_x_train = X_train[:, (i, j)]\n",
    "            \n",
    "            # train a knn model with those features, k=5\n",
    "            knc = KNeighborsClassifier(n_neighbors=5).fit(partial_x_train, y_train)\n",
    "            \n",
    "            # plot \"knn separator\", using the (parcial) train data\n",
    "            mglearn.plots.plot_2d_separator(knc, partial_x_train, fill=True, eps=0.5, alpha=.4)\n",
    "\n",
    "            # predict unseen data\n",
    "            predicted = knc.predict(X_test[:, (i,j)])\n",
    "            \n",
    "            # and now do predictions and plots for the test data\n",
    "            ## get indices for 'malignant' / 'benign' / wrongly predicted\n",
    "            idx_cl_1 = (y_test==0).nonzero()\n",
    "            idx_cl_2 = (y_test==1).nonzero()\n",
    "            idx_falses = (~(y_test==predicted)).nonzero()\n",
    "\n",
    "            ax.scatter(X_test[idx_cl_1, i], X_test[idx_cl_1, j], marker='8', s=50, label='class 1')\n",
    "            ax.scatter(X_test[idx_cl_2, i], X_test[idx_cl_2, j], marker='8', s=50, label='class 2')\n",
    "            ax.scatter(X_test[idx_falses, i], X_test[idx_falses, j], marker='*', s=50, c='r', label='wrong!')\n",
    "            \n",
    "            ax.legend()\n",
    "            ax.set_xlabel(cancer.feature_names[i])\n",
    "            ax.set_ylabel(cancer.feature_names[j])\n",
    "\n",
    "        # ax.legend()\n",
    "plt.show()\n"
   ]
  },
  {
   "cell_type": "markdown",
   "metadata": {},
   "source": [
    "# Test the number of neighbors effect \n",
    "\n",
    "Let’s investigate whether we can confirm the connection between model complexity and generalization that we discussed above.\n",
    "We will do this on the real world breast cancer dataset.\n",
    "We begin by splitting the dataset into a training and a test set. Then we will evaluate training and test set performance with different numbers of neighbors."
   ]
  },
  {
   "cell_type": "code",
   "execution_count": null,
   "metadata": {
    "ExecuteTime": {
     "end_time": "2019-05-02T13:09:57.046453Z",
     "start_time": "2019-05-02T13:09:56.097404Z"
    }
   },
   "outputs": [],
   "source": [
    "scores_train = []\n",
    "scores_test = []\n",
    "\n",
    "list_ks = range(1, 30)\n",
    "\n",
    "#compute the train and test scores\n",
    "for k in list_ks:\n",
    "    knc = KNeighborsClassifier(n_neighbors=k).fit(X_train, y_train)\n",
    "    scores_train.append(knc.score(X_train, y_train))\n",
    "    scores_test.append(knc.score(X_test, y_test))\n",
    "    \n",
    "fig = plt.figure(figsize=(15,5))\n",
    "ax = fig.add_subplot(111)\n",
    "ax.plot(list_ks, scores_train, label='train')\n",
    "ax.plot(list_ks, scores_test, label='test')\n",
    "ax.legend()\n",
    "plt.ylabel('accuracy (TP + TN) / n')\n",
    "plt.xlabel('n_neighbors')\n",
    "\n",
    "plt.show()"
   ]
  },
  {
   "cell_type": "code",
   "execution_count": null,
   "metadata": {},
   "outputs": [],
   "source": []
  }
 ],
 "metadata": {
  "kernelspec": {
   "display_name": "Python 3 (ipykernel)",
   "language": "python",
   "name": "python3"
  },
  "language_info": {
   "codemirror_mode": {
    "name": "ipython",
    "version": 3
   },
   "file_extension": ".py",
   "mimetype": "text/x-python",
   "name": "python",
   "nbconvert_exporter": "python",
   "pygments_lexer": "ipython3",
   "version": "3.10.6"
  },
  "nbTranslate": {
   "displayLangs": [
    "*"
   ],
   "hotkey": "alt-t",
   "langInMainMenu": true,
   "sourceLang": "en",
   "targetLang": "fr",
   "useGoogleTranslate": true
  },
  "toc": {
   "base_numbering": 1,
   "nav_menu": {
    "height": "277px",
    "width": "344px"
   },
   "number_sections": true,
   "sideBar": true,
   "skip_h1_title": false,
   "title_cell": "Table of Contents",
   "title_sidebar": "Contents",
   "toc_cell": false,
   "toc_position": {},
   "toc_section_display": true,
   "toc_window_display": false
  },
  "varInspector": {
   "cols": {
    "lenName": 16,
    "lenType": 16,
    "lenVar": 40
   },
   "kernels_config": {
    "python": {
     "delete_cmd_postfix": "",
     "delete_cmd_prefix": "del ",
     "library": "var_list.py",
     "varRefreshCmd": "print(var_dic_list())"
    },
    "r": {
     "delete_cmd_postfix": ") ",
     "delete_cmd_prefix": "rm(",
     "library": "var_list.r",
     "varRefreshCmd": "cat(var_dic_list()) "
    }
   },
   "types_to_exclude": [
    "module",
    "function",
    "builtin_function_or_method",
    "instance",
    "_Feature"
   ],
   "window_display": false
  }
 },
 "nbformat": 4,
 "nbformat_minor": 4
}
