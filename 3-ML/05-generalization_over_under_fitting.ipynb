{
 "cells": [
  {
   "cell_type": "markdown",
   "metadata": {},
   "source": [
    "# Generalization, underfitting and overfitting\n",
    "\n",
    "Let us see some cases of \"good\" generalization, underfitting and overfitting\n",
    "\n",
    "## Classification"
   ]
  },
  {
   "cell_type": "code",
   "execution_count": null,
   "metadata": {
    "ExecuteTime": {
     "end_time": "2022-05-09T16:52:36.621778Z",
     "start_time": "2022-05-09T16:52:36.615241Z"
    }
   },
   "outputs": [],
   "source": [
    "import pandas as pd\n",
    "import numpy as np\n",
    "import matplotlib.pyplot as plt\n",
    "from math import cos\n",
    "\n",
    "from sklearn.ensemble import RandomForestClassifier\n",
    "#  from sklearn.linear_model import LogisticRegression\n",
    "from sklearn.gaussian_process import GaussianProcessClassifier\n",
    "from sklearn.preprocessing import PolynomialFeatures\n",
    "from sklearn.linear_model import LinearRegression\n",
    "\n",
    "from sklearn.pipeline import Pipeline\n",
    "# from sklearn.model_selection import cross_val_score\n",
    "\n",
    "# fix seed so we can replicate ours experiments\n",
    "np.random.seed(1)"
   ]
  },
  {
   "cell_type": "code",
   "execution_count": null,
   "metadata": {
    "ExecuteTime": {
     "end_time": "2022-05-09T16:52:37.130927Z",
     "start_time": "2022-05-09T16:52:37.126060Z"
    }
   },
   "outputs": [],
   "source": [
    "# number of points\n",
    "N = 250 \n",
    "\n",
    "# bounding box for data\n",
    "a, b = -6, 6\n",
    "\n",
    "def f(x):\n",
    "    return 4 * cos(x) "
   ]
  },
  {
   "cell_type": "code",
   "execution_count": null,
   "metadata": {
    "ExecuteTime": {
     "end_time": "2022-05-09T16:52:37.624151Z",
     "start_time": "2022-05-09T16:52:37.609224Z"
    }
   },
   "outputs": [],
   "source": [
    "xx = []\n",
    "yy = []\n",
    "lable_int = []\n",
    "lable_color = []\n",
    "\n",
    "for k in range(N):\n",
    "    # generate a point\n",
    "    x = np.random.uniform(a, b)\n",
    "    y = np.random.uniform(a, b)\n",
    "    \n",
    "    # set point's color\n",
    "    l1 = ['b','r'][int((f(x) < y))]\n",
    "    l2 = int((f(x) < y))\n",
    "    lable_int.append(l2)\n",
    "    lable_color.append(l1)\n",
    "    \n",
    "    # \"size\" of the noise\n",
    "    r = 2.\n",
    "    \n",
    "    # add the point to the points lists (xx and yy) but add some noise to the x and y values\n",
    "    xx.append(x + (r * np.random.rand() - r/2.0))\n",
    "    yy.append(y + (r * np.random.rand() - r/2.0))\n",
    "    \n",
    "\n",
    "df = pd.DataFrame()\n",
    "df['x'] = np.array(xx, dtype=float)\n",
    "df['y'] = np.array(yy, dtype=float)\n",
    "df['label_int'] = np.array(lable_int)\n",
    "df['label_color'] = np.array(lable_color)\n",
    "\n",
    "df.head(10)"
   ]
  },
  {
   "cell_type": "code",
   "execution_count": null,
   "metadata": {
    "ExecuteTime": {
     "end_time": "2022-05-09T16:52:38.190479Z",
     "start_time": "2022-05-09T16:52:38.054656Z"
    }
   },
   "outputs": [],
   "source": [
    "df.plot.scatter(x='x', y='y', c=df['label_color'], figsize=(15, 15))"
   ]
  },
  {
   "cell_type": "code",
   "execution_count": null,
   "metadata": {
    "ExecuteTime": {
     "end_time": "2022-05-09T16:52:38.644324Z",
     "start_time": "2022-05-09T16:52:38.636352Z"
    }
   },
   "outputs": [],
   "source": [
    "def make_meshgrid(x, y, h=.05):\n",
    "    \"\"\"Create a mesh of points to plot in\n",
    "\n",
    "    Parameters\n",
    "    ----------\n",
    "    x: data to base x-axis meshgrid on\n",
    "    y: data to base y-axis meshgrid on\n",
    "    h: stepsize for meshgrid, optional\n",
    "\n",
    "    Returns\n",
    "    -------\n",
    "    xx, yy : ndarray\n",
    "    \"\"\"\n",
    "    x_min, x_max = x.min() - 1, x.max() + 1\n",
    "    y_min, y_max = y.min() - 1, y.max() + 1\n",
    "    xx, yy = np.meshgrid(np.arange(x_min, x_max, h),\n",
    "                         np.arange(y_min, y_max, h))\n",
    "    return xx, yy\n",
    "\n",
    "\n",
    "def plot_contours(ax, clf, xx, yy, **params):\n",
    "    \"\"\"Plot the decision boundaries for a classifier.\n",
    "\n",
    "    Parameters\n",
    "    ----------\n",
    "    ax: matplotlib axes object\n",
    "    clf: a classifier\n",
    "    xx: meshgrid ndarray\n",
    "    yy: meshgrid ndarray\n",
    "    params: dictionary of params to pass to contourf, optional\n",
    "    \"\"\"\n",
    "    Z = clf.predict(np.c_[xx.ravel(), yy.ravel()])\n",
    "    # print(np.c_[xx.ravel(), yy.ravel()])\n",
    "    Z = Z.reshape(xx.shape)\n",
    "    # print(Z)\n",
    "    out = ax.contourf(xx, yy, Z, **params)\n",
    "    return out\n"
   ]
  },
  {
   "cell_type": "code",
   "execution_count": null,
   "metadata": {
    "ExecuteTime": {
     "end_time": "2022-05-09T16:52:44.688368Z",
     "start_time": "2022-05-09T16:52:39.223856Z"
    },
    "scrolled": false
   },
   "outputs": [],
   "source": [
    "# title for the plots\n",
    "titles = (\"Underfitting\", '\"just right\"?', \"Overfitting?\")\n",
    "\n",
    "# Set-up 1x3 grid for plotting.\n",
    "fig, sub = plt.subplots(1, 3, figsize=(45, 15))\n",
    "# plt.subplots_adjust(wspace=0.4, hspace=0.4)\n",
    "\n",
    "# after a \"lot of test\", I came with these classifiers. Don't worry with this, for now!\n",
    "models = (\n",
    "    RandomForestClassifier(random_state=1, n_estimators=1, max_depth=2),\n",
    "    GaussianProcessClassifier(random_state=1, max_iter_predict=10),\n",
    "    RandomForestClassifier(random_state=1, n_estimators=1000, max_depth=1000),\n",
    ")\n",
    "\n",
    "X = df[['x', 'y']].values\n",
    "y = df[['label_int']].values[:, 0]\n",
    "models = (clf.fit(X, y) for clf in models)\n",
    "\n",
    "X0, X1 = X[:, 0], X[:, 1]\n",
    "xx, yy = make_meshgrid(X0, X1)\n",
    "c = df[['label_color']].values[:, 0]\n",
    "\n",
    "for clf, title, ax in zip(models, titles, sub.flatten()):\n",
    "    plot_contours(ax, clf, xx, yy, cmap=plt.cm.coolwarm, alpha=0.4, levels=1)\n",
    "    ax.scatter(X0, X1, c=c, s=100, edgecolors='k', marker='x')\n",
    "    ax.set_xlim(xx.min(), xx.max())\n",
    "    ax.set_ylim(yy.min(), yy.max())\n",
    "    ax.set_title(title, fontsize=36)\n",
    "\n",
    "plt.show()"
   ]
  },
  {
   "cell_type": "markdown",
   "metadata": {},
   "source": [
    "# Regression\n",
    "\n",
    "We can do an analogous example with regression\n",
    "\n",
    "(Adaptado de https://scikit-learn.org/stable/auto_examples/model_selection/plot_underfitting_overfitting.html#sphx-glr-auto-examples-model-selection-plot-underfitting-overfitting-py)"
   ]
  },
  {
   "cell_type": "code",
   "execution_count": null,
   "metadata": {
    "ExecuteTime": {
     "end_time": "2022-05-09T16:51:28.317258Z",
     "start_time": "2022-05-09T16:51:28.310966Z"
    }
   },
   "outputs": [],
   "source": [
    "def true_fun(X):\n",
    "    return np.cos(1.5 * np.pi * X)\n",
    "\n",
    "n_samples = 30\n",
    "degrees = [1, 4, 99]\n",
    "\n",
    "# random set of values between 0 and 1\n",
    "X = np.sort(np.random.rand(n_samples))\n",
    "# y values, with some noise\n",
    "y = true_fun(X) + np.random.randn(n_samples) * 0.1\n",
    "\n",
    "print(X)\n",
    "print(y)"
   ]
  },
  {
   "cell_type": "code",
   "execution_count": null,
   "metadata": {
    "ExecuteTime": {
     "end_time": "2022-05-09T16:51:43.239086Z",
     "start_time": "2022-05-09T16:51:42.369526Z"
    }
   },
   "outputs": [],
   "source": [
    "plt.figure(figsize=(45, 15))\n",
    "\n",
    "for i in range(len(degrees)):\n",
    "    ax = plt.subplot(1, len(degrees), i + 1)\n",
    "    plt.setp(ax, xticks=(), yticks=())\n",
    "\n",
    "    polynomial_features = PolynomialFeatures(degree=degrees[i],\n",
    "                                             include_bias=False)\n",
    "    linear_regression = LinearRegression()\n",
    "    pipeline = Pipeline([(\"polynomial_features\", polynomial_features),\n",
    "                         (\"linear_regression\", linear_regression)])\n",
    "    pipeline.fit(X[:, np.newaxis], y)\n",
    "\n",
    "    # plot the training data\n",
    "    plt.scatter(X, y, edgecolor='b', s=100, label=\"Samples\")\n",
    "    # plot the prediction\n",
    "    X_test = np.linspace(0, 1, 100)\n",
    "    plt.plot(X_test, pipeline.predict(X_test[:, np.newaxis]), label=\"Model\")\n",
    "    \n",
    "    plt.xlabel(\"x\", fontsize=30)\n",
    "    plt.ylabel(\"y\", fontsize=30)\n",
    "    plt.xlim((0, 1))\n",
    "    plt.ylim((-1.5, 1.5))\n",
    "    plt.legend(loc=\"best\", fontsize=30)\n",
    "    plt.title((\"Underfitting\", '\"just right\"', \"Overfitting\")[i], fontsize=40)\n"
   ]
  },
  {
   "cell_type": "code",
   "execution_count": null,
   "metadata": {},
   "outputs": [],
   "source": []
  }
 ],
 "metadata": {
  "kernelspec": {
   "display_name": "Python 3 (ipykernel)",
   "language": "python",
   "name": "python3"
  },
  "language_info": {
   "codemirror_mode": {
    "name": "ipython",
    "version": 3
   },
   "file_extension": ".py",
   "mimetype": "text/x-python",
   "name": "python",
   "nbconvert_exporter": "python",
   "pygments_lexer": "ipython3",
   "version": "3.8.10"
  },
  "latex_envs": {
   "LaTeX_envs_menu_present": true,
   "autoclose": true,
   "autocomplete": true,
   "bibliofile": "references.bib",
   "cite_by": "apalike",
   "current_citInitial": 1,
   "eqLabelWithNumbers": false,
   "eqNumInitial": 1,
   "hotkeys": {
    "equation": "Ctrl-E",
    "itemize": "Ctrl-I"
   },
   "labels_anchors": false,
   "latex_user_defs": false,
   "report_style_numbering": true,
   "user_envs_cfg": false
  },
  "nbTranslate": {
   "displayLangs": [
    "*"
   ],
   "hotkey": "alt-t",
   "langInMainMenu": true,
   "sourceLang": "en",
   "targetLang": "fr",
   "useGoogleTranslate": true
  },
  "toc": {
   "base_numbering": 1,
   "nav_menu": {},
   "number_sections": true,
   "sideBar": true,
   "skip_h1_title": false,
   "title_cell": "Table of Contents",
   "title_sidebar": "Contents",
   "toc_cell": false,
   "toc_position": {},
   "toc_section_display": true,
   "toc_window_display": false
  },
  "varInspector": {
   "cols": {
    "lenName": 16,
    "lenType": 16,
    "lenVar": 40
   },
   "kernels_config": {
    "python": {
     "delete_cmd_postfix": "",
     "delete_cmd_prefix": "del ",
     "library": "var_list.py",
     "varRefreshCmd": "print(var_dic_list())"
    },
    "r": {
     "delete_cmd_postfix": ") ",
     "delete_cmd_prefix": "rm(",
     "library": "var_list.r",
     "varRefreshCmd": "cat(var_dic_list()) "
    }
   },
   "types_to_exclude": [
    "module",
    "function",
    "builtin_function_or_method",
    "instance",
    "_Feature"
   ],
   "window_display": false
  }
 },
 "nbformat": 4,
 "nbformat_minor": 2
}
