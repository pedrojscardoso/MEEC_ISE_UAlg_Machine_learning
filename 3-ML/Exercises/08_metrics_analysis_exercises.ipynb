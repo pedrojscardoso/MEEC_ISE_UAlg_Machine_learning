{
 "cells": [
  {
   "cell_type": "markdown",
   "source": [
    "___\n",
    "<h1> Machine Learning </h1>\n",
    "<h2> M. Sc. in Electrical and Computer Engineering </h2>\n",
    "<h3> Instituto Superior de Engenharia / Universidade do Algarve </h3>\n",
    "\n",
    "[MEEC](https://ise.ualg.pt/en/curso/1477) / [ISE](https://ise.ualg.pt) / [UAlg](https://www.ualg.pt)\n",
    "\n",
    "Pedro J. S. Cardoso (pcardoso@ualg.pt)\n",
    "___"
   ],
   "metadata": {
    "collapsed": false
   }
  },
  {
   "cell_type": "markdown",
   "source": [
    "# Classification metrics exercises"
   ],
   "metadata": {
    "collapsed": false
   }
  },
  {
   "cell_type": "markdown",
   "source": [
    "##  Exercise 1\n",
    "\n",
    "Without using the `sklearn.metrics` module, or other library, compute the following metrics:\n",
    "- accuracy\n",
    "- precision\n",
    "- recall\n",
    "- f1-score\n",
    "- confusion matrix\n",
    "- classification report\n",
    "- plot the confusion matrix\n",
    "\n",
    "for the following predictions and targets:\n",
    "\n",
    "```python\n",
    "predictions = [1, 1, 0, 1, 0, 0, 1, 0, 0, 1]\n",
    "targets = [1, 0, 0, 1, 0, 1, 1, 1, 0, 0]\n",
    "```"
   ],
   "metadata": {
    "collapsed": false
   }
  },
  {
   "cell_type": "code",
   "execution_count": null,
   "outputs": [],
   "source": [],
   "metadata": {
    "collapsed": false,
    "ExecuteTime": {
     "end_time": "2023-09-28T09:57:02.522634Z",
     "start_time": "2023-09-28T09:57:02.512837Z"
    }
   }
  },
  {
   "cell_type": "markdown",
   "source": [
    "## Exercise 2\n",
    "\n",
    "Let y be the target values and y1 and y2 the predictions of two different models, where:\n",
    "\n",
    "```python\n",
    "y = [1, 1, 0, 1, 0, 0, 1, 0, 0, 1]\n",
    "y1 = [1, 0, 0, 1, 0, 1, 1, 1, 0, 0]\n",
    "y2 = [1, 1, 0, 1, 0, 0, 1, 0, 0, 0]\n",
    "```\n",
    "\n",
    "1. Which model is better? Why?\n",
    "2. What if 1 is having a contagious disease and 0 is not having the disease?\n",
    "3. What if 1 is a spam email and 0 is a non-spam email?\n",
    "4. What if 1 is a fraudulent transaction and 0 is a non-fraudulent transaction?\n",
    "5. What if 1 is a cancer patient and 0 is a non-cancer patient?\n",
    "6. What if 1 is a relevant document and 0 is a non-relevant document?\n",
    "\n"
   ],
   "metadata": {
    "collapsed": false
   }
  },
  {
   "cell_type": "code",
   "execution_count": null,
   "outputs": [],
   "source": [],
   "metadata": {
    "collapsed": false,
    "ExecuteTime": {
     "end_time": "2023-09-28T09:57:03.905409Z",
     "start_time": "2023-09-28T09:57:03.901939Z"
    }
   }
  },
  {
   "cell_type": "markdown",
   "source": [
    "## Exercise 3\n",
    "\n",
    "Change the KNN model to use 5 and 15 neighbors and evaluate the model using the metrics from the previous exercise. Take a look at the classification report and confusion matrix. What do you notice? Which model is better? Why?"
   ],
   "metadata": {
    "collapsed": false
   }
  },
  {
   "cell_type": "code",
   "execution_count": null,
   "outputs": [],
   "source": [],
   "metadata": {
    "collapsed": false
   }
  }
 ],
 "metadata": {
  "kernelspec": {
   "display_name": "Python 3",
   "language": "python",
   "name": "python3"
  },
  "language_info": {
   "codemirror_mode": {
    "name": "ipython",
    "version": 2
   },
   "file_extension": ".py",
   "mimetype": "text/x-python",
   "name": "python",
   "nbconvert_exporter": "python",
   "pygments_lexer": "ipython2",
   "version": "2.7.6"
  }
 },
 "nbformat": 4,
 "nbformat_minor": 0
}
