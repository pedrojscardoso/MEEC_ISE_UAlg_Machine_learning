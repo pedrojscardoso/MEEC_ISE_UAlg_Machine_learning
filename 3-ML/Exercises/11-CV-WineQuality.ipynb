{
 "cells": [
  {
   "cell_type": "markdown",
   "source": [
    "___\n",
    "<h1> Machine Learning </h1>\n",
    "<h2> M. Sc. in Electrical and Computer Engineering </h2>\n",
    "<h3> Instituto Superior de Engenharia / Universidade do Algarve </h3>\n",
    "\n",
    "[MEEC](https://ise.ualg.pt/en/curso/1477) / [ISE](https://ise.ualg.pt) / [UAlg](https://www.ualg.pt)\n",
    "\n",
    "Pedro J. S. Cardoso (pcardoso@ualg.pt)\n",
    "___"
   ],
   "metadata": {
    "collapsed": false
   }
  },
  {
   "cell_type": "markdown",
   "metadata": {},
   "source": [
    "# CV analysis\n",
    "\n",
    "This notebook present some sketches on the use of CV to help in the fine tunning of regression and classification methods. Data belongs to the Wine Quality Data Set (https://archive.ics.uci.edu/ml/datasets/Wine+Quality) which can be viewed as classification or regression tasks. \n"
   ]
  },
  {
   "cell_type": "code",
   "execution_count": null,
   "metadata": {},
   "outputs": [],
   "source": [
    "from sklearn.model_selection import cross_val_score\n",
    "from sklearn.model_selection import cross_val_predict\n",
    "\n",
    "from sklearn.linear_model import LogisticRegression\n",
    "from sklearn.linear_model import Lasso\n",
    "\n",
    "import pandas as pd\n",
    "import matplotlib.pyplot as plt\n",
    "import numpy as np"
   ]
  },
  {
   "cell_type": "code",
   "execution_count": null,
   "metadata": {},
   "outputs": [],
   "source": [
    "data = pd.read_csv('https://archive.ics.uci.edu/ml/machine-learning-databases/wine-quality/winequality-white.csv', sep=';')"
   ]
  },
  {
   "cell_type": "code",
   "execution_count": null,
   "metadata": {},
   "outputs": [],
   "source": [
    "features = data.columns[:-1]\n",
    "target = data.columns[-1]\n",
    "X = data[features].values\n",
    "y = data[target].values"
   ]
  },
  {
   "cell_type": "markdown",
   "metadata": {},
   "source": [
    "## Classification problem\n",
    "\n",
    "The problem can be treated as a classification problem. Let us, for example, use Logistic Regression make a cv analyis"
   ]
  },
  {
   "cell_type": "code",
   "execution_count": null,
   "metadata": {
    "scrolled": false
   },
   "outputs": [],
   "source": [
    "for C in (.01, .1, 1, 10, 100):\n",
    "        print(f''' *********************** C = {C}''')\n",
    "        log_reg = LogisticRegression(\n",
    "                                    random_state=1, \n",
    "                                    C=C,\n",
    "                                    multi_class='auto',\n",
    "                                    max_iter=10000\n",
    "                                    )\n",
    "\n",
    "        scores = cross_val_score(estimator=log_reg, # model\n",
    "                                 X=X, y=y, # X, y\n",
    "                                 cv=5,       #number of folds - default 5-fold cross validation (see alternatives in documentation)\n",
    "                                 n_jobs=-1,  # use all CPU\n",
    "                                 verbose=1,   # verbose level \n",
    "                                )\n",
    "\n",
    "        print(f'''scores = {scores} \\n [mean value: {scores.mean()}]''')\n",
    "    "
   ]
  },
  {
   "cell_type": "markdown",
   "metadata": {},
   "source": [
    "## Regression problem\n",
    "\n",
    "The problem can also be treated as a regression problem. Let us, for example, use Lasso and make a cv analyis\n",
    "\n",
    "https://scikit-learn.org/stable/modules/generated/sklearn.linear_model.Lasso.html#sklearn.linear_model.Lasso"
   ]
  },
  {
   "cell_type": "code",
   "execution_count": null,
   "metadata": {
    "run_control": {
     "marked": true
    },
    "scrolled": false
   },
   "outputs": [],
   "source": [
    "for alpha in (.01, .1, 1, 10, 100):\n",
    "    print(f''' *********************** alpha = {alpha} \\t normalize={normalize}''')\n",
    "    estimator = Lasso(alpha=alpha,\n",
    "                      tol=10**-6, \n",
    "                      normalize=False,\n",
    "                      random_state=1)\n",
    "\n",
    "    scores = cross_val_score(estimator=estimator, # model\n",
    "                             X=X, y=y, # X, y\n",
    "                             cv=5,       #number of folds - default 5-fold cross validation (see alternatives in documentation)\n",
    "                             n_jobs=-1,  # use all CPU\n",
    "                             verbose=1,   # verbose level                          \n",
    "                            )\n",
    "    print(f'''scores = {scores} \\n [mean value: {scores.mean()}]''')\n"
   ]
  },
  {
   "cell_type": "code",
   "execution_count": null,
   "metadata": {},
   "outputs": [],
   "source": [
    "estimator = Lasso(alpha=0.01,\n",
    "                          tol=10**-6, \n",
    "                          random_state=1)\n",
    "\n",
    "y_pred = cross_val_predict(estimator=estimator, # model\n",
    "                         X=X, y=y, # X, y\n",
    "                         cv=5,       #number of folds - default 5-fold cross validation (see alternatives in documentation)\n",
    "                         n_jobs=-1,  # use all CPU\n",
    "                         verbose=1,   # verbose level \n",
    "                 )\n",
    "\n",
    "y_pred = y_pred.round()\n",
    "y_pred"
   ]
  },
  {
   "cell_type": "code",
   "execution_count": null,
   "metadata": {},
   "outputs": [],
   "source": [
    "_ = plt.figure(figsize=(30,6))\n",
    "err = y_pred - y\n",
    "plt.plot(err,\".\")\n",
    "\n",
    "print(\"MEDIA DO ERRO\", err.mean())\n",
    "print(\"MEDIA DO ERRO ABSOLUTO\", np.absolute(err).mean())"
   ]
  },
  {
   "cell_type": "code",
   "execution_count": null,
   "metadata": {
    "scrolled": false
   },
   "outputs": [],
   "source": [
    "_ = plt.figure(figsize=(30,10))\n",
    "plt.plot(y,\"rd\")\n",
    "plt.plot(y_pred,\"b.\")\n",
    "plt.legend([\"y\", \"y_pred\"])"
   ]
  },
  {
   "cell_type": "code",
   "execution_count": null,
   "metadata": {},
   "outputs": [],
   "source": []
  }
 ],
 "metadata": {
  "kernelspec": {
   "display_name": "Python 3",
   "language": "python",
   "name": "python3"
  },
  "language_info": {
   "codemirror_mode": {
    "name": "ipython",
    "version": 3
   },
   "file_extension": ".py",
   "mimetype": "text/x-python",
   "name": "python",
   "nbconvert_exporter": "python",
   "pygments_lexer": "ipython3",
   "version": "3.8.2"
  },
  "nbTranslate": {
   "displayLangs": [
    "*"
   ],
   "hotkey": "alt-t",
   "langInMainMenu": true,
   "sourceLang": "en",
   "targetLang": "fr",
   "useGoogleTranslate": true
  },
  "toc": {
   "base_numbering": 1,
   "nav_menu": {},
   "number_sections": true,
   "sideBar": true,
   "skip_h1_title": false,
   "title_cell": "Table of Contents",
   "title_sidebar": "Contents",
   "toc_cell": false,
   "toc_position": {},
   "toc_section_display": true,
   "toc_window_display": false
  },
  "varInspector": {
   "cols": {
    "lenName": 16,
    "lenType": 16,
    "lenVar": 40
   },
   "kernels_config": {
    "python": {
     "delete_cmd_postfix": "",
     "delete_cmd_prefix": "del ",
     "library": "var_list.py",
     "varRefreshCmd": "print(var_dic_list())"
    },
    "r": {
     "delete_cmd_postfix": ") ",
     "delete_cmd_prefix": "rm(",
     "library": "var_list.r",
     "varRefreshCmd": "cat(var_dic_list()) "
    }
   },
   "types_to_exclude": [
    "module",
    "function",
    "builtin_function_or_method",
    "instance",
    "_Feature"
   ],
   "window_display": false
  }
 },
 "nbformat": 4,
 "nbformat_minor": 4
}
