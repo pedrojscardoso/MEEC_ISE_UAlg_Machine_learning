{
 "cells": [
  {
   "cell_type": "markdown",
   "source": [
    "___\n",
    "<h1> Machine Learning </h1>\n",
    "<h2> M. Sc. in Electrical and Computer Engineering </h2>\n",
    "<h3> Instituto Superior de Engenharia / Universidade do Algarve </h3>\n",
    "\n",
    "[MEEC](https://ise.ualg.pt/en/curso/1477) / [ISE](https://ise.ualg.pt) / [UAlg](https://www.ualg.pt)\n",
    "\n",
    "Pedro J. S. Cardoso (pcardoso@ualg.pt)\n",
    "___"
   ],
   "metadata": {
    "collapsed": false
   }
  },
  {
   "cell_type": "markdown",
   "source": [
    "# Classification metrics exercises"
   ],
   "metadata": {
    "collapsed": false
   }
  },
  {
   "cell_type": "markdown",
   "source": [
    "##  Exercise 1\n",
    "\n",
    "Without using the `sklearn.metrics` module, or other library, compute the following metrics:\n",
    "- accuracy\n",
    "- precision\n",
    "- recall\n",
    "- f1-score\n",
    "- confusion matrix\n",
    "- plot the confusion matrix\n",
    "\n",
    "for the following predictions and targets:\n",
    "\n",
    "```python\n",
    "predictions = [1, 0, 0, 1, 0, 0, 1, 0, 0, 1, 0, 1, 0]\n",
    "targets = [1, 1, 0, 1, 0, 1, 1, 1, 0, 0, 0, 1, 0]\n",
    "```"
   ],
   "metadata": {
    "collapsed": false
   }
  },
  {
   "cell_type": "code",
   "execution_count": 34,
   "outputs": [
    {
     "name": "stdout",
     "output_type": "stream",
     "text": [
      "idx_true=(array([ 0,  3,  6,  9, 11]),), idx_false=(array([ 1,  2,  4,  5,  7,  8, 10, 12]),)\n",
      "TP=4, FP=1, TN=5, FN=3\n"
     ]
    }
   ],
   "source": [
    "# compute TP, FP, TN, FN\n",
    "import numpy as np\n",
    "predictions = np.array([1, 0, 0, 1, 0, 0, 1, 0, 0, 1, 0, 1, 0])\n",
    "targets     = np.array([1, 1, 0, 1, 0, 1, 1, 1, 0, 0, 0, 1, 0])\n",
    "\n",
    "# get indexes of true and false predictions\n",
    "idx_true = np.where(predictions==1)\n",
    "idx_false = np.where(predictions==0)\n",
    "print(f\"idx_true={idx_true}, idx_false={idx_false}\")\n",
    "\n",
    "TP = sum(targets[idx_true]==1)\n",
    "FP = sum(targets[idx_true]==0)\n",
    "TN = sum(targets[idx_false]==0)\n",
    "FN = sum(targets[idx_false]==1)\n",
    "\n",
    "print(f\"TP={TP}, FP={FP}, TN={TN}, FN={FN}\")\n"
   ],
   "metadata": {
    "collapsed": false,
    "ExecuteTime": {
     "end_time": "2023-10-09T07:32:56.476421Z",
     "start_time": "2023-10-09T07:32:56.474119Z"
    }
   }
  },
  {
   "cell_type": "code",
   "execution_count": 35,
   "outputs": [
    {
     "name": "stdout",
     "output_type": "stream",
     "text": [
      "accuracy=0.6923076923076923\n"
     ]
    }
   ],
   "source": [
    "# accuracy\n",
    "accuracy = (TP+TN)/(TP+FP+TN+FN)\n",
    "print(f\"accuracy={accuracy}\")"
   ],
   "metadata": {
    "collapsed": false,
    "ExecuteTime": {
     "end_time": "2023-10-09T07:32:57.020621Z",
     "start_time": "2023-10-09T07:32:57.012238Z"
    }
   }
  },
  {
   "cell_type": "code",
   "execution_count": 36,
   "outputs": [
    {
     "name": "stdout",
     "output_type": "stream",
     "text": [
      "precision=0.8\n"
     ]
    }
   ],
   "source": [
    "# precision\n",
    "precision = TP/(TP+FP)\n",
    "print(f\"precision={precision}\")"
   ],
   "metadata": {
    "collapsed": false,
    "ExecuteTime": {
     "end_time": "2023-10-09T07:32:58.174466Z",
     "start_time": "2023-10-09T07:32:58.167601Z"
    }
   }
  },
  {
   "cell_type": "code",
   "execution_count": 37,
   "outputs": [
    {
     "name": "stdout",
     "output_type": "stream",
     "text": [
      "recall=0.5714285714285714\n"
     ]
    }
   ],
   "source": [
    "# recall\n",
    "recall = TP/(TP+FN)\n",
    "print(f\"recall={recall}\")"
   ],
   "metadata": {
    "collapsed": false,
    "ExecuteTime": {
     "end_time": "2023-10-09T07:32:59.112904Z",
     "start_time": "2023-10-09T07:32:59.105027Z"
    }
   }
  },
  {
   "cell_type": "code",
   "execution_count": 38,
   "outputs": [
    {
     "name": "stdout",
     "output_type": "stream",
     "text": [
      "f1_score=0.6666666666666666\n"
     ]
    }
   ],
   "source": [
    "# f1-score\n",
    "f1_score = 2*precision*recall/(precision+recall)\n",
    "print(f\"f1_score={f1_score}\")"
   ],
   "metadata": {
    "collapsed": false,
    "ExecuteTime": {
     "end_time": "2023-10-09T07:32:59.934489Z",
     "start_time": "2023-10-09T07:32:59.926712Z"
    }
   }
  },
  {
   "cell_type": "code",
   "execution_count": 39,
   "outputs": [
    {
     "name": "stdout",
     "output_type": "stream",
     "text": [
      "confusion_matrix=\n",
      "[[4 1]\n",
      " [3 5]]\n"
     ]
    }
   ],
   "source": [
    "# confusion matrix\n",
    "confusion_matrix = np.array([[TP, FP], [FN, TN]])\n",
    "print(f\"confusion_matrix=\\n{confusion_matrix}\")"
   ],
   "metadata": {
    "collapsed": false,
    "ExecuteTime": {
     "end_time": "2023-10-09T07:33:13.369146Z",
     "start_time": "2023-10-09T07:33:13.367727Z"
    }
   }
  },
  {
   "cell_type": "code",
   "execution_count": 40,
   "outputs": [
    {
     "data": {
      "text/plain": "<Axes: >"
     },
     "execution_count": 40,
     "metadata": {},
     "output_type": "execute_result"
    },
    {
     "data": {
      "text/plain": "<Figure size 640x480 with 2 Axes>",
      "image/png": "[encoded data removed]"
     },
     "metadata": {},
     "output_type": "display_data"
    }
   ],
   "source": [
    "# plot confusion matrix\n",
    "import matplotlib.pyplot as plt\n",
    "import seaborn as sns\n",
    "sns.heatmap(confusion_matrix, annot=True, fmt='d')\n"
   ],
   "metadata": {
    "collapsed": false,
    "ExecuteTime": {
     "end_time": "2023-10-09T07:34:06.543566Z",
     "start_time": "2023-10-09T07:34:05.036820Z"
    }
   }
  },
  {
   "cell_type": "markdown",
   "source": [
    "## Exercise 2\n",
    "\n",
    "Let y be the target values and y1 and y2 the predictions of two different models, where:\n",
    "\n",
    "```python\n",
    "y = [1, 1, 0, 1, 0, 0, 1, 0, 0, 1]\n",
    "y1 = [1, 0, 0, 1, 0, 1, 1, 1, 0, 0]\n",
    "y2 = [1, 1, 0, 1, 0, 0, 1, 0, 0, 0]\n",
    "```\n",
    "\n",
    "1. Which model is better? Why?\n",
    "2. What if 1 is having a contagious disease and 0 is not having the disease?\n",
    "3. What if 1 is a spam email and 0 is a non-spam email?\n",
    "4. What if 1 is a fraudulent transaction and 0 is a non-fraudulent transaction?\n",
    "5. What if 1 is a cancer patient and 0 is a non-cancer patient?\n",
    "6. What if 1 is a relevant document and 0 is a non-relevant document?\n",
    "7. What if 1 is the person is considered responsible for a crime and 0 is a non-responsible person?\n",
    "\n"
   ],
   "metadata": {
    "collapsed": false
   }
  },
  {
   "cell_type": "code",
   "execution_count": 65,
   "outputs": [
    {
     "data": {
      "text/plain": "(0.7, 0.7)"
     },
     "execution_count": 65,
     "metadata": {},
     "output_type": "execute_result"
    }
   ],
   "source": [
    "# load skleran metrics\n",
    "from sklearn.metrics import accuracy_score, precision_score, recall_score, f1_score, confusion_matrix\n",
    "\n",
    "y = [1, 1, 1, 1, 0, 0, 1, 0, 0, 1]\n",
    "y1 = [1, 1, 1, 1, 1, 1, 1, 1, 0, 1]\n",
    "y2 = [1, 1, 0, 1, 1, 0, 0, 0, 0, 1]\n",
    "\n",
    "accuracy_score(y, y1), accuracy_score(y, y2)"
   ],
   "metadata": {
    "collapsed": false,
    "ExecuteTime": {
     "end_time": "2023-10-09T09:04:31.750791Z",
     "start_time": "2023-10-09T09:04:31.742918Z"
    }
   }
  },
  {
   "cell_type": "code",
   "execution_count": 66,
   "outputs": [
    {
     "data": {
      "text/plain": "(0.6666666666666666, 0.8)"
     },
     "execution_count": 66,
     "metadata": {},
     "output_type": "execute_result"
    }
   ],
   "source": [
    "precision_score(y, y1), precision_score(y, y2)"
   ],
   "metadata": {
    "collapsed": false,
    "ExecuteTime": {
     "end_time": "2023-10-09T09:04:32.550811Z",
     "start_time": "2023-10-09T09:04:32.540225Z"
    }
   }
  },
  {
   "cell_type": "code",
   "execution_count": 67,
   "outputs": [
    {
     "data": {
      "text/plain": "(1.0, 0.6666666666666666)"
     },
     "execution_count": 67,
     "metadata": {},
     "output_type": "execute_result"
    }
   ],
   "source": [
    "recall_score(y, y1), recall_score(y, y2)"
   ],
   "metadata": {
    "collapsed": false,
    "ExecuteTime": {
     "end_time": "2023-10-09T09:04:33.720250Z",
     "start_time": "2023-10-09T09:04:33.707577Z"
    }
   }
  },
  {
   "cell_type": "code",
   "execution_count": 68,
   "outputs": [
    {
     "data": {
      "text/plain": "(0.8, 0.7272727272727272)"
     },
     "execution_count": 68,
     "metadata": {},
     "output_type": "execute_result"
    }
   ],
   "source": [
    "f1_score(y, y1), f1_score(y, y2)"
   ],
   "metadata": {
    "collapsed": false,
    "ExecuteTime": {
     "end_time": "2023-10-09T09:04:34.881913Z",
     "start_time": "2023-10-09T09:04:34.869755Z"
    }
   }
  },
  {
   "cell_type": "code",
   "execution_count": 69,
   "outputs": [
    {
     "data": {
      "text/plain": "array([[1, 3],\n       [0, 6]])"
     },
     "execution_count": 69,
     "metadata": {},
     "output_type": "execute_result"
    }
   ],
   "source": [
    "confusion_matrix(y, y1)"
   ],
   "metadata": {
    "collapsed": false,
    "ExecuteTime": {
     "end_time": "2023-10-09T09:04:35.468453Z",
     "start_time": "2023-10-09T09:04:35.459082Z"
    }
   }
  },
  {
   "cell_type": "code",
   "execution_count": 70,
   "outputs": [
    {
     "data": {
      "text/plain": "array([[3, 1],\n       [2, 4]])"
     },
     "execution_count": 70,
     "metadata": {},
     "output_type": "execute_result"
    }
   ],
   "source": [
    "confusion_matrix(y, y2)"
   ],
   "metadata": {
    "collapsed": false,
    "ExecuteTime": {
     "end_time": "2023-10-09T09:04:36.268236Z",
     "start_time": "2023-10-09T09:04:36.252992Z"
    }
   }
  },
  {
   "cell_type": "markdown",
   "source": [
    "Case by case:\n",
    "\n",
    "1. Which model is better? Why?\n",
    "if we consider the accuracy, the models are equal. However, if we consider the precision the second model is better but if we consider the recall the first model is better. So, it depends on the application.\n",
    "\n",
    "2. What if 1 is having a contagious disease and 0 is not having the disease?\n",
    "...\n",
    "\n",
    "3. What if 1 is a spam email and 0 is a non-spam email?\n",
    "...\n",
    "\n",
    "4. What if 1 is a fraudulent transaction and 0 is a non-fraudulent transaction?\n",
    "...\n",
    "\n",
    "5. What if 1 is a cancer patient and 0 is a non-cancer patient?\n",
    "...\n",
    "\n",
    "6. What if 1 is a relevant document and 0 is a non-relevant document?\n",
    "...\n",
    "\n",
    "7. What if 1 is the person is considered responsible for a crime and 0 is a non-responsible person?\n",
    "...\n",
    "\n"
   ],
   "metadata": {
    "collapsed": false
   }
  },
  {
   "cell_type": "markdown",
   "source": [
    "## Exercise 3\n",
    "\n",
    "Change the KNN model to use 5 and 15 neighbors and evaluate the model using the metrics from the previous exercise. Take a look at the classification report and confusion matrix. What do you notice? Which model is better? Why?"
   ],
   "metadata": {
    "collapsed": false
   }
  },
  {
   "cell_type": "code",
   "execution_count": null,
   "outputs": [],
   "source": [],
   "metadata": {
    "collapsed": false
   }
  }
 ],
 "metadata": {
  "kernelspec": {
   "display_name": "Python 3",
   "language": "python",
   "name": "python3"
  },
  "language_info": {
   "codemirror_mode": {
    "name": "ipython",
    "version": 2
   },
   "file_extension": ".py",
   "mimetype": "text/x-python",
   "name": "python",
   "nbconvert_exporter": "python",
   "pygments_lexer": "ipython2",
   "version": "2.7.6"
  }
 },
 "nbformat": 4,
 "nbformat_minor": 0
}
