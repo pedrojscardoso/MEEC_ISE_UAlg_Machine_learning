{
 "cells": [
  {
   "cell_type": "markdown",
   "metadata": {
    "collapsed": false,
    "jupyter": {
     "outputs_hidden": false
    }
   },
   "source": [
    "___\n",
    "<h1> Machine Learning </h1>\n",
    "<h2> M. Sc. in Electrical and Computer Engineering </h2>\n",
    "<h3> Instituto Superior de Engenharia / Universidade do Algarve </h3>\n",
    "\n",
    "[LESTI](https://ise.ualg.pt/curso/1941) / [ISE](https://ise.ualg.pt) / [UAlg](https://www.ualg.pt)\n",
    "\n",
    "Pedro J. S. Cardoso (pcardoso@ualg.pt)\n",
    "\n",
    "___"
   ]
  },
  {
   "cell_type": "markdown",
   "metadata": {
    "collapsed": false,
    "jupyter": {
     "outputs_hidden": false
    }
   },
   "source": [
    "# Up and running?\n",
    "\n",
    "Let us check if everything is up and running.\n",
    "\n",
    "Try to run the following cell. If it works, you are ready to go!\n"
   ]
  },
  {
   "cell_type": "code",
   "execution_count": 1,
   "metadata": {
    "collapsed": false,
    "jupyter": {
     "outputs_hidden": false
    },
    "ExecuteTime": {
     "end_time": "2023-09-18T17:48:51.985003Z",
     "start_time": "2023-09-18T17:48:51.836799Z"
    }
   },
   "outputs": [
    {
     "name": "stdout",
     "output_type": "stream",
     "text": [
      "numpy version:  1.25.2\n",
      "matplotlib version:  3.8.0\n",
      "pandas version:  2.0.3\n",
      "seaborn version:  0.12.2\n",
      "sklearn version:  1.1.3\n",
      "scipy version:  1.11.1\n"
     ]
    }
   ],
   "source": [
    "import numpy as np\n",
    "import matplotlib\n",
    "import pandas as pd\n",
    "import seaborn as sns\n",
    "import sklearn\n",
    "import scipy\n",
    "\n",
    "print(\"numpy version: \", np.__version__)\n",
    "print(\"matplotlib version: \", matplotlib.__version__)\n",
    "print(\"pandas version: \", pd.__version__)\n",
    "print(\"seaborn version: \", sns.__version__)\n",
    "print(\"sklearn version: \", sklearn.__version__)\n",
    "print(\"scipy version: \", scipy.__version__)"
   ]
  },
  {
   "cell_type": "markdown",
   "metadata": {
    "collapsed": false,
    "jupyter": {
     "outputs_hidden": false
    }
   },
   "source": [
    "If anything is missing, try to install it using the following command:"
   ]
  },
  {
   "cell_type": "code",
   "execution_count": 2,
   "metadata": {
    "collapsed": false,
    "jupyter": {
     "outputs_hidden": false
    },
    "ExecuteTime": {
     "end_time": "2023-09-18T17:48:52.955659Z",
     "start_time": "2023-09-18T17:48:51.895913Z"
    }
   },
   "outputs": [
    {
     "name": "stdout",
     "output_type": "stream",
     "text": [
      "Requirement already satisfied: numpy in /Users/pcardoso/anaconda3/envs/AprendizagemAutomatica/lib/python3.10/site-packages (1.25.2)\r\n",
      "Requirement already satisfied: matplotlib in /Users/pcardoso/anaconda3/envs/AprendizagemAutomatica/lib/python3.10/site-packages (3.8.0)\r\n",
      "Requirement already satisfied: pandas in /Users/pcardoso/anaconda3/envs/AprendizagemAutomatica/lib/python3.10/site-packages (2.0.3)\r\n",
      "Requirement already satisfied: seaborn in /Users/pcardoso/anaconda3/envs/AprendizagemAutomatica/lib/python3.10/site-packages (0.12.2)\r\n",
      "Requirement already satisfied: scikit-learn in /Users/pcardoso/anaconda3/envs/AprendizagemAutomatica/lib/python3.10/site-packages (1.1.3)\r\n",
      "Requirement already satisfied: scipy in /Users/pcardoso/anaconda3/envs/AprendizagemAutomatica/lib/python3.10/site-packages (1.11.1)\r\n",
      "Requirement already satisfied: IPython in /Users/pcardoso/anaconda3/envs/AprendizagemAutomatica/lib/python3.10/site-packages (8.15.0)\r\n",
      "Requirement already satisfied: contourpy>=1.0.1 in /Users/pcardoso/anaconda3/envs/AprendizagemAutomatica/lib/python3.10/site-packages (from matplotlib) (1.1.0)\r\n",
      "Requirement already satisfied: cycler>=0.10 in /Users/pcardoso/anaconda3/envs/AprendizagemAutomatica/lib/python3.10/site-packages (from matplotlib) (0.11.0)\r\n",
      "Requirement already satisfied: fonttools>=4.22.0 in /Users/pcardoso/anaconda3/envs/AprendizagemAutomatica/lib/python3.10/site-packages (from matplotlib) (4.42.1)\r\n",
      "Requirement already satisfied: kiwisolver>=1.0.1 in /Users/pcardoso/anaconda3/envs/AprendizagemAutomatica/lib/python3.10/site-packages (from matplotlib) (1.4.5)\r\n",
      "Requirement already satisfied: packaging>=20.0 in /Users/pcardoso/anaconda3/envs/AprendizagemAutomatica/lib/python3.10/site-packages (from matplotlib) (23.1)\r\n",
      "Requirement already satisfied: pillow>=6.2.0 in /Users/pcardoso/anaconda3/envs/AprendizagemAutomatica/lib/python3.10/site-packages (from matplotlib) (10.0.1)\r\n",
      "Requirement already satisfied: pyparsing>=2.3.1 in /Users/pcardoso/anaconda3/envs/AprendizagemAutomatica/lib/python3.10/site-packages (from matplotlib) (3.1.1)\r\n",
      "Requirement already satisfied: python-dateutil>=2.7 in /Users/pcardoso/anaconda3/envs/AprendizagemAutomatica/lib/python3.10/site-packages (from matplotlib) (2.8.2)\r\n",
      "Requirement already satisfied: pytz>=2020.1 in /Users/pcardoso/anaconda3/envs/AprendizagemAutomatica/lib/python3.10/site-packages (from pandas) (2022.7)\r\n",
      "Requirement already satisfied: tzdata>=2022.1 in /Users/pcardoso/anaconda3/envs/AprendizagemAutomatica/lib/python3.10/site-packages (from pandas) (2023.3)\r\n",
      "Requirement already satisfied: joblib>=1.0.0 in /Users/pcardoso/anaconda3/envs/AprendizagemAutomatica/lib/python3.10/site-packages (from scikit-learn) (1.2.0)\r\n",
      "Requirement already satisfied: threadpoolctl>=2.0.0 in /Users/pcardoso/anaconda3/envs/AprendizagemAutomatica/lib/python3.10/site-packages (from scikit-learn) (2.2.0)\r\n",
      "Requirement already satisfied: backcall in /Users/pcardoso/anaconda3/envs/AprendizagemAutomatica/lib/python3.10/site-packages (from IPython) (0.2.0)\r\n",
      "Requirement already satisfied: decorator in /Users/pcardoso/anaconda3/envs/AprendizagemAutomatica/lib/python3.10/site-packages (from IPython) (5.1.1)\r\n",
      "Requirement already satisfied: jedi>=0.16 in /Users/pcardoso/anaconda3/envs/AprendizagemAutomatica/lib/python3.10/site-packages (from IPython) (0.19.0)\r\n",
      "Requirement already satisfied: matplotlib-inline in /Users/pcardoso/anaconda3/envs/AprendizagemAutomatica/lib/python3.10/site-packages (from IPython) (0.1.6)\r\n",
      "Requirement already satisfied: pickleshare in /Users/pcardoso/anaconda3/envs/AprendizagemAutomatica/lib/python3.10/site-packages (from IPython) (0.7.5)\r\n",
      "Requirement already satisfied: prompt-toolkit!=3.0.37,<3.1.0,>=3.0.30 in /Users/pcardoso/anaconda3/envs/AprendizagemAutomatica/lib/python3.10/site-packages (from IPython) (3.0.39)\r\n",
      "Requirement already satisfied: pygments>=2.4.0 in /Users/pcardoso/anaconda3/envs/AprendizagemAutomatica/lib/python3.10/site-packages (from IPython) (2.16.1)\r\n",
      "Requirement already satisfied: stack-data in /Users/pcardoso/anaconda3/envs/AprendizagemAutomatica/lib/python3.10/site-packages (from IPython) (0.6.2)\r\n",
      "Requirement already satisfied: traitlets>=5 in /Users/pcardoso/anaconda3/envs/AprendizagemAutomatica/lib/python3.10/site-packages (from IPython) (5.10.0)\r\n",
      "Requirement already satisfied: exceptiongroup in /Users/pcardoso/anaconda3/envs/AprendizagemAutomatica/lib/python3.10/site-packages (from IPython) (1.1.3)\r\n",
      "Requirement already satisfied: pexpect>4.3 in /Users/pcardoso/anaconda3/envs/AprendizagemAutomatica/lib/python3.10/site-packages (from IPython) (4.8.0)\r\n",
      "Requirement already satisfied: appnope in /Users/pcardoso/anaconda3/envs/AprendizagemAutomatica/lib/python3.10/site-packages (from IPython) (0.1.3)\r\n",
      "Requirement already satisfied: parso<0.9.0,>=0.8.3 in /Users/pcardoso/anaconda3/envs/AprendizagemAutomatica/lib/python3.10/site-packages (from jedi>=0.16->IPython) (0.8.3)\r\n",
      "Requirement already satisfied: ptyprocess>=0.5 in /Users/pcardoso/anaconda3/envs/AprendizagemAutomatica/lib/python3.10/site-packages (from pexpect>4.3->IPython) (0.7.0)\r\n",
      "Requirement already satisfied: wcwidth in /Users/pcardoso/anaconda3/envs/AprendizagemAutomatica/lib/python3.10/site-packages (from prompt-toolkit!=3.0.37,<3.1.0,>=3.0.30->IPython) (0.2.6)\r\n",
      "Requirement already satisfied: six>=1.5 in /Users/pcardoso/anaconda3/envs/AprendizagemAutomatica/lib/python3.10/site-packages (from python-dateutil>=2.7->matplotlib) (1.16.0)\r\n",
      "Requirement already satisfied: executing>=1.2.0 in /Users/pcardoso/anaconda3/envs/AprendizagemAutomatica/lib/python3.10/site-packages (from stack-data->IPython) (1.2.0)\r\n",
      "Requirement already satisfied: asttokens>=2.1.0 in /Users/pcardoso/anaconda3/envs/AprendizagemAutomatica/lib/python3.10/site-packages (from stack-data->IPython) (2.4.0)\r\n",
      "Requirement already satisfied: pure-eval in /Users/pcardoso/anaconda3/envs/AprendizagemAutomatica/lib/python3.10/site-packages (from stack-data->IPython) (0.2.2)\r\n"
     ]
    }
   ],
   "source": [
    "!pip install numpy matplotlib pandas seaborn scikit-learn scipy IPython"
   ]
  },
  {
   "cell_type": "markdown",
   "metadata": {
    "collapsed": false,
    "jupyter": {
     "outputs_hidden": false
    }
   },
   "source": [
    "So, if you are here, you are ready to go!\n"
   ]
  },
  {
   "cell_type": "markdown",
   "metadata": {
    "collapsed": false,
    "jupyter": {
     "outputs_hidden": false
    }
   },
   "source": [
    "# Matplotlib\n",
    "During this course, we will use the [matplotlib](https://matplotlib.org/) library to plot our data. For example, let us plot a simple function, $f(x) = x^2$."
   ]
  },
  {
   "cell_type": "code",
   "execution_count": 3,
   "metadata": {
    "collapsed": false,
    "jupyter": {
     "outputs_hidden": false
    },
    "ExecuteTime": {
     "end_time": "2023-09-18T17:48:53.276798Z",
     "start_time": "2023-09-18T17:48:52.957670Z"
    }
   },
   "outputs": [
    {
     "data": {
      "text/plain": "<Figure size 640x480 with 1 Axes>",
      "image/png": "[encoded data removed]"
     },
     "metadata": {},
     "output_type": "display_data"
    }
   ],
   "source": [
    "import matplotlib.pyplot as plt\n",
    "import numpy as np\n",
    "\n",
    "x = np.linspace(-10, 10, 100)\n",
    "y = x**2\n",
    "\n",
    "plt.plot(x, y)\n",
    "\n",
    "# Add labels\n",
    "plt.xlabel('x')\n",
    "plt.ylabel('y')\n",
    "\n",
    "# Add title\n",
    "plt.title('Plot of $f(x) = x^2$')\n",
    "\n",
    "# Show plot - this is not needed in Jupyter notebooks\n",
    "plt.show()"
   ]
  },
  {
   "cell_type": "markdown",
   "metadata": {
    "collapsed": false,
    "jupyter": {
     "outputs_hidden": false
    }
   },
   "source": [
    "## Exercise 1\n",
    "\n",
    "Plot the function $f(x) = \\sin(x)$ in the interval $[-\\pi, \\pi]$. Remember to add labels and a title to the plot."
   ]
  },
  {
   "cell_type": "code",
   "execution_count": 4,
   "metadata": {
    "collapsed": false,
    "jupyter": {
     "outputs_hidden": false
    },
    "ExecuteTime": {
     "end_time": "2023-09-18T17:48:53.277128Z",
     "start_time": "2023-09-18T17:48:53.270826Z"
    }
   },
   "outputs": [],
   "source": [
    "# Your code here"
   ]
  },
  {
   "cell_type": "markdown",
   "metadata": {
    "collapsed": false,
    "jupyter": {
     "outputs_hidden": false
    }
   },
   "source": [
    "## Exercise 2\n",
    "\n",
    "Plot the function $f(x) = \\sin(x)$ in the interval $[-\\pi, \\pi]$ and the function $g(x) = \\cos(x)$ in the same plot. Remember to add legend, labels and a title to the plot."
   ]
  },
  {
   "cell_type": "code",
   "execution_count": 5,
   "metadata": {
    "collapsed": false,
    "jupyter": {
     "outputs_hidden": false
    },
    "ExecuteTime": {
     "end_time": "2023-09-18T17:48:53.277213Z",
     "start_time": "2023-09-18T17:48:53.273479Z"
    }
   },
   "outputs": [],
   "source": [
    "# Your code here"
   ]
  },
  {
   "cell_type": "markdown",
   "metadata": {
    "collapsed": false,
    "jupyter": {
     "outputs_hidden": false
    }
   },
   "source": [
    "# Numpy\n",
    "\n",
    "Numpy is a library for scientific computing. It provides a high-performance multidimensional array object, and tools for working with these arrays. For a quick introduction to numpy, see [here](https://numpy.org/devdocs/user/quickstart.html).\n",
    "\n",
    "With numpy, we can easily create arrays. For example, let us create a 1-dimensional array with 10 elements, all equal to 0."
   ]
  },
  {
   "cell_type": "code",
   "execution_count": 6,
   "metadata": {
    "collapsed": false,
    "jupyter": {
     "outputs_hidden": false
    },
    "ExecuteTime": {
     "end_time": "2023-09-18T17:48:53.292713Z",
     "start_time": "2023-09-18T17:48:53.277012Z"
    }
   },
   "outputs": [
    {
     "name": "stdout",
     "output_type": "stream",
     "text": [
      "[0. 0. 0. 0. 0. 0. 0. 0. 0. 0.]\n"
     ]
    }
   ],
   "source": [
    "import numpy as np\n",
    "\n",
    "a = np.zeros(10)\n",
    "print(a)"
   ]
  },
  {
   "cell_type": "markdown",
   "metadata": {
    "collapsed": false,
    "jupyter": {
     "outputs_hidden": false
    }
   },
   "source": [
    "We can also create a 2-dimensional array with 10 rows and 5 columns, all equal to 1."
   ]
  },
  {
   "cell_type": "code",
   "execution_count": 7,
   "metadata": {
    "collapsed": false,
    "jupyter": {
     "outputs_hidden": false
    },
    "ExecuteTime": {
     "end_time": "2023-09-18T17:48:53.293671Z",
     "start_time": "2023-09-18T17:48:53.280458Z"
    }
   },
   "outputs": [
    {
     "name": "stdout",
     "output_type": "stream",
     "text": [
      "[[1. 1. 1. 1. 1.]\n",
      " [1. 1. 1. 1. 1.]\n",
      " [1. 1. 1. 1. 1.]\n",
      " [1. 1. 1. 1. 1.]\n",
      " [1. 1. 1. 1. 1.]\n",
      " [1. 1. 1. 1. 1.]\n",
      " [1. 1. 1. 1. 1.]\n",
      " [1. 1. 1. 1. 1.]\n",
      " [1. 1. 1. 1. 1.]\n",
      " [1. 1. 1. 1. 1.]]\n"
     ]
    }
   ],
   "source": [
    "b = np.ones((10, 5))\n",
    "print(b)\n"
   ]
  },
  {
   "cell_type": "markdown",
   "metadata": {
    "collapsed": false,
    "jupyter": {
     "outputs_hidden": false
    }
   },
   "source": [
    "Operations with arrays are very easy. For example, let us create two arrays, $a$ and $b$, and compute $c = a + b$."
   ]
  },
  {
   "cell_type": "code",
   "execution_count": 8,
   "metadata": {
    "collapsed": false,
    "jupyter": {
     "outputs_hidden": false
    },
    "ExecuteTime": {
     "end_time": "2023-09-18T17:48:53.294005Z",
     "start_time": "2023-09-18T17:48:53.283126Z"
    }
   },
   "outputs": [
    {
     "name": "stdout",
     "output_type": "stream",
     "text": [
      "[5 7 9]\n"
     ]
    }
   ],
   "source": [
    "a = np.array([1, 2, 3])\n",
    "b = np.array([4, 5, 6])\n",
    "c = a + b\n",
    "print(c)"
   ]
  },
  {
   "cell_type": "markdown",
   "metadata": {
    "collapsed": false,
    "jupyter": {
     "outputs_hidden": false
    }
   },
   "source": [
    "This is called element-wise addition. We can also compute the dot product of two arrays, $a$ and $b$, using the `dot` function."
   ]
  },
  {
   "cell_type": "code",
   "execution_count": 9,
   "metadata": {
    "collapsed": false,
    "jupyter": {
     "outputs_hidden": false
    },
    "ExecuteTime": {
     "end_time": "2023-09-18T17:48:53.294254Z",
     "start_time": "2023-09-18T17:48:53.286385Z"
    }
   },
   "outputs": [
    {
     "name": "stdout",
     "output_type": "stream",
     "text": [
      "32\n"
     ]
    }
   ],
   "source": [
    "a = np.array([1, 2, 3])\n",
    "b = np.array([4, 5, 6])\n",
    "c = np.dot(a, b)\n",
    "print(c)"
   ]
  },
  {
   "cell_type": "markdown",
   "metadata": {
    "collapsed": false,
    "jupyter": {
     "outputs_hidden": false
    }
   },
   "source": [
    "Computing the inverse of a matrix is also very easy. For example, let us compute the inverse of the following matrix:\n",
    "\n",
    "$$\n",
    "A = \\begin{bmatrix}\n",
    "1 & 2 & 3 \\\\\n",
    "4 & 5 & 6 \\\\\n",
    "7 & 8 & 9\n",
    "\\end{bmatrix}\n",
    "$$\n"
   ]
  },
  {
   "cell_type": "code",
   "execution_count": 10,
   "metadata": {
    "collapsed": false,
    "jupyter": {
     "outputs_hidden": false
    },
    "ExecuteTime": {
     "end_time": "2023-09-18T17:48:53.355065Z",
     "start_time": "2023-09-18T17:48:53.291004Z"
    }
   },
   "outputs": [
    {
     "name": "stdout",
     "output_type": "stream",
     "text": [
      "[[ 1.15058824e+00 -1.64705882e-02 -1.76470588e-01]\n",
      " [-4.00000000e-02  2.00000000e-02 -4.49223189e-18]\n",
      " [-4.07058824e-01 -2.35294118e-03  1.17647059e-01]]\n"
     ]
    }
   ],
   "source": [
    "A = np.array([[2, 2, 3], [4, 54, 6], [7, 8, 19]])\n",
    "A_inv = np.linalg.inv(A)\n",
    "print(A_inv)"
   ]
  },
  {
   "cell_type": "markdown",
   "metadata": {
    "collapsed": false,
    "jupyter": {
     "outputs_hidden": false
    }
   },
   "source": [
    "And checking if the inverse is correct:"
   ]
  },
  {
   "cell_type": "code",
   "execution_count": 11,
   "metadata": {
    "collapsed": false,
    "jupyter": {
     "outputs_hidden": false
    },
    "ExecuteTime": {
     "end_time": "2023-09-18T17:48:53.355385Z",
     "start_time": "2023-09-18T17:48:53.293511Z"
    }
   },
   "outputs": [
    {
     "name": "stdout",
     "output_type": "stream",
     "text": [
      "[[ 1.00000000e+00 -5.20417043e-18  9.71445147e-17]\n",
      " [-3.33066907e-16  1.00000000e+00 -2.77555756e-17]\n",
      " [-1.27675648e-15 -5.20417043e-18  1.00000000e+00]]\n"
     ]
    }
   ],
   "source": [
    "print(np.dot(A, A_inv))"
   ]
  },
  {
   "cell_type": "markdown",
   "metadata": {
    "collapsed": false,
    "jupyter": {
     "outputs_hidden": false
    }
   },
   "source": [
    "To print with a given precision, we can use the following:"
   ]
  },
  {
   "cell_type": "code",
   "execution_count": 12,
   "metadata": {
    "collapsed": false,
    "jupyter": {
     "outputs_hidden": false
    },
    "ExecuteTime": {
     "end_time": "2023-09-18T17:48:53.355524Z",
     "start_time": "2023-09-18T17:48:53.301308Z"
    }
   },
   "outputs": [
    {
     "name": "stdout",
     "output_type": "stream",
     "text": [
      "[[ 1.00e+00 -5.20e-18  9.71e-17]\n",
      " [-3.33e-16  1.00e+00 -2.78e-17]\n",
      " [-1.28e-15 -5.20e-18  1.00e+00]]\n"
     ]
    }
   ],
   "source": [
    "np.set_printoptions(precision=2)\n",
    "print(np.dot(A, A_inv))"
   ]
  },
  {
   "cell_type": "markdown",
   "metadata": {
    "collapsed": false,
    "jupyter": {
     "outputs_hidden": false
    }
   },
   "source": [
    "We can also compute the transpose of a matrix:"
   ]
  },
  {
   "cell_type": "code",
   "execution_count": 13,
   "metadata": {
    "collapsed": false,
    "jupyter": {
     "outputs_hidden": false
    },
    "ExecuteTime": {
     "end_time": "2023-09-18T17:48:53.376071Z",
     "start_time": "2023-09-18T17:48:53.305639Z"
    }
   },
   "outputs": [
    {
     "name": "stdout",
     "output_type": "stream",
     "text": [
      "[[ 2  4  7]\n",
      " [ 2 54  8]\n",
      " [ 3  6 19]]\n"
     ]
    }
   ],
   "source": [
    "print(A.T)"
   ]
  },
  {
   "cell_type": "markdown",
   "metadata": {
    "collapsed": false,
    "jupyter": {
     "outputs_hidden": false
    }
   },
   "source": [
    "## Exercise 3\n",
    "\n",
    "Define the following matrices in numpy:\n",
    "\n",
    "$$\n",
    "A = \\begin{bmatrix}\n",
    "1 & 2 & 3 \\\\\n",
    "4 & 5 & 6\n",
    "\\end{bmatrix}\n",
    "$$\n",
    "\n",
    "$$\n",
    "B = \\begin{bmatrix}\n",
    "1 & 2 \\\\\n",
    "3 & 4 \\\\\n",
    "5 & 6\n",
    "\\end{bmatrix}\n",
    "$$\n",
    "\n",
    "Now, compute the following matrix operation:\n",
    "1. $C = A B$\n",
    "2. $D = A^T B$\n",
    "3. $E = A B^T$\n",
    "4. $F = A^T B^T$\n",
    "5. $G = A^T A$\n",
    "\n"
   ]
  },
  {
   "cell_type": "markdown",
   "metadata": {
    "collapsed": false,
    "jupyter": {
     "outputs_hidden": false
    }
   },
   "source": [
    "# Pandas\n",
    "\n",
    "Pandas is a library that provides data structures and data analysis tools. One of the data structures provided by pandas is the DataFrame, which is a 2-dimensional labeled data structure with columns of potentially different types. You can think of it like a spreadsheet or SQL table, or a dict of Series objects. VERY USEFUL!\n",
    "\n",
    "For a quick introduction to pandas, see [here](https://pandas.pydata.org/pandas-docs/stable/getting_started/10min.html).\n",
    "\n",
    "Let us start by creating a DataFrame from a dictionary of lists."
   ]
  },
  {
   "cell_type": "code",
   "execution_count": 14,
   "metadata": {
    "collapsed": false,
    "jupyter": {
     "outputs_hidden": false
    },
    "ExecuteTime": {
     "end_time": "2023-09-18T17:48:53.376744Z",
     "start_time": "2023-09-18T17:48:53.309776Z"
    }
   },
   "outputs": [
    {
     "data": {
      "text/plain": "    Name  Age  Height\n0  Pedro   20     1.8\n1    Ana   30     1.6\n2   João   40     1.7\n3  Maria   50     1.9",
      "text/html": "<div>\n<style scoped>\n    .dataframe tbody tr th:only-of-type {\n        vertical-align: middle;\n    }\n\n    .dataframe tbody tr th {\n        vertical-align: top;\n    }\n\n    .dataframe thead th {\n        text-align: right;\n    }\n</style>\n<table border=\"1\" class=\"dataframe\">\n  <thead>\n    <tr style=\"text-align: right;\">\n      <th></th>\n      <th>Name</th>\n      <th>Age</th>\n      <th>Height</th>\n    </tr>\n  </thead>\n  <tbody>\n    <tr>\n      <th>0</th>\n      <td>Pedro</td>\n      <td>20</td>\n      <td>1.8</td>\n    </tr>\n    <tr>\n      <th>1</th>\n      <td>Ana</td>\n      <td>30</td>\n      <td>1.6</td>\n    </tr>\n    <tr>\n      <th>2</th>\n      <td>João</td>\n      <td>40</td>\n      <td>1.7</td>\n    </tr>\n    <tr>\n      <th>3</th>\n      <td>Maria</td>\n      <td>50</td>\n      <td>1.9</td>\n    </tr>\n  </tbody>\n</table>\n</div>"
     },
     "execution_count": 14,
     "metadata": {},
     "output_type": "execute_result"
    }
   ],
   "source": [
    "import pandas as pd\n",
    "\n",
    "data = {'Name': ['Pedro', 'Ana', 'João', 'Maria'],\n",
    "        'Age': [20, 30, 40, 50],\n",
    "        'Height': [1.8, 1.6, 1.7, 1.9]}\n",
    "df = pd.DataFrame(data)\n",
    "df"
   ]
  },
  {
   "cell_type": "markdown",
   "metadata": {
    "collapsed": false,
    "jupyter": {
     "outputs_hidden": false
    }
   },
   "source": [
    "We can also easily load data from a CSV file. For example, let us use the world's population data from the https://github.com/datasets/population/ repository. The data can be downloaded from [here](https://raw.githubusercontent.com/datasets/population/main/data/population.csv)."
   ]
  },
  {
   "cell_type": "code",
   "execution_count": 15,
   "metadata": {
    "collapsed": false,
    "jupyter": {
     "outputs_hidden": false
    },
    "ExecuteTime": {
     "end_time": "2023-09-18T17:48:53.496775Z",
     "start_time": "2023-09-18T17:48:53.321321Z"
    }
   },
   "outputs": [
    {
     "data": {
      "text/plain": "      Country Name Country Code  Year     Value\n0            Aruba          ABW  1960     54608\n1            Aruba          ABW  1961     55811\n2            Aruba          ABW  1962     56682\n3            Aruba          ABW  1963     57475\n4            Aruba          ABW  1964     58178\n...            ...          ...   ...       ...\n16395     Zimbabwe          ZWE  2017  14751101\n16396     Zimbabwe          ZWE  2018  15052184\n16397     Zimbabwe          ZWE  2019  15354608\n16398     Zimbabwe          ZWE  2020  15669666\n16399     Zimbabwe          ZWE  2021  15993524\n\n[16400 rows x 4 columns]",
      "text/html": "<div>\n<style scoped>\n    .dataframe tbody tr th:only-of-type {\n        vertical-align: middle;\n    }\n\n    .dataframe tbody tr th {\n        vertical-align: top;\n    }\n\n    .dataframe thead th {\n        text-align: right;\n    }\n</style>\n<table border=\"1\" class=\"dataframe\">\n  <thead>\n    <tr style=\"text-align: right;\">\n      <th></th>\n      <th>Country Name</th>\n      <th>Country Code</th>\n      <th>Year</th>\n      <th>Value</th>\n    </tr>\n  </thead>\n  <tbody>\n    <tr>\n      <th>0</th>\n      <td>Aruba</td>\n      <td>ABW</td>\n      <td>1960</td>\n      <td>54608</td>\n    </tr>\n    <tr>\n      <th>1</th>\n      <td>Aruba</td>\n      <td>ABW</td>\n      <td>1961</td>\n      <td>55811</td>\n    </tr>\n    <tr>\n      <th>2</th>\n      <td>Aruba</td>\n      <td>ABW</td>\n      <td>1962</td>\n      <td>56682</td>\n    </tr>\n    <tr>\n      <th>3</th>\n      <td>Aruba</td>\n      <td>ABW</td>\n      <td>1963</td>\n      <td>57475</td>\n    </tr>\n    <tr>\n      <th>4</th>\n      <td>Aruba</td>\n      <td>ABW</td>\n      <td>1964</td>\n      <td>58178</td>\n    </tr>\n    <tr>\n      <th>...</th>\n      <td>...</td>\n      <td>...</td>\n      <td>...</td>\n      <td>...</td>\n    </tr>\n    <tr>\n      <th>16395</th>\n      <td>Zimbabwe</td>\n      <td>ZWE</td>\n      <td>2017</td>\n      <td>14751101</td>\n    </tr>\n    <tr>\n      <th>16396</th>\n      <td>Zimbabwe</td>\n      <td>ZWE</td>\n      <td>2018</td>\n      <td>15052184</td>\n    </tr>\n    <tr>\n      <th>16397</th>\n      <td>Zimbabwe</td>\n      <td>ZWE</td>\n      <td>2019</td>\n      <td>15354608</td>\n    </tr>\n    <tr>\n      <th>16398</th>\n      <td>Zimbabwe</td>\n      <td>ZWE</td>\n      <td>2020</td>\n      <td>15669666</td>\n    </tr>\n    <tr>\n      <th>16399</th>\n      <td>Zimbabwe</td>\n      <td>ZWE</td>\n      <td>2021</td>\n      <td>15993524</td>\n    </tr>\n  </tbody>\n</table>\n<p>16400 rows × 4 columns</p>\n</div>"
     },
     "execution_count": 15,
     "metadata": {},
     "output_type": "execute_result"
    }
   ],
   "source": [
    "df = pd.read_csv('https://raw.githubusercontent.com/datasets/population/main/data/population.csv')\n",
    "df"
   ]
  },
  {
   "cell_type": "markdown",
   "metadata": {
    "collapsed": false,
    "jupyter": {
     "outputs_hidden": false
    }
   },
   "source": [
    "Save the DataFrame to a CSV file."
   ]
  },
  {
   "cell_type": "code",
   "execution_count": 16,
   "metadata": {
    "collapsed": false,
    "jupyter": {
     "outputs_hidden": false
    },
    "ExecuteTime": {
     "end_time": "2023-09-18T17:48:53.496953Z",
     "start_time": "2023-09-18T17:48:53.465859Z"
    }
   },
   "outputs": [],
   "source": [
    "df.to_csv('population.csv')"
   ]
  },
  {
   "cell_type": "markdown",
   "metadata": {
    "collapsed": false,
    "jupyter": {
     "outputs_hidden": false
    }
   },
   "source": [
    "We can also easily access the data in a given column. For example, let us access the data in the `Country Name` column."
   ]
  },
  {
   "cell_type": "code",
   "execution_count": 17,
   "metadata": {
    "collapsed": false,
    "jupyter": {
     "outputs_hidden": false
    },
    "ExecuteTime": {
     "end_time": "2023-09-18T17:48:53.500151Z",
     "start_time": "2023-09-18T17:48:53.476605Z"
    }
   },
   "outputs": [
    {
     "data": {
      "text/plain": "0           Aruba\n1           Aruba\n2           Aruba\n3           Aruba\n4           Aruba\n           ...   \n16395    Zimbabwe\n16396    Zimbabwe\n16397    Zimbabwe\n16398    Zimbabwe\n16399    Zimbabwe\nName: Country Name, Length: 16400, dtype: object"
     },
     "execution_count": 17,
     "metadata": {},
     "output_type": "execute_result"
    }
   ],
   "source": [
    "df['Country Name']"
   ]
  },
  {
   "cell_type": "markdown",
   "metadata": {
    "collapsed": false,
    "jupyter": {
     "outputs_hidden": false
    }
   },
   "source": [
    "We can also access the data in a given row. For example, let us access the data in the first row."
   ]
  },
  {
   "cell_type": "code",
   "execution_count": 18,
   "metadata": {
    "collapsed": false,
    "jupyter": {
     "outputs_hidden": false
    },
    "ExecuteTime": {
     "end_time": "2023-09-18T17:48:53.500467Z",
     "start_time": "2023-09-18T17:48:53.485583Z"
    }
   },
   "outputs": [
    {
     "data": {
      "text/plain": "Country Name    Aruba\nCountry Code      ABW\nYear             1960\nValue           54608\nName: 0, dtype: object"
     },
     "execution_count": 18,
     "metadata": {},
     "output_type": "execute_result"
    }
   ],
   "source": [
    "df.iloc[0]"
   ]
  },
  {
   "cell_type": "markdown",
   "metadata": {
    "collapsed": false,
    "jupyter": {
     "outputs_hidden": false
    }
   },
   "source": [
    "Get the population of Portugal through the years."
   ]
  },
  {
   "cell_type": "code",
   "execution_count": 19,
   "metadata": {
    "collapsed": false,
    "jupyter": {
     "outputs_hidden": false
    },
    "ExecuteTime": {
     "end_time": "2023-09-18T17:48:53.500942Z",
     "start_time": "2023-09-18T17:48:53.494553Z"
    }
   },
   "outputs": [
    {
     "data": {
      "text/plain": "      Country Name Country Code  Year     Value\n11966     Portugal          PRT  1960   8857716\n11967     Portugal          PRT  1961   8929316\n11968     Portugal          PRT  1962   8993985\n11969     Portugal          PRT  1963   9030355\n11970     Portugal          PRT  1964   9035365\n...            ...          ...   ...       ...\n12023     Portugal          PRT  2017  10300300\n12024     Portugal          PRT  2018  10283822\n12025     Portugal          PRT  2019  10286263\n12026     Portugal          PRT  2020  10297081\n12027     Portugal          PRT  2021  10325147\n\n[62 rows x 4 columns]",
      "text/html": "<div>\n<style scoped>\n    .dataframe tbody tr th:only-of-type {\n        vertical-align: middle;\n    }\n\n    .dataframe tbody tr th {\n        vertical-align: top;\n    }\n\n    .dataframe thead th {\n        text-align: right;\n    }\n</style>\n<table border=\"1\" class=\"dataframe\">\n  <thead>\n    <tr style=\"text-align: right;\">\n      <th></th>\n      <th>Country Name</th>\n      <th>Country Code</th>\n      <th>Year</th>\n      <th>Value</th>\n    </tr>\n  </thead>\n  <tbody>\n    <tr>\n      <th>11966</th>\n      <td>Portugal</td>\n      <td>PRT</td>\n      <td>1960</td>\n      <td>8857716</td>\n    </tr>\n    <tr>\n      <th>11967</th>\n      <td>Portugal</td>\n      <td>PRT</td>\n      <td>1961</td>\n      <td>8929316</td>\n    </tr>\n    <tr>\n      <th>11968</th>\n      <td>Portugal</td>\n      <td>PRT</td>\n      <td>1962</td>\n      <td>8993985</td>\n    </tr>\n    <tr>\n      <th>11969</th>\n      <td>Portugal</td>\n      <td>PRT</td>\n      <td>1963</td>\n      <td>9030355</td>\n    </tr>\n    <tr>\n      <th>11970</th>\n      <td>Portugal</td>\n      <td>PRT</td>\n      <td>1964</td>\n      <td>9035365</td>\n    </tr>\n    <tr>\n      <th>...</th>\n      <td>...</td>\n      <td>...</td>\n      <td>...</td>\n      <td>...</td>\n    </tr>\n    <tr>\n      <th>12023</th>\n      <td>Portugal</td>\n      <td>PRT</td>\n      <td>2017</td>\n      <td>10300300</td>\n    </tr>\n    <tr>\n      <th>12024</th>\n      <td>Portugal</td>\n      <td>PRT</td>\n      <td>2018</td>\n      <td>10283822</td>\n    </tr>\n    <tr>\n      <th>12025</th>\n      <td>Portugal</td>\n      <td>PRT</td>\n      <td>2019</td>\n      <td>10286263</td>\n    </tr>\n    <tr>\n      <th>12026</th>\n      <td>Portugal</td>\n      <td>PRT</td>\n      <td>2020</td>\n      <td>10297081</td>\n    </tr>\n    <tr>\n      <th>12027</th>\n      <td>Portugal</td>\n      <td>PRT</td>\n      <td>2021</td>\n      <td>10325147</td>\n    </tr>\n  </tbody>\n</table>\n<p>62 rows × 4 columns</p>\n</div>"
     },
     "execution_count": 19,
     "metadata": {},
     "output_type": "execute_result"
    }
   ],
   "source": [
    "query = df['Country Name'] == 'Portugal'\n",
    "df[query]"
   ]
  },
  {
   "cell_type": "markdown",
   "metadata": {
    "collapsed": false,
    "jupyter": {
     "outputs_hidden": false
    }
   },
   "source": [
    "Get the population of Portugal in 2018."
   ]
  },
  {
   "cell_type": "code",
   "execution_count": 20,
   "metadata": {
    "collapsed": false,
    "jupyter": {
     "outputs_hidden": false
    },
    "ExecuteTime": {
     "end_time": "2023-09-18T17:48:53.554337Z",
     "start_time": "2023-09-18T17:48:53.505602Z"
    }
   },
   "outputs": [
    {
     "data": {
      "text/plain": "      Country Name Country Code  Year     Value\n12024     Portugal          PRT  2018  10283822",
      "text/html": "<div>\n<style scoped>\n    .dataframe tbody tr th:only-of-type {\n        vertical-align: middle;\n    }\n\n    .dataframe tbody tr th {\n        vertical-align: top;\n    }\n\n    .dataframe thead th {\n        text-align: right;\n    }\n</style>\n<table border=\"1\" class=\"dataframe\">\n  <thead>\n    <tr style=\"text-align: right;\">\n      <th></th>\n      <th>Country Name</th>\n      <th>Country Code</th>\n      <th>Year</th>\n      <th>Value</th>\n    </tr>\n  </thead>\n  <tbody>\n    <tr>\n      <th>12024</th>\n      <td>Portugal</td>\n      <td>PRT</td>\n      <td>2018</td>\n      <td>10283822</td>\n    </tr>\n  </tbody>\n</table>\n</div>"
     },
     "execution_count": 20,
     "metadata": {},
     "output_type": "execute_result"
    }
   ],
   "source": [
    "query = (df['Country Name'] == 'Portugal') & (df['Year'] == 2018)\n",
    "df[query]"
   ]
  },
  {
   "cell_type": "markdown",
   "metadata": {
    "collapsed": false,
    "jupyter": {
     "outputs_hidden": false
    }
   },
   "source": [
    "Plot the population of Portugal through the years."
   ]
  },
  {
   "cell_type": "code",
   "execution_count": 21,
   "metadata": {
    "collapsed": false,
    "jupyter": {
     "outputs_hidden": false
    },
    "ExecuteTime": {
     "end_time": "2023-09-18T17:48:53.788928Z",
     "start_time": "2023-09-18T17:48:53.532792Z"
    }
   },
   "outputs": [
    {
     "data": {
      "text/plain": "<Axes: xlabel='Year'>"
     },
     "execution_count": 21,
     "metadata": {},
     "output_type": "execute_result"
    },
    {
     "data": {
      "text/plain": "<Figure size 640x480 with 1 Axes>",
      "image/png": "[encoded data removed]"
     },
     "metadata": {},
     "output_type": "display_data"
    }
   ],
   "source": [
    "query = df['Country Name'] == 'Portugal'\n",
    "df[query].plot(x='Year', y='Value')"
   ]
  },
  {
   "cell_type": "code",
   "execution_count": 22,
   "metadata": {
    "collapsed": false,
    "jupyter": {
     "outputs_hidden": false
    },
    "ExecuteTime": {
     "end_time": "2023-09-18T17:48:53.794405Z",
     "start_time": "2023-09-18T17:48:53.669053Z"
    }
   },
   "outputs": [
    {
     "ename": "SyntaxError",
     "evalue": "invalid syntax (238525688.py, line 1)",
     "output_type": "error",
     "traceback": [
      "\u001B[0;36m  Cell \u001B[0;32mIn[22], line 1\u001B[0;36m\u001B[0m\n\u001B[0;31m    This is just a (hyper) quick introduction to pandas. We will use it a more during this course.\u001B[0m\n\u001B[0m                 ^\u001B[0m\n\u001B[0;31mSyntaxError\u001B[0m\u001B[0;31m:\u001B[0m invalid syntax\n"
     ]
    }
   ],
   "source": [
    "This is just a (hyper) quick introduction to pandas. We will use it a more during this course."
   ]
  },
  {
   "cell_type": "markdown",
   "metadata": {
    "collapsed": false,
    "jupyter": {
     "outputs_hidden": false
    }
   },
   "source": [
    "## Exercise 4\n",
    "\n",
    "What was the world's population in 2018?\n",
    "hint: use the `sum` function"
   ]
  },
  {
   "cell_type": "code",
   "execution_count": null,
   "metadata": {
    "collapsed": false,
    "jupyter": {
     "outputs_hidden": false
    },
    "ExecuteTime": {
     "start_time": "2023-09-18T17:48:53.685662Z"
    }
   },
   "outputs": [],
   "source": [
    "# Your code here"
   ]
  },
  {
   "cell_type": "markdown",
   "metadata": {
    "collapsed": false,
    "jupyter": {
     "outputs_hidden": false
    }
   },
   "source": [
    "## Exercise 5\n",
    "\n",
    "Plot the population of Portugal and Spain through the years."
   ]
  },
  {
   "cell_type": "code",
   "execution_count": null,
   "metadata": {
    "collapsed": false,
    "jupyter": {
     "outputs_hidden": false
    },
    "ExecuteTime": {
     "start_time": "2023-09-18T17:48:53.687582Z"
    }
   },
   "outputs": [],
   "source": [
    "# Your code here"
   ]
  },
  {
   "cell_type": "markdown",
   "metadata": {
    "collapsed": false,
    "jupyter": {
     "outputs_hidden": false
    }
   },
   "source": [
    "## Exercise 6\n",
    "\n",
    "Which country had the largest population in 2018?\n",
    "Hint: use the `max` function to get the maximum value. Maybe you need to discard the `World` values in the `Country Name` column."
   ]
  },
  {
   "cell_type": "code",
   "execution_count": null,
   "metadata": {
    "collapsed": false,
    "jupyter": {
     "outputs_hidden": false
    },
    "ExecuteTime": {
     "start_time": "2023-09-18T17:48:53.689481Z"
    }
   },
   "outputs": [],
   "source": [
    "# Your code here"
   ]
  },
  {
   "cell_type": "markdown",
   "metadata": {
    "collapsed": false,
    "jupyter": {
     "outputs_hidden": false
    }
   },
   "source": []
  }
 ],
 "metadata": {
  "kernelspec": {
   "display_name": "Python 3 (ipykernel)",
   "language": "python",
   "name": "python3"
  },
  "language_info": {
   "codemirror_mode": {
    "name": "ipython",
    "version": 3
   },
   "file_extension": ".py",
   "mimetype": "text/x-python",
   "name": "python",
   "nbconvert_exporter": "python",
   "pygments_lexer": "ipython3",
   "version": "3.10.13"
  }
 },
 "nbformat": 4,
 "nbformat_minor": 4
}
