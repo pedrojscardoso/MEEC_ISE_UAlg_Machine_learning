{
 "cells": [
  {
   "cell_type": "markdown",
   "source": [
    "___\n",
    "<h1> Machine Learning </h1>\n",
    "<h2> M. Sc. in Electrical and Computer Engineering </h2>\n",
    "<h3> Instituto Superior de Engenharia / Universidade do Algarve </h3>\n",
    "\n",
    "[LESTI](https://ise.ualg.pt/curso/1941) / [ISE](https://ise.ualg.pt) / [UAlg](https://www.ualg.pt)\n",
    "\n",
    "Pedro J. S. Cardoso (pcardoso@ualg.pt)\n",
    "\n",
    "___"
   ],
   "metadata": {
    "collapsed": false
   }
  },
  {
   "cell_type": "markdown",
   "metadata": {},
   "source": [
    "\n",
    "# Basic containers\n",
    "\n",
    "## Tuples (immutable)\n",
    "\n",
    "A tuple is an immutable sequence of arbitrary Python objects. \n",
    "\n",
    "An empty tuple is defined as"
   ]
  },
  {
   "cell_type": "code",
   "execution_count": null,
   "metadata": {
    "ExecuteTime": {
     "end_time": "2022-02-17T18:35:28.810899Z",
     "start_time": "2022-02-17T18:35:28.800201Z"
    }
   },
   "outputs": [],
   "source": [
    "t = ()\n",
    "t"
   ]
  },
  {
   "cell_type": "code",
   "execution_count": null,
   "metadata": {
    "ExecuteTime": {
     "end_time": "2022-02-17T18:35:28.855405Z",
     "start_time": "2022-02-17T18:35:28.851873Z"
    }
   },
   "outputs": [],
   "source": [
    "type(t)"
   ]
  },
  {
   "cell_type": "markdown",
   "metadata": {},
   "source": [
    "To define a tuple with one single element a comma is needed"
   ]
  },
  {
   "cell_type": "code",
   "execution_count": null,
   "metadata": {
    "ExecuteTime": {
     "end_time": "2022-02-17T18:35:29.010991Z",
     "start_time": "2022-02-17T18:35:29.008086Z"
    }
   },
   "outputs": [],
   "source": [
    "one_element_tuple = (42, )\n",
    "one_element_tuple"
   ]
  },
  {
   "cell_type": "markdown",
   "metadata": {},
   "source": [
    "But is can have many values"
   ]
  },
  {
   "cell_type": "code",
   "execution_count": null,
   "metadata": {
    "ExecuteTime": {
     "end_time": "2022-02-17T18:35:29.163369Z",
     "start_time": "2022-02-17T18:35:29.160201Z"
    }
   },
   "outputs": [],
   "source": [
    "three_elements_tuple = (1, 3, 5)   \n",
    "three_elements_tuple "
   ]
  },
  {
   "cell_type": "markdown",
   "metadata": {},
   "source": [
    "Of different types"
   ]
  },
  {
   "cell_type": "code",
   "execution_count": null,
   "metadata": {
    "ExecuteTime": {
     "end_time": "2022-02-17T18:35:29.412889Z",
     "start_time": "2022-02-17T18:35:29.409669Z"
    }
   },
   "outputs": [],
   "source": [
    "mixed_tuple = (1, 1.0, True, \"DHML\")\n",
    "mixed_tuple"
   ]
  },
  {
   "cell_type": "markdown",
   "metadata": {},
   "source": [
    "And multiples values can be assigned in a single line"
   ]
  },
  {
   "cell_type": "code",
   "execution_count": null,
   "metadata": {
    "ExecuteTime": {
     "end_time": "2022-02-17T18:35:29.638306Z",
     "start_time": "2022-02-17T18:35:29.631571Z"
    }
   },
   "outputs": [],
   "source": [
    "a, b, c = three_elements_tuple\n",
    "'{} - {} - {}'.format(a, b, c)"
   ]
  },
  {
   "cell_type": "code",
   "execution_count": null,
   "metadata": {
    "ExecuteTime": {
     "end_time": "2022-02-17T18:35:29.693898Z",
     "start_time": "2022-02-17T18:35:29.690591Z"
    }
   },
   "outputs": [],
   "source": [
    "a, b, c = 1, 2, 3       # tuple for multiple assignment\n",
    "'{} - {} - {}'.format(a, b, c)"
   ]
  },
  {
   "cell_type": "markdown",
   "metadata": {},
   "source": [
    "### Swapping variable values\n",
    "\n",
    "By the way, we swap the value of two variables like this"
   ]
  },
  {
   "cell_type": "code",
   "execution_count": null,
   "metadata": {
    "ExecuteTime": {
     "end_time": "2022-02-17T18:35:29.865155Z",
     "start_time": "2022-02-17T18:35:29.862009Z"
    }
   },
   "outputs": [],
   "source": [
    "a = \"a\"\n",
    "b = \"b\"\n",
    "print('before: {} - {}'.format(a, b))\n",
    "a, b = b, a\n",
    "print('after: {} - {}'.format(a, b))"
   ]
  },
  {
   "cell_type": "markdown",
   "metadata": {},
   "source": [
    "or even more fun (!?)"
   ]
  },
  {
   "cell_type": "code",
   "execution_count": null,
   "metadata": {
    "ExecuteTime": {
     "end_time": "2022-02-17T18:35:30.030945Z",
     "start_time": "2022-02-17T18:35:30.027378Z"
    }
   },
   "outputs": [],
   "source": [
    "a, b, c = 1, 2, 3\n",
    "print('before: {} - {} - {}'.format(a, b, c))\n",
    "a, b, c = b, c, a\n",
    "print('after: {} - {} - {}'.format(a, b, c))"
   ]
  },
  {
   "cell_type": "markdown",
   "metadata": {},
   "source": [
    "### Operation with tuples\n",
    "\n",
    "The membership operator `in` can be used with lists, strings, dictionaries, and in general with collection and sequence objects.\n"
   ]
  },
  {
   "cell_type": "code",
   "execution_count": null,
   "metadata": {
    "ExecuteTime": {
     "end_time": "2022-02-17T18:35:30.185046Z",
     "start_time": "2022-02-17T18:35:30.182342Z"
    }
   },
   "outputs": [],
   "source": [
    "3 in three_elements_tuple"
   ]
  },
  {
   "cell_type": "code",
   "execution_count": null,
   "metadata": {
    "ExecuteTime": {
     "end_time": "2022-02-17T18:35:30.239245Z",
     "start_time": "2022-02-17T18:35:30.235274Z"
    }
   },
   "outputs": [],
   "source": [
    "9 in three_elements_tuple"
   ]
  },
  {
   "cell_type": "markdown",
   "metadata": {},
   "source": [
    "### Tuples are immutable\n",
    "\n",
    "The next line will throw an error..."
   ]
  },
  {
   "cell_type": "code",
   "execution_count": null,
   "metadata": {
    "ExecuteTime": {
     "end_time": "2022-02-17T18:35:30.422939Z",
     "start_time": "2022-02-17T18:35:30.389470Z"
    }
   },
   "outputs": [],
   "source": [
    "three_elements_tuple[0] = 10"
   ]
  },
  {
   "cell_type": "markdown",
   "metadata": {},
   "source": [
    "## Lists (mutable)\n",
    "\n",
    "- Mutable sequences differ from their immutable sisters in that they can be changed after creation. \n",
    "- There are two *mutable* sequence types in Python: lists and byte arrays.\n",
    "- Lists are very similar to tuples. \n",
    "- Lists are commonly used to store collections of homogeneous objects, but there is nothing preventing you to store heterogeneous collections as well. "
   ]
  },
  {
   "cell_type": "code",
   "execution_count": null,
   "metadata": {
    "ExecuteTime": {
     "end_time": "2022-02-17T18:35:30.561122Z",
     "start_time": "2022-02-17T18:35:30.558985Z"
    }
   },
   "outputs": [],
   "source": [
    "empty_list = []\n",
    "another_empty_list = list()"
   ]
  },
  {
   "cell_type": "code",
   "execution_count": null,
   "metadata": {
    "ExecuteTime": {
     "end_time": "2022-02-17T18:35:30.610292Z",
     "start_time": "2022-02-17T18:35:30.607044Z"
    }
   },
   "outputs": [],
   "source": [
    "dir(empty_list)"
   ]
  },
  {
   "cell_type": "markdown",
   "metadata": {},
   "source": [
    "We can create a list enumerating elements"
   ]
  },
  {
   "cell_type": "code",
   "execution_count": null,
   "metadata": {
    "ExecuteTime": {
     "end_time": "2022-02-17T18:35:30.758657Z",
     "start_time": "2022-02-17T18:35:30.755532Z"
    }
   },
   "outputs": [],
   "source": [
    "lst = [1, 2, 3, 4, 5, 6, 7]\n",
    "lst"
   ]
  },
  {
   "cell_type": "markdown",
   "metadata": {},
   "source": [
    "but there are other ways"
   ]
  },
  {
   "cell_type": "code",
   "execution_count": null,
   "metadata": {
    "ExecuteTime": {
     "end_time": "2022-02-17T18:35:30.911387Z",
     "start_time": "2022-02-17T18:35:30.907976Z"
    }
   },
   "outputs": [],
   "source": [
    "list(range(1, 8))"
   ]
  },
  {
   "cell_type": "code",
   "execution_count": null,
   "metadata": {
    "ExecuteTime": {
     "end_time": "2022-02-17T18:35:30.972352Z",
     "start_time": "2022-02-17T18:35:30.966485Z"
    }
   },
   "outputs": [],
   "source": [
    "lst = [i ** 2 for i in range(0, 8)]  # Python is magic\n",
    "lst"
   ]
  },
  {
   "cell_type": "code",
   "execution_count": null,
   "metadata": {
    "ExecuteTime": {
     "end_time": "2022-02-17T18:35:31.027584Z",
     "start_time": "2022-02-17T18:35:31.024412Z"
    }
   },
   "outputs": [],
   "source": [
    "list((1,2,3))"
   ]
  },
  {
   "cell_type": "code",
   "execution_count": null,
   "metadata": {
    "ExecuteTime": {
     "end_time": "2022-02-17T18:35:31.091444Z",
     "start_time": "2022-02-17T18:35:31.087794Z"
    }
   },
   "outputs": [],
   "source": [
    "list('Hello')"
   ]
  },
  {
   "cell_type": "markdown",
   "metadata": {},
   "source": [
    "### operations "
   ]
  },
  {
   "cell_type": "code",
   "execution_count": null,
   "metadata": {
    "ExecuteTime": {
     "end_time": "2022-02-17T18:35:31.325730Z",
     "start_time": "2022-02-17T18:35:31.322119Z"
    }
   },
   "outputs": [],
   "source": [
    "a  = [1, 2, 3, 4, 1]\n",
    "dir(a)"
   ]
  },
  {
   "cell_type": "markdown",
   "metadata": {},
   "source": [
    "we can append anything at the end"
   ]
  },
  {
   "cell_type": "code",
   "execution_count": null,
   "metadata": {
    "ExecuteTime": {
     "end_time": "2022-02-17T18:35:31.507959Z",
     "start_time": "2022-02-17T18:35:31.504961Z"
    }
   },
   "outputs": [],
   "source": [
    "a.append(13)\n",
    "a"
   ]
  },
  {
   "cell_type": "code",
   "execution_count": null,
   "metadata": {
    "ExecuteTime": {
     "end_time": "2022-02-17T18:35:31.559035Z",
     "start_time": "2022-02-17T18:35:31.555964Z"
    }
   },
   "outputs": [],
   "source": [
    "a.append([11,22,33])\n",
    "a"
   ]
  },
  {
   "cell_type": "markdown",
   "metadata": {},
   "source": [
    "how many 1's are there in the list?"
   ]
  },
  {
   "cell_type": "code",
   "execution_count": null,
   "metadata": {
    "ExecuteTime": {
     "end_time": "2022-02-17T18:35:31.733196Z",
     "start_time": "2022-02-17T18:35:31.729487Z"
    }
   },
   "outputs": [],
   "source": [
    "a.count(1)"
   ]
  },
  {
   "cell_type": "markdown",
   "metadata": {},
   "source": [
    "extend the list by another one (or sequence)"
   ]
  },
  {
   "cell_type": "code",
   "execution_count": null,
   "metadata": {
    "ExecuteTime": {
     "end_time": "2022-02-17T18:35:31.944421Z",
     "start_time": "2022-02-17T18:35:31.941070Z"
    }
   },
   "outputs": [],
   "source": [
    "a.extend([11,22,33]) \n",
    "a"
   ]
  },
  {
   "cell_type": "markdown",
   "metadata": {},
   "source": [
    "insert 111 at position 0..."
   ]
  },
  {
   "cell_type": "code",
   "execution_count": null,
   "metadata": {
    "ExecuteTime": {
     "end_time": "2022-02-17T18:35:32.132160Z",
     "start_time": "2022-02-17T18:35:32.129228Z"
    }
   },
   "outputs": [],
   "source": [
    "a.insert(0, 111)\n",
    "a"
   ]
  },
  {
   "cell_type": "markdown",
   "metadata": {},
   "source": [
    "find the position/index of the first occurrence of an element in a list"
   ]
  },
  {
   "cell_type": "code",
   "execution_count": null,
   "metadata": {
    "ExecuteTime": {
     "end_time": "2022-02-17T18:35:32.343252Z",
     "start_time": "2022-02-17T18:35:32.340200Z"
    }
   },
   "outputs": [],
   "source": [
    "a.index(3)"
   ]
  },
  {
   "cell_type": "markdown",
   "metadata": {},
   "source": [
    "As for strings, list are 'sliceable'"
   ]
  },
  {
   "cell_type": "code",
   "execution_count": null,
   "metadata": {
    "ExecuteTime": {
     "end_time": "2022-02-17T18:35:32.648310Z",
     "start_time": "2022-02-17T18:35:32.643578Z"
    }
   },
   "outputs": [],
   "source": [
    "a[3]"
   ]
  },
  {
   "cell_type": "code",
   "execution_count": null,
   "metadata": {
    "ExecuteTime": {
     "end_time": "2022-02-17T18:35:32.741267Z",
     "start_time": "2022-02-17T18:35:32.736779Z"
    }
   },
   "outputs": [],
   "source": [
    "a[:-3]"
   ]
  },
  {
   "cell_type": "markdown",
   "metadata": {},
   "source": [
    "pop (remove and return) last element"
   ]
  },
  {
   "cell_type": "code",
   "execution_count": null,
   "metadata": {
    "ExecuteTime": {
     "end_time": "2022-02-17T18:35:33.033896Z",
     "start_time": "2022-02-17T18:35:33.031111Z"
    }
   },
   "outputs": [],
   "source": [
    " a.pop()"
   ]
  },
  {
   "cell_type": "markdown",
   "metadata": {},
   "source": [
    "pop element at position 3"
   ]
  },
  {
   "cell_type": "code",
   "execution_count": null,
   "metadata": {
    "ExecuteTime": {
     "end_time": "2022-02-17T18:35:33.212367Z",
     "start_time": "2022-02-17T18:35:33.209470Z"
    }
   },
   "outputs": [],
   "source": [
    "a.pop(3)"
   ]
  },
  {
   "cell_type": "code",
   "execution_count": null,
   "metadata": {
    "ExecuteTime": {
     "end_time": "2022-02-17T18:35:33.263731Z",
     "start_time": "2022-02-17T18:35:33.260446Z"
    }
   },
   "outputs": [],
   "source": [
    "a"
   ]
  },
  {
   "cell_type": "markdown",
   "metadata": {},
   "source": [
    "remove the 1st ocurrence of 111 from the list"
   ]
  },
  {
   "cell_type": "code",
   "execution_count": null,
   "metadata": {
    "ExecuteTime": {
     "end_time": "2022-02-17T18:35:33.487977Z",
     "start_time": "2022-02-17T18:35:33.483890Z"
    }
   },
   "outputs": [],
   "source": [
    "a.remove(111)\n",
    "a"
   ]
  },
  {
   "cell_type": "markdown",
   "metadata": {},
   "source": [
    "reverse the order of the elements in the list"
   ]
  },
  {
   "cell_type": "code",
   "execution_count": null,
   "metadata": {
    "ExecuteTime": {
     "end_time": "2022-02-17T18:35:33.708861Z",
     "start_time": "2022-02-17T18:35:33.703036Z"
    }
   },
   "outputs": [],
   "source": [
    "a.reverse()\n",
    "a"
   ]
  },
  {
   "cell_type": "code",
   "execution_count": null,
   "metadata": {
    "ExecuteTime": {
     "end_time": "2022-02-17T18:35:33.760636Z",
     "start_time": "2022-02-17T18:35:33.758219Z"
    }
   },
   "outputs": [],
   "source": [
    "a.remove([11, 22, 33])"
   ]
  },
  {
   "cell_type": "markdown",
   "metadata": {},
   "source": [
    "sort the list"
   ]
  },
  {
   "cell_type": "code",
   "execution_count": null,
   "metadata": {
    "ExecuteTime": {
     "end_time": "2022-02-17T18:35:33.954833Z",
     "start_time": "2022-02-17T18:35:33.951192Z"
    }
   },
   "outputs": [],
   "source": [
    "a.sort()\n",
    "a"
   ]
  },
  {
   "cell_type": "markdown",
   "metadata": {},
   "source": [
    "Remove and return the element at position 0"
   ]
  },
  {
   "cell_type": "code",
   "execution_count": null,
   "metadata": {
    "ExecuteTime": {
     "end_time": "2022-02-17T18:35:34.122793Z",
     "start_time": "2022-02-17T18:35:34.119865Z"
    }
   },
   "outputs": [],
   "source": [
    "a.pop(0)"
   ]
  },
  {
   "cell_type": "code",
   "execution_count": null,
   "metadata": {
    "ExecuteTime": {
     "end_time": "2022-02-17T18:35:34.178517Z",
     "start_time": "2022-02-17T18:35:34.175592Z"
    }
   },
   "outputs": [],
   "source": [
    "a"
   ]
  },
  {
   "cell_type": "markdown",
   "metadata": {},
   "source": [
    "remove all elements from the list"
   ]
  },
  {
   "cell_type": "code",
   "execution_count": null,
   "metadata": {
    "ExecuteTime": {
     "end_time": "2022-02-17T18:35:34.358409Z",
     "start_time": "2022-02-17T18:35:34.355093Z"
    }
   },
   "outputs": [],
   "source": [
    "a.clear()\n",
    "a"
   ]
  },
  {
   "cell_type": "markdown",
   "metadata": {},
   "source": [
    "as seen, list can have heterogeneous types"
   ]
  },
  {
   "cell_type": "code",
   "execution_count": null,
   "metadata": {
    "ExecuteTime": {
     "end_time": "2022-02-17T18:35:34.539155Z",
     "start_time": "2022-02-17T18:35:34.535598Z"
    }
   },
   "outputs": [],
   "source": [
    "a = list('hello')   # makes a list from a string\n",
    "a.append(100)       # append 100, heterogeneous type\n",
    "a"
   ]
  },
  {
   "cell_type": "code",
   "execution_count": null,
   "metadata": {
    "ExecuteTime": {
     "end_time": "2022-02-17T18:35:34.590432Z",
     "start_time": "2022-02-17T18:35:34.587448Z"
    }
   },
   "outputs": [],
   "source": [
    "a.append((1, 2, 3))\n",
    "a"
   ]
  },
  {
   "cell_type": "code",
   "execution_count": null,
   "metadata": {
    "ExecuteTime": {
     "end_time": "2022-02-17T18:35:34.637441Z",
     "start_time": "2022-02-17T18:35:34.634189Z"
    }
   },
   "outputs": [],
   "source": [
    "a.extend((1, 2, 3)) # extend using tuple. \n",
    "a"
   ]
  },
  {
   "cell_type": "code",
   "execution_count": null,
   "metadata": {
    "ExecuteTime": {
     "end_time": "2022-02-17T18:35:34.686327Z",
     "start_time": "2022-02-17T18:35:34.683251Z"
    }
   },
   "outputs": [],
   "source": [
    "a.append(('...',)  )   # extend using string\n",
    "a"
   ]
  },
  {
   "cell_type": "markdown",
   "metadata": {},
   "source": [
    "Other operations"
   ]
  },
  {
   "cell_type": "code",
   "execution_count": null,
   "metadata": {
    "ExecuteTime": {
     "end_time": "2022-02-17T18:35:34.852942Z",
     "start_time": "2022-02-17T18:35:34.850827Z"
    }
   },
   "outputs": [],
   "source": [
    "a = [1, 3, 5, 7]"
   ]
  },
  {
   "cell_type": "code",
   "execution_count": null,
   "metadata": {
    "ExecuteTime": {
     "end_time": "2022-02-17T18:35:34.905254Z",
     "start_time": "2022-02-17T18:35:34.901618Z"
    }
   },
   "outputs": [],
   "source": [
    "min(a)               # minimum value in the list"
   ]
  },
  {
   "cell_type": "code",
   "execution_count": null,
   "metadata": {
    "ExecuteTime": {
     "end_time": "2022-02-17T18:35:34.953009Z",
     "start_time": "2022-02-17T18:35:34.950070Z"
    }
   },
   "outputs": [],
   "source": [
    "max(a)              # maximum value in the list"
   ]
  },
  {
   "cell_type": "code",
   "execution_count": null,
   "metadata": {
    "ExecuteTime": {
     "end_time": "2022-02-17T18:35:35.006080Z",
     "start_time": "2022-02-17T18:35:35.002321Z"
    }
   },
   "outputs": [],
   "source": [
    "sum(a)              # sum of all values in the list"
   ]
  },
  {
   "cell_type": "code",
   "execution_count": null,
   "metadata": {
    "ExecuteTime": {
     "end_time": "2022-02-17T18:35:35.059056Z",
     "start_time": "2022-02-17T18:35:35.055880Z"
    }
   },
   "outputs": [],
   "source": [
    "len(a)              # number of elements in the list"
   ]
  },
  {
   "cell_type": "markdown",
   "metadata": {},
   "source": [
    "\"+\" with list means concatenation"
   ]
  },
  {
   "cell_type": "code",
   "execution_count": null,
   "metadata": {
    "ExecuteTime": {
     "end_time": "2022-02-17T18:35:35.255661Z",
     "start_time": "2022-02-17T18:35:35.252254Z"
    }
   },
   "outputs": [],
   "source": [
    "b = [6, 7, 8, 9] \n",
    "a + b           "
   ]
  },
  {
   "cell_type": "markdown",
   "metadata": {},
   "source": [
    "The zip function acts like a \"zip\" between two list"
   ]
  },
  {
   "cell_type": "code",
   "execution_count": null,
   "metadata": {
    "ExecuteTime": {
     "end_time": "2022-02-17T18:35:35.453303Z",
     "start_time": "2022-02-17T18:35:35.449977Z"
    }
   },
   "outputs": [],
   "source": [
    "[ i + j for i, j in zip(a, b)]"
   ]
  },
  {
   "cell_type": "code",
   "execution_count": null,
   "metadata": {
    "ExecuteTime": {
     "end_time": "2022-02-17T18:35:35.504538Z",
     "start_time": "2022-02-17T18:35:35.501012Z"
    }
   },
   "outputs": [],
   "source": [
    "list(zip(a, b))"
   ]
  },
  {
   "cell_type": "markdown",
   "metadata": {},
   "source": [
    "\"*\" has also a special meaning"
   ]
  },
  {
   "cell_type": "code",
   "execution_count": null,
   "metadata": {
    "ExecuteTime": {
     "end_time": "2022-02-17T18:35:35.721264Z",
     "start_time": "2022-02-17T18:35:35.717837Z"
    }
   },
   "outputs": [],
   "source": [
    "a * 3"
   ]
  },
  {
   "cell_type": "code",
   "execution_count": null,
   "metadata": {
    "ExecuteTime": {
     "end_time": "2022-02-17T18:35:35.775796Z",
     "start_time": "2022-02-17T18:35:35.772882Z"
    }
   },
   "outputs": [],
   "source": [
    "10 * \"SLB is great!\""
   ]
  },
  {
   "cell_type": "markdown",
   "metadata": {},
   "source": [
    "## Sets\n",
    "\n",
    "- Python also provides two set types, `set` and `frozenset`. \n",
    "- The `set` type is mutable, while `frozenset` is immutable. \n",
    "- They are unordered collections of immutable objects."
   ]
  },
  {
   "cell_type": "code",
   "execution_count": null,
   "metadata": {
    "ExecuteTime": {
     "end_time": "2022-02-17T18:35:35.986095Z",
     "start_time": "2022-02-17T18:35:35.982977Z"
    }
   },
   "outputs": [],
   "source": [
    "small_primes = set()    # empty set\n",
    "small_primes"
   ]
  },
  {
   "cell_type": "markdown",
   "metadata": {},
   "source": [
    "adding one element at a time"
   ]
  },
  {
   "cell_type": "code",
   "execution_count": null,
   "metadata": {
    "ExecuteTime": {
     "end_time": "2022-02-17T18:35:36.184490Z",
     "start_time": "2022-02-17T18:35:36.181591Z"
    }
   },
   "outputs": [],
   "source": [
    "small_primes.add(2)\n",
    "small_primes.add(3)\n",
    "\n",
    "small_primes"
   ]
  },
  {
   "cell_type": "markdown",
   "metadata": {},
   "source": [
    "and now a lot of 5's!"
   ]
  },
  {
   "cell_type": "code",
   "execution_count": null,
   "metadata": {
    "ExecuteTime": {
     "end_time": "2022-02-17T18:35:36.374060Z",
     "start_time": "2022-02-17T18:35:36.370319Z"
    }
   },
   "outputs": [],
   "source": [
    "small_primes.add(5)\n",
    "small_primes.add(5)\n",
    "small_primes.add(5)\n",
    "small_primes"
   ]
  },
  {
   "cell_type": "markdown",
   "metadata": {},
   "source": [
    "and one more..."
   ]
  },
  {
   "cell_type": "code",
   "execution_count": null,
   "metadata": {
    "ExecuteTime": {
     "end_time": "2022-02-17T18:35:36.563255Z",
     "start_time": "2022-02-17T18:35:36.560635Z"
    }
   },
   "outputs": [],
   "source": [
    "small_primes.add(1)\n",
    "small_primes"
   ]
  },
  {
   "cell_type": "markdown",
   "metadata": {},
   "source": [
    "Look what I've done, 1 is not a prime! so let's remove it..."
   ]
  },
  {
   "cell_type": "code",
   "execution_count": null,
   "metadata": {
    "ExecuteTime": {
     "end_time": "2022-02-17T18:35:36.784962Z",
     "start_time": "2022-02-17T18:35:36.782229Z"
    }
   },
   "outputs": [],
   "source": [
    "small_primes.remove(1)\n",
    "small_primes"
   ]
  },
  {
   "cell_type": "markdown",
   "metadata": {},
   "source": [
    "### operation"
   ]
  },
  {
   "cell_type": "code",
   "execution_count": null,
   "metadata": {
    "ExecuteTime": {
     "end_time": "2022-02-17T18:35:37.046698Z",
     "start_time": "2022-02-17T18:35:37.044009Z"
    }
   },
   "outputs": [],
   "source": [
    "3 in small_primes"
   ]
  },
  {
   "cell_type": "code",
   "execution_count": null,
   "metadata": {
    "ExecuteTime": {
     "end_time": "2022-02-17T18:35:37.097961Z",
     "start_time": "2022-02-17T18:35:37.095387Z"
    }
   },
   "outputs": [],
   "source": [
    "4 in small_primes"
   ]
  },
  {
   "cell_type": "code",
   "execution_count": null,
   "metadata": {
    "ExecuteTime": {
     "end_time": "2022-02-17T18:35:37.148172Z",
     "start_time": "2022-02-17T18:35:37.145540Z"
    }
   },
   "outputs": [],
   "source": [
    "4 not in small_primes"
   ]
  },
  {
   "cell_type": "markdown",
   "metadata": {},
   "source": [
    "Other forms of creating set are"
   ]
  },
  {
   "cell_type": "code",
   "execution_count": null,
   "metadata": {
    "ExecuteTime": {
     "end_time": "2022-02-17T18:35:37.355734Z",
     "start_time": "2022-02-17T18:35:37.352112Z"
    }
   },
   "outputs": [],
   "source": [
    "bigger_primes = set([5, 7, 11, 13]) \n",
    "bigger_primes"
   ]
  },
  {
   "cell_type": "code",
   "execution_count": null,
   "metadata": {
    "ExecuteTime": {
     "end_time": "2022-02-17T18:35:37.408920Z",
     "start_time": "2022-02-17T18:35:37.405557Z"
    }
   },
   "outputs": [],
   "source": [
    "bigger_primes = {5, 7, 11, 13, 11, 13, 11, 13, 11, 13, 11, 13, 11, 13} \n",
    "bigger_primes"
   ]
  },
  {
   "cell_type": "markdown",
   "metadata": {},
   "source": [
    "union operator `|`"
   ]
  },
  {
   "cell_type": "code",
   "execution_count": null,
   "metadata": {
    "ExecuteTime": {
     "end_time": "2022-02-17T18:35:37.598391Z",
     "start_time": "2022-02-17T18:35:37.595531Z"
    }
   },
   "outputs": [],
   "source": [
    "small_primes | bigger_primes"
   ]
  },
  {
   "cell_type": "markdown",
   "metadata": {},
   "source": [
    "intersection operator `&`"
   ]
  },
  {
   "cell_type": "code",
   "execution_count": null,
   "metadata": {
    "ExecuteTime": {
     "end_time": "2022-02-17T18:35:37.801585Z",
     "start_time": "2022-02-17T18:35:37.798281Z"
    }
   },
   "outputs": [],
   "source": [
    "small_primes & bigger_primes"
   ]
  },
  {
   "cell_type": "markdown",
   "metadata": {},
   "source": [
    "difference operator `-`        "
   ]
  },
  {
   "cell_type": "code",
   "execution_count": null,
   "metadata": {
    "ExecuteTime": {
     "end_time": "2022-02-17T18:35:37.998095Z",
     "start_time": "2022-02-17T18:35:37.994679Z"
    }
   },
   "outputs": [],
   "source": [
    "small_primes - bigger_primes"
   ]
  },
  {
   "cell_type": "markdown",
   "metadata": {},
   "source": [
    "### Frozen Sets\n",
    "\n",
    "As already presented, frozen sets are immutable"
   ]
  },
  {
   "cell_type": "code",
   "execution_count": null,
   "metadata": {
    "ExecuteTime": {
     "end_time": "2022-02-17T18:35:38.195805Z",
     "start_time": "2022-02-17T18:35:38.192825Z"
    }
   },
   "outputs": [],
   "source": [
    "small_primes = frozenset([2, 3, 5, 7])\n",
    "bigger_primes = frozenset([5, 7, 11])"
   ]
  },
  {
   "cell_type": "markdown",
   "metadata": {},
   "source": [
    "we cannot add to a frozenset"
   ]
  },
  {
   "cell_type": "code",
   "execution_count": null,
   "metadata": {
    "ExecuteTime": {
     "end_time": "2022-02-17T18:35:38.396509Z",
     "start_time": "2022-02-17T18:35:38.389969Z"
    }
   },
   "outputs": [],
   "source": [
    "small_primes.add(11)"
   ]
  },
  {
   "cell_type": "markdown",
   "metadata": {},
   "source": [
    "neither we can remove"
   ]
  },
  {
   "cell_type": "code",
   "execution_count": null,
   "metadata": {
    "ExecuteTime": {
     "end_time": "2022-02-17T18:35:38.597809Z",
     "start_time": "2022-02-17T18:35:38.591908Z"
    }
   },
   "outputs": [],
   "source": [
    "small_primes.remove(2) "
   ]
  },
  {
   "cell_type": "markdown",
   "metadata": {},
   "source": [
    "but we can do other operations such as in intersect, union or difference"
   ]
  },
  {
   "cell_type": "code",
   "execution_count": null,
   "metadata": {
    "ExecuteTime": {
     "end_time": "2022-02-17T18:35:38.839800Z",
     "start_time": "2022-02-17T18:35:38.836903Z"
    }
   },
   "outputs": [],
   "source": [
    "small_primes & bigger_primes"
   ]
  },
  {
   "cell_type": "code",
   "execution_count": null,
   "metadata": {
    "ExecuteTime": {
     "end_time": "2022-02-17T18:35:38.891266Z",
     "start_time": "2022-02-17T18:35:38.888436Z"
    }
   },
   "outputs": [],
   "source": [
    "small_primes | bigger_primes"
   ]
  },
  {
   "cell_type": "code",
   "execution_count": null,
   "metadata": {
    "ExecuteTime": {
     "end_time": "2022-02-17T18:35:38.949190Z",
     "start_time": "2022-02-17T18:35:38.946296Z"
    }
   },
   "outputs": [],
   "source": [
    "small_primes - bigger_primes"
   ]
  },
  {
   "cell_type": "markdown",
   "metadata": {},
   "source": [
    "## Dictionaries\n",
    "\n",
    "- Dictionary type is the only standard mapping type, and it is the backbone of every Python object.\n",
    "- A dictionary maps keys to values\n",
    "- Keys need to be hashable objects, while values can be of any arbitrary type.\n",
    "- Dictionaries are mutable objects."
   ]
  },
  {
   "cell_type": "code",
   "execution_count": null,
   "metadata": {
    "ExecuteTime": {
     "end_time": "2022-02-17T18:35:39.166096Z",
     "start_time": "2022-02-17T18:35:39.163426Z"
    }
   },
   "outputs": [],
   "source": [
    "a = dict(A=1, Z=-1)\n",
    "b = {'A': 1, 'Z': -1}\n",
    "c = dict(zip(['A', 'Z'], [1, -1]))\n",
    "d = dict([('A', 1), ('Z', -1)])\n",
    "e = dict({'Z': -1, 'A': 1})"
   ]
  },
  {
   "cell_type": "markdown",
   "metadata": {},
   "source": [
    "are they equal?"
   ]
  },
  {
   "cell_type": "code",
   "execution_count": null,
   "metadata": {
    "ExecuteTime": {
     "end_time": "2022-02-17T18:35:39.379613Z",
     "start_time": "2022-02-17T18:35:39.376863Z"
    }
   },
   "outputs": [],
   "source": [
    "a == b == c == d == e"
   ]
  },
  {
   "cell_type": "markdown",
   "metadata": {},
   "source": [
    "are they all the same?"
   ]
  },
  {
   "cell_type": "code",
   "execution_count": null,
   "metadata": {
    "ExecuteTime": {
     "end_time": "2022-02-17T18:35:39.586367Z",
     "start_time": "2022-02-17T18:35:39.583050Z"
    }
   },
   "outputs": [],
   "source": [
    "[id(x) for x in [a, b, c, d, e]]"
   ]
  },
  {
   "cell_type": "markdown",
   "metadata": {
    "ExecuteTime": {
     "end_time": "2018-02-08T23:00:16.678060Z",
     "start_time": "2018-02-08T23:00:16.673041Z"
    }
   },
   "source": [
    "So, the key can be an immutable and, e.g., tuples are immutables"
   ]
  },
  {
   "cell_type": "code",
   "execution_count": null,
   "metadata": {
    "ExecuteTime": {
     "end_time": "2022-02-17T18:35:39.808636Z",
     "start_time": "2022-02-17T18:35:39.803866Z"
    }
   },
   "outputs": [],
   "source": [
    "B = [42, \"Brian\"]\n",
    "a[(1, 2)] = B # (1, 2) is a tuple, so it is immutable\n",
    "a[(2, 1)] = B\n",
    "a"
   ]
  },
  {
   "cell_type": "markdown",
   "metadata": {},
   "source": [
    "such as are string"
   ]
  },
  {
   "cell_type": "code",
   "execution_count": null,
   "metadata": {
    "ExecuteTime": {
     "end_time": "2022-02-17T18:35:40.033912Z",
     "start_time": "2022-02-17T18:35:40.031486Z"
    }
   },
   "outputs": [],
   "source": [
    "a[\"some key\"] = 42"
   ]
  },
  {
   "cell_type": "markdown",
   "metadata": {},
   "source": [
    "In `a` was stored a reference to `B`. So if we change what is referenced by `B`"
   ]
  },
  {
   "cell_type": "code",
   "execution_count": null,
   "metadata": {
    "ExecuteTime": {
     "end_time": "2022-02-17T18:35:40.279298Z",
     "start_time": "2022-02-17T18:35:40.275490Z"
    }
   },
   "outputs": [],
   "source": [
    "B.append(\"life\")\n",
    "a"
   ]
  },
  {
   "cell_type": "markdown",
   "metadata": {},
   "source": [
    "and more..."
   ]
  },
  {
   "cell_type": "code",
   "execution_count": null,
   "metadata": {
    "ExecuteTime": {
     "end_time": "2022-02-17T18:35:40.493429Z",
     "start_time": "2022-02-17T18:35:40.490102Z"
    }
   },
   "outputs": [],
   "source": [
    "a[1] = 3\n",
    "a[frozenset([1, 2])] = 12 \n",
    "a"
   ]
  },
  {
   "cell_type": "markdown",
   "metadata": {},
   "source": [
    "### operations"
   ]
  },
  {
   "cell_type": "code",
   "execution_count": null,
   "metadata": {
    "ExecuteTime": {
     "end_time": "2022-02-17T18:35:40.737628Z",
     "start_time": "2022-02-17T18:35:40.733906Z"
    }
   },
   "outputs": [],
   "source": [
    "d = {}\n",
    "d['a'] = 1\n",
    "d['b'] = 2\n",
    "d"
   ]
  },
  {
   "cell_type": "markdown",
   "metadata": {},
   "source": [
    "How many elements?"
   ]
  },
  {
   "cell_type": "code",
   "execution_count": null,
   "metadata": {
    "ExecuteTime": {
     "end_time": "2022-02-17T18:35:41.004460Z",
     "start_time": "2022-02-17T18:35:41.001285Z"
    }
   },
   "outputs": [],
   "source": [
    "len(d)"
   ]
  },
  {
   "cell_type": "markdown",
   "metadata": {},
   "source": [
    "what is the value of 'a'?"
   ]
  },
  {
   "cell_type": "code",
   "execution_count": null,
   "metadata": {
    "ExecuteTime": {
     "end_time": "2022-02-17T18:35:41.222820Z",
     "start_time": "2022-02-17T18:35:41.219893Z"
    }
   },
   "outputs": [],
   "source": [
    "d['a']"
   ]
  },
  {
   "cell_type": "markdown",
   "metadata": {},
   "source": [
    "let us remove `a`"
   ]
  },
  {
   "cell_type": "code",
   "execution_count": null,
   "metadata": {
    "ExecuteTime": {
     "end_time": "2022-02-17T18:35:41.457573Z",
     "start_time": "2022-02-17T18:35:41.454404Z"
    }
   },
   "outputs": [],
   "source": [
    "del d['a']              # \n",
    "d"
   ]
  },
  {
   "cell_type": "markdown",
   "metadata": {},
   "source": [
    "membership is checked against the keys"
   ]
  },
  {
   "cell_type": "code",
   "execution_count": null,
   "metadata": {
    "ExecuteTime": {
     "end_time": "2022-02-17T18:35:41.726851Z",
     "start_time": "2022-02-17T18:35:41.723949Z"
    }
   },
   "outputs": [],
   "source": [
    "d['c'] = 3  \n",
    "'c' in d "
   ]
  },
  {
   "cell_type": "markdown",
   "metadata": {},
   "source": [
    "not the values"
   ]
  },
  {
   "cell_type": "code",
   "execution_count": null,
   "metadata": {
    "ExecuteTime": {
     "end_time": "2022-02-17T18:35:41.942160Z",
     "start_time": "2022-02-17T18:35:41.938708Z"
    }
   },
   "outputs": [],
   "source": [
    "3 in d                  # not the values"
   ]
  },
  {
   "cell_type": "markdown",
   "metadata": {},
   "source": [
    "obviously, we can also check the values..."
   ]
  },
  {
   "cell_type": "code",
   "execution_count": null,
   "metadata": {
    "ExecuteTime": {
     "end_time": "2022-02-17T18:35:42.161227Z",
     "start_time": "2022-02-17T18:35:42.158237Z"
    }
   },
   "outputs": [],
   "source": [
    "3 in d.values()"
   ]
  },
  {
   "cell_type": "markdown",
   "metadata": {},
   "source": [
    "have a look at dic properties"
   ]
  },
  {
   "cell_type": "code",
   "execution_count": null,
   "metadata": {
    "ExecuteTime": {
     "end_time": "2022-02-17T18:35:42.378771Z",
     "start_time": "2022-02-17T18:35:42.375345Z"
    }
   },
   "outputs": [],
   "source": [
    "dir(dict)"
   ]
  },
  {
   "cell_type": "markdown",
   "metadata": {},
   "source": [
    "Clean everything "
   ]
  },
  {
   "cell_type": "code",
   "execution_count": null,
   "metadata": {
    "ExecuteTime": {
     "end_time": "2022-02-17T18:35:42.593463Z",
     "start_time": "2022-02-17T18:35:42.590566Z"
    }
   },
   "outputs": [],
   "source": [
    "d.clear() \n",
    "d"
   ]
  },
  {
   "cell_type": "markdown",
   "metadata": {},
   "source": [
    "### dictionaries inline (optional)"
   ]
  },
  {
   "cell_type": "code",
   "execution_count": null,
   "metadata": {
    "ExecuteTime": {
     "end_time": "2022-02-17T18:35:42.803917Z",
     "start_time": "2022-02-17T18:35:42.800762Z"
    }
   },
   "outputs": [],
   "source": [
    "d = dict(zip('hello', range(5)))\n",
    "d"
   ]
  },
  {
   "cell_type": "code",
   "execution_count": null,
   "metadata": {
    "ExecuteTime": {
     "end_time": "2022-02-17T18:35:42.860474Z",
     "start_time": "2022-02-17T18:35:42.857122Z"
    }
   },
   "outputs": [],
   "source": [
    "d.keys()"
   ]
  },
  {
   "cell_type": "code",
   "execution_count": null,
   "metadata": {
    "ExecuteTime": {
     "end_time": "2022-02-17T18:35:42.922749Z",
     "start_time": "2022-02-17T18:35:42.918775Z"
    }
   },
   "outputs": [],
   "source": [
    "d.values()"
   ]
  },
  {
   "cell_type": "code",
   "execution_count": null,
   "metadata": {
    "ExecuteTime": {
     "end_time": "2022-02-17T18:35:42.998340Z",
     "start_time": "2022-02-17T18:35:42.994681Z"
    }
   },
   "outputs": [],
   "source": [
    "d.items()"
   ]
  },
  {
   "cell_type": "markdown",
   "metadata": {},
   "source": [
    "### getting items\n",
    "\n",
    "removes a random item"
   ]
  },
  {
   "cell_type": "code",
   "execution_count": null,
   "metadata": {
    "ExecuteTime": {
     "end_time": "2022-02-17T18:35:43.297506Z",
     "start_time": "2022-02-17T18:35:43.294018Z"
    }
   },
   "outputs": [],
   "source": [
    "d.popitem()"
   ]
  },
  {
   "cell_type": "markdown",
   "metadata": {},
   "source": [
    "remove item with key `l`"
   ]
  },
  {
   "cell_type": "code",
   "execution_count": null,
   "metadata": {
    "ExecuteTime": {
     "end_time": "2022-02-17T18:35:43.604276Z",
     "start_time": "2022-02-17T18:35:43.601497Z"
    }
   },
   "outputs": [],
   "source": [
    "d.pop('l')"
   ]
  },
  {
   "cell_type": "code",
   "execution_count": null,
   "metadata": {
    "ExecuteTime": {
     "end_time": "2022-02-17T18:35:43.654162Z",
     "start_time": "2022-02-17T18:35:43.651259Z"
    }
   },
   "outputs": [],
   "source": [
    "d"
   ]
  },
  {
   "cell_type": "markdown",
   "metadata": {},
   "source": [
    "remove a key not in dictionary -> KeyError"
   ]
  },
  {
   "cell_type": "code",
   "execution_count": null,
   "metadata": {
    "ExecuteTime": {
     "end_time": "2022-02-17T18:35:43.887355Z",
     "start_time": "2022-02-17T18:35:43.882007Z"
    }
   },
   "outputs": [],
   "source": [
    "d.pop('not-a-key')"
   ]
  },
  {
   "cell_type": "markdown",
   "metadata": {},
   "source": [
    "if the key is not in the dictionary a default value can be returned"
   ]
  },
  {
   "cell_type": "code",
   "execution_count": null,
   "metadata": {
    "ExecuteTime": {
     "end_time": "2022-02-17T18:35:44.199198Z",
     "start_time": "2022-02-17T18:35:44.196257Z"
    }
   },
   "outputs": [],
   "source": [
    "d.pop('not-a-key', 'default-value')"
   ]
  },
  {
   "cell_type": "markdown",
   "metadata": {},
   "source": [
    "many way do we can update a dictionary"
   ]
  },
  {
   "cell_type": "code",
   "execution_count": null,
   "metadata": {
    "ExecuteTime": {
     "end_time": "2022-02-17T18:35:44.561542Z",
     "start_time": "2022-02-17T18:35:44.558026Z"
    }
   },
   "outputs": [],
   "source": [
    "d[\"Life of Brian\"] = 1979\n",
    "d.update({'And Now for Something Completely Different': 1971}) \n",
    "d.update(a = 1975)                 \n",
    "d"
   ]
  },
  {
   "cell_type": "markdown",
   "metadata": {},
   "source": [
    "As seen, a way to get key's values is to use `d['a']`. Another way is "
   ]
  },
  {
   "cell_type": "code",
   "execution_count": null,
   "metadata": {
    "ExecuteTime": {
     "end_time": "2022-02-17T18:35:44.826143Z",
     "start_time": "2022-02-17T18:35:44.822412Z"
    }
   },
   "outputs": [],
   "source": [
    "d.get('a')"
   ]
  },
  {
   "cell_type": "markdown",
   "metadata": {},
   "source": [
    "if the key is not in the dictionary a default value can be returned"
   ]
  },
  {
   "cell_type": "code",
   "execution_count": null,
   "metadata": {
    "ExecuteTime": {
     "end_time": "2022-02-17T18:35:45.098057Z",
     "start_time": "2022-02-17T18:35:45.094657Z"
    }
   },
   "outputs": [],
   "source": [
    "d.get('a', 177)"
   ]
  },
  {
   "cell_type": "code",
   "execution_count": null,
   "metadata": {
    "ExecuteTime": {
     "end_time": "2022-02-17T18:35:45.151273Z",
     "start_time": "2022-02-17T18:35:45.147837Z"
    }
   },
   "outputs": [],
   "source": [
    "d.get('b', 177) "
   ]
  },
  {
   "cell_type": "markdown",
   "metadata": {},
   "source": [
    "if key is inexistent, `None` is returned"
   ]
  },
  {
   "cell_type": "code",
   "execution_count": null,
   "metadata": {
    "ExecuteTime": {
     "end_time": "2022-02-17T18:35:45.401462Z",
     "start_time": "2022-02-17T18:35:45.399248Z"
    }
   },
   "outputs": [],
   "source": [
    "x = d.get('b')\n",
    "print(x)"
   ]
  },
  {
   "cell_type": "markdown",
   "metadata": {},
   "source": [
    "A value can be set if a key is not defined. The setdefault() method returns the value of the item with the specified key."
   ]
  },
  {
   "cell_type": "code",
   "execution_count": null,
   "metadata": {
    "ExecuteTime": {
     "end_time": "2022-02-17T18:35:45.736044Z",
     "start_time": "2022-02-17T18:35:45.732277Z"
    }
   },
   "outputs": [],
   "source": [
    "d = {}\n",
    "d.setdefault('a', 1)           # 'a' is missing, we get default value"
   ]
  },
  {
   "cell_type": "markdown",
   "metadata": {},
   "source": [
    "If the key does not exist, insert the key, with the specified value"
   ]
  },
  {
   "cell_type": "code",
   "execution_count": null,
   "metadata": {
    "ExecuteTime": {
     "end_time": "2022-02-17T18:35:46.044499Z",
     "start_time": "2022-02-17T18:35:46.041661Z"
    }
   },
   "outputs": [],
   "source": [
    "d.setdefault('a', 5)           # let's try to override the value"
   ]
  },
  {
   "cell_type": "code",
   "execution_count": null,
   "metadata": {
    "ExecuteTime": {
     "end_time": "2022-02-17T18:35:46.094033Z",
     "start_time": "2022-02-17T18:35:46.091253Z"
    }
   },
   "outputs": [],
   "source": [
    "d"
   ]
  },
  {
   "cell_type": "markdown",
   "metadata": {},
   "source": [
    "# Exercises\n",
    "\n",
    "[Go here...](exercises/03-exercises.ipynb)"
   ]
  },
  {
   "cell_type": "markdown",
   "metadata": {},
   "source": [
    "# The collections module (optional)\n",
    "When Python general purpose built-in containers (tuple, list, set, and dict) aren't enough, we can find specialized container data types in the collections module...\n",
    "\n",
    "- `namedtuple` A factory function for creating tuple subclasses with named fields\n",
    "- `deque` A list-like container with fast appends and pops on either end\n",
    "- `ChainMap` A dict-like class for creating a single view of multiple mappings\n",
    "- `Counter` A dict subclass for counting hashable objects\n",
    "- `OrderedDict` A dict subclass that remembers the order entries were added\n",
    "- `defaultdict` A dict subclass that calls a factory function to supply missing values\n",
    "- `UserDict` A wrapper around dictionary objects for easier dict subclassing\n",
    "- `UserList` A wrapper around list objects for easier list subclassing\n",
    "- `UserString` A wrapper around string objects for easier string subclassing\n",
    "        \n",
    "See the manual for detailed descriptions and further containers."
   ]
  }
 ],
 "metadata": {
  "kernelspec": {
   "display_name": "Python 3 (ipykernel)",
   "language": "python",
   "name": "python3"
  },
  "language_info": {
   "codemirror_mode": {
    "name": "ipython",
    "version": 3
   },
   "file_extension": ".py",
   "mimetype": "text/x-python",
   "name": "python",
   "nbconvert_exporter": "python",
   "pygments_lexer": "ipython3",
   "version": "3.9.12"
  },
  "latex_envs": {
   "LaTeX_envs_menu_present": true,
   "autoclose": false,
   "autocomplete": true,
   "bibliofile": "biblio.bib",
   "cite_by": "apalike",
   "current_citInitial": 1,
   "eqLabelWithNumbers": true,
   "eqNumInitial": 1,
   "hotkeys": {
    "equation": "Ctrl-E",
    "itemize": "Ctrl-I"
   },
   "labels_anchors": false,
   "latex_user_defs": false,
   "report_style_numbering": true,
   "user_envs_cfg": true
  },
  "nbTranslate": {
   "displayLangs": [
    "*"
   ],
   "hotkey": "alt-t",
   "langInMainMenu": true,
   "sourceLang": "en",
   "targetLang": "fr",
   "useGoogleTranslate": true
  },
  "toc": {
   "base_numbering": 1,
   "nav_menu": {
    "height": "273px",
    "width": "362px"
   },
   "number_sections": true,
   "sideBar": true,
   "skip_h1_title": false,
   "title_cell": "Table of Contents",
   "title_sidebar": "Contents",
   "toc_cell": false,
   "toc_position": {},
   "toc_section_display": "block",
   "toc_window_display": false
  },
  "varInspector": {
   "cols": {
    "lenName": 16,
    "lenType": 16,
    "lenVar": 40
   },
   "kernels_config": {
    "python": {
     "delete_cmd_postfix": "",
     "delete_cmd_prefix": "del ",
     "library": "var_list.py",
     "varRefreshCmd": "print(var_dic_list())"
    },
    "r": {
     "delete_cmd_postfix": ") ",
     "delete_cmd_prefix": "rm(",
     "library": "var_list.r",
     "varRefreshCmd": "cat(var_dic_list()) "
    }
   },
   "types_to_exclude": [
    "module",
    "function",
    "builtin_function_or_method",
    "instance",
    "_Feature"
   ],
   "window_display": false
  }
 },
 "nbformat": 4,
 "nbformat_minor": 2
}
