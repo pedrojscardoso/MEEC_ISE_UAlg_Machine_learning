{
 "cells": [
  {
   "cell_type": "markdown",
   "source": [
    "___\n",
    "<h1> Machine Learning </h1>\n",
    "<h2> M. Sc. in Electrical and Computer Engineering </h2>\n",
    "<h3> Instituto Superior de Engenharia / Universidade do Algarve </h3>\n",
    "\n",
    "[LESTI](https://ise.ualg.pt/curso/1941) / [ISE](https://ise.ualg.pt) / [UAlg](https://www.ualg.pt)\n",
    "\n",
    "Pedro J. S. Cardoso (pcardoso@ualg.pt)\n",
    "\n",
    "___"
   ],
   "metadata": {
    "collapsed": false
   }
  },
  {
   "cell_type": "markdown",
   "metadata": {},
   "source": [
    "\n",
    "# Basic containers\n",
    "\n",
    "## Tuples (immutable)\n",
    "\n",
    "A tuple is an immutable sequence of arbitrary Python objects. This means that once a tuple is created, it cannot be changed. The number of objects it contains can be arbitrary and can be obtained with the `len()` function.\n",
    "\n",
    "An empty tuple is defined as"
   ]
  },
  {
   "cell_type": "code",
   "execution_count": 1,
   "metadata": {
    "ExecuteTime": {
     "end_time": "2024-09-17T13:34:51.720443Z",
     "start_time": "2024-09-17T13:34:51.709380Z"
    }
   },
   "outputs": [
    {
     "data": {
      "text/plain": "()"
     },
     "execution_count": 1,
     "metadata": {},
     "output_type": "execute_result"
    }
   ],
   "source": [
    "t = ()\n",
    "t"
   ]
  },
  {
   "cell_type": "code",
   "execution_count": 2,
   "metadata": {
    "ExecuteTime": {
     "end_time": "2024-09-17T13:34:51.725816Z",
     "start_time": "2024-09-17T13:34:51.722302Z"
    }
   },
   "outputs": [
    {
     "data": {
      "text/plain": "tuple"
     },
     "execution_count": 2,
     "metadata": {},
     "output_type": "execute_result"
    }
   ],
   "source": [
    "type(t)"
   ]
  },
  {
   "cell_type": "markdown",
   "metadata": {},
   "source": [
    "To define a tuple with one single element a comma is needed"
   ]
  },
  {
   "cell_type": "code",
   "execution_count": 3,
   "metadata": {
    "ExecuteTime": {
     "end_time": "2024-09-17T13:34:53.245697Z",
     "start_time": "2024-09-17T13:34:53.243169Z"
    }
   },
   "outputs": [
    {
     "data": {
      "text/plain": "(42,)"
     },
     "execution_count": 3,
     "metadata": {},
     "output_type": "execute_result"
    }
   ],
   "source": [
    "one_element_tuple = (42, )\n",
    "one_element_tuple"
   ]
  },
  {
   "cell_type": "markdown",
   "metadata": {},
   "source": [
    "But is can have many values"
   ]
  },
  {
   "cell_type": "code",
   "execution_count": 4,
   "metadata": {
    "ExecuteTime": {
     "end_time": "2024-09-17T13:34:53.489225Z",
     "start_time": "2024-09-17T13:34:53.486733Z"
    }
   },
   "outputs": [
    {
     "data": {
      "text/plain": "(1, 3, 5)"
     },
     "execution_count": 4,
     "metadata": {},
     "output_type": "execute_result"
    }
   ],
   "source": [
    "three_elements_tuple = (1, 3, 5)   \n",
    "three_elements_tuple "
   ]
  },
  {
   "cell_type": "markdown",
   "metadata": {},
   "source": [
    "Of different types"
   ]
  },
  {
   "cell_type": "code",
   "execution_count": 5,
   "metadata": {
    "ExecuteTime": {
     "end_time": "2024-09-17T13:34:53.662288Z",
     "start_time": "2024-09-17T13:34:53.659636Z"
    }
   },
   "outputs": [
    {
     "data": {
      "text/plain": "(1, 1.0, True, 'Machine Learning')"
     },
     "execution_count": 5,
     "metadata": {},
     "output_type": "execute_result"
    }
   ],
   "source": [
    "mixed_tuple = (1, 1.0, True, \"Machine Learning\")\n",
    "mixed_tuple"
   ]
  },
  {
   "cell_type": "markdown",
   "metadata": {},
   "source": [
    "And multiples values can be assigned in a single line"
   ]
  },
  {
   "cell_type": "code",
   "execution_count": 6,
   "metadata": {
    "ExecuteTime": {
     "end_time": "2024-09-17T13:34:53.947588Z",
     "start_time": "2024-09-17T13:34:53.945253Z"
    }
   },
   "outputs": [
    {
     "data": {
      "text/plain": "'1 - 3 - 5'"
     },
     "execution_count": 6,
     "metadata": {},
     "output_type": "execute_result"
    }
   ],
   "source": [
    "a, b, c = three_elements_tuple\n",
    "f'{a} - {b} - {c}'"
   ]
  },
  {
   "cell_type": "code",
   "execution_count": 7,
   "metadata": {
    "ExecuteTime": {
     "end_time": "2024-09-17T13:34:54.112215Z",
     "start_time": "2024-09-17T13:34:54.109840Z"
    }
   },
   "outputs": [
    {
     "data": {
      "text/plain": "'1 - 2 - 3'"
     },
     "execution_count": 7,
     "metadata": {},
     "output_type": "execute_result"
    }
   ],
   "source": [
    "a, b, c = 1, 2, 3       # tuple for multiple assignment\n",
    "f'{a} - {b} - {c}'"
   ]
  },
  {
   "cell_type": "markdown",
   "metadata": {},
   "source": [
    "### Swapping variable values\n",
    "\n",
    "By the way, we swap the value of two variables like this"
   ]
  },
  {
   "cell_type": "code",
   "execution_count": 8,
   "metadata": {
    "ExecuteTime": {
     "end_time": "2024-09-17T13:34:54.347933Z",
     "start_time": "2024-09-17T13:34:54.345874Z"
    }
   },
   "outputs": [
    {
     "name": "stdout",
     "output_type": "stream",
     "text": [
      "before: a - b\n",
      "after: b - a\n"
     ]
    }
   ],
   "source": [
    "a = \"a\"\n",
    "b = \"b\"\n",
    "print(f'before: {a} - {b}')\n",
    "\n",
    "a, b = b, a\n",
    "print(f'after: {a} - {b}')\n"
   ]
  },
  {
   "cell_type": "markdown",
   "metadata": {},
   "source": [
    "or even more fun (!?)"
   ]
  },
  {
   "cell_type": "code",
   "execution_count": 9,
   "metadata": {
    "ExecuteTime": {
     "end_time": "2024-09-17T13:34:54.540635Z",
     "start_time": "2024-09-17T13:34:54.538422Z"
    }
   },
   "outputs": [
    {
     "name": "stdout",
     "output_type": "stream",
     "text": [
      "before: 1 - 2 - 3\n",
      "after: 2 - 3 - 1\n"
     ]
    }
   ],
   "source": [
    "a, b, c = 1, 2, 3\n",
    "print(f'before: {a} - {b} - {c}')\n",
    "\n",
    "a, b, c = b, c, a\n",
    "print(f'after: {a} - {b} - {c}')"
   ]
  },
  {
   "cell_type": "markdown",
   "metadata": {},
   "source": [
    "### Operation with tuples\n",
    "\n",
    "The membership operator `in` can be used with lists, strings, dictionaries, and in general with collection and sequence objects.\n"
   ]
  },
  {
   "cell_type": "code",
   "execution_count": 10,
   "metadata": {
    "ExecuteTime": {
     "end_time": "2024-09-17T13:34:54.848355Z",
     "start_time": "2024-09-17T13:34:54.846320Z"
    }
   },
   "outputs": [
    {
     "data": {
      "text/plain": "True"
     },
     "execution_count": 10,
     "metadata": {},
     "output_type": "execute_result"
    }
   ],
   "source": [
    "3 in three_elements_tuple"
   ]
  },
  {
   "cell_type": "code",
   "execution_count": 11,
   "metadata": {
    "ExecuteTime": {
     "end_time": "2024-09-17T13:34:55.111782Z",
     "start_time": "2024-09-17T13:34:55.109490Z"
    }
   },
   "outputs": [
    {
     "data": {
      "text/plain": "False"
     },
     "execution_count": 11,
     "metadata": {},
     "output_type": "execute_result"
    }
   ],
   "source": [
    "9 in three_elements_tuple"
   ]
  },
  {
   "cell_type": "markdown",
   "metadata": {},
   "source": [
    "### Tuples are immutable\n",
    "\n",
    "The next line will throw an error..."
   ]
  },
  {
   "cell_type": "code",
   "execution_count": 12,
   "metadata": {
    "ExecuteTime": {
     "end_time": "2024-09-17T13:34:55.549377Z",
     "start_time": "2024-09-17T13:34:55.307861Z"
    }
   },
   "outputs": [
    {
     "ename": "TypeError",
     "evalue": "'tuple' object does not support item assignment",
     "output_type": "error",
     "traceback": [
      "\u001B[0;31m---------------------------------------------------------------------------\u001B[0m",
      "\u001B[0;31mTypeError\u001B[0m                                 Traceback (most recent call last)",
      "Cell \u001B[0;32mIn[12], line 1\u001B[0m\n\u001B[0;32m----> 1\u001B[0m three_elements_tuple[\u001B[38;5;241m0\u001B[39m] \u001B[38;5;241m=\u001B[39m \u001B[38;5;241m10\u001B[39m\n",
      "\u001B[0;31mTypeError\u001B[0m: 'tuple' object does not support item assignment"
     ]
    }
   ],
   "source": [
    "three_elements_tuple[0] = 10"
   ]
  },
  {
   "cell_type": "markdown",
   "metadata": {},
   "source": [
    "## Lists (mutable)\n",
    "\n",
    "- Mutable sequences differ from their immutable sisters in that they can be changed after creation. \n",
    "- There are two *mutable* sequence types in Python: lists and byte arrays.\n",
    "- Lists are very similar to tuples. \n",
    "- Lists are commonly used to store collections of homogeneous objects, but there is nothing preventing you to store heterogeneous collections as well. "
   ]
  },
  {
   "cell_type": "code",
   "execution_count": 13,
   "metadata": {
    "ExecuteTime": {
     "end_time": "2024-09-17T13:34:55.596962Z",
     "start_time": "2024-09-17T13:34:55.595251Z"
    }
   },
   "outputs": [],
   "source": [
    "empty_list = []\n",
    "another_empty_list = list()"
   ]
  },
  {
   "cell_type": "code",
   "execution_count": 14,
   "metadata": {
    "ExecuteTime": {
     "end_time": "2024-09-17T13:34:55.974179Z",
     "start_time": "2024-09-17T13:34:55.971218Z"
    }
   },
   "outputs": [
    {
     "data": {
      "text/plain": "['__add__',\n '__class__',\n '__class_getitem__',\n '__contains__',\n '__delattr__',\n '__delitem__',\n '__dir__',\n '__doc__',\n '__eq__',\n '__format__',\n '__ge__',\n '__getattribute__',\n '__getitem__',\n '__getstate__',\n '__gt__',\n '__hash__',\n '__iadd__',\n '__imul__',\n '__init__',\n '__init_subclass__',\n '__iter__',\n '__le__',\n '__len__',\n '__lt__',\n '__mul__',\n '__ne__',\n '__new__',\n '__reduce__',\n '__reduce_ex__',\n '__repr__',\n '__reversed__',\n '__rmul__',\n '__setattr__',\n '__setitem__',\n '__sizeof__',\n '__str__',\n '__subclasshook__',\n 'append',\n 'clear',\n 'copy',\n 'count',\n 'extend',\n 'index',\n 'insert',\n 'pop',\n 'remove',\n 'reverse',\n 'sort']"
     },
     "execution_count": 14,
     "metadata": {},
     "output_type": "execute_result"
    }
   ],
   "source": [
    "dir(empty_list)"
   ]
  },
  {
   "cell_type": "markdown",
   "metadata": {},
   "source": [
    "We can create a list enumerating elements"
   ]
  },
  {
   "cell_type": "code",
   "execution_count": 15,
   "metadata": {
    "ExecuteTime": {
     "end_time": "2024-09-17T13:34:56.457883Z",
     "start_time": "2024-09-17T13:34:56.455562Z"
    }
   },
   "outputs": [
    {
     "data": {
      "text/plain": "[1, 2, 3, 4, 5, 6, 7]"
     },
     "execution_count": 15,
     "metadata": {},
     "output_type": "execute_result"
    }
   ],
   "source": [
    "lst = [1, 2, 3, 4, 5, 6, 7]\n",
    "lst"
   ]
  },
  {
   "cell_type": "markdown",
   "metadata": {},
   "source": [
    "but there are other ways"
   ]
  },
  {
   "cell_type": "code",
   "execution_count": 16,
   "metadata": {
    "ExecuteTime": {
     "end_time": "2024-09-17T13:34:56.649808Z",
     "start_time": "2024-09-17T13:34:56.647345Z"
    }
   },
   "outputs": [
    {
     "data": {
      "text/plain": "[1, 2, 3, 4, 5, 6, 7]"
     },
     "execution_count": 16,
     "metadata": {},
     "output_type": "execute_result"
    }
   ],
   "source": [
    "list(range(1, 8))"
   ]
  },
  {
   "cell_type": "code",
   "execution_count": 17,
   "metadata": {
    "ExecuteTime": {
     "end_time": "2024-09-17T13:34:56.937561Z",
     "start_time": "2024-09-17T13:34:56.935316Z"
    }
   },
   "outputs": [
    {
     "data": {
      "text/plain": "[0, 1, 4, 9, 16, 25, 36, 49]"
     },
     "execution_count": 17,
     "metadata": {},
     "output_type": "execute_result"
    }
   ],
   "source": [
    "lst = [i ** 2 for i in range(0, 8)]  # Python is magic\n",
    "lst"
   ]
  },
  {
   "cell_type": "code",
   "execution_count": 18,
   "metadata": {
    "ExecuteTime": {
     "end_time": "2024-09-17T13:34:57.202395Z",
     "start_time": "2024-09-17T13:34:57.200194Z"
    }
   },
   "outputs": [
    {
     "data": {
      "text/plain": "[1, 2, 3]"
     },
     "execution_count": 18,
     "metadata": {},
     "output_type": "execute_result"
    }
   ],
   "source": [
    "list((1,2,3))"
   ]
  },
  {
   "cell_type": "code",
   "execution_count": 19,
   "metadata": {
    "ExecuteTime": {
     "end_time": "2024-09-17T13:34:57.439174Z",
     "start_time": "2024-09-17T13:34:57.436748Z"
    }
   },
   "outputs": [
    {
     "data": {
      "text/plain": "['H', 'e', 'l', 'l', 'o']"
     },
     "execution_count": 19,
     "metadata": {},
     "output_type": "execute_result"
    }
   ],
   "source": [
    "list('Hello')"
   ]
  },
  {
   "cell_type": "markdown",
   "metadata": {},
   "source": [
    "### operations \n",
    "\n",
    "List have some methods that can be used to manipulate the list:\n",
    "- `append` - add an element to the end of the list\n",
    "- `clear` - remove all elements from the list\n",
    "- `copy`    - return a shallow copy of the list\n",
    "- `count` - return the number of occurrences of an element in a list\n",
    "- `extend` - extend the list by another one (or sequence)\n",
    "- `index` - find the position/index of the first occurrence of an element in a list\n",
    "- `insert` - insert an element at a given position\n",
    "- `pop` - remove and return the element at a given position\n",
    "- `remove` - remove the first occurrence of an element\n",
    "- `reverse` - reverse the order of the elements in the list\n",
    "- `sort` - sort the list\n"
   ]
  },
  {
   "cell_type": "code",
   "execution_count": 20,
   "metadata": {
    "ExecuteTime": {
     "end_time": "2024-09-17T13:34:57.703725Z",
     "start_time": "2024-09-17T13:34:57.701152Z"
    }
   },
   "outputs": [
    {
     "data": {
      "text/plain": "['__add__',\n '__class__',\n '__class_getitem__',\n '__contains__',\n '__delattr__',\n '__delitem__',\n '__dir__',\n '__doc__',\n '__eq__',\n '__format__',\n '__ge__',\n '__getattribute__',\n '__getitem__',\n '__getstate__',\n '__gt__',\n '__hash__',\n '__iadd__',\n '__imul__',\n '__init__',\n '__init_subclass__',\n '__iter__',\n '__le__',\n '__len__',\n '__lt__',\n '__mul__',\n '__ne__',\n '__new__',\n '__reduce__',\n '__reduce_ex__',\n '__repr__',\n '__reversed__',\n '__rmul__',\n '__setattr__',\n '__setitem__',\n '__sizeof__',\n '__str__',\n '__subclasshook__',\n 'append',\n 'clear',\n 'copy',\n 'count',\n 'extend',\n 'index',\n 'insert',\n 'pop',\n 'remove',\n 'reverse',\n 'sort']"
     },
     "execution_count": 20,
     "metadata": {},
     "output_type": "execute_result"
    }
   ],
   "source": [
    "a  = [1, 2, 3, 4, 1]\n",
    "dir(a)"
   ]
  },
  {
   "cell_type": "markdown",
   "metadata": {},
   "source": [
    "we can append anything at the end using the `append` method"
   ]
  },
  {
   "cell_type": "code",
   "execution_count": 21,
   "metadata": {
    "ExecuteTime": {
     "end_time": "2024-09-17T13:34:57.966430Z",
     "start_time": "2024-09-17T13:34:57.964020Z"
    }
   },
   "outputs": [
    {
     "data": {
      "text/plain": "[1, 2, 3, 4, 1, 13]"
     },
     "execution_count": 21,
     "metadata": {},
     "output_type": "execute_result"
    }
   ],
   "source": [
    "a.append(13)\n",
    "a"
   ]
  },
  {
   "cell_type": "code",
   "execution_count": 22,
   "metadata": {
    "ExecuteTime": {
     "end_time": "2024-09-17T13:34:58.225025Z",
     "start_time": "2024-09-17T13:34:58.222628Z"
    }
   },
   "outputs": [
    {
     "data": {
      "text/plain": "[1, 2, 3, 4, 1, 13, [11, 22, 33]]"
     },
     "execution_count": 22,
     "metadata": {},
     "output_type": "execute_result"
    }
   ],
   "source": [
    "a.append([11,22,33])\n",
    "a"
   ]
  },
  {
   "cell_type": "markdown",
   "metadata": {},
   "source": [
    "how many 1's are there in the list? To count the number of occurrences of an element in a list, use the `count` method"
   ]
  },
  {
   "cell_type": "code",
   "execution_count": 23,
   "metadata": {
    "ExecuteTime": {
     "end_time": "2024-09-17T13:34:58.536615Z",
     "start_time": "2024-09-17T13:34:58.533795Z"
    }
   },
   "outputs": [
    {
     "data": {
      "text/plain": "2"
     },
     "execution_count": 23,
     "metadata": {},
     "output_type": "execute_result"
    }
   ],
   "source": [
    "a.count(1)"
   ]
  },
  {
   "cell_type": "markdown",
   "metadata": {},
   "source": [
    "extend the list by another one (or sequence), i.e., append all elements of the sequence to the list"
   ]
  },
  {
   "cell_type": "code",
   "execution_count": 24,
   "metadata": {
    "ExecuteTime": {
     "end_time": "2024-09-17T13:34:58.848165Z",
     "start_time": "2024-09-17T13:34:58.845579Z"
    }
   },
   "outputs": [
    {
     "data": {
      "text/plain": "[1, 2, 3, 4, 1, 13, [11, 22, 33], 11, 22, 33]"
     },
     "execution_count": 24,
     "metadata": {},
     "output_type": "execute_result"
    }
   ],
   "source": [
    "a.extend([11,22,33]) \n",
    "a"
   ]
  },
  {
   "cell_type": "markdown",
   "metadata": {},
   "source": [
    "insert 111 at position 0..."
   ]
  },
  {
   "cell_type": "code",
   "execution_count": 25,
   "metadata": {
    "ExecuteTime": {
     "end_time": "2024-09-17T13:34:59.070436Z",
     "start_time": "2024-09-17T13:34:59.068030Z"
    }
   },
   "outputs": [
    {
     "data": {
      "text/plain": "[111, 1, 2, 3, 4, 1, 13, [11, 22, 33], 11, 22, 33]"
     },
     "execution_count": 25,
     "metadata": {},
     "output_type": "execute_result"
    }
   ],
   "source": [
    "a.insert(0, 111)\n",
    "a"
   ]
  },
  {
   "cell_type": "markdown",
   "metadata": {},
   "source": [
    "find the position/index of the first occurrence of an element in a list"
   ]
  },
  {
   "cell_type": "code",
   "execution_count": 26,
   "metadata": {
    "ExecuteTime": {
     "end_time": "2024-09-17T13:34:59.377053Z",
     "start_time": "2024-09-17T13:34:59.374565Z"
    }
   },
   "outputs": [
    {
     "data": {
      "text/plain": "6"
     },
     "execution_count": 26,
     "metadata": {},
     "output_type": "execute_result"
    }
   ],
   "source": [
    "a.index(13)"
   ]
  },
  {
   "cell_type": "markdown",
   "metadata": {},
   "source": [
    "As for strings, list are 'sliceable'"
   ]
  },
  {
   "cell_type": "code",
   "execution_count": 27,
   "metadata": {
    "ExecuteTime": {
     "end_time": "2024-09-17T13:34:59.604665Z",
     "start_time": "2024-09-17T13:34:59.602205Z"
    }
   },
   "outputs": [
    {
     "data": {
      "text/plain": "13"
     },
     "execution_count": 27,
     "metadata": {},
     "output_type": "execute_result"
    }
   ],
   "source": [
    "a[6]"
   ]
  },
  {
   "cell_type": "code",
   "execution_count": 28,
   "metadata": {
    "ExecuteTime": {
     "end_time": "2024-09-17T13:34:59.937018Z",
     "start_time": "2024-09-17T13:34:59.934669Z"
    }
   },
   "outputs": [
    {
     "data": {
      "text/plain": "[111, 1, 2, 3, 4]"
     },
     "execution_count": 28,
     "metadata": {},
     "output_type": "execute_result"
    }
   ],
   "source": [
    "a[:-6]"
   ]
  },
  {
   "cell_type": "markdown",
   "metadata": {},
   "source": [
    "pop (remove and return) last element"
   ]
  },
  {
   "cell_type": "code",
   "execution_count": 29,
   "metadata": {
    "ExecuteTime": {
     "end_time": "2024-09-17T13:35:00.205369Z",
     "start_time": "2024-09-17T13:35:00.203344Z"
    }
   },
   "outputs": [
    {
     "data": {
      "text/plain": "33"
     },
     "execution_count": 29,
     "metadata": {},
     "output_type": "execute_result"
    }
   ],
   "source": [
    " a.pop()"
   ]
  },
  {
   "cell_type": "markdown",
   "metadata": {},
   "source": [
    "pop element at position 3"
   ]
  },
  {
   "cell_type": "code",
   "execution_count": 30,
   "metadata": {
    "ExecuteTime": {
     "end_time": "2024-09-17T13:35:00.424017Z",
     "start_time": "2024-09-17T13:35:00.421737Z"
    }
   },
   "outputs": [
    {
     "data": {
      "text/plain": "13"
     },
     "execution_count": 30,
     "metadata": {},
     "output_type": "execute_result"
    }
   ],
   "source": [
    "a.pop(6)"
   ]
  },
  {
   "cell_type": "code",
   "execution_count": 31,
   "metadata": {
    "ExecuteTime": {
     "end_time": "2024-09-17T13:35:00.717925Z",
     "start_time": "2024-09-17T13:35:00.715359Z"
    }
   },
   "outputs": [
    {
     "data": {
      "text/plain": "[111, 1, 2, 3, 4, 1, [11, 22, 33], 11, 22]"
     },
     "execution_count": 31,
     "metadata": {},
     "output_type": "execute_result"
    }
   ],
   "source": [
    "a"
   ]
  },
  {
   "cell_type": "markdown",
   "metadata": {},
   "source": [
    "remove the 1st ocurrence of 111 from the list"
   ]
  },
  {
   "cell_type": "code",
   "execution_count": 32,
   "metadata": {
    "ExecuteTime": {
     "end_time": "2024-09-17T13:35:01.044036Z",
     "start_time": "2024-09-17T13:35:01.041450Z"
    }
   },
   "outputs": [
    {
     "data": {
      "text/plain": "[1, 2, 3, 4, 1, [11, 22, 33], 11, 22]"
     },
     "execution_count": 32,
     "metadata": {},
     "output_type": "execute_result"
    }
   ],
   "source": [
    "a.remove(111)\n",
    "a"
   ]
  },
  {
   "cell_type": "markdown",
   "metadata": {},
   "source": [
    "reverse the order of the elements in the list"
   ]
  },
  {
   "cell_type": "code",
   "execution_count": 33,
   "metadata": {
    "ExecuteTime": {
     "end_time": "2024-09-17T13:35:01.301371Z",
     "start_time": "2024-09-17T13:35:01.299100Z"
    }
   },
   "outputs": [
    {
     "data": {
      "text/plain": "[22, 11, [11, 22, 33], 1, 4, 3, 2, 1]"
     },
     "execution_count": 33,
     "metadata": {},
     "output_type": "execute_result"
    }
   ],
   "source": [
    "a.reverse()\n",
    "a"
   ]
  },
  {
   "cell_type": "code",
   "execution_count": 34,
   "metadata": {
    "ExecuteTime": {
     "end_time": "2024-09-17T13:35:01.557475Z",
     "start_time": "2024-09-17T13:35:01.555717Z"
    }
   },
   "outputs": [],
   "source": [
    "a.remove([11, 22, 33])"
   ]
  },
  {
   "cell_type": "markdown",
   "metadata": {},
   "source": [
    "sort the list"
   ]
  },
  {
   "cell_type": "code",
   "execution_count": 35,
   "metadata": {
    "ExecuteTime": {
     "end_time": "2024-09-17T13:35:01.791500Z",
     "start_time": "2024-09-17T13:35:01.789180Z"
    }
   },
   "outputs": [
    {
     "data": {
      "text/plain": "[1, 1, 2, 3, 4, 11, 22]"
     },
     "execution_count": 35,
     "metadata": {},
     "output_type": "execute_result"
    }
   ],
   "source": [
    "a.sort()\n",
    "a"
   ]
  },
  {
   "cell_type": "markdown",
   "metadata": {},
   "source": [
    "Remove and return the element at position 0"
   ]
  },
  {
   "cell_type": "code",
   "execution_count": 36,
   "metadata": {
    "ExecuteTime": {
     "end_time": "2024-09-17T13:35:02.040964Z",
     "start_time": "2024-09-17T13:35:02.038608Z"
    }
   },
   "outputs": [
    {
     "data": {
      "text/plain": "1"
     },
     "execution_count": 36,
     "metadata": {},
     "output_type": "execute_result"
    }
   ],
   "source": [
    "a.pop(0)"
   ]
  },
  {
   "cell_type": "code",
   "execution_count": 37,
   "metadata": {
    "ExecuteTime": {
     "end_time": "2024-09-17T13:35:02.351293Z",
     "start_time": "2024-09-17T13:35:02.348953Z"
    }
   },
   "outputs": [
    {
     "data": {
      "text/plain": "[1, 2, 3, 4, 11, 22]"
     },
     "execution_count": 37,
     "metadata": {},
     "output_type": "execute_result"
    }
   ],
   "source": [
    "a"
   ]
  },
  {
   "cell_type": "markdown",
   "metadata": {},
   "source": [
    "remove all elements from the list"
   ]
  },
  {
   "cell_type": "code",
   "execution_count": 38,
   "metadata": {
    "ExecuteTime": {
     "end_time": "2024-09-17T13:35:02.551740Z",
     "start_time": "2024-09-17T13:35:02.549536Z"
    }
   },
   "outputs": [
    {
     "data": {
      "text/plain": "[]"
     },
     "execution_count": 38,
     "metadata": {},
     "output_type": "execute_result"
    }
   ],
   "source": [
    "a.clear()\n",
    "a"
   ]
  },
  {
   "cell_type": "markdown",
   "metadata": {},
   "source": [
    "as seen, list can have heterogeneous types"
   ]
  },
  {
   "cell_type": "code",
   "execution_count": 39,
   "metadata": {
    "ExecuteTime": {
     "end_time": "2024-09-17T13:35:02.818906Z",
     "start_time": "2024-09-17T13:35:02.816290Z"
    }
   },
   "outputs": [
    {
     "data": {
      "text/plain": "['h', 'e', 'l', 'l', 'o', 100]"
     },
     "execution_count": 39,
     "metadata": {},
     "output_type": "execute_result"
    }
   ],
   "source": [
    "a = list('hello')   # makes a list from a string\n",
    "a.append(100)       # append 100, heterogeneous type\n",
    "a"
   ]
  },
  {
   "cell_type": "code",
   "execution_count": 40,
   "metadata": {
    "ExecuteTime": {
     "end_time": "2024-09-17T13:35:03.026527Z",
     "start_time": "2024-09-17T13:35:03.024104Z"
    }
   },
   "outputs": [
    {
     "data": {
      "text/plain": "['h', 'e', 'l', 'l', 'o', 100, (1, 2, 3)]"
     },
     "execution_count": 40,
     "metadata": {},
     "output_type": "execute_result"
    }
   ],
   "source": [
    "a.append((1, 2, 3))\n",
    "a"
   ]
  },
  {
   "cell_type": "code",
   "execution_count": 41,
   "metadata": {
    "ExecuteTime": {
     "end_time": "2024-09-17T13:35:03.409302Z",
     "start_time": "2024-09-17T13:35:03.406795Z"
    }
   },
   "outputs": [
    {
     "data": {
      "text/plain": "['h', 'e', 'l', 'l', 'o', 100, (1, 2, 3), 1, 2, 3]"
     },
     "execution_count": 41,
     "metadata": {},
     "output_type": "execute_result"
    }
   ],
   "source": [
    "a.extend((1, 2, 3)) # extend using tuple. \n",
    "a"
   ]
  },
  {
   "cell_type": "code",
   "execution_count": 42,
   "metadata": {
    "ExecuteTime": {
     "end_time": "2024-09-17T13:35:03.566466Z",
     "start_time": "2024-09-17T13:35:03.564117Z"
    }
   },
   "outputs": [
    {
     "data": {
      "text/plain": "['h', 'e', 'l', 'l', 'o', 100, (1, 2, 3), 1, 2, 3, ('...',)]"
     },
     "execution_count": 42,
     "metadata": {},
     "output_type": "execute_result"
    }
   ],
   "source": [
    "a.append(('...',)  )   # extend using string\n",
    "a"
   ]
  },
  {
   "cell_type": "markdown",
   "metadata": {},
   "source": [
    "Other operations"
   ]
  },
  {
   "cell_type": "code",
   "execution_count": 43,
   "metadata": {
    "ExecuteTime": {
     "end_time": "2024-09-17T13:35:03.686660Z",
     "start_time": "2024-09-17T13:35:03.684866Z"
    }
   },
   "outputs": [],
   "source": [
    "a = [1, 3, 5, 7]"
   ]
  },
  {
   "cell_type": "code",
   "execution_count": 44,
   "metadata": {
    "ExecuteTime": {
     "end_time": "2024-09-17T13:35:03.748284Z",
     "start_time": "2024-09-17T13:35:03.745813Z"
    }
   },
   "outputs": [
    {
     "data": {
      "text/plain": "1"
     },
     "execution_count": 44,
     "metadata": {},
     "output_type": "execute_result"
    }
   ],
   "source": [
    "min(a)               # minimum value in the list"
   ]
  },
  {
   "cell_type": "code",
   "execution_count": 45,
   "metadata": {
    "ExecuteTime": {
     "end_time": "2024-09-17T13:35:03.917420Z",
     "start_time": "2024-09-17T13:35:03.914965Z"
    }
   },
   "outputs": [
    {
     "data": {
      "text/plain": "7"
     },
     "execution_count": 45,
     "metadata": {},
     "output_type": "execute_result"
    }
   ],
   "source": [
    "max(a)              # maximum value in the list"
   ]
  },
  {
   "cell_type": "code",
   "execution_count": 46,
   "metadata": {
    "ExecuteTime": {
     "end_time": "2024-09-17T13:35:04.081202Z",
     "start_time": "2024-09-17T13:35:04.078864Z"
    }
   },
   "outputs": [
    {
     "data": {
      "text/plain": "16"
     },
     "execution_count": 46,
     "metadata": {},
     "output_type": "execute_result"
    }
   ],
   "source": [
    "sum(a)              # sum of all values in the list"
   ]
  },
  {
   "cell_type": "code",
   "execution_count": 47,
   "metadata": {
    "ExecuteTime": {
     "end_time": "2024-09-17T13:35:04.204209Z",
     "start_time": "2024-09-17T13:35:04.202083Z"
    }
   },
   "outputs": [
    {
     "data": {
      "text/plain": "4"
     },
     "execution_count": 47,
     "metadata": {},
     "output_type": "execute_result"
    }
   ],
   "source": [
    "len(a)              # number of elements in the list"
   ]
  },
  {
   "cell_type": "markdown",
   "metadata": {},
   "source": [
    "\"+\" with lists means concatenation"
   ]
  },
  {
   "cell_type": "code",
   "execution_count": 48,
   "metadata": {
    "ExecuteTime": {
     "end_time": "2024-09-17T13:35:04.350520Z",
     "start_time": "2024-09-17T13:35:04.347992Z"
    }
   },
   "outputs": [
    {
     "data": {
      "text/plain": "[1, 3, 5, 7, 6, 7, 8, 9]"
     },
     "execution_count": 48,
     "metadata": {},
     "output_type": "execute_result"
    }
   ],
   "source": [
    "b = [6, 7, 8, 9] \n",
    "a + b           "
   ]
  },
  {
   "cell_type": "markdown",
   "metadata": {},
   "source": [
    "The zip function acts like a \"zip\" between two list"
   ]
  },
  {
   "cell_type": "code",
   "execution_count": 49,
   "metadata": {
    "ExecuteTime": {
     "end_time": "2024-09-17T13:35:04.550321Z",
     "start_time": "2024-09-17T13:35:04.547921Z"
    }
   },
   "outputs": [
    {
     "data": {
      "text/plain": "[7, 10, 13, 16]"
     },
     "execution_count": 49,
     "metadata": {},
     "output_type": "execute_result"
    }
   ],
   "source": [
    "[ i + j for i, j in zip(a, b)]"
   ]
  },
  {
   "cell_type": "code",
   "execution_count": 50,
   "metadata": {
    "ExecuteTime": {
     "end_time": "2024-09-17T13:35:04.678886Z",
     "start_time": "2024-09-17T13:35:04.676399Z"
    }
   },
   "outputs": [
    {
     "data": {
      "text/plain": "[(1, 6), (3, 7), (5, 8), (7, 9)]"
     },
     "execution_count": 50,
     "metadata": {},
     "output_type": "execute_result"
    }
   ],
   "source": [
    "list(zip(a, b))"
   ]
  },
  {
   "cell_type": "markdown",
   "metadata": {},
   "source": [
    "\"*\" has also a special meaning"
   ]
  },
  {
   "cell_type": "code",
   "execution_count": 51,
   "metadata": {
    "ExecuteTime": {
     "end_time": "2024-09-17T13:35:04.783373Z",
     "start_time": "2024-09-17T13:35:04.780878Z"
    }
   },
   "outputs": [
    {
     "data": {
      "text/plain": "[1, 3, 5, 7, 1, 3, 5, 7, 1, 3, 5, 7]"
     },
     "execution_count": 51,
     "metadata": {},
     "output_type": "execute_result"
    }
   ],
   "source": [
    "a * 3"
   ]
  },
  {
   "cell_type": "code",
   "execution_count": 52,
   "metadata": {
    "ExecuteTime": {
     "end_time": "2024-09-17T13:35:04.949231Z",
     "start_time": "2024-09-17T13:35:04.946891Z"
    }
   },
   "outputs": [
    {
     "data": {
      "text/plain": "'SLB is great!SLB is great!SLB is great!SLB is great!SLB is great!SLB is great!SLB is great!SLB is great!SLB is great!SLB is great!'"
     },
     "execution_count": 52,
     "metadata": {},
     "output_type": "execute_result"
    }
   ],
   "source": [
    "10 * \"SLB is great!\""
   ]
  },
  {
   "cell_type": "markdown",
   "metadata": {},
   "source": [
    "## Sets (optional)\n",
    "\n",
    "- Python also provides two set types, `set` and `frozenset`. \n",
    "- The `set` type is mutable, while `frozenset` is immutable. \n",
    "- They are unordered collections of immutable objects.\n",
    "\n",
    "### `set`"
   ]
  },
  {
   "cell_type": "code",
   "execution_count": 53,
   "metadata": {
    "ExecuteTime": {
     "end_time": "2024-09-17T13:35:05.089224Z",
     "start_time": "2024-09-17T13:35:05.086902Z"
    }
   },
   "outputs": [
    {
     "data": {
      "text/plain": "set()"
     },
     "execution_count": 53,
     "metadata": {},
     "output_type": "execute_result"
    }
   ],
   "source": [
    "small_primes = set()    # empty set\n",
    "small_primes"
   ]
  },
  {
   "cell_type": "markdown",
   "metadata": {},
   "source": [
    "adding one element at a time"
   ]
  },
  {
   "cell_type": "code",
   "execution_count": 54,
   "metadata": {
    "ExecuteTime": {
     "end_time": "2024-09-17T13:35:05.251817Z",
     "start_time": "2024-09-17T13:35:05.249305Z"
    }
   },
   "outputs": [
    {
     "data": {
      "text/plain": "{2, 3}"
     },
     "execution_count": 54,
     "metadata": {},
     "output_type": "execute_result"
    }
   ],
   "source": [
    "small_primes.add(2)\n",
    "small_primes.add(3)\n",
    "\n",
    "small_primes"
   ]
  },
  {
   "cell_type": "markdown",
   "metadata": {},
   "source": [
    "and now a lot of 5's!"
   ]
  },
  {
   "cell_type": "code",
   "execution_count": 55,
   "metadata": {
    "ExecuteTime": {
     "end_time": "2024-09-17T13:35:05.450573Z",
     "start_time": "2024-09-17T13:35:05.447853Z"
    }
   },
   "outputs": [
    {
     "data": {
      "text/plain": "{2, 3, 5}"
     },
     "execution_count": 55,
     "metadata": {},
     "output_type": "execute_result"
    }
   ],
   "source": [
    "small_primes.add(5)\n",
    "small_primes.add(5)\n",
    "small_primes.add(5)\n",
    "small_primes"
   ]
  },
  {
   "cell_type": "markdown",
   "metadata": {},
   "source": [
    "and one more..."
   ]
  },
  {
   "cell_type": "code",
   "execution_count": 56,
   "metadata": {
    "ExecuteTime": {
     "end_time": "2024-09-17T13:35:05.514584Z",
     "start_time": "2024-09-17T13:35:05.512243Z"
    }
   },
   "outputs": [
    {
     "data": {
      "text/plain": "{1, 2, 3, 5}"
     },
     "execution_count": 56,
     "metadata": {},
     "output_type": "execute_result"
    }
   ],
   "source": [
    "small_primes.add(1)\n",
    "small_primes"
   ]
  },
  {
   "cell_type": "markdown",
   "metadata": {},
   "source": [
    "Look what I've done, 1 is not a prime! so let's remove it..."
   ]
  },
  {
   "cell_type": "code",
   "execution_count": 57,
   "metadata": {
    "ExecuteTime": {
     "end_time": "2024-09-17T13:35:05.745082Z",
     "start_time": "2024-09-17T13:35:05.740751Z"
    }
   },
   "outputs": [
    {
     "data": {
      "text/plain": "{2, 3, 5}"
     },
     "execution_count": 57,
     "metadata": {},
     "output_type": "execute_result"
    }
   ],
   "source": [
    "small_primes.remove(1)\n",
    "small_primes"
   ]
  },
  {
   "cell_type": "markdown",
   "metadata": {},
   "source": [
    "#### operation"
   ]
  },
  {
   "cell_type": "code",
   "execution_count": 58,
   "metadata": {
    "ExecuteTime": {
     "end_time": "2024-09-17T13:35:05.937272Z",
     "start_time": "2024-09-17T13:35:05.934834Z"
    }
   },
   "outputs": [
    {
     "data": {
      "text/plain": "True"
     },
     "execution_count": 58,
     "metadata": {},
     "output_type": "execute_result"
    }
   ],
   "source": [
    "3 in small_primes"
   ]
  },
  {
   "cell_type": "code",
   "execution_count": 59,
   "metadata": {
    "ExecuteTime": {
     "end_time": "2024-09-17T13:35:06.091562Z",
     "start_time": "2024-09-17T13:35:06.089208Z"
    }
   },
   "outputs": [
    {
     "data": {
      "text/plain": "False"
     },
     "execution_count": 59,
     "metadata": {},
     "output_type": "execute_result"
    }
   ],
   "source": [
    "4 in small_primes"
   ]
  },
  {
   "cell_type": "code",
   "execution_count": 60,
   "metadata": {
    "ExecuteTime": {
     "end_time": "2024-09-17T13:35:06.226426Z",
     "start_time": "2024-09-17T13:35:06.224099Z"
    }
   },
   "outputs": [
    {
     "data": {
      "text/plain": "True"
     },
     "execution_count": 60,
     "metadata": {},
     "output_type": "execute_result"
    }
   ],
   "source": [
    "4 not in small_primes"
   ]
  },
  {
   "cell_type": "markdown",
   "metadata": {},
   "source": [
    "Other forms of creating set are"
   ]
  },
  {
   "cell_type": "code",
   "execution_count": 61,
   "metadata": {
    "ExecuteTime": {
     "end_time": "2024-09-17T13:35:06.310907Z",
     "start_time": "2024-09-17T13:35:06.308563Z"
    }
   },
   "outputs": [
    {
     "data": {
      "text/plain": "{5, 7, 11, 13}"
     },
     "execution_count": 61,
     "metadata": {},
     "output_type": "execute_result"
    }
   ],
   "source": [
    "bigger_primes = set([5, 7, 11, 13]) \n",
    "bigger_primes"
   ]
  },
  {
   "cell_type": "code",
   "execution_count": 62,
   "metadata": {
    "ExecuteTime": {
     "end_time": "2024-09-17T13:35:06.412341Z",
     "start_time": "2024-09-17T13:35:06.409930Z"
    }
   },
   "outputs": [
    {
     "data": {
      "text/plain": "{5, 7, 11, 13}"
     },
     "execution_count": 62,
     "metadata": {},
     "output_type": "execute_result"
    }
   ],
   "source": [
    "bigger_primes = {5, 7, 11, 13, 11, 13, 11, 13, 11, 13, 11, 13, 11, 13} \n",
    "bigger_primes"
   ]
  },
  {
   "cell_type": "markdown",
   "metadata": {},
   "source": [
    "union operator `|`"
   ]
  },
  {
   "cell_type": "code",
   "execution_count": 63,
   "metadata": {
    "ExecuteTime": {
     "end_time": "2024-09-17T13:35:06.534683Z",
     "start_time": "2024-09-17T13:35:06.532428Z"
    }
   },
   "outputs": [
    {
     "data": {
      "text/plain": "{2, 3, 5, 7, 11, 13}"
     },
     "execution_count": 63,
     "metadata": {},
     "output_type": "execute_result"
    }
   ],
   "source": [
    "small_primes | bigger_primes"
   ]
  },
  {
   "cell_type": "markdown",
   "metadata": {},
   "source": [
    "intersection operator `&`"
   ]
  },
  {
   "cell_type": "code",
   "execution_count": 64,
   "metadata": {
    "ExecuteTime": {
     "end_time": "2024-09-17T13:35:06.629424Z",
     "start_time": "2024-09-17T13:35:06.627172Z"
    }
   },
   "outputs": [
    {
     "data": {
      "text/plain": "{5}"
     },
     "execution_count": 64,
     "metadata": {},
     "output_type": "execute_result"
    }
   ],
   "source": [
    "small_primes & bigger_primes"
   ]
  },
  {
   "cell_type": "markdown",
   "metadata": {},
   "source": [
    "difference operator `-`        "
   ]
  },
  {
   "cell_type": "code",
   "execution_count": 65,
   "metadata": {
    "ExecuteTime": {
     "end_time": "2024-09-17T13:35:06.826570Z",
     "start_time": "2024-09-17T13:35:06.824026Z"
    }
   },
   "outputs": [
    {
     "data": {
      "text/plain": "{2, 3}"
     },
     "execution_count": 65,
     "metadata": {},
     "output_type": "execute_result"
    }
   ],
   "source": [
    "small_primes - bigger_primes"
   ]
  },
  {
   "cell_type": "markdown",
   "metadata": {},
   "source": [
    "### `frozenset`\n",
    "\n",
    "As already presented, frozen sets are immutable"
   ]
  },
  {
   "cell_type": "code",
   "execution_count": 66,
   "metadata": {
    "ExecuteTime": {
     "end_time": "2024-09-17T13:35:06.982936Z",
     "start_time": "2024-09-17T13:35:06.981097Z"
    }
   },
   "outputs": [],
   "source": [
    "small_primes = frozenset([2, 3, 5, 7])\n",
    "bigger_primes = frozenset([5, 7, 11])"
   ]
  },
  {
   "cell_type": "markdown",
   "metadata": {},
   "source": [
    "we cannot add to a frozenset"
   ]
  },
  {
   "cell_type": "code",
   "execution_count": 67,
   "metadata": {
    "ExecuteTime": {
     "end_time": "2024-09-17T13:35:07.164291Z",
     "start_time": "2024-09-17T13:35:07.156388Z"
    }
   },
   "outputs": [
    {
     "ename": "AttributeError",
     "evalue": "'frozenset' object has no attribute 'add'",
     "output_type": "error",
     "traceback": [
      "\u001B[0;31m---------------------------------------------------------------------------\u001B[0m",
      "\u001B[0;31mAttributeError\u001B[0m                            Traceback (most recent call last)",
      "Cell \u001B[0;32mIn[67], line 1\u001B[0m\n\u001B[0;32m----> 1\u001B[0m small_primes\u001B[38;5;241m.\u001B[39madd(\u001B[38;5;241m11\u001B[39m)\n",
      "\u001B[0;31mAttributeError\u001B[0m: 'frozenset' object has no attribute 'add'"
     ]
    }
   ],
   "source": [
    "small_primes.add(11)"
   ]
  },
  {
   "cell_type": "markdown",
   "metadata": {},
   "source": [
    "neither we can remove"
   ]
  },
  {
   "cell_type": "code",
   "execution_count": 68,
   "metadata": {
    "ExecuteTime": {
     "end_time": "2024-09-17T13:35:07.275944Z",
     "start_time": "2024-09-17T13:35:07.268037Z"
    }
   },
   "outputs": [
    {
     "ename": "AttributeError",
     "evalue": "'frozenset' object has no attribute 'remove'",
     "output_type": "error",
     "traceback": [
      "\u001B[0;31m---------------------------------------------------------------------------\u001B[0m",
      "\u001B[0;31mAttributeError\u001B[0m                            Traceback (most recent call last)",
      "Cell \u001B[0;32mIn[68], line 1\u001B[0m\n\u001B[0;32m----> 1\u001B[0m small_primes\u001B[38;5;241m.\u001B[39mremove(\u001B[38;5;241m2\u001B[39m)\n",
      "\u001B[0;31mAttributeError\u001B[0m: 'frozenset' object has no attribute 'remove'"
     ]
    }
   ],
   "source": [
    "small_primes.remove(2) "
   ]
  },
  {
   "cell_type": "markdown",
   "metadata": {},
   "source": [
    "but we can do other operations such as in intersect, union or difference"
   ]
  },
  {
   "cell_type": "code",
   "execution_count": 69,
   "metadata": {
    "ExecuteTime": {
     "end_time": "2024-09-17T13:35:07.570890Z",
     "start_time": "2024-09-17T13:35:07.568674Z"
    }
   },
   "outputs": [
    {
     "data": {
      "text/plain": "frozenset({5, 7})"
     },
     "execution_count": 69,
     "metadata": {},
     "output_type": "execute_result"
    }
   ],
   "source": [
    "small_primes & bigger_primes"
   ]
  },
  {
   "cell_type": "code",
   "execution_count": 70,
   "metadata": {
    "ExecuteTime": {
     "end_time": "2024-09-17T13:35:07.946278Z",
     "start_time": "2024-09-17T13:35:07.943284Z"
    }
   },
   "outputs": [
    {
     "data": {
      "text/plain": "frozenset({2, 3, 5, 7, 11})"
     },
     "execution_count": 70,
     "metadata": {},
     "output_type": "execute_result"
    }
   ],
   "source": [
    "small_primes | bigger_primes"
   ]
  },
  {
   "cell_type": "code",
   "execution_count": 71,
   "metadata": {
    "ExecuteTime": {
     "end_time": "2024-09-17T13:35:08.078110Z",
     "start_time": "2024-09-17T13:35:08.075409Z"
    }
   },
   "outputs": [
    {
     "data": {
      "text/plain": "frozenset({2, 3})"
     },
     "execution_count": 71,
     "metadata": {},
     "output_type": "execute_result"
    }
   ],
   "source": [
    "small_primes - bigger_primes"
   ]
  },
  {
   "cell_type": "markdown",
   "metadata": {},
   "source": [
    "## Dictionaries\n",
    "\n",
    "- Dictionary type is the only standard mapping type, and it is the backbone of every Python object.\n",
    "- A dictionary maps keys to values\n",
    "- Keys need to be hashable objects, while values can be of any arbitrary type.\n",
    "- Dictionaries are mutable objects."
   ]
  },
  {
   "cell_type": "code",
   "execution_count": 72,
   "metadata": {
    "ExecuteTime": {
     "end_time": "2024-09-17T13:35:08.193502Z",
     "start_time": "2024-09-17T13:35:08.190895Z"
    }
   },
   "outputs": [],
   "source": [
    "a = dict(A=1, Z=-1)\n",
    "b = {'A': 1, 'Z': -1}\n",
    "\n",
    "# just showing off...!\n",
    "c = dict(zip(['A', 'Z'], [1, -1]))\n",
    "d = dict([('A', 1), ('Z', -1)])\n",
    "e = dict({'Z': -1, 'A': 1})"
   ]
  },
  {
   "cell_type": "markdown",
   "metadata": {},
   "source": [
    "are they equal?"
   ]
  },
  {
   "cell_type": "code",
   "execution_count": 73,
   "metadata": {
    "ExecuteTime": {
     "end_time": "2024-09-17T13:35:08.334630Z",
     "start_time": "2024-09-17T13:35:08.332231Z"
    }
   },
   "outputs": [
    {
     "data": {
      "text/plain": "True"
     },
     "execution_count": 73,
     "metadata": {},
     "output_type": "execute_result"
    }
   ],
   "source": [
    "a == b == c == d == e"
   ]
  },
  {
   "cell_type": "markdown",
   "metadata": {},
   "source": [
    "are they all the same? No!"
   ]
  },
  {
   "cell_type": "code",
   "execution_count": 74,
   "metadata": {
    "ExecuteTime": {
     "end_time": "2024-09-17T13:35:08.466818Z",
     "start_time": "2024-09-17T13:35:08.464398Z"
    }
   },
   "outputs": [
    {
     "data": {
      "text/plain": "[4420937536, 4422140800, 4422064768, 4422068416, 4422065664]"
     },
     "execution_count": 74,
     "metadata": {},
     "output_type": "execute_result"
    }
   ],
   "source": [
    "[id(x) for x in [a, b, c, d, e]]"
   ]
  },
  {
   "cell_type": "markdown",
   "metadata": {
    "ExecuteTime": {
     "end_time": "2018-02-08T23:00:16.678060Z",
     "start_time": "2018-02-08T23:00:16.673041Z"
    }
   },
   "source": [
    "So, the key can be an immutable and, e.g., tuples are immutables"
   ]
  },
  {
   "cell_type": "code",
   "execution_count": 75,
   "metadata": {
    "ExecuteTime": {
     "end_time": "2024-09-17T13:35:08.618362Z",
     "start_time": "2024-09-17T13:35:08.615755Z"
    }
   },
   "outputs": [
    {
     "data": {
      "text/plain": "{'A': 1, 'Z': -1, (1, 2): [42, 'Brian'], (2, 1): [42, 'Brian']}"
     },
     "execution_count": 75,
     "metadata": {},
     "output_type": "execute_result"
    }
   ],
   "source": [
    "B = [42, \"Brian\"]\n",
    "a[(1, 2)] = B # (1, 2) is a tuple, so it is immutable\n",
    "a[(2, 1)] = B\n",
    "a"
   ]
  },
  {
   "cell_type": "markdown",
   "metadata": {},
   "source": [
    "such as are string"
   ]
  },
  {
   "cell_type": "code",
   "execution_count": 76,
   "metadata": {
    "ExecuteTime": {
     "end_time": "2024-09-17T13:35:08.676573Z",
     "start_time": "2024-09-17T13:35:08.674767Z"
    }
   },
   "outputs": [],
   "source": [
    "a[\"some key\"] = 42"
   ]
  },
  {
   "cell_type": "markdown",
   "metadata": {},
   "source": [
    "In `a` was stored a reference to `B`. So, if we change what is referenced by `B`..."
   ]
  },
  {
   "cell_type": "code",
   "execution_count": 77,
   "metadata": {
    "ExecuteTime": {
     "end_time": "2024-09-17T13:35:08.818855Z",
     "start_time": "2024-09-17T13:35:08.816328Z"
    }
   },
   "outputs": [
    {
     "data": {
      "text/plain": "{'A': 1,\n 'Z': -1,\n (1, 2): [42, 'Brian', 'life'],\n (2, 1): [42, 'Brian', 'life'],\n 'some key': 42}"
     },
     "execution_count": 77,
     "metadata": {},
     "output_type": "execute_result"
    }
   ],
   "source": [
    "B.append(\"life\")\n",
    "a"
   ]
  },
  {
   "cell_type": "markdown",
   "metadata": {},
   "source": [
    "and more..."
   ]
  },
  {
   "cell_type": "code",
   "execution_count": 78,
   "metadata": {
    "ExecuteTime": {
     "end_time": "2024-09-17T13:35:08.883505Z",
     "start_time": "2024-09-17T13:35:08.881030Z"
    }
   },
   "outputs": [
    {
     "data": {
      "text/plain": "{'A': 1,\n 'Z': -1,\n (1, 2): [42, 'Brian', 'life'],\n (2, 1): [42, 'Brian', 'life'],\n 'some key': 42,\n 1: 3,\n frozenset({1, 2}): 12}"
     },
     "execution_count": 78,
     "metadata": {},
     "output_type": "execute_result"
    }
   ],
   "source": [
    "a[1] = 3\n",
    "a[frozenset([1, 2])] = 12 \n",
    "a"
   ]
  },
  {
   "cell_type": "markdown",
   "metadata": {},
   "source": [
    "### operations"
   ]
  },
  {
   "cell_type": "code",
   "execution_count": 79,
   "metadata": {
    "ExecuteTime": {
     "end_time": "2024-09-17T13:35:09.006193Z",
     "start_time": "2024-09-17T13:35:09.003846Z"
    }
   },
   "outputs": [
    {
     "data": {
      "text/plain": "{'a': 1, 'b': 2}"
     },
     "execution_count": 79,
     "metadata": {},
     "output_type": "execute_result"
    }
   ],
   "source": [
    "d = {}\n",
    "d['a'] = 1\n",
    "d['b'] = 2\n",
    "d"
   ]
  },
  {
   "cell_type": "markdown",
   "metadata": {},
   "source": [
    "How many elements?"
   ]
  },
  {
   "cell_type": "code",
   "execution_count": 80,
   "metadata": {
    "ExecuteTime": {
     "end_time": "2024-09-17T13:35:09.156071Z",
     "start_time": "2024-09-17T13:35:09.153885Z"
    }
   },
   "outputs": [
    {
     "data": {
      "text/plain": "2"
     },
     "execution_count": 80,
     "metadata": {},
     "output_type": "execute_result"
    }
   ],
   "source": [
    "len(d)"
   ]
  },
  {
   "cell_type": "markdown",
   "metadata": {},
   "source": [
    "what is the value of 'a'?"
   ]
  },
  {
   "cell_type": "code",
   "execution_count": 81,
   "metadata": {
    "ExecuteTime": {
     "end_time": "2024-09-17T13:35:09.320203Z",
     "start_time": "2024-09-17T13:35:09.317831Z"
    }
   },
   "outputs": [
    {
     "data": {
      "text/plain": "1"
     },
     "execution_count": 81,
     "metadata": {},
     "output_type": "execute_result"
    }
   ],
   "source": [
    "d['a']"
   ]
  },
  {
   "cell_type": "markdown",
   "metadata": {},
   "source": [
    "let us remove `a`"
   ]
  },
  {
   "cell_type": "code",
   "execution_count": 82,
   "metadata": {
    "ExecuteTime": {
     "end_time": "2024-09-17T13:35:09.503078Z",
     "start_time": "2024-09-17T13:35:09.500918Z"
    }
   },
   "outputs": [
    {
     "data": {
      "text/plain": "{'b': 2}"
     },
     "execution_count": 82,
     "metadata": {},
     "output_type": "execute_result"
    }
   ],
   "source": [
    "del d['a']              # \n",
    "d"
   ]
  },
  {
   "cell_type": "markdown",
   "metadata": {},
   "source": [
    "membership is checked against the keys"
   ]
  },
  {
   "cell_type": "code",
   "execution_count": 83,
   "metadata": {
    "ExecuteTime": {
     "end_time": "2024-09-17T13:35:09.653788Z",
     "start_time": "2024-09-17T13:35:09.651331Z"
    }
   },
   "outputs": [
    {
     "data": {
      "text/plain": "True"
     },
     "execution_count": 83,
     "metadata": {},
     "output_type": "execute_result"
    }
   ],
   "source": [
    "d['c'] = 3  \n",
    "'c' in d "
   ]
  },
  {
   "cell_type": "markdown",
   "metadata": {},
   "source": [
    "not the values"
   ]
  },
  {
   "cell_type": "code",
   "execution_count": 84,
   "metadata": {
    "ExecuteTime": {
     "end_time": "2024-09-17T13:35:09.816354Z",
     "start_time": "2024-09-17T13:35:09.814097Z"
    }
   },
   "outputs": [
    {
     "data": {
      "text/plain": "False"
     },
     "execution_count": 84,
     "metadata": {},
     "output_type": "execute_result"
    }
   ],
   "source": [
    "3 in d                  # not the values"
   ]
  },
  {
   "cell_type": "markdown",
   "metadata": {},
   "source": [
    "obviously, we can also check the values..."
   ]
  },
  {
   "cell_type": "code",
   "execution_count": 85,
   "metadata": {
    "ExecuteTime": {
     "end_time": "2024-09-17T13:35:09.954279Z",
     "start_time": "2024-09-17T13:35:09.952112Z"
    }
   },
   "outputs": [
    {
     "data": {
      "text/plain": "True"
     },
     "execution_count": 85,
     "metadata": {},
     "output_type": "execute_result"
    }
   ],
   "source": [
    "3 in d.values()"
   ]
  },
  {
   "cell_type": "markdown",
   "metadata": {},
   "source": [
    "have a look at dic properties"
   ]
  },
  {
   "cell_type": "code",
   "execution_count": 86,
   "metadata": {
    "ExecuteTime": {
     "end_time": "2024-09-17T13:35:10.154217Z",
     "start_time": "2024-09-17T13:35:10.151728Z"
    }
   },
   "outputs": [
    {
     "data": {
      "text/plain": "['__class__',\n '__class_getitem__',\n '__contains__',\n '__delattr__',\n '__delitem__',\n '__dir__',\n '__doc__',\n '__eq__',\n '__format__',\n '__ge__',\n '__getattribute__',\n '__getitem__',\n '__getstate__',\n '__gt__',\n '__hash__',\n '__init__',\n '__init_subclass__',\n '__ior__',\n '__iter__',\n '__le__',\n '__len__',\n '__lt__',\n '__ne__',\n '__new__',\n '__or__',\n '__reduce__',\n '__reduce_ex__',\n '__repr__',\n '__reversed__',\n '__ror__',\n '__setattr__',\n '__setitem__',\n '__sizeof__',\n '__str__',\n '__subclasshook__',\n 'clear',\n 'copy',\n 'fromkeys',\n 'get',\n 'items',\n 'keys',\n 'pop',\n 'popitem',\n 'setdefault',\n 'update',\n 'values']"
     },
     "execution_count": 86,
     "metadata": {},
     "output_type": "execute_result"
    }
   ],
   "source": [
    "dir(dict)"
   ]
  },
  {
   "cell_type": "markdown",
   "metadata": {},
   "source": [
    "Clean everything "
   ]
  },
  {
   "cell_type": "code",
   "execution_count": 87,
   "metadata": {
    "ExecuteTime": {
     "end_time": "2024-09-17T13:35:10.219975Z",
     "start_time": "2024-09-17T13:35:10.217802Z"
    }
   },
   "outputs": [
    {
     "data": {
      "text/plain": "{}"
     },
     "execution_count": 87,
     "metadata": {},
     "output_type": "execute_result"
    }
   ],
   "source": [
    "d.clear() \n",
    "d"
   ]
  },
  {
   "cell_type": "markdown",
   "metadata": {},
   "source": [
    "### dictionaries inline (optional)"
   ]
  },
  {
   "cell_type": "code",
   "execution_count": 88,
   "metadata": {
    "ExecuteTime": {
     "end_time": "2024-09-17T13:35:10.356725Z",
     "start_time": "2024-09-17T13:35:10.353967Z"
    }
   },
   "outputs": [
    {
     "data": {
      "text/plain": "{'h': 0, 'e': 1, 'l': 3, 'o': 4}"
     },
     "execution_count": 88,
     "metadata": {},
     "output_type": "execute_result"
    }
   ],
   "source": [
    "d = dict(zip('hello', range(5)))\n",
    "d"
   ]
  },
  {
   "cell_type": "code",
   "execution_count": 89,
   "metadata": {
    "ExecuteTime": {
     "end_time": "2024-09-17T13:35:10.554150Z",
     "start_time": "2024-09-17T13:35:10.551197Z"
    }
   },
   "outputs": [
    {
     "data": {
      "text/plain": "dict_keys(['h', 'e', 'l', 'o'])"
     },
     "execution_count": 89,
     "metadata": {},
     "output_type": "execute_result"
    }
   ],
   "source": [
    "d.keys()"
   ]
  },
  {
   "cell_type": "code",
   "execution_count": 90,
   "metadata": {
    "ExecuteTime": {
     "end_time": "2024-09-17T13:35:10.692294Z",
     "start_time": "2024-09-17T13:35:10.689937Z"
    }
   },
   "outputs": [
    {
     "data": {
      "text/plain": "dict_values([0, 1, 3, 4])"
     },
     "execution_count": 90,
     "metadata": {},
     "output_type": "execute_result"
    }
   ],
   "source": [
    "d.values()"
   ]
  },
  {
   "cell_type": "code",
   "execution_count": 91,
   "metadata": {
    "ExecuteTime": {
     "end_time": "2024-09-17T13:35:10.826876Z",
     "start_time": "2024-09-17T13:35:10.824707Z"
    }
   },
   "outputs": [
    {
     "data": {
      "text/plain": "dict_items([('h', 0), ('e', 1), ('l', 3), ('o', 4)])"
     },
     "execution_count": 91,
     "metadata": {},
     "output_type": "execute_result"
    }
   ],
   "source": [
    "d.items()"
   ]
  },
  {
   "cell_type": "markdown",
   "metadata": {},
   "source": [
    "### getting items\n",
    "\n",
    "removes a random item"
   ]
  },
  {
   "cell_type": "code",
   "execution_count": 92,
   "metadata": {
    "ExecuteTime": {
     "end_time": "2024-09-17T13:35:10.942122Z",
     "start_time": "2024-09-17T13:35:10.939759Z"
    }
   },
   "outputs": [
    {
     "data": {
      "text/plain": "('o', 4)"
     },
     "execution_count": 92,
     "metadata": {},
     "output_type": "execute_result"
    }
   ],
   "source": [
    "d.popitem()"
   ]
  },
  {
   "cell_type": "markdown",
   "metadata": {},
   "source": [
    "remove item with key `l`, and return its value"
   ]
  },
  {
   "cell_type": "code",
   "execution_count": 93,
   "metadata": {
    "ExecuteTime": {
     "end_time": "2024-09-17T13:35:11.105564Z",
     "start_time": "2024-09-17T13:35:11.103226Z"
    }
   },
   "outputs": [
    {
     "data": {
      "text/plain": "3"
     },
     "execution_count": 93,
     "metadata": {},
     "output_type": "execute_result"
    }
   ],
   "source": [
    "d.pop('l')"
   ]
  },
  {
   "cell_type": "code",
   "execution_count": 94,
   "metadata": {
    "ExecuteTime": {
     "end_time": "2024-09-17T13:35:11.271940Z",
     "start_time": "2024-09-17T13:35:11.269605Z"
    }
   },
   "outputs": [
    {
     "data": {
      "text/plain": "{'h': 0, 'e': 1}"
     },
     "execution_count": 94,
     "metadata": {},
     "output_type": "execute_result"
    }
   ],
   "source": [
    "d"
   ]
  },
  {
   "cell_type": "markdown",
   "metadata": {},
   "source": [
    "remove a key not in dictionary -> KeyError"
   ]
  },
  {
   "cell_type": "code",
   "execution_count": 95,
   "metadata": {
    "ExecuteTime": {
     "end_time": "2024-09-17T13:35:11.373342Z",
     "start_time": "2024-09-17T13:35:11.365795Z"
    }
   },
   "outputs": [
    {
     "ename": "KeyError",
     "evalue": "'not-a-key'",
     "output_type": "error",
     "traceback": [
      "\u001B[0;31m---------------------------------------------------------------------------\u001B[0m",
      "\u001B[0;31mKeyError\u001B[0m                                  Traceback (most recent call last)",
      "Cell \u001B[0;32mIn[95], line 1\u001B[0m\n\u001B[0;32m----> 1\u001B[0m d\u001B[38;5;241m.\u001B[39mpop(\u001B[38;5;124m'\u001B[39m\u001B[38;5;124mnot-a-key\u001B[39m\u001B[38;5;124m'\u001B[39m)\n",
      "\u001B[0;31mKeyError\u001B[0m: 'not-a-key'"
     ]
    }
   ],
   "source": [
    "d.pop('not-a-key')"
   ]
  },
  {
   "cell_type": "markdown",
   "metadata": {},
   "source": [
    "if the key is not in the dictionary a default value can be returned"
   ]
  },
  {
   "cell_type": "code",
   "execution_count": 96,
   "metadata": {
    "ExecuteTime": {
     "end_time": "2024-09-17T13:35:11.487867Z",
     "start_time": "2024-09-17T13:35:11.485430Z"
    }
   },
   "outputs": [
    {
     "data": {
      "text/plain": "'default-value'"
     },
     "execution_count": 96,
     "metadata": {},
     "output_type": "execute_result"
    }
   ],
   "source": [
    "d.pop('not-a-key', 'default-value')"
   ]
  },
  {
   "cell_type": "markdown",
   "metadata": {},
   "source": [
    "many way do we can update a dictionary"
   ]
  },
  {
   "cell_type": "code",
   "execution_count": 97,
   "metadata": {
    "ExecuteTime": {
     "end_time": "2024-09-17T13:35:11.718816Z",
     "start_time": "2024-09-17T13:35:11.716210Z"
    }
   },
   "outputs": [
    {
     "data": {
      "text/plain": "{'h': 0,\n 'e': 1,\n 'Life of Brian': 1979,\n 'And Now for Something Completely Different': 1971,\n 'a': 1975}"
     },
     "execution_count": 97,
     "metadata": {},
     "output_type": "execute_result"
    }
   ],
   "source": [
    "d[\"Life of Brian\"] = 1979\n",
    "d.update({'And Now for Something Completely Different': 1971}) \n",
    "d.update(a = 1975)                 \n",
    "d"
   ]
  },
  {
   "cell_type": "markdown",
   "metadata": {},
   "source": [
    "As seen, a way to get key's values is to use `d['a']`. Another way is "
   ]
  },
  {
   "cell_type": "code",
   "execution_count": 98,
   "metadata": {
    "ExecuteTime": {
     "end_time": "2024-09-17T13:35:11.865742Z",
     "start_time": "2024-09-17T13:35:11.863499Z"
    }
   },
   "outputs": [
    {
     "data": {
      "text/plain": "1975"
     },
     "execution_count": 98,
     "metadata": {},
     "output_type": "execute_result"
    }
   ],
   "source": [
    "d.get('a')"
   ]
  },
  {
   "cell_type": "markdown",
   "metadata": {},
   "source": [
    "if the key is not in the dictionary a default value can be returned"
   ]
  },
  {
   "cell_type": "code",
   "execution_count": 99,
   "metadata": {
    "ExecuteTime": {
     "end_time": "2024-09-17T13:35:12.037150Z",
     "start_time": "2024-09-17T13:35:12.034627Z"
    }
   },
   "outputs": [
    {
     "data": {
      "text/plain": "1975"
     },
     "execution_count": 99,
     "metadata": {},
     "output_type": "execute_result"
    }
   ],
   "source": [
    "d.get('a', 177)"
   ]
  },
  {
   "cell_type": "code",
   "execution_count": 100,
   "metadata": {
    "ExecuteTime": {
     "end_time": "2024-09-17T13:35:12.238573Z",
     "start_time": "2024-09-17T13:35:12.235805Z"
    }
   },
   "outputs": [
    {
     "data": {
      "text/plain": "177"
     },
     "execution_count": 100,
     "metadata": {},
     "output_type": "execute_result"
    }
   ],
   "source": [
    "d.get('b', 177) "
   ]
  },
  {
   "cell_type": "markdown",
   "metadata": {},
   "source": [
    "if key is inexistent, `None` is returned if no default value is defined, or the default value"
   ]
  },
  {
   "cell_type": "code",
   "execution_count": 101,
   "metadata": {
    "ExecuteTime": {
     "end_time": "2024-09-17T13:35:12.538797Z",
     "start_time": "2024-09-17T13:35:12.536595Z"
    }
   },
   "outputs": [
    {
     "name": "stdout",
     "output_type": "stream",
     "text": [
      "12 None\n"
     ]
    }
   ],
   "source": [
    "x = d.get('b', 12)\n",
    "y = d.get('b')\n",
    "print(x, y)"
   ]
  },
  {
   "cell_type": "markdown",
   "metadata": {},
   "source": [
    "A value can be set if a key is not defined. The setdefault() method returns the value of the item with the specified key."
   ]
  },
  {
   "cell_type": "code",
   "execution_count": 102,
   "metadata": {
    "ExecuteTime": {
     "end_time": "2024-09-17T13:35:12.919112Z",
     "start_time": "2024-09-17T13:35:12.916631Z"
    }
   },
   "outputs": [
    {
     "data": {
      "text/plain": "1"
     },
     "execution_count": 102,
     "metadata": {},
     "output_type": "execute_result"
    }
   ],
   "source": [
    "d = {}\n",
    "d.setdefault('a', 1)           # 'a' is missing, we get default value"
   ]
  },
  {
   "cell_type": "markdown",
   "metadata": {},
   "source": [
    "If the key does not exist, insert the key, with the specified value"
   ]
  },
  {
   "cell_type": "code",
   "execution_count": 103,
   "metadata": {
    "ExecuteTime": {
     "end_time": "2024-09-17T13:35:13.370787Z",
     "start_time": "2024-09-17T13:35:13.368503Z"
    }
   },
   "outputs": [
    {
     "data": {
      "text/plain": "1"
     },
     "execution_count": 103,
     "metadata": {},
     "output_type": "execute_result"
    }
   ],
   "source": [
    "d.setdefault('a', 5)           # let's try to override the value"
   ]
  },
  {
   "cell_type": "code",
   "execution_count": 104,
   "metadata": {
    "ExecuteTime": {
     "end_time": "2024-09-17T13:35:13.732925Z",
     "start_time": "2024-09-17T13:35:13.730585Z"
    }
   },
   "outputs": [
    {
     "data": {
      "text/plain": "{'a': 1}"
     },
     "execution_count": 104,
     "metadata": {},
     "output_type": "execute_result"
    }
   ],
   "source": [
    "d"
   ]
  },
  {
   "cell_type": "markdown",
   "metadata": {},
   "source": [
    "# Exercises\n",
    "\n",
    "[Go here...](exercises/03-exercises.ipynb)"
   ]
  },
  {
   "cell_type": "markdown",
   "metadata": {},
   "source": [
    "# The collections module (optional)\n",
    "When Python general purpose built-in containers (tuple, list, set, and dict) aren't enough, we can find specialized container data types in the collections module...\n",
    "\n",
    "- `namedtuple` A factory function for creating tuple subclasses with named fields\n",
    "- `deque` A list-like container with fast appends and pops on either end\n",
    "- `ChainMap` A dict-like class for creating a single view of multiple mappings\n",
    "- `Counter` A dict subclass for counting hashable objects\n",
    "- `OrderedDict` A dict subclass that remembers the order entries were added\n",
    "- `defaultdict` A dict subclass that calls a factory function to supply missing values\n",
    "- `UserDict` A wrapper around dictionary objects for easier dict subclassing\n",
    "- `UserList` A wrapper around list objects for easier list subclassing\n",
    "- `UserString` A wrapper around string objects for easier string subclassing\n",
    "        \n",
    "See the manual for detailed descriptions and further containers."
   ]
  },
  {
   "cell_type": "code",
   "outputs": [],
   "source": [],
   "metadata": {
    "collapsed": false
   }
  }
 ],
 "metadata": {
  "kernelspec": {
   "display_name": "Python 3 (ipykernel)",
   "language": "python",
   "name": "python3"
  },
  "language_info": {
   "codemirror_mode": {
    "name": "ipython",
    "version": 3
   },
   "file_extension": ".py",
   "mimetype": "text/x-python",
   "name": "python",
   "nbconvert_exporter": "python",
   "pygments_lexer": "ipython3",
   "version": "3.9.12"
  },
  "latex_envs": {
   "LaTeX_envs_menu_present": true,
   "autoclose": false,
   "autocomplete": true,
   "bibliofile": "biblio.bib",
   "cite_by": "apalike",
   "current_citInitial": 1,
   "eqLabelWithNumbers": true,
   "eqNumInitial": 1,
   "hotkeys": {
    "equation": "Ctrl-E",
    "itemize": "Ctrl-I"
   },
   "labels_anchors": false,
   "latex_user_defs": false,
   "report_style_numbering": true,
   "user_envs_cfg": true
  },
  "nbTranslate": {
   "displayLangs": [
    "*"
   ],
   "hotkey": "alt-t",
   "langInMainMenu": true,
   "sourceLang": "en",
   "targetLang": "fr",
   "useGoogleTranslate": true
  },
  "toc": {
   "base_numbering": 1,
   "nav_menu": {
    "height": "273px",
    "width": "362px"
   },
   "number_sections": true,
   "sideBar": true,
   "skip_h1_title": false,
   "title_cell": "Table of Contents",
   "title_sidebar": "Contents",
   "toc_cell": false,
   "toc_position": {},
   "toc_section_display": "block",
   "toc_window_display": false
  },
  "varInspector": {
   "cols": {
    "lenName": 16,
    "lenType": 16,
    "lenVar": 40
   },
   "kernels_config": {
    "python": {
     "delete_cmd_postfix": "",
     "delete_cmd_prefix": "del ",
     "library": "var_list.py",
     "varRefreshCmd": "print(var_dic_list())"
    },
    "r": {
     "delete_cmd_postfix": ") ",
     "delete_cmd_prefix": "rm(",
     "library": "var_list.r",
     "varRefreshCmd": "cat(var_dic_list()) "
    }
   },
   "types_to_exclude": [
    "module",
    "function",
    "builtin_function_or_method",
    "instance",
    "_Feature"
   ],
   "window_display": false
  }
 },
 "nbformat": 4,
 "nbformat_minor": 2
}
