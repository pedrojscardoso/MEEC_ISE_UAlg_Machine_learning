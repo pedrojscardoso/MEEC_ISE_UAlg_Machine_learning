{
 "cells": [
  {
   "cell_type": "markdown",
   "source": [
    "___\n",
    "<h1> Machine Learning </h1>\n",
    "<h2> M. Sc. in Electrical and Computer Engineering </h2>\n",
    "<h3> Instituto Superior de Engenharia / Universidade do Algarve </h3>\n",
    "\n",
    "[LESTI](https://ise.ualg.pt/curso/1941) / [ISE](https://ise.ualg.pt) / [UAlg](https://www.ualg.pt)\n",
    "\n",
    "Pedro J. S. Cardoso (pcardoso@ualg.pt)\n",
    "\n",
    "___"
   ],
   "metadata": {
    "collapsed": false
   }
  },
  {
   "cell_type": "markdown",
   "metadata": {},
   "source": [
    "# Exceptions\n",
    " - When an error is detected during execution, it is called an exception\n",
    " - To handle an exception, Python gives you the `try` statement (as many other languages). \n",
    " - Entering the `try` block will make Python watch out for one or more different types of exceptions\n",
    " - Exceptions as raised and we should react to them\n",
    " - The 'reaction' code is placed in `except` blocks \n",
    " - The `else` clause (optional), is executed when the try clause is exited without any exception raised\n",
    " - The `finally` clause (optional) code is executed regardless of whatever happened in the other clauses."
   ]
  },
  {
   "cell_type": "code",
   "execution_count": null,
   "metadata": {
    "ExecuteTime": {
     "end_time": "2022-03-07T18:13:24.590178Z",
     "start_time": "2022-03-07T18:13:24.587219Z"
    }
   },
   "outputs": [],
   "source": [
    "def try_syntax(numerator, denominator):\n",
    "    try:\n",
    "        print(f'In the try block: {numerator}/{denominator}')\n",
    "        result = numerator / denominator\n",
    "    except ZeroDivisionError as zde:\n",
    "        print(\"---> ZeroDivisionError\")\n",
    "        print(zde)\n",
    "    except Exception as e:    \n",
    "        # All built-in, non-system-exiting exceptions are derived from this class. \n",
    "        # All user-defined exceptions should also be derived from this class.\n",
    "        # if you simply want to \"catch\" the exception and get along with it, you could simple use `except:`\n",
    "        print(\"---> Exception\")\n",
    "        print(e)\n",
    "    else:\n",
    "        print('The result is:', result)\n",
    "        return result\n",
    "    finally:\n",
    "        print('Exiting') "
   ]
  },
  {
   "cell_type": "code",
   "execution_count": null,
   "metadata": {
    "ExecuteTime": {
     "end_time": "2022-03-07T18:13:39.022123Z",
     "start_time": "2022-03-07T18:13:39.013993Z"
    }
   },
   "outputs": [],
   "source": [
    "try_syntax(12, 4)"
   ]
  },
  {
   "cell_type": "code",
   "execution_count": null,
   "metadata": {
    "ExecuteTime": {
     "end_time": "2022-03-07T18:13:59.177072Z",
     "start_time": "2022-03-07T18:13:59.174237Z"
    }
   },
   "outputs": [],
   "source": [
    "try_syntax(11, 0)"
   ]
  },
  {
   "cell_type": "code",
   "execution_count": null,
   "metadata": {
    "ExecuteTime": {
     "end_time": "2022-03-07T18:14:03.720187Z",
     "start_time": "2022-03-07T18:14:03.717103Z"
    }
   },
   "outputs": [],
   "source": [
    "try_syntax(11, None)"
   ]
  },
  {
   "cell_type": "code",
   "execution_count": null,
   "metadata": {},
   "outputs": [],
   "source": []
  }
 ],
 "metadata": {
  "kernelspec": {
   "display_name": "Python 3 (ipykernel)",
   "language": "python",
   "name": "python3"
  },
  "language_info": {
   "codemirror_mode": {
    "name": "ipython",
    "version": 3
   },
   "file_extension": ".py",
   "mimetype": "text/x-python",
   "name": "python",
   "nbconvert_exporter": "python",
   "pygments_lexer": "ipython3",
   "version": "3.10.6"
  },
  "latex_envs": {
   "LaTeX_envs_menu_present": true,
   "autoclose": true,
   "autocomplete": true,
   "bibliofile": "references.bib",
   "cite_by": "apalike",
   "current_citInitial": 1,
   "eqLabelWithNumbers": false,
   "eqNumInitial": 1,
   "hotkeys": {
    "equation": "Ctrl-E",
    "itemize": "Ctrl-I"
   },
   "labels_anchors": false,
   "latex_user_defs": false,
   "report_style_numbering": true,
   "user_envs_cfg": false
  },
  "nbTranslate": {
   "displayLangs": [
    "*"
   ],
   "hotkey": "alt-t",
   "langInMainMenu": true,
   "sourceLang": "en",
   "targetLang": "fr",
   "useGoogleTranslate": true
  },
  "toc": {
   "base_numbering": 1,
   "nav_menu": {},
   "number_sections": true,
   "sideBar": true,
   "skip_h1_title": false,
   "title_cell": "Table of Contents",
   "title_sidebar": "Contents",
   "toc_cell": false,
   "toc_position": {},
   "toc_section_display": "block",
   "toc_window_display": false
  },
  "varInspector": {
   "cols": {
    "lenName": 16,
    "lenType": 16,
    "lenVar": 40
   },
   "kernels_config": {
    "python": {
     "delete_cmd_postfix": "",
     "delete_cmd_prefix": "del ",
     "library": "var_list.py",
     "varRefreshCmd": "print(var_dic_list())"
    },
    "r": {
     "delete_cmd_postfix": ") ",
     "delete_cmd_prefix": "rm(",
     "library": "var_list.r",
     "varRefreshCmd": "cat(var_dic_list()) "
    }
   },
   "types_to_exclude": [
    "module",
    "function",
    "builtin_function_or_method",
    "instance",
    "_Feature"
   ],
   "window_display": false
  }
 },
 "nbformat": 4,
 "nbformat_minor": 2
}
