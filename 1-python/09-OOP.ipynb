{
 "cells": [
  {
   "cell_type": "markdown",
   "metadata": {},
   "source": [
    "# Object oriented programming\n",
    "\n",
    "## Basics\n",
    "\n",
    "\n",
    "- **Object-oriented programming (OOP)** is a programming paradigm based on the concept of \"objects\", which are data structures that contain data, in the form of **attributes**, and code, in the form of functions known as **methods**. \n",
    "        \n",
    "- Object's method can access and often modify the data attributes of the object with which they are associated (objects have a notion of \"self\"). \n",
    "        \n",
    "- In OO programming, computer programs are designed by making them out of objects that interact with one another.\n",
    "        \n",
    "- **Classes are used to create objects (objects are instances of the classes with which they were created), so we could see them as instance factories**."
   ]
  },
  {
   "cell_type": "code",
   "execution_count": 1,
   "metadata": {
    "ExecuteTime": {
     "end_time": "2022-03-07T17:48:26.158142Z",
     "start_time": "2022-03-07T17:48:26.155883Z"
    }
   },
   "outputs": [],
   "source": [
    "class Simplest:       # when empty, the braces are optional\n",
    "    pass"
   ]
  },
  {
   "cell_type": "markdown",
   "metadata": {},
   "source": [
    "we can create an instance of `Simplest: simp`"
   ]
  },
  {
   "cell_type": "code",
   "execution_count": 2,
   "metadata": {
    "ExecuteTime": {
     "end_time": "2022-03-07T17:48:26.989576Z",
     "start_time": "2022-03-07T17:48:26.980776Z"
    }
   },
   "outputs": [
    {
     "data": {
      "text/plain": [
       "__main__.Simplest"
      ]
     },
     "execution_count": 2,
     "metadata": {},
     "output_type": "execute_result"
    }
   ],
   "source": [
    "simp = Simplest() \n",
    "\n",
    "type(simp)   # what type is simp? "
   ]
  },
  {
   "cell_type": "markdown",
   "metadata": {},
   "source": [
    "Is `simp` an instance of `Simplest`?"
   ]
  },
  {
   "cell_type": "code",
   "execution_count": 3,
   "metadata": {
    "ExecuteTime": {
     "end_time": "2020-02-20T15:38:08.620152Z",
     "start_time": "2020-02-20T15:38:08.499259Z"
    }
   },
   "outputs": [
    {
     "name": "stdout",
     "output_type": "stream",
     "text": [
      "True\n"
     ]
    }
   ],
   "source": [
    "print(type(simp) == Simplest)"
   ]
  },
  {
   "cell_type": "markdown",
   "metadata": {},
   "source": [
    "There's a better way for this"
   ]
  },
  {
   "cell_type": "code",
   "execution_count": 4,
   "metadata": {
    "ExecuteTime": {
     "end_time": "2020-02-20T15:38:08.620152Z",
     "start_time": "2020-02-20T15:38:08.499259Z"
    }
   },
   "outputs": [
    {
     "data": {
      "text/plain": [
       "True"
      ]
     },
     "execution_count": 4,
     "metadata": {},
     "output_type": "execute_result"
    }
   ],
   "source": [
    "isinstance(simp, Simplest)"
   ]
  },
  {
   "cell_type": "markdown",
   "metadata": {},
   "source": [
    "what does `Simplest` \"contain\"?"
   ]
  },
  {
   "cell_type": "code",
   "execution_count": 5,
   "metadata": {
    "ExecuteTime": {
     "end_time": "2022-03-07T17:49:10.146545Z",
     "start_time": "2022-03-07T17:49:10.143186Z"
    }
   },
   "outputs": [
    {
     "data": {
      "text/plain": [
       "['__class__',\n",
       " '__delattr__',\n",
       " '__dict__',\n",
       " '__dir__',\n",
       " '__doc__',\n",
       " '__eq__',\n",
       " '__format__',\n",
       " '__ge__',\n",
       " '__getattribute__',\n",
       " '__gt__',\n",
       " '__hash__',\n",
       " '__init__',\n",
       " '__init_subclass__',\n",
       " '__le__',\n",
       " '__lt__',\n",
       " '__module__',\n",
       " '__ne__',\n",
       " '__new__',\n",
       " '__reduce__',\n",
       " '__reduce_ex__',\n",
       " '__repr__',\n",
       " '__setattr__',\n",
       " '__sizeof__',\n",
       " '__str__',\n",
       " '__subclasshook__',\n",
       " '__weakref__']"
      ]
     },
     "execution_count": 5,
     "metadata": {},
     "output_type": "execute_result"
    }
   ],
   "source": [
    "dir(Simplest)"
   ]
  },
  {
   "cell_type": "markdown",
   "metadata": {},
   "source": [
    " - After the **class object**  has been created it **basically represents a namespace**. \n",
    "        \n",
    "- We can call that class to create its instances. \n",
    "        \n",
    "-  Each instance **inherits the class attributes and methods** and **is given its own namespace**.\n",
    "        \n",
    "- We already know that, to walk a namespace, all we need to do is to use the dot (`.`) operator.\n",
    "\n",
    "- **Class attributes** are shared amongst all instances, while **instance attributes** are not, they belong to the object; \n",
    "        \n",
    "- You should use **class attributes** to provide the states and behaviors to be shared by all instances, and use **instance attributes** for data that belongs just to one specific object.\n",
    "\n",
    "- From within a class method we can refer to an instance by means of a special argument, called `self` _by convention_. \n",
    "\n",
    "- `self` is always the first attribute of an instance method. \n",
    "\n",
    "- While initializing an instance we have to assign values to the attributes. Other languages use a constructor but in Python we use an **initializer**, since it works on an already created instance, and therefore it's called `__init__` \n",
    "        \n",
    "- `__init__` is a \"magic\" method, which is run right after the object is created. \n",
    "\n",
    "- Python classes also have a `__new__` method, which is the actual **constructor**."
   ]
  },
  {
   "cell_type": "code",
   "execution_count": 6,
   "metadata": {
    "ExecuteTime": {
     "end_time": "2020-02-20T15:38:08.885864Z",
     "start_time": "2020-02-20T15:38:08.755996Z"
    }
   },
   "outputs": [],
   "source": [
    "class Rectangle:\n",
    "    def __init__(self, sideA, sideB):\n",
    "        self.sideA = sideA\n",
    "        self.sideB = sideB\n",
    "\n",
    "    def area(self):\n",
    "        return self.sideA * self.sideB "
   ]
  },
  {
   "cell_type": "code",
   "execution_count": 7,
   "metadata": {
    "ExecuteTime": {
     "end_time": "2020-02-20T15:38:09.041799Z",
     "start_time": "2020-02-20T15:38:08.888859Z"
    }
   },
   "outputs": [],
   "source": [
    "r1 = Rectangle(10, 4)"
   ]
  },
  {
   "cell_type": "code",
   "execution_count": 8,
   "metadata": {},
   "outputs": [
    {
     "data": {
      "text/plain": [
       "10"
      ]
     },
     "execution_count": 8,
     "metadata": {},
     "output_type": "execute_result"
    }
   ],
   "source": [
    "r1.sideA"
   ]
  },
  {
   "cell_type": "code",
   "execution_count": 9,
   "metadata": {},
   "outputs": [
    {
     "data": {
      "text/plain": [
       "'Sides: 10, 4'"
      ]
     },
     "execution_count": 9,
     "metadata": {},
     "output_type": "execute_result"
    }
   ],
   "source": [
    "f'Sides: {r1.sideA}, {r1.sideB}'"
   ]
  },
  {
   "cell_type": "code",
   "execution_count": 10,
   "metadata": {},
   "outputs": [
    {
     "data": {
      "text/plain": [
       "'r1 area: 40'"
      ]
     },
     "execution_count": 10,
     "metadata": {},
     "output_type": "execute_result"
    }
   ],
   "source": [
    "f'r1 area: {r1.area()}'"
   ]
  },
  {
   "cell_type": "code",
   "execution_count": 11,
   "metadata": {
    "ExecuteTime": {
     "end_time": "2020-02-20T15:38:09.253599Z",
     "start_time": "2020-02-20T15:38:09.043795Z"
    }
   },
   "outputs": [
    {
     "name": "stdout",
     "output_type": "stream",
     "text": [
      "r2 area: 21\n"
     ]
    }
   ],
   "source": [
    "r2 = Rectangle(7, 3)\n",
    "print('r2 area:', r2.area())"
   ]
  },
  {
   "cell_type": "markdown",
   "metadata": {},
   "source": [
    "        \n",
    "- Class attributes are shared amongst all instances, while instance attributes are not; \n",
    "        \n",
    "- You should use class attributes to provide the states and behaviors to be shared by all instances, and use instance attributes for data that belongs just to one specific object."
   ]
  },
  {
   "cell_type": "code",
   "execution_count": 12,
   "metadata": {
    "ExecuteTime": {
     "end_time": "2020-02-20T15:38:09.408435Z",
     "start_time": "2020-02-20T15:38:09.255594Z"
    }
   },
   "outputs": [],
   "source": [
    "class Square:\n",
    "    \n",
    "    numero_de_quadrados = 0          # numero_de_quadrados is a class attribute\n",
    "    \n",
    "    def __init__(self, side = 8):\n",
    "        self.side = side            # self.side is an instance attribute\n",
    "        Square.numero_de_quadrados += 1\n",
    "        # self.__class__.numero_de_quadrados += 1   # or even better, since like this you can change the name of the class\n",
    "\n",
    "    def area(self): # self is a reference to an instance\n",
    "        return self.side ** 2"
   ]
  },
  {
   "cell_type": "code",
   "execution_count": 13,
   "metadata": {
    "ExecuteTime": {
     "end_time": "2020-02-20T15:38:09.554291Z",
     "start_time": "2020-02-20T15:38:09.410420Z"
    }
   },
   "outputs": [
    {
     "name": "stdout",
     "output_type": "stream",
     "text": [
      "64\n",
      "64\n"
     ]
    }
   ],
   "source": [
    "sq = Square()\n",
    "print(sq.area()) # 64 (side is found on the class)\n",
    "print(Square.area(sq)) # 64 (equivalent to sq.area())"
   ]
  },
  {
   "cell_type": "code",
   "execution_count": 14,
   "metadata": {
    "ExecuteTime": {
     "end_time": "2020-02-20T15:38:09.663287Z",
     "start_time": "2020-02-20T15:38:09.556282Z"
    }
   },
   "outputs": [
    {
     "data": {
      "text/plain": [
       "100"
      ]
     },
     "execution_count": 14,
     "metadata": {},
     "output_type": "execute_result"
    }
   ],
   "source": [
    "sq.side = 10\n",
    "sq.area()                 # 100 (side is found on the instance)"
   ]
  },
  {
   "cell_type": "markdown",
   "metadata": {},
   "source": [
    "How many Squares were created ?"
   ]
  },
  {
   "cell_type": "code",
   "execution_count": 15,
   "metadata": {
    "ExecuteTime": {
     "end_time": "2020-02-20T15:38:09.820115Z",
     "start_time": "2020-02-20T15:38:08.525Z"
    }
   },
   "outputs": [
    {
     "data": {
      "text/plain": [
       "1"
      ]
     },
     "execution_count": 15,
     "metadata": {},
     "output_type": "execute_result"
    }
   ],
   "source": [
    "Square.numero_de_quadrados"
   ]
  },
  {
   "cell_type": "markdown",
   "metadata": {},
   "source": [
    "## Dynamic attributes (optional)"
   ]
  },
  {
   "cell_type": "code",
   "execution_count": 16,
   "metadata": {
    "ExecuteTime": {
     "end_time": "2020-02-20T15:38:09.821112Z",
     "start_time": "2020-02-20T15:38:08.529Z"
    }
   },
   "outputs": [
    {
     "name": "stdout",
     "output_type": "stream",
     "text": [
      "species? Human\n",
      "alive? True\n",
      "species? Human\n",
      "alive? True\n",
      "alive? False\n"
     ]
    }
   ],
   "source": [
    "class Person():\n",
    "    species = 'Human'                        # class attributes\n",
    "\n",
    "print('species? '+ Person.species)           # Human\n",
    "\n",
    "Person.alive = True                          # Added dynamically!\n",
    "print('alive? ' + str(Person.alive))         # True\n",
    "\n",
    "man = Person()\n",
    "print('species? '+ man.species)              # Human (inherited)\n",
    "print('alive? ' + str(man.alive))            # True (inherited)\n",
    "\n",
    "Person.alive = False\n",
    "print('alive? ' + str(man.alive))            # False (inherited)"
   ]
  },
  {
   "cell_type": "markdown",
   "metadata": {
    "ExecuteTime": {
     "end_time": "2020-02-20T14:26:57.049020Z",
     "start_time": "2020-02-20T14:26:57.043029Z"
    }
   },
   "source": [
    "Be aware of the attributes..."
   ]
  },
  {
   "cell_type": "code",
   "execution_count": 17,
   "metadata": {
    "ExecuteTime": {
     "end_time": "2020-02-20T15:38:09.822111Z",
     "start_time": "2020-02-20T15:38:08.533Z"
    }
   },
   "outputs": [],
   "source": [
    "class Point():\n",
    "    x, y = 10, 7"
   ]
  },
  {
   "cell_type": "code",
   "execution_count": 18,
   "metadata": {
    "ExecuteTime": {
     "end_time": "2020-02-20T15:38:09.823110Z",
     "start_time": "2020-02-20T15:38:08.536Z"
    }
   },
   "outputs": [
    {
     "name": "stdout",
     "output_type": "stream",
     "text": [
      "coordinates: 10 7\n",
      "p.x: 12\n",
      "Point.x: 10\n"
     ]
    }
   ],
   "source": [
    "p = Point()\n",
    "\n",
    "print('coordinates:', p.x, p.y) # 10 7 (from class attribute)\n",
    "\n",
    "p.x = 12        # p gets its own 'x' attribute\n",
    "print('p.x:', p.x)      # 12 (now found on the instance)\n",
    "print('Point.x:', Point.x)  # 10 (class attribute still the same)"
   ]
  },
  {
   "cell_type": "markdown",
   "metadata": {},
   "source": [
    "Now, we have 2 \"x\"'s"
   ]
  },
  {
   "cell_type": "code",
   "execution_count": 19,
   "metadata": {
    "ExecuteTime": {
     "end_time": "2020-02-20T15:38:09.824109Z",
     "start_time": "2020-02-20T15:38:08.540Z"
    }
   },
   "outputs": [
    {
     "data": {
      "text/plain": [
       "1882419325520"
      ]
     },
     "execution_count": 19,
     "metadata": {},
     "output_type": "execute_result"
    }
   ],
   "source": [
    "id(Point.x)          # atributo da classe"
   ]
  },
  {
   "cell_type": "code",
   "execution_count": 20,
   "metadata": {
    "ExecuteTime": {
     "end_time": "2020-02-20T15:38:09.825109Z",
     "start_time": "2020-02-20T15:38:08.543Z"
    }
   },
   "outputs": [
    {
     "data": {
      "text/plain": [
       "1882419325584"
      ]
     },
     "execution_count": 20,
     "metadata": {},
     "output_type": "execute_result"
    }
   ],
   "source": [
    "id(p.x)              # atributo da instância"
   ]
  },
  {
   "cell_type": "code",
   "execution_count": 21,
   "metadata": {
    "ExecuteTime": {
     "end_time": "2020-02-20T15:38:09.826108Z",
     "start_time": "2020-02-20T15:38:08.546Z"
    }
   },
   "outputs": [
    {
     "name": "stdout",
     "output_type": "stream",
     "text": [
      "10\n"
     ]
    }
   ],
   "source": [
    "del p.x         # we delete instance attribute\n",
    "print(p.x)      # 10 (now search has to go again to find class attr)"
   ]
  },
  {
   "cell_type": "code",
   "execution_count": 22,
   "metadata": {
    "ExecuteTime": {
     "end_time": "2020-02-20T15:38:09.827107Z",
     "start_time": "2020-02-20T15:38:08.550Z"
    }
   },
   "outputs": [
    {
     "name": "stdout",
     "output_type": "stream",
     "text": [
      "p.z: 3\n"
     ]
    }
   ],
   "source": [
    "p.z = 3         # let's make it a 3D point\n",
    "print('p.z:', p.z)      # 3"
   ]
  },
  {
   "cell_type": "code",
   "execution_count": 23,
   "metadata": {},
   "outputs": [
    {
     "ename": "AttributeError",
     "evalue": "type object 'Point' has no attribute 'z'",
     "output_type": "error",
     "traceback": [
      "\u001b[1;31m---------------------------------------------------------------------------\u001b[0m",
      "\u001b[1;31mAttributeError\u001b[0m                            Traceback (most recent call last)",
      "Cell \u001b[1;32mIn [23], line 1\u001b[0m\n\u001b[1;32m----> 1\u001b[0m \u001b[38;5;28mprint\u001b[39m(\u001b[43mPoint\u001b[49m\u001b[38;5;241;43m.\u001b[39;49m\u001b[43mz\u001b[49m)\n",
      "\u001b[1;31mAttributeError\u001b[0m: type object 'Point' has no attribute 'z'"
     ]
    }
   ],
   "source": [
    "print(Point.z)  # AttributeError: type object 'Point' has no att. 'z'"
   ]
  },
  {
   "cell_type": "markdown",
   "metadata": {},
   "source": [
    "## Inheritance and composition\n",
    "\n",
    "\n",
    "![Inheritance](images/OOP-inheritance.png)\n"
   ]
  },
  {
   "cell_type": "markdown",
   "metadata": {},
   "source": [
    "### Inheritance\n",
    "- **Inheritance** means that two objects are related by means of an *Is-A* type of relationship. \n"
   ]
  },
  {
   "cell_type": "code",
   "execution_count": null,
   "metadata": {
    "ExecuteTime": {
     "end_time": "2022-03-07T17:58:51.571702Z",
     "start_time": "2022-03-07T17:58:51.568731Z"
    }
   },
   "outputs": [],
   "source": [
    " class Vehicle:\n",
    "    def __init__(self, brand, model, number_of_passengers=0, owner=None):\n",
    "        self.owner = owner\n",
    "        self.brand = brand \n",
    "        self.model = model\n",
    "        self.number_of_passengers = number_of_passengers         \n",
    "    \n",
    "    def vehicle_info(self):\n",
    "        return f'''Vehicle of brand {self.brand}, model {self.model}, with capacity for {self.number_of_passengers} passengers.\\n The owner is {self.owner}.'''\n"
   ]
  },
  {
   "cell_type": "markdown",
   "metadata": {},
   "source": [
    "Now, a land vehicle is a vehiclecle, so it should have all the vehicle properties (even if they have to be redefined) and some other"
   ]
  },
  {
   "cell_type": "code",
   "execution_count": null,
   "metadata": {
    "ExecuteTime": {
     "end_time": "2022-03-07T17:58:52.853122Z",
     "start_time": "2022-03-07T17:58:52.849424Z"
    }
   },
   "outputs": [],
   "source": [
    "class  LandVehicle(Vehicle):\n",
    "\n",
    "    def __init__(self, land_velocity, wheels, number_of_wheels, brand, model, number_of_passengers=0, owner=None):\n",
    "\n",
    "        # call Vehicle initializer sending the Vehicle's attributes\n",
    "        super().__init__(owner=owner, brand=brand, model=model, number_of_passengers=number_of_passengers); \n",
    "\n",
    "        self.land_velocity = land_velocity;\n",
    "        self.wheels = wheels;\n",
    "        self.number_of_wheels = number_of_wheels;\n",
    "\n",
    "    def vehicle_info(self): # In some case, methods need to be redefined\n",
    "        return  super().vehicle_info() + f''' \\n It has {self.number_of_wheels} wheels with the specifications {self.wheels}. The land velocity is {self.land_velocity}.'''"
   ]
  },
  {
   "cell_type": "code",
   "execution_count": null,
   "metadata": {
    "ExecuteTime": {
     "end_time": "2022-03-07T17:58:54.109054Z",
     "start_time": "2022-03-07T17:58:54.105926Z"
    }
   },
   "outputs": [],
   "source": [
    "lv = LandVehicle(land_velocity=200, \n",
    "                 wheels='225/55 R 17 97 W', \n",
    "                 number_of_wheels=4, \n",
    "                 owner='Margarida', \n",
    "                 brand='Fiat', \n",
    "                 model='500', \n",
    "                 number_of_passengers=4)\n",
    "\n",
    "print(lv.vehicle_info())"
   ]
  },
  {
   "cell_type": "code",
   "execution_count": null,
   "metadata": {
    "ExecuteTime": {
     "end_time": "2022-03-07T17:59:02.991998Z",
     "start_time": "2022-03-07T17:59:02.984421Z"
    }
   },
   "outputs": [],
   "source": [
    "class Car(LandVehicle):\n",
    "            \n",
    "    def __init__(self, engine, number_of_doors, land_velocity, wheels, number_of_wheels, brand, model, number_of_passengers=0, owner=None):\n",
    "    \n",
    "        # call LandVehicle contructor\n",
    "        super().__init__(land_velocity=land_velocity, wheels=wheels, number_of_wheels=number_of_wheels, owner=owner, brand=brand, model=model, number_of_passengers=number_of_passengers)\n",
    "\n",
    "        self.engine = engine\n",
    "        self.number_of_doors = number_of_doors    \n",
    "        self.kms = 0\n",
    "        self.filled_fuel = 0\n",
    "        \n",
    "    def vehicle_info(self): # redefinição do método \n",
    "        return  super().vehicle_info() + f''' Also has an engine with {self.engine}cc and {self.number_of_doors} doors.'''\n",
    "\n",
    "    def add_kms(self, kms):\n",
    "        self.kms += kms\n",
    "    \n",
    "    def add_filled_fuel(self, filled_fuel):\n",
    "        self.filled_fuel += filled_fuel\n",
    "    \n",
    "    def consumption(self):\n",
    "        return self.filled_fuel / self.kms * 100"
   ]
  },
  {
   "cell_type": "code",
   "execution_count": null,
   "metadata": {
    "ExecuteTime": {
     "end_time": "2022-03-07T17:59:03.514021Z",
     "start_time": "2022-03-07T17:59:03.510337Z"
    }
   },
   "outputs": [],
   "source": [
    "c = Car(\n",
    "    engine='1500', \n",
    "    number_of_doors=5, \n",
    "    land_velocity=200, \n",
    "    wheels='225/55 R 17 97 W', \n",
    "    number_of_wheels=4, \n",
    "    owner='Margarida', \n",
    "    brand='Fiat', \n",
    "    model='500', \n",
    "    number_of_passengers=4\n",
    ")\n",
    "\n",
    "print(c.vehicle_info())"
   ]
  },
  {
   "cell_type": "code",
   "execution_count": null,
   "metadata": {
    "ExecuteTime": {
     "end_time": "2022-03-07T17:59:04.977703Z",
     "start_time": "2022-03-07T17:59:04.973259Z"
    }
   },
   "outputs": [],
   "source": [
    "c.add_kms(1823)\n",
    "c.add_filled_fuel(100)\n",
    "\n",
    "c.consumption()"
   ]
  },
  {
   "cell_type": "markdown",
   "metadata": {
    "ExecuteTime": {
     "end_time": "2020-02-20T15:23:16.612911Z",
     "start_time": "2020-02-20T15:23:16.609929Z"
    }
   },
   "source": [
    "### More about `super()`  (optional)\n",
    "\n",
    "The attributes of the super class can be called in a distinct number of ways"
   ]
  },
  {
   "cell_type": "code",
   "execution_count": null,
   "metadata": {
    "ExecuteTime": {
     "end_time": "2022-03-07T17:59:06.434326Z",
     "start_time": "2022-03-07T17:59:06.431519Z"
    }
   },
   "outputs": [],
   "source": [
    "class Book:\n",
    "    def __init__(self, title, publisher, pages):\n",
    "        print('Book')\n",
    "        self.title = title\n",
    "        self.publisher = publisher\n",
    "        self.pages = pages"
   ]
  },
  {
   "cell_type": "markdown",
   "metadata": {},
   "source": [
    "By calling them directly (not advisable)"
   ]
  },
  {
   "cell_type": "code",
   "execution_count": null,
   "metadata": {
    "ExecuteTime": {
     "end_time": "2020-02-20T15:41:06.557936Z",
     "start_time": "2020-02-20T15:41:06.553954Z"
    }
   },
   "outputs": [],
   "source": [
    "class Ebook1(Book): # is a Book\n",
    "    def __init__(self, title, publisher, pages, format_):\n",
    "        self.title = title          # not advisable\n",
    "        self.publisher = publisher  # not advisable\n",
    "        self.pages = pages          # not advisable\n",
    "        self.format_ = format_"
   ]
  },
  {
   "cell_type": "markdown",
   "metadata": {},
   "source": [
    "Using the super's class name, which is better but can lead to problems if the class changes its name"
   ]
  },
  {
   "cell_type": "code",
   "execution_count": null,
   "metadata": {
    "ExecuteTime": {
     "end_time": "2020-02-20T15:38:09.834100Z",
     "start_time": "2020-02-20T15:38:08.580Z"
    }
   },
   "outputs": [],
   "source": [
    "class Ebook2(Book): # is a Book\n",
    "    def __init__(self, title, publisher, pages, format_):\n",
    "        # If we modify the logic within the __init__ method of Book,\n",
    "        # we don't need to touch Book, it will auto adapt to the change. \n",
    "        Book.__init__(self, title, publisher, pages)\n",
    "        # But if we change the name of the Book class...  \n",
    "        self.format_ = format_"
   ]
  },
  {
   "cell_type": "markdown",
   "metadata": {},
   "source": [
    "or using `super()`, as already seen."
   ]
  },
  {
   "cell_type": "code",
   "execution_count": null,
   "metadata": {
    "ExecuteTime": {
     "end_time": "2020-02-20T15:38:09.835098Z",
     "start_time": "2020-02-20T15:38:08.583Z"
    }
   },
   "outputs": [],
   "source": [
    "class Ebook3(Book): # is a Book\n",
    "    def __init__(self, title, publisher, pages, format_):\n",
    "        # now we can change the name of the class\n",
    "        super().__init__(title, publisher, pages)\n",
    "        \n",
    "        # Another way to do the same thing is:\n",
    "        # super(Book, self).__init__(title, publisher, pages)\n",
    "        \n",
    "        self.format_ = format_"
   ]
  },
  {
   "cell_type": "markdown",
   "metadata": {},
   "source": [
    "### Composition\n",
    "\n",
    "- On the other hand, **composition** means that two objects are related by means of a _Has-A_ type of relationship. \n"
   ]
  },
  {
   "cell_type": "code",
   "execution_count": null,
   "metadata": {
    "ExecuteTime": {
     "end_time": "2022-03-07T18:00:38.240794Z",
     "start_time": "2022-03-07T18:00:38.236955Z"
    }
   },
   "outputs": [],
   "source": [
    "class Engine():\n",
    "    def start(self):\n",
    "        print(f'Engine {self.__class__.__name__} started.')\n",
    "\n",
    "    def stop(self):\n",
    "        print(f'Engine {self.__class__.__name__} stopped.')\n"
   ]
  },
  {
   "cell_type": "code",
   "execution_count": null,
   "metadata": {
    "ExecuteTime": {
     "end_time": "2022-03-07T18:00:39.544944Z",
     "start_time": "2022-03-07T18:00:39.541965Z"
    }
   },
   "outputs": [],
   "source": [
    "class ElectricEngine(Engine):       # Is-A Engine\n",
    "    pass\n",
    "\n",
    "class V8Engine(Engine):             # Is-A Engine\n",
    "    pass"
   ]
  },
  {
   "cell_type": "markdown",
   "metadata": {},
   "source": [
    "So, a `Car` **Has-A** `Engine`"
   ]
  },
  {
   "cell_type": "code",
   "execution_count": 24,
   "metadata": {
    "ExecuteTime": {
     "end_time": "2022-03-07T18:00:41.598827Z",
     "start_time": "2022-03-07T18:00:41.595296Z"
    }
   },
   "outputs": [],
   "source": [
    "class Car:\n",
    "    def __init__(self, engine):\n",
    "        self.engine = engine     # Has-A Engine\n",
    "        \n",
    "    def start(self):\n",
    "        print('Start engine {0} for car {1}... Wroom!'.format(self.engine.__class__.__name__, self.__class__.__name__))\n",
    "        self.engine.start()\n",
    "        \n",
    "    def stop(self):\n",
    "        self.engine.stop()"
   ]
  },
  {
   "cell_type": "code",
   "execution_count": 25,
   "metadata": {
    "ExecuteTime": {
     "end_time": "2022-03-07T18:00:42.488721Z",
     "start_time": "2022-03-07T18:00:42.485950Z"
    }
   },
   "outputs": [
    {
     "ename": "NameError",
     "evalue": "name 'Engine' is not defined",
     "output_type": "error",
     "traceback": [
      "\u001b[1;31m---------------------------------------------------------------------------\u001b[0m",
      "\u001b[1;31mNameError\u001b[0m                                 Traceback (most recent call last)",
      "Cell \u001b[1;32mIn [25], line 1\u001b[0m\n\u001b[1;32m----> 1\u001b[0m e \u001b[38;5;241m=\u001b[39m \u001b[43mEngine\u001b[49m()        \n\u001b[0;32m      2\u001b[0m normal \u001b[38;5;241m=\u001b[39m Car(e)\n\u001b[0;32m      3\u001b[0m normal\u001b[38;5;241m.\u001b[39mstart()\n",
      "\u001b[1;31mNameError\u001b[0m: name 'Engine' is not defined"
     ]
    }
   ],
   "source": [
    "e = Engine()        \n",
    "normal = Car(e)\n",
    "normal.start()\n",
    "normal.stop()"
   ]
  },
  {
   "cell_type": "code",
   "execution_count": null,
   "metadata": {
    "ExecuteTime": {
     "end_time": "2022-03-07T18:00:51.319598Z",
     "start_time": "2022-03-07T18:00:51.315643Z"
    }
   },
   "outputs": [],
   "source": [
    "sport = Car(V8Engine())\n",
    "sport.start()\n",
    "sport.stop()"
   ]
  },
  {
   "cell_type": "markdown",
   "metadata": {},
   "source": [
    "Other ways to implement an engine"
   ]
  },
  {
   "cell_type": "code",
   "execution_count": 26,
   "metadata": {
    "ExecuteTime": {
     "end_time": "2022-03-07T18:01:39.007554Z",
     "start_time": "2022-03-07T18:01:39.004814Z"
    }
   },
   "outputs": [
    {
     "ename": "NameError",
     "evalue": "name 'Engine' is not defined",
     "output_type": "error",
     "traceback": [
      "\u001b[1;31m---------------------------------------------------------------------------\u001b[0m",
      "\u001b[1;31mNameError\u001b[0m                                 Traceback (most recent call last)",
      "Cell \u001b[1;32mIn [26], line 1\u001b[0m\n\u001b[1;32m----> 1\u001b[0m \u001b[38;5;28;01mclass\u001b[39;00m \u001b[38;5;21;01mCar\u001b[39;00m():\n\u001b[0;32m      2\u001b[0m     engine_cls \u001b[38;5;241m=\u001b[39m Engine\n\u001b[0;32m      3\u001b[0m     \u001b[38;5;28;01mdef\u001b[39;00m \u001b[38;5;21m__init__\u001b[39m(\u001b[38;5;28mself\u001b[39m):\n",
      "Cell \u001b[1;32mIn [26], line 2\u001b[0m, in \u001b[0;36mCar\u001b[1;34m()\u001b[0m\n\u001b[0;32m      1\u001b[0m \u001b[38;5;28;01mclass\u001b[39;00m \u001b[38;5;21;01mCar\u001b[39;00m():\n\u001b[1;32m----> 2\u001b[0m     engine_cls \u001b[38;5;241m=\u001b[39m \u001b[43mEngine\u001b[49m\n\u001b[0;32m      3\u001b[0m     \u001b[38;5;28;01mdef\u001b[39;00m \u001b[38;5;21m__init__\u001b[39m(\u001b[38;5;28mself\u001b[39m):\n\u001b[0;32m      4\u001b[0m         \u001b[38;5;28mself\u001b[39m\u001b[38;5;241m.\u001b[39mengine \u001b[38;5;241m=\u001b[39m \u001b[38;5;28mself\u001b[39m\u001b[38;5;241m.\u001b[39mengine_cls()     \u001b[38;5;66;03m# Has-A Engine\u001b[39;00m\n",
      "\u001b[1;31mNameError\u001b[0m: name 'Engine' is not defined"
     ]
    }
   ],
   "source": [
    "class Car():\n",
    "    engine_cls = Engine\n",
    "    def __init__(self):\n",
    "        self.engine = self.engine_cls()     # Has-A Engine\n",
    "        \n",
    "    def start(self):\n",
    "        print(f'Start engine {self.engine.__class__.__name__} for car {self.__class__.__name__}... Wroom!')\n",
    "        self.engine.start()\n",
    "        \n",
    "    def stop(self):\n",
    "        self.engine.stop()"
   ]
  },
  {
   "cell_type": "code",
   "execution_count": null,
   "metadata": {
    "ExecuteTime": {
     "end_time": "2022-03-07T18:01:40.166651Z",
     "start_time": "2022-03-07T18:01:40.164036Z"
    }
   },
   "outputs": [],
   "source": [
    "class RaceCar(Car):                 # Is-A Car\n",
    "    engine_cls = V8Engine           # Has-A Engine\n",
    "\n",
    "class CityCar(Car):                 # Is-A Car\n",
    "    engine_cls = ElectricEngine     # Has-A Engine\n",
    "\n",
    "class F1Car(RaceCar):               # Is-A RaceCar and also Is-A Car\n",
    "    pass                            # engine_cls = V8Engine"
   ]
  },
  {
   "cell_type": "code",
   "execution_count": null,
   "metadata": {
    "ExecuteTime": {
     "end_time": "2022-03-07T18:01:45.176464Z",
     "start_time": "2022-03-07T18:01:45.171754Z"
    }
   },
   "outputs": [],
   "source": [
    "cars = [Car(), RaceCar(), CityCar(), F1Car()]\n",
    "for car in cars:\n",
    "    car.start()\n",
    "\n",
    "for car in cars:\n",
    "    car.stop()"
   ]
  },
  {
   "cell_type": "markdown",
   "metadata": {},
   "source": [
    "## Multiple Inheritance\n",
    "\n",
    "![Inheritance](images/MultiplaHeranca.png)"
   ]
  },
  {
   "cell_type": "code",
   "execution_count": 27,
   "metadata": {
    "ExecuteTime": {
     "end_time": "2022-03-07T18:06:06.283086Z",
     "start_time": "2022-03-07T18:06:06.280167Z"
    }
   },
   "outputs": [],
   "source": [
    "class Vehicle:\n",
    "    def __init__(self, owner, brand):\n",
    "        self.owner = owner\n",
    "        self.brand = brand\n",
    "            \n",
    "    def vehicle_info(self):\n",
    "        raise NotImplementedError(\"vehicle_info: não implementado\")"
   ]
  },
  {
   "cell_type": "code",
   "execution_count": 28,
   "metadata": {
    "ExecuteTime": {
     "end_time": "2022-03-07T18:05:30.642381Z",
     "start_time": "2022-03-07T18:05:30.639179Z"
    }
   },
   "outputs": [],
   "source": [
    "class LandVehicle(Vehicle):\n",
    "    def __init__(self, owner, brand, land_velocity):\n",
    "        print(super(LandVehicle, self))\n",
    "        super().__init__(self, owner, brand)\n",
    "        self.land_velocity = land_velocity\n",
    "\n",
    "    @property \n",
    "    def land_velocity(self):\n",
    "        return self.__land_velocity\n",
    "    \n",
    "    @land_velocity.setter\n",
    "    def land_velocity(self, lv):\n",
    "        self.__land_velocity = lv"
   ]
  },
  {
   "cell_type": "code",
   "execution_count": 29,
   "metadata": {
    "ExecuteTime": {
     "end_time": "2022-03-07T18:05:31.727350Z",
     "start_time": "2022-03-07T18:05:31.724287Z"
    }
   },
   "outputs": [],
   "source": [
    "class WaterVehicle(Vehicle):\n",
    "    def __init__(self, owner, brand, water_velocity):\n",
    "        print(super(WaterVehicle, self))\n",
    "        Vehicle.__init__(self, owner, brand)\n",
    "        self.water_velocity = water_velocity\n",
    "\n",
    "    @property \n",
    "    def water_velocity(self):\n",
    "        return self.__water_velocity\n",
    "    \n",
    "    @water_velocity.setter\n",
    "    def water_velocity(self, wv):\n",
    "        self.__water_velocity = wv"
   ]
  },
  {
   "cell_type": "code",
   "execution_count": 30,
   "metadata": {
    "ExecuteTime": {
     "end_time": "2022-03-07T18:05:32.652796Z",
     "start_time": "2022-03-07T18:05:32.649165Z"
    }
   },
   "outputs": [],
   "source": [
    "class AmphibiousVehicle(LandVehicle, WaterVehicle):\n",
    "    def __init__(self, owner, brand, land_velocity, water_velocity):\n",
    "        LandVehicle.__init__(self, owner, brand, land_velocity)\n",
    "        WaterVehicle.__init__(self, owner, brand, water_velocity)\n",
    "    \n",
    "    def print_info(self):\n",
    "        print(f'''This is an AmphibiousVehicle owned by {self.owner} \n",
    "        from {self.brand} with velocity {self.land_velocity} km/h in land and {self.water_velocity} Knot  in the water''')\n",
    "    "
   ]
  },
  {
   "cell_type": "code",
   "execution_count": 31,
   "metadata": {
    "ExecuteTime": {
     "end_time": "2022-03-07T18:05:35.089325Z",
     "start_time": "2022-03-07T18:05:35.086586Z"
    }
   },
   "outputs": [
    {
     "name": "stdout",
     "output_type": "stream",
     "text": [
      "<super: <class 'LandVehicle'>, <AmphibiousVehicle object>>\n",
      "<super: <class 'WaterVehicle'>, <AmphibiousVehicle object>>\n",
      "<super: <class 'WaterVehicle'>, <AmphibiousVehicle object>>\n",
      "This is an AmphibiousVehicle owned by Margarida \n",
      "        from rinspeed splash with velocity 199 km/h in land and 38 Knot  in the water\n"
     ]
    }
   ],
   "source": [
    "a = AmphibiousVehicle('Margarida', 'rinspeed splash', 199, 38)\n",
    "a.print_info()"
   ]
  },
  {
   "cell_type": "markdown",
   "metadata": {},
   "source": [
    "The methods resolution order is "
   ]
  },
  {
   "cell_type": "code",
   "execution_count": 32,
   "metadata": {
    "ExecuteTime": {
     "end_time": "2022-03-07T18:05:38.314231Z",
     "start_time": "2022-03-07T18:05:38.310612Z"
    }
   },
   "outputs": [
    {
     "data": {
      "text/plain": [
       "(__main__.AmphibiousVehicle,\n",
       " __main__.LandVehicle,\n",
       " __main__.WaterVehicle,\n",
       " __main__.Vehicle,\n",
       " object)"
      ]
     },
     "execution_count": 32,
     "metadata": {},
     "output_type": "execute_result"
    }
   ],
   "source": [
    "AmphibiousVehicle.__mro__"
   ]
  },
  {
   "cell_type": "markdown",
   "metadata": {},
   "source": [
    "### Another multiple inheritance example (optional)"
   ]
  },
  {
   "cell_type": "code",
   "execution_count": 33,
   "metadata": {
    "ExecuteTime": {
     "end_time": "2020-02-20T15:38:09.847087Z",
     "start_time": "2020-02-20T15:38:08.635Z"
    }
   },
   "outputs": [],
   "source": [
    "class Shape(object):\n",
    "    geometric_type = 'Generic Shape'\n",
    "    def area(self):     # This acts as placeholder for the interface\n",
    "        raise NotImplementedError\n",
    "\n",
    "    def get_geometric_type(self):\n",
    "        return self.geometric_type\n",
    "    \n",
    "    def f(self):\n",
    "        print(\"Shape\")\n",
    "\n",
    "class Plotter:\n",
    "    def plot(self, ratio, topleft):\n",
    "        # Imagine some nice plotting logic here...\n",
    "        print('Plotting at {}, ratio {}.'.format( topleft, ratio))\n",
    "    \n",
    "    def f(self):\n",
    "        print(\"Plotter\")\n",
    "        \n",
    "class Polygon(Shape, Plotter):          # base class for polygons\n",
    "    geometric_type = 'Polygon'\n",
    "    \n",
    "    f = Plotter.f\n",
    "\n",
    "class RegularPolygon(Polygon):          # Is-A Polygon\n",
    "    geometric_type = 'Regular Polygon'\n",
    "    def __init__(self, side):\n",
    "        self.side = side"
   ]
  },
  {
   "cell_type": "code",
   "execution_count": 34,
   "metadata": {
    "ExecuteTime": {
     "end_time": "2020-02-20T15:38:09.848085Z",
     "start_time": "2020-02-20T15:38:08.639Z"
    }
   },
   "outputs": [
    {
     "name": "stdout",
     "output_type": "stream",
     "text": [
      "Plotting at (0, 0), ratio 0.\n"
     ]
    }
   ],
   "source": [
    "p = Polygon()\n",
    "p.plot(0, (0,0))"
   ]
  },
  {
   "cell_type": "code",
   "execution_count": 35,
   "metadata": {
    "ExecuteTime": {
     "end_time": "2020-02-20T15:38:09.848085Z",
     "start_time": "2020-02-20T15:38:08.643Z"
    }
   },
   "outputs": [
    {
     "data": {
      "text/plain": [
       "'Polygon'"
      ]
     },
     "execution_count": 35,
     "metadata": {},
     "output_type": "execute_result"
    }
   ],
   "source": [
    "p.get_geometric_type()"
   ]
  },
  {
   "cell_type": "code",
   "execution_count": 36,
   "metadata": {
    "ExecuteTime": {
     "end_time": "2020-02-20T15:38:09.850083Z",
     "start_time": "2020-02-20T15:38:08.648Z"
    }
   },
   "outputs": [
    {
     "name": "stdout",
     "output_type": "stream",
     "text": [
      "Plotter\n"
     ]
    }
   ],
   "source": [
    "p.f()"
   ]
  },
  {
   "cell_type": "code",
   "execution_count": 37,
   "metadata": {
    "ExecuteTime": {
     "end_time": "2020-02-20T15:38:09.851082Z",
     "start_time": "2020-02-20T15:38:08.652Z"
    }
   },
   "outputs": [
    {
     "name": "stdout",
     "output_type": "stream",
     "text": [
      "it hasn't that method\n",
      "'Polygon' object has no attribute 'cor'\n"
     ]
    }
   ],
   "source": [
    "try:\n",
    "    p.cor()\n",
    "except AttributeError as e:\n",
    "    print(\"it hasn't that method\")\n",
    "    print(e)"
   ]
  },
  {
   "cell_type": "code",
   "execution_count": 38,
   "metadata": {
    "ExecuteTime": {
     "end_time": "2020-02-20T15:38:09.852081Z",
     "start_time": "2020-02-20T15:38:08.657Z"
    }
   },
   "outputs": [],
   "source": [
    "class RegularHexagon(RegularPolygon):   # Is-A RegularPolygon\n",
    "    geometric_type = 'RegularHexagon'\n",
    "    def area(self):\n",
    "        return 1.5 * (3 ** .5 * self.side ** 2)\n",
    "\n",
    "class Square(RegularPolygon):           # Is-A RegularPolygon\n",
    "    geometric_type = 'Square'\n",
    "    def area(self):\n",
    "        return self.side * self.side"
   ]
  },
  {
   "cell_type": "code",
   "execution_count": 39,
   "metadata": {
    "ExecuteTime": {
     "end_time": "2020-02-20T15:38:09.853081Z",
     "start_time": "2020-02-20T15:38:08.662Z"
    }
   },
   "outputs": [
    {
     "name": "stdout",
     "output_type": "stream",
     "text": [
      "259.8076211353316\n",
      "RegularHexagon\n",
      "Plotting at (75, 77), ratio 0.8.\n"
     ]
    }
   ],
   "source": [
    "hexagon = RegularHexagon(10)\n",
    "print(hexagon.area())               # 259.8076211353316\n",
    "print(hexagon.get_geometric_type()) # RegularHexagon\n",
    "hexagon.plot(0.8, (75, 77))     "
   ]
  },
  {
   "cell_type": "code",
   "execution_count": 40,
   "metadata": {
    "ExecuteTime": {
     "end_time": "2020-02-20T15:38:09.854079Z",
     "start_time": "2020-02-20T15:38:08.665Z"
    }
   },
   "outputs": [
    {
     "name": "stdout",
     "output_type": "stream",
     "text": [
      "144\n",
      "Square\n",
      "Plotting at (74, 75), ratio 0.93.\n"
     ]
    }
   ],
   "source": [
    "square = Square(12)\n",
    "print(square.area())                # 144\n",
    "print(square.get_geometric_type())  # Square\n",
    "square.plot(0.93, (74, 75))         # Plotting at (74, 75), ratio 0.93."
   ]
  },
  {
   "cell_type": "markdown",
   "metadata": {},
   "source": [
    "## Static methods (optional)\n",
    "\n",
    "- When you create a class object, Python assigns a name to it. That name acts as a namespace, and sometimes it makes sense to group functionalities under it. \n",
    "\n",
    "- Static methods are perfect for this use case since unlike instance methods, they are not passed any special argument. \n",
    "        \n",
    "- Static methods are created by applying the `@staticmethod` decorator to them. \n",
    "        \n",
    "- The class, acts as a container for functions. \n",
    " \n",
    "- Another approach would be to have a separate module with functions inside. "
   ]
  },
  {
   "cell_type": "code",
   "execution_count": 41,
   "metadata": {
    "ExecuteTime": {
     "end_time": "2020-02-20T15:38:09.855078Z",
     "start_time": "2020-02-20T15:38:08.670Z"
    }
   },
   "outputs": [],
   "source": [
    "class String:\n",
    "    \n",
    "    @staticmethod           # decorator\n",
    "    def is_palindrome(s, case_insensitive=True):\n",
    "        s = ''.join(c for c in s if c.isalnum()) # Study this!\n",
    "        if case_insensitive:\n",
    "            s = s.lower()\n",
    "        for c in range(len(s) // 2):\n",
    "            if s[c] != s[-c - 1]:\n",
    "                return False\n",
    "        return True\n",
    "\n",
    "    @staticmethod\n",
    "    def get_unique_words(sentence):\n",
    "        return set(sentence.split())"
   ]
  },
  {
   "cell_type": "code",
   "execution_count": 42,
   "metadata": {
    "ExecuteTime": {
     "end_time": "2020-02-20T15:38:09.856077Z",
     "start_time": "2020-02-20T15:38:08.673Z"
    }
   },
   "outputs": [
    {
     "name": "stdout",
     "output_type": "stream",
     "text": [
      "False\n",
      "True\n",
      "True\n",
      "{'really', 'them!', 'love', 'palindromes.', 'I'}\n"
     ]
    }
   ],
   "source": [
    "print(String.is_palindrome('Radar', case_insensitive=False)) # False\n",
    "print(String.is_palindrome('A nut for a jar of tuna'))       # True\n",
    "print(String.is_palindrome('Never Odd, Or Even!'))           # True\n",
    "\n",
    "print(String.get_unique_words('I love palindromes. I really really love them!'))   # {'them!', 'really', 'palindromes.', 'I', 'love'}  "
   ]
  },
  {
   "cell_type": "markdown",
   "metadata": {},
   "source": [
    "## Class methods (optional)\n",
    "\n",
    "- Class methods are slightly different from instance methods in that they also take a special first argument, but in this case, it is the class object itself.\n",
    "\n",
    "-  Two very common use cases for coding class methods are to provide \n",
    "    - factory capability to a class \n",
    "    - allow breaking up static methods (which you have to then call using the class name) without having to hardcode the class name in your logic. "
   ]
  },
  {
   "cell_type": "code",
   "execution_count": 43,
   "metadata": {
    "ExecuteTime": {
     "end_time": "2020-02-20T15:38:09.857076Z",
     "start_time": "2020-02-20T15:38:08.678Z"
    }
   },
   "outputs": [],
   "source": [
    "class Pizza:\n",
    "    \n",
    "    # area of pizza per person\n",
    "    area_by_person = 750.\n",
    "    \n",
    "    def __init__(self, ingredients):\n",
    "        self.ingredients = ingredients\n",
    "\n",
    "    def __repr__(self):\n",
    "        return f'Pizza({self.ingredients})'\n",
    "\n",
    "    @classmethod\n",
    "    def margherita(cls):\n",
    "        return cls(['mozzarela', 'tomate'])\n",
    "\n",
    "    @classmethod\n",
    "    def prosciutto(cls):\n",
    "        return cls(['mozzarela', 'tomate', 'fiambre'])\n",
    "    \n",
    "    @staticmethod\n",
    "    def how_many_person(radius):\n",
    "        area_pizza = 3.14 * radius ** 2\n",
    "        return area_pizza / Pizza.area_by_person\n",
    "    \n",
    "    @staticmethod\n",
    "    def which_radius(number_of_persons):\n",
    "        area_total = number_of_persons * Pizza.area_by_person \n",
    "        return (area_total / 3.14) ** .5"
   ]
  },
  {
   "cell_type": "code",
   "execution_count": 44,
   "metadata": {
    "ExecuteTime": {
     "end_time": "2020-02-20T15:38:09.858075Z",
     "start_time": "2020-02-20T15:38:08.682Z"
    }
   },
   "outputs": [
    {
     "data": {
      "text/plain": [
       "Pizza(['mozzarela', 'gorgonzola', 'requeijão', 'parmesão'])"
      ]
     },
     "execution_count": 44,
     "metadata": {},
     "output_type": "execute_result"
    }
   ],
   "source": [
    "four_cheeses = Pizza(['mozzarela', 'gorgonzola', 'requeijão', 'parmesão'])\n",
    "four_cheeses"
   ]
  },
  {
   "cell_type": "code",
   "execution_count": 45,
   "metadata": {
    "ExecuteTime": {
     "end_time": "2020-02-20T15:38:09.858075Z",
     "start_time": "2020-02-20T15:38:08.686Z"
    }
   },
   "outputs": [
    {
     "data": {
      "text/plain": [
       "Pizza(['mozzarela', 'tomate'])"
      ]
     },
     "execution_count": 45,
     "metadata": {},
     "output_type": "execute_result"
    }
   ],
   "source": [
    "margherita = Pizza.margherita()\n",
    "margherita"
   ]
  },
  {
   "cell_type": "code",
   "execution_count": 46,
   "metadata": {
    "ExecuteTime": {
     "end_time": "2020-02-20T15:38:09.859073Z",
     "start_time": "2020-02-20T15:38:08.690Z"
    }
   },
   "outputs": [
    {
     "data": {
      "text/plain": [
       "'a pizza with 30cm² is enough for 3.768 person'"
      ]
     },
     "execution_count": 46,
     "metadata": {},
     "output_type": "execute_result"
    }
   ],
   "source": [
    "r = 30\n",
    "f'a pizza with {r}cm² is enough for {Pizza.how_many_person(r)} person'"
   ]
  },
  {
   "cell_type": "code",
   "execution_count": 47,
   "metadata": {
    "ExecuteTime": {
     "end_time": "2020-02-20T15:38:09.861072Z",
     "start_time": "2020-02-20T15:38:08.694Z"
    }
   },
   "outputs": [
    {
     "data": {
      "text/plain": [
       "'for 4 person you shoud order a pizza with 30.909772123696634 cm radius'"
      ]
     },
     "execution_count": 47,
     "metadata": {},
     "output_type": "execute_result"
    }
   ],
   "source": [
    "p = 4\n",
    "f'for {p} person you shoud order a pizza with {Pizza.which_radius(p)} cm radius'"
   ]
  },
  {
   "cell_type": "markdown",
   "metadata": {},
   "source": [
    "## Private methods and name mangling\n",
    "\n",
    "- In OOP, **public** attributes are accessible from any point in the code, while **private** ones are accessible only within the scope they are defined in.\n",
    "- In Python, there is no such thing: ** everything is public**\n",
    "- Programmers rely on  \n",
    "    - Convention\n",
    "        - If an attribute's name has no leading underscores it is considered **public**. This means you can access it and modify it freely.\n",
    "        - When the name has one leading underscore, the attribute is considered **private**, (probably used internally and you should not use it or modify it from the outside)\n",
    "    - mangling\n",
    "        - Any attribute name that has at least two leading underscores and at most one trailing underscore, like `__my_attr`, is replaced with a name that includes an underscore and the class name before the actual name, like `_ClassName__my_attr` \n",
    "\n",
    "### The `_`  (underscore) convention"
   ]
  },
  {
   "cell_type": "code",
   "execution_count": 48,
   "metadata": {
    "ExecuteTime": {
     "end_time": "2020-02-20T15:38:09.862071Z",
     "start_time": "2020-02-20T15:38:08.698Z"
    }
   },
   "outputs": [
    {
     "name": "stdout",
     "output_type": "stream",
     "text": [
      "Op1 with factor 100...\n",
      "Op2 with factor 42...\n",
      "Op1 with factor 42...\n"
     ]
    }
   ],
   "source": [
    "class A:\n",
    "    def __init__(self, factor):\n",
    "        self._factor = factor\n",
    "\n",
    "    def op1(self):\n",
    "        print('Op1 with factor {}...'.format(self._factor))\n",
    "\n",
    "class B(A):    # derived from A\n",
    "    def op2(self, factor):\n",
    "        self._factor = factor # you can do this but you probably shouldn't (_factor is private in the mother class)\n",
    "        print('Op2 with factor {}...'.format(self._factor))\n",
    "\n",
    "obj = B(100)\n",
    "obj.op1()           \n",
    "obj.op2(42)        \n",
    "obj.op1()  "
   ]
  },
  {
   "cell_type": "code",
   "execution_count": 49,
   "metadata": {
    "ExecuteTime": {
     "end_time": "2020-02-20T15:38:09.863070Z",
     "start_time": "2020-02-20T15:38:08.701Z"
    }
   },
   "outputs": [
    {
     "name": "stdout",
     "output_type": "stream",
     "text": [
      "Op1 with factor 1290...\n"
     ]
    }
   ],
   "source": [
    "obj._factor = 1290    # definetly , you shouldn't do this. _factor should be treated as private!\n",
    "obj.op1()"
   ]
  },
  {
   "cell_type": "code",
   "execution_count": 50,
   "metadata": {},
   "outputs": [
    {
     "data": {
      "text/plain": [
       "['__class__',\n",
       " '__delattr__',\n",
       " '__dict__',\n",
       " '__dir__',\n",
       " '__doc__',\n",
       " '__eq__',\n",
       " '__format__',\n",
       " '__ge__',\n",
       " '__getattribute__',\n",
       " '__gt__',\n",
       " '__hash__',\n",
       " '__init__',\n",
       " '__init_subclass__',\n",
       " '__le__',\n",
       " '__lt__',\n",
       " '__module__',\n",
       " '__ne__',\n",
       " '__new__',\n",
       " '__reduce__',\n",
       " '__reduce_ex__',\n",
       " '__repr__',\n",
       " '__setattr__',\n",
       " '__sizeof__',\n",
       " '__str__',\n",
       " '__subclasshook__',\n",
       " '__weakref__',\n",
       " '_factor',\n",
       " 'op1',\n",
       " 'op2']"
      ]
     },
     "execution_count": 50,
     "metadata": {},
     "output_type": "execute_result"
    }
   ],
   "source": [
    "dir(obj)"
   ]
  },
  {
   "cell_type": "markdown",
   "metadata": {},
   "source": [
    "### Mangling"
   ]
  },
  {
   "cell_type": "code",
   "execution_count": 51,
   "metadata": {
    "ExecuteTime": {
     "end_time": "2020-02-20T15:38:09.864068Z",
     "start_time": "2020-02-20T15:38:08.705Z"
    }
   },
   "outputs": [],
   "source": [
    "class A:\n",
    "    def __init__(self, factor):\n",
    "        self.__factor = factor   # a double underscore\n",
    "    \n",
    "    def op1(self):\n",
    "        print('Op1 with factor {}...'.format(self.__factor)) \n",
    "\n",
    "class B(A):\n",
    "    def op2(self, factor):\n",
    "        self.__factor = factor\n",
    "        print('Op2 with factor {}...'.format(self.__factor))"
   ]
  },
  {
   "cell_type": "code",
   "execution_count": 52,
   "metadata": {
    "ExecuteTime": {
     "end_time": "2020-02-20T15:38:09.865067Z",
     "start_time": "2020-02-20T15:38:08.709Z"
    }
   },
   "outputs": [
    {
     "name": "stdout",
     "output_type": "stream",
     "text": [
      "Op1 with factor 100...\n",
      "Op2 with factor 42...\n",
      "Op1 with factor 100...\n"
     ]
    }
   ],
   "source": [
    "obj = B(100)\n",
    "obj.op1()       # Op1 with factor 100...\n",
    "obj.op2(42)     # Op2 with factor 42...\n",
    "obj.op1()       # Op1 with factor 100... <- Now you did not change the __factor of class A    "
   ]
  },
  {
   "cell_type": "code",
   "execution_count": 53,
   "metadata": {
    "ExecuteTime": {
     "end_time": "2020-02-20T15:38:09.866066Z",
     "start_time": "2020-02-20T15:38:08.713Z"
    }
   },
   "outputs": [
    {
     "data": {
      "text/plain": [
       "['_A__factor',\n",
       " '_B__factor',\n",
       " '__class__',\n",
       " '__delattr__',\n",
       " '__dict__',\n",
       " '__dir__',\n",
       " '__doc__',\n",
       " '__eq__',\n",
       " '__format__',\n",
       " '__ge__',\n",
       " '__getattribute__',\n",
       " '__gt__',\n",
       " '__hash__',\n",
       " '__init__',\n",
       " '__init_subclass__',\n",
       " '__le__',\n",
       " '__lt__',\n",
       " '__module__',\n",
       " '__ne__',\n",
       " '__new__',\n",
       " '__reduce__',\n",
       " '__reduce_ex__',\n",
       " '__repr__',\n",
       " '__setattr__',\n",
       " '__sizeof__',\n",
       " '__str__',\n",
       " '__subclasshook__',\n",
       " '__weakref__',\n",
       " 'op1',\n",
       " 'op2']"
      ]
     },
     "execution_count": 53,
     "metadata": {},
     "output_type": "execute_result"
    }
   ],
   "source": [
    "dir(obj) # look for ['_A__factor', '_B__factor', ... , 'op1', 'op2']"
   ]
  },
  {
   "cell_type": "code",
   "execution_count": 54,
   "metadata": {
    "ExecuteTime": {
     "end_time": "2020-02-20T15:38:09.867066Z",
     "start_time": "2020-02-20T15:38:08.717Z"
    }
   },
   "outputs": [
    {
     "name": "stdout",
     "output_type": "stream",
     "text": [
      "100\n",
      "42\n"
     ]
    }
   ],
   "source": [
    "print(obj._A__factor)   # 100\n",
    "print(obj._B__factor)   # 42"
   ]
  },
  {
   "cell_type": "code",
   "execution_count": 55,
   "metadata": {
    "ExecuteTime": {
     "end_time": "2020-02-20T15:38:09.868064Z",
     "start_time": "2020-02-20T15:38:08.725Z"
    }
   },
   "outputs": [
    {
     "name": "stdout",
     "output_type": "stream",
     "text": [
      "there is no obj.__factor\n"
     ]
    }
   ],
   "source": [
    "try:\n",
    "    print(obj.__factor)     # AttributeError: 'B' has no attr '__factor'  \n",
    "except:\n",
    "    print(\"there is no obj.__factor\")"
   ]
  },
  {
   "cell_type": "markdown",
   "metadata": {},
   "source": [
    "### `property` decorator\n",
    "\n",
    "Imagine that you have an age attribute in a Person class and at some point you want to make sure that when you change its value, you're also checking that age is within a proper range, like [18, 99]. \n",
    "\n",
    "You can write accessor methods, like `get_age()`and `set_age()` (also called getters and setters) and put the logic there.\n",
    "\n",
    "Getters and setters are used in many object oriented programming languages to ensure the principle of data **encapsulation**. They are known as mutator methods as well. According to this principle, the attributes of a class are made private to hide and protect them from other code. \n",
    "\n",
    "But the Pythonic way to introduce attributes is to make them public. \n",
    "\n",
    "#### getters and setters\n",
    "\n",
    "In short, you can use getters and setters, like this"
   ]
  },
  {
   "cell_type": "code",
   "execution_count": 56,
   "metadata": {
    "ExecuteTime": {
     "end_time": "2022-03-07T18:07:26.601556Z",
     "start_time": "2022-03-07T18:07:26.597631Z"
    }
   },
   "outputs": [],
   "source": [
    "class PersonNonPythonic:\n",
    "    def __init__(self, age):\n",
    "        self.set_age(age)\n",
    "\n",
    "    def get_age(self):\n",
    "        return self._age\n",
    "\n",
    "    def set_age(self, age):\n",
    "        assert 18 <= age <= 99, 'Age must be within [18, 99]'\n",
    "        self._age = age\n",
    "            \n",
    "p = PersonNonPythonic(20)\n",
    "p.set_age(21)"
   ]
  },
  {
   "cell_type": "code",
   "execution_count": 57,
   "metadata": {
    "ExecuteTime": {
     "end_time": "2022-03-07T18:07:36.302815Z",
     "start_time": "2022-03-07T18:07:36.294128Z"
    }
   },
   "outputs": [
    {
     "ename": "AssertionError",
     "evalue": "Age must be within [18, 99]",
     "output_type": "error",
     "traceback": [
      "\u001b[1;31m---------------------------------------------------------------------------\u001b[0m",
      "\u001b[1;31mAssertionError\u001b[0m                            Traceback (most recent call last)",
      "Cell \u001b[1;32mIn [57], line 1\u001b[0m\n\u001b[1;32m----> 1\u001b[0m \u001b[43mp\u001b[49m\u001b[38;5;241;43m.\u001b[39;49m\u001b[43mset_age\u001b[49m\u001b[43m(\u001b[49m\u001b[38;5;241;43m11\u001b[39;49m\u001b[43m)\u001b[49m\n",
      "Cell \u001b[1;32mIn [56], line 9\u001b[0m, in \u001b[0;36mPersonNonPythonic.set_age\u001b[1;34m(self, age)\u001b[0m\n\u001b[0;32m      8\u001b[0m \u001b[38;5;28;01mdef\u001b[39;00m \u001b[38;5;21mset_age\u001b[39m(\u001b[38;5;28mself\u001b[39m, age):\n\u001b[1;32m----> 9\u001b[0m     \u001b[38;5;28;01massert\u001b[39;00m \u001b[38;5;241m18\u001b[39m \u001b[38;5;241m<\u001b[39m\u001b[38;5;241m=\u001b[39m age \u001b[38;5;241m<\u001b[39m\u001b[38;5;241m=\u001b[39m \u001b[38;5;241m99\u001b[39m, \u001b[38;5;124m'\u001b[39m\u001b[38;5;124mAge must be within [18, 99]\u001b[39m\u001b[38;5;124m'\u001b[39m\n\u001b[0;32m     10\u001b[0m     \u001b[38;5;28mself\u001b[39m\u001b[38;5;241m.\u001b[39m_age \u001b[38;5;241m=\u001b[39m age\n",
      "\u001b[1;31mAssertionError\u001b[0m: Age must be within [18, 99]"
     ]
    }
   ],
   "source": [
    "p.set_age(11)"
   ]
  },
  {
   "cell_type": "markdown",
   "metadata": {},
   "source": [
    "#### \"properties\" \n",
    "you can also use \"properties\" as follows"
   ]
  },
  {
   "cell_type": "code",
   "execution_count": 58,
   "metadata": {
    "ExecuteTime": {
     "end_time": "2022-03-07T18:08:19.672982Z",
     "start_time": "2022-03-07T18:08:19.669946Z"
    }
   },
   "outputs": [],
   "source": [
    "class PersonPythonic:\n",
    "    def __init__(self, age):\n",
    "        self.age = age\n",
    "\n",
    "    @property\n",
    "    def age(self):\n",
    "        return self.__age\n",
    "\n",
    "    @age.setter\n",
    "    def age(self, age):\n",
    "        assert 18 <= age <= 99, 'Age must be within [18, 99]'\n",
    "        self.__age = age"
   ]
  },
  {
   "cell_type": "code",
   "execution_count": 59,
   "metadata": {
    "ExecuteTime": {
     "end_time": "2022-03-07T18:08:20.697738Z",
     "start_time": "2022-03-07T18:08:20.694401Z"
    }
   },
   "outputs": [
    {
     "data": {
      "text/plain": [
       "39"
      ]
     },
     "execution_count": 59,
     "metadata": {},
     "output_type": "execute_result"
    }
   ],
   "source": [
    "person = PersonPythonic(39)\n",
    "\n",
    "person.age"
   ]
  },
  {
   "cell_type": "code",
   "execution_count": 60,
   "metadata": {
    "ExecuteTime": {
     "end_time": "2022-03-07T18:08:24.161066Z",
     "start_time": "2022-03-07T18:08:24.157326Z"
    }
   },
   "outputs": [
    {
     "data": {
      "text/plain": [
       "18"
      ]
     },
     "execution_count": 60,
     "metadata": {},
     "output_type": "execute_result"
    }
   ],
   "source": [
    "person.age = 18     # Notice we access as data attribute\n",
    "person.age"
   ]
  },
  {
   "cell_type": "code",
   "execution_count": 61,
   "metadata": {
    "ExecuteTime": {
     "end_time": "2022-03-07T18:08:34.560690Z",
     "start_time": "2022-03-07T18:08:34.557641Z"
    }
   },
   "outputs": [
    {
     "name": "stdout",
     "output_type": "stream",
     "text": [
      "Age must be within [18, 99]\n"
     ]
    }
   ],
   "source": [
    "try:\n",
    "    person.age = 100    # ValueError: Age must be within [18, 99] \n",
    "except AssertionError as e:\n",
    "    print(e)    "
   ]
  },
  {
   "cell_type": "markdown",
   "metadata": {},
   "source": [
    "Returning to the car example"
   ]
  },
  {
   "cell_type": "code",
   "execution_count": 62,
   "metadata": {
    "ExecuteTime": {
     "end_time": "2022-03-07T18:08:56.075135Z",
     "start_time": "2022-03-07T18:08:56.070810Z"
    }
   },
   "outputs": [],
   "source": [
    "class Car:\n",
    "\n",
    "    def __init__(self, color, brand):\n",
    "        self.color = color  # calls the property \n",
    "        self.brand = brand # chama a propriedade (valida dados).E guarda o valor em self.__marca\n",
    "    \n",
    "    @property\n",
    "    def color(self):\n",
    "        return self.__color\n",
    "\n",
    "    @color.setter\n",
    "    def color(self, color):\n",
    "        print('debug: setting a color')\n",
    "        if color.lower() in ['red', 'white', 'yellow']:\n",
    "            self.__color = color\n",
    "        else:\n",
    "            raise BaseException('invalid color')\n",
    "            \n",
    "    @color.deleter\n",
    "    def color(self):\n",
    "        print('debug: setting color to none')\n",
    "        self.__color = None\n",
    "    \n",
    "    @property\n",
    "    def brand(self):\n",
    "        return self.__brand\n",
    "    \n",
    "    @brand.setter\n",
    "    def brand(self, brand):\n",
    "        print('debug: setting brand')\n",
    "        if brand.lower() in ['audi', 'fiat', 'seat', 'ferrari']:\n",
    "            self.__brand = brand\n",
    "        else:\n",
    "            raise"
   ]
  },
  {
   "cell_type": "code",
   "execution_count": 63,
   "metadata": {
    "ExecuteTime": {
     "end_time": "2022-03-07T18:08:56.642128Z",
     "start_time": "2022-03-07T18:08:56.638283Z"
    }
   },
   "outputs": [
    {
     "name": "stdout",
     "output_type": "stream",
     "text": [
      "debug: setting a color\n",
      "debug: setting brand\n"
     ]
    }
   ],
   "source": [
    "c = Car('red', 'fiat')"
   ]
  },
  {
   "cell_type": "code",
   "execution_count": 64,
   "metadata": {
    "ExecuteTime": {
     "end_time": "2022-03-07T18:08:57.576837Z",
     "start_time": "2022-03-07T18:08:57.573573Z"
    }
   },
   "outputs": [
    {
     "name": "stdout",
     "output_type": "stream",
     "text": [
      "debug: setting a color\n"
     ]
    }
   ],
   "source": [
    "c.color='white'"
   ]
  },
  {
   "cell_type": "code",
   "execution_count": 65,
   "metadata": {
    "ExecuteTime": {
     "end_time": "2022-03-07T18:09:00.624667Z",
     "start_time": "2022-03-07T18:09:00.621438Z"
    }
   },
   "outputs": [
    {
     "name": "stdout",
     "output_type": "stream",
     "text": [
      "debug: setting a color\n",
      "you are smart!\n"
     ]
    }
   ],
   "source": [
    "try:\n",
    "    c.color = 'azul'\n",
    "except:\n",
    "    print(\"you are smart!\")"
   ]
  },
  {
   "cell_type": "markdown",
   "metadata": {
    "ExecuteTime": {
     "end_time": "2020-02-20T15:35:47.183464Z",
     "start_time": "2020-02-20T15:35:47.177470Z"
    }
   },
   "source": [
    "### Operator overloading\n",
    "To overload an operator means to give it a meaning according to the context in which it is used. For example, the `+` operator means addition when we deal with numbers, but concatenation when we deal with sequences."
   ]
  },
  {
   "cell_type": "code",
   "execution_count": 66,
   "metadata": {
    "ExecuteTime": {
     "end_time": "2022-03-07T18:09:43.281754Z",
     "start_time": "2022-03-07T18:09:43.277849Z"
    }
   },
   "outputs": [],
   "source": [
    "class OverloadingExamples:\n",
    "    def __init__(self, s):\n",
    "        self._s = s\n",
    "\n",
    "    def __len__(self):\n",
    "        return len(self._s.replace(' ', '')) # strip all spaces\n",
    "\n",
    "    def __bool__(self):\n",
    "        return 'year' in self._s\n",
    "    \n",
    "    def __add__(self, other):\n",
    "        return OverloadingExamples(self._s + other._s) \n",
    "\n",
    "    def __repr__(self):\n",
    "        return \"--\" + self._s + \"--\"\n",
    "    \n",
    "    def __str__(self):\n",
    "        return \"++\" + self._s + \"++\"\n",
    "    \n",
    "    def __eq__(self, other):\n",
    "        return self._s == other._s"
   ]
  },
  {
   "cell_type": "markdown",
   "metadata": {},
   "source": [
    "The following will call `__repr__`"
   ]
  },
  {
   "cell_type": "code",
   "execution_count": 67,
   "metadata": {
    "ExecuteTime": {
     "end_time": "2022-03-07T18:11:00.912903Z",
     "start_time": "2022-03-07T18:11:00.909867Z"
    }
   },
   "outputs": [
    {
     "data": {
      "text/plain": [
       "--Hello! My dog is called Olivia and she is 3 months old!--"
      ]
     },
     "execution_count": 67,
     "metadata": {},
     "output_type": "execute_result"
    }
   ],
   "source": [
    "obj = OverloadingExamples('Hello! My dog is called Olivia and she is 3 months old!')\n",
    "obj  # this will ask for the object's representation (__repr__)"
   ]
  },
  {
   "cell_type": "markdown",
   "metadata": {
    "ExecuteTime": {
     "end_time": "2022-03-07T18:09:56.621585Z",
     "start_time": "2022-03-07T18:09:56.618586Z"
    }
   },
   "source": [
    "The following will call `__str__` (it ask for a string representation of `obj`)"
   ]
  },
  {
   "cell_type": "code",
   "execution_count": 68,
   "metadata": {
    "ExecuteTime": {
     "end_time": "2022-03-07T18:11:08.764140Z",
     "start_time": "2022-03-07T18:11:08.761818Z"
    }
   },
   "outputs": [
    {
     "name": "stdout",
     "output_type": "stream",
     "text": [
      "++Hello! My dog is called Olivia and she is 3 months old!++\n"
     ]
    }
   ],
   "source": [
    "print(obj)"
   ]
  },
  {
   "cell_type": "code",
   "execution_count": 69,
   "metadata": {
    "ExecuteTime": {
     "end_time": "2022-03-07T18:11:09.067316Z",
     "start_time": "2022-03-07T18:11:09.063725Z"
    }
   },
   "outputs": [
    {
     "data": {
      "text/plain": [
       "'++Hello! My dog is called Olivia and she is 3 months old!++'"
      ]
     },
     "execution_count": 69,
     "metadata": {},
     "output_type": "execute_result"
    }
   ],
   "source": [
    "str(obj)"
   ]
  },
  {
   "cell_type": "code",
   "execution_count": 70,
   "metadata": {
    "ExecuteTime": {
     "end_time": "2022-03-07T18:11:09.484690Z",
     "start_time": "2022-03-07T18:11:09.480496Z"
    }
   },
   "outputs": [
    {
     "data": {
      "text/plain": [
       "44"
      ]
     },
     "execution_count": 70,
     "metadata": {},
     "output_type": "execute_result"
    }
   ],
   "source": [
    "obj.__len__()"
   ]
  },
  {
   "cell_type": "markdown",
   "metadata": {},
   "source": [
    "The following will call `__len__`"
   ]
  },
  {
   "cell_type": "code",
   "execution_count": 71,
   "metadata": {
    "ExecuteTime": {
     "end_time": "2022-03-07T18:11:12.430720Z",
     "start_time": "2022-03-07T18:11:12.427540Z"
    }
   },
   "outputs": [
    {
     "data": {
      "text/plain": [
       "44"
      ]
     },
     "execution_count": 71,
     "metadata": {},
     "output_type": "execute_result"
    }
   ],
   "source": [
    "len(obj)"
   ]
  },
  {
   "cell_type": "markdown",
   "metadata": {},
   "source": [
    "The following will call `__bool__`"
   ]
  },
  {
   "cell_type": "code",
   "execution_count": 72,
   "metadata": {
    "ExecuteTime": {
     "end_time": "2022-03-07T18:11:35.077570Z",
     "start_time": "2022-03-07T18:11:35.074185Z"
    }
   },
   "outputs": [
    {
     "data": {
      "text/plain": [
       "False"
      ]
     },
     "execution_count": 72,
     "metadata": {},
     "output_type": "execute_result"
    }
   ],
   "source": [
    "bool(obj)"
   ]
  },
  {
   "cell_type": "code",
   "execution_count": 73,
   "metadata": {
    "ExecuteTime": {
     "end_time": "2022-03-07T18:11:35.613282Z",
     "start_time": "2022-03-07T18:11:35.609776Z"
    }
   },
   "outputs": [
    {
     "data": {
      "text/plain": [
       "20"
      ]
     },
     "execution_count": 73,
     "metadata": {},
     "output_type": "execute_result"
    }
   ],
   "source": [
    "obj2 = OverloadingExamples('Hello! I am 42 years old!')\n",
    "len(obj2)"
   ]
  },
  {
   "cell_type": "code",
   "execution_count": 74,
   "metadata": {
    "ExecuteTime": {
     "end_time": "2022-03-07T18:11:39.037273Z",
     "start_time": "2022-03-07T18:11:39.034377Z"
    }
   },
   "outputs": [
    {
     "data": {
      "text/plain": [
       "True"
      ]
     },
     "execution_count": 74,
     "metadata": {},
     "output_type": "execute_result"
    }
   ],
   "source": [
    "bool(obj2)"
   ]
  },
  {
   "cell_type": "markdown",
   "metadata": {},
   "source": [
    "The following comparison (`==`) will call `__eq__`"
   ]
  },
  {
   "cell_type": "code",
   "execution_count": 75,
   "metadata": {
    "ExecuteTime": {
     "end_time": "2022-03-07T18:11:55.901983Z",
     "start_time": "2022-03-07T18:11:55.898292Z"
    }
   },
   "outputs": [
    {
     "data": {
      "text/plain": [
       "False"
      ]
     },
     "execution_count": 75,
     "metadata": {},
     "output_type": "execute_result"
    }
   ],
   "source": [
    "obj3 = OverloadingExamples('Hello! I am 42 years old!')\n",
    "obj4 = OverloadingExamples('Hello! I am 43 years old!')\n",
    "\n",
    "obj3 == obj4 # obj3.__eq__(obj4)"
   ]
  },
  {
   "cell_type": "markdown",
   "metadata": {},
   "source": [
    "The sum ('+') will call `__add__`"
   ]
  },
  {
   "cell_type": "code",
   "execution_count": 76,
   "metadata": {
    "ExecuteTime": {
     "end_time": "2022-03-07T18:11:57.075987Z",
     "start_time": "2022-03-07T18:11:57.072216Z"
    }
   },
   "outputs": [
    {
     "data": {
      "text/plain": [
       "--Hello! I am 42 years old!Hello! I am 43 years old!--"
      ]
     },
     "execution_count": 76,
     "metadata": {},
     "output_type": "execute_result"
    }
   ],
   "source": [
    "obj = obj3 + obj4  \n",
    "# obj3.__add__(obj4)\n",
    "obj"
   ]
  },
  {
   "cell_type": "markdown",
   "metadata": {},
   "source": [
    "# Exercises\n",
    "\n",
    "[Go here...](exercises/09-exercises.ipynb)"
   ]
  }
 ],
 "metadata": {
  "kernelspec": {
   "display_name": "Python 3 (ipykernel)",
   "language": "python",
   "name": "python3"
  },
  "language_info": {
   "codemirror_mode": {
    "name": "ipython",
    "version": 3
   },
   "file_extension": ".py",
   "mimetype": "text/x-python",
   "name": "python",
   "nbconvert_exporter": "python",
   "pygments_lexer": "ipython3",
   "version": "3.9.13"
  },
  "latex_envs": {
   "LaTeX_envs_menu_present": true,
   "autoclose": true,
   "autocomplete": true,
   "bibliofile": "references.bib",
   "cite_by": "apalike",
   "current_citInitial": 1,
   "eqLabelWithNumbers": false,
   "eqNumInitial": 1,
   "hotkeys": {
    "equation": "Ctrl-E",
    "itemize": "Ctrl-I"
   },
   "labels_anchors": false,
   "latex_user_defs": false,
   "report_style_numbering": true,
   "user_envs_cfg": false
  },
  "nbTranslate": {
   "displayLangs": [
    "*"
   ],
   "hotkey": "alt-t",
   "langInMainMenu": true,
   "sourceLang": "en",
   "targetLang": "fr",
   "useGoogleTranslate": true
  },
  "toc": {
   "base_numbering": 1,
   "nav_menu": {
    "height": "574px",
    "width": "621px"
   },
   "number_sections": true,
   "sideBar": true,
   "skip_h1_title": false,
   "title_cell": "Table of Contents",
   "title_sidebar": "Contents",
   "toc_cell": false,
   "toc_position": {},
   "toc_section_display": "block",
   "toc_window_display": false
  },
  "varInspector": {
   "cols": {
    "lenName": 16,
    "lenType": 16,
    "lenVar": 40
   },
   "kernels_config": {
    "python": {
     "delete_cmd_postfix": "",
     "delete_cmd_prefix": "del ",
     "library": "var_list.py",
     "varRefreshCmd": "print(var_dic_list())"
    },
    "r": {
     "delete_cmd_postfix": ") ",
     "delete_cmd_prefix": "rm(",
     "library": "var_list.r",
     "varRefreshCmd": "cat(var_dic_list()) "
    }
   },
   "types_to_exclude": [
    "module",
    "function",
    "builtin_function_or_method",
    "instance",
    "_Feature"
   ],
   "window_display": false
  }
 },
 "nbformat": 4,
 "nbformat_minor": 2
}
