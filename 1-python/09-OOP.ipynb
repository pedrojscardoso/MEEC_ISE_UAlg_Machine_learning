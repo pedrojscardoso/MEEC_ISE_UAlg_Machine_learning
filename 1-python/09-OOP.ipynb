{
 "cells": [
  {
   "cell_type": "markdown",
   "metadata": {},
   "source": [
    "# Object oriented programming\n",
    "\n",
    "## Basics\n",
    "\n",
    "\n",
    "- **Object-oriented programming (OOP)** is a programming paradigm based on the concept of \"objects\", which are data structures that contain data, in the form of **attributes**, and code, in the form of functions known as **methods**. \n",
    "        \n",
    "- Object's method can access and often modify the data attributes of the object with which they are associated (objects have a notion of \"self\"). \n",
    "        \n",
    "- In OO programming, computer programs are designed by making them out of objects that interact with one another.\n",
    "        \n",
    "- **Classes are used to create objects (objects are instances of the classes with which they were created), so we could see them as instance factories**."
   ]
  },
  {
   "cell_type": "code",
   "execution_count": null,
   "metadata": {
    "ExecuteTime": {
     "end_time": "2022-03-07T17:48:26.158142Z",
     "start_time": "2022-03-07T17:48:26.155883Z"
    }
   },
   "outputs": [],
   "source": [
    "class Simplest:       # when empty, the braces are optional\n",
    "    pass"
   ]
  },
  {
   "cell_type": "markdown",
   "metadata": {},
   "source": [
    "we can create an instance of `Simplest: simp`"
   ]
  },
  {
   "cell_type": "code",
   "execution_count": null,
   "metadata": {
    "ExecuteTime": {
     "end_time": "2022-03-07T17:48:26.989576Z",
     "start_time": "2022-03-07T17:48:26.980776Z"
    }
   },
   "outputs": [],
   "source": [
    "simp = Simplest() \n",
    "\n",
    "type(simp)   # what type is simp? "
   ]
  },
  {
   "cell_type": "markdown",
   "metadata": {},
   "source": [
    "Is `simp` an instance of `Simplest`?"
   ]
  },
  {
   "cell_type": "code",
   "execution_count": null,
   "metadata": {
    "ExecuteTime": {
     "end_time": "2020-02-20T15:38:08.620152Z",
     "start_time": "2020-02-20T15:38:08.499259Z"
    }
   },
   "outputs": [],
   "source": [
    "print(type(simp) == Simplest)"
   ]
  },
  {
   "cell_type": "markdown",
   "metadata": {},
   "source": [
    "There's a better way for this"
   ]
  },
  {
   "cell_type": "code",
   "execution_count": null,
   "metadata": {
    "ExecuteTime": {
     "end_time": "2020-02-20T15:38:08.620152Z",
     "start_time": "2020-02-20T15:38:08.499259Z"
    }
   },
   "outputs": [],
   "source": [
    "isinstance(simp, Simplest)"
   ]
  },
  {
   "cell_type": "markdown",
   "metadata": {},
   "source": [
    "what does `Simplest` \"contain\"?"
   ]
  },
  {
   "cell_type": "code",
   "execution_count": null,
   "metadata": {
    "ExecuteTime": {
     "end_time": "2022-03-07T17:49:10.146545Z",
     "start_time": "2022-03-07T17:49:10.143186Z"
    }
   },
   "outputs": [],
   "source": [
    "dir(Simplest)"
   ]
  },
  {
   "cell_type": "markdown",
   "metadata": {},
   "source": [
    " - After the **class object**  has been created it **basically represents a namespace**. \n",
    "        \n",
    "- We can call that class to create its instances. \n",
    "        \n",
    "-  Each instance **inherits the class attributes and methods** and **is given its own namespace**.\n",
    "        \n",
    "- We already know that, to walk a namespace, all we need to do is to use the dot (`.`) operator.\n",
    "\n",
    "- **Class attributes** are shared amongst all instances, while **instance attributes** are not, they belong to the object; \n",
    "        \n",
    "- You should use **class attributes** to provide the states and behaviors to be shared by all instances, and use **instance attributes** for data that belongs just to one specific object.\n",
    "\n",
    "- From within a class method we can refer to an instance by means of a special argument, called `self` _by convention_. \n",
    "\n",
    "- `self` is always the first attribute of an instance method. \n",
    "\n",
    "- While initializing an instance we have to assign values to the attributes. Other languages use a constructor but in Python we use an **initializer**, since it works on an already created instance, and therefore it's called `__init__` \n",
    "        \n",
    "- `__init__` is a \"magic\" method, which is run right after the object is created. \n",
    "\n",
    "- Python classes also have a `__new__` method, which is the actual **constructor**."
   ]
  },
  {
   "cell_type": "code",
   "execution_count": null,
   "metadata": {
    "ExecuteTime": {
     "end_time": "2020-02-20T15:38:08.885864Z",
     "start_time": "2020-02-20T15:38:08.755996Z"
    }
   },
   "outputs": [],
   "source": [
    "class Rectangle:\n",
    "    def __init__(self, sideA, sideB):\n",
    "        self.sideA = sideA\n",
    "        self.sideB = sideB\n",
    "\n",
    "    def area(self):\n",
    "        return self.sideA * self.sideB "
   ]
  },
  {
   "cell_type": "code",
   "execution_count": null,
   "metadata": {
    "ExecuteTime": {
     "end_time": "2020-02-20T15:38:09.041799Z",
     "start_time": "2020-02-20T15:38:08.888859Z"
    }
   },
   "outputs": [],
   "source": [
    "r1 = Rectangle(10, 4)"
   ]
  },
  {
   "cell_type": "code",
   "execution_count": null,
   "metadata": {},
   "outputs": [],
   "source": [
    "r1.sideA"
   ]
  },
  {
   "cell_type": "code",
   "execution_count": null,
   "metadata": {},
   "outputs": [],
   "source": [
    "f'Sides: {r1.sideA}, {r1.sideB}'"
   ]
  },
  {
   "cell_type": "code",
   "execution_count": null,
   "metadata": {},
   "outputs": [],
   "source": [
    "f'r1 area: {r1.area()}'"
   ]
  },
  {
   "cell_type": "code",
   "execution_count": null,
   "metadata": {
    "ExecuteTime": {
     "end_time": "2020-02-20T15:38:09.253599Z",
     "start_time": "2020-02-20T15:38:09.043795Z"
    }
   },
   "outputs": [],
   "source": [
    "r2 = Rectangle(7, 3)\n",
    "print('r2 area:', r2.area())"
   ]
  },
  {
   "cell_type": "markdown",
   "metadata": {},
   "source": [
    "        \n",
    "- Class attributes are shared amongst all instances, while instance attributes are not; \n",
    "        \n",
    "- You should use class attributes to provide the states and behaviors to be shared by all instances, and use instance attributes for data that belongs just to one specific object."
   ]
  },
  {
   "cell_type": "code",
   "execution_count": null,
   "metadata": {
    "ExecuteTime": {
     "end_time": "2020-02-20T15:38:09.408435Z",
     "start_time": "2020-02-20T15:38:09.255594Z"
    }
   },
   "outputs": [],
   "source": [
    "class Square:\n",
    "    \n",
    "    numero_de_quadrados = 0          # numero_de_quadrados is a class attribute\n",
    "    \n",
    "    def __init__(self, side = 8):\n",
    "        self.side = side            # self.side is an instance attribute\n",
    "        Square.numero_de_quadrados += 1\n",
    "        # self.__class__.numero_de_quadrados += 1   # or even better, since like this you can change the name of the class\n",
    "\n",
    "    def area(self): # self is a reference to an instance\n",
    "        return self.side ** 2"
   ]
  },
  {
   "cell_type": "code",
   "execution_count": null,
   "metadata": {
    "ExecuteTime": {
     "end_time": "2020-02-20T15:38:09.554291Z",
     "start_time": "2020-02-20T15:38:09.410420Z"
    }
   },
   "outputs": [],
   "source": [
    "sq = Square()\n",
    "print(sq.area()) # 64 (side is found on the class)\n",
    "print(Square.area(sq)) # 64 (equivalent to sq.area())"
   ]
  },
  {
   "cell_type": "code",
   "execution_count": null,
   "metadata": {
    "ExecuteTime": {
     "end_time": "2020-02-20T15:38:09.663287Z",
     "start_time": "2020-02-20T15:38:09.556282Z"
    }
   },
   "outputs": [],
   "source": [
    "sq.side = 10\n",
    "sq.area()                 # 100 (side is found on the instance)"
   ]
  },
  {
   "cell_type": "markdown",
   "metadata": {},
   "source": [
    "How many Squares were created ?"
   ]
  },
  {
   "cell_type": "code",
   "execution_count": null,
   "metadata": {
    "ExecuteTime": {
     "end_time": "2020-02-20T15:38:09.820115Z",
     "start_time": "2020-02-20T15:38:08.525Z"
    }
   },
   "outputs": [],
   "source": [
    "Square.numero_de_quadrados"
   ]
  },
  {
   "cell_type": "markdown",
   "metadata": {},
   "source": [
    "## Dynamic attributes (optional)"
   ]
  },
  {
   "cell_type": "code",
   "execution_count": null,
   "metadata": {
    "ExecuteTime": {
     "end_time": "2020-02-20T15:38:09.821112Z",
     "start_time": "2020-02-20T15:38:08.529Z"
    }
   },
   "outputs": [],
   "source": [
    "class Person():\n",
    "    species = 'Human'                        # class attributes\n",
    "\n",
    "print('species? '+ Person.species)           # Human\n",
    "\n",
    "Person.alive = True                          # Added dynamically!\n",
    "print('alive? ' + str(Person.alive))         # True\n",
    "\n",
    "man = Person()\n",
    "print('species? '+ man.species)              # Human (inherited)\n",
    "print('alive? ' + str(man.alive))            # True (inherited)\n",
    "\n",
    "Person.alive = False\n",
    "print('alive? ' + str(man.alive))            # False (inherited)"
   ]
  },
  {
   "cell_type": "markdown",
   "metadata": {
    "ExecuteTime": {
     "end_time": "2020-02-20T14:26:57.049020Z",
     "start_time": "2020-02-20T14:26:57.043029Z"
    }
   },
   "source": [
    "Be aware of the attributes..."
   ]
  },
  {
   "cell_type": "code",
   "execution_count": null,
   "metadata": {
    "ExecuteTime": {
     "end_time": "2020-02-20T15:38:09.822111Z",
     "start_time": "2020-02-20T15:38:08.533Z"
    }
   },
   "outputs": [],
   "source": [
    "class Point():\n",
    "    x, y = 10, 7"
   ]
  },
  {
   "cell_type": "code",
   "execution_count": null,
   "metadata": {
    "ExecuteTime": {
     "end_time": "2020-02-20T15:38:09.823110Z",
     "start_time": "2020-02-20T15:38:08.536Z"
    }
   },
   "outputs": [],
   "source": [
    "p = Point()\n",
    "\n",
    "print('coordinates:', p.x, p.y) # 10 7 (from class attribute)\n",
    "\n",
    "p.x = 12        # p gets its own 'x' attribute\n",
    "print('p.x:', p.x)      # 12 (now found on the instance)\n",
    "print('Point.x:', Point.x)  # 10 (class attribute still the same)"
   ]
  },
  {
   "cell_type": "markdown",
   "metadata": {},
   "source": [
    "Now, we have 2 \"x\"'s"
   ]
  },
  {
   "cell_type": "code",
   "execution_count": null,
   "metadata": {
    "ExecuteTime": {
     "end_time": "2020-02-20T15:38:09.824109Z",
     "start_time": "2020-02-20T15:38:08.540Z"
    }
   },
   "outputs": [],
   "source": [
    "id(Point.x)          # atributo da classe"
   ]
  },
  {
   "cell_type": "code",
   "execution_count": null,
   "metadata": {
    "ExecuteTime": {
     "end_time": "2020-02-20T15:38:09.825109Z",
     "start_time": "2020-02-20T15:38:08.543Z"
    }
   },
   "outputs": [],
   "source": [
    "id(p.x)              # atributo da instância"
   ]
  },
  {
   "cell_type": "code",
   "execution_count": null,
   "metadata": {
    "ExecuteTime": {
     "end_time": "2020-02-20T15:38:09.826108Z",
     "start_time": "2020-02-20T15:38:08.546Z"
    }
   },
   "outputs": [],
   "source": [
    "del p.x         # we delete instance attribute\n",
    "print(p.x)      # 10 (now search has to go again to find class attr)"
   ]
  },
  {
   "cell_type": "code",
   "execution_count": null,
   "metadata": {
    "ExecuteTime": {
     "end_time": "2020-02-20T15:38:09.827107Z",
     "start_time": "2020-02-20T15:38:08.550Z"
    }
   },
   "outputs": [],
   "source": [
    "p.z = 3         # let's make it a 3D point\n",
    "print('p.z:', p.z)      # 3"
   ]
  },
  {
   "cell_type": "code",
   "execution_count": null,
   "metadata": {},
   "outputs": [],
   "source": [
    "print(Point.z)  # AttributeError: type object 'Point' has no att. 'z'"
   ]
  },
  {
   "cell_type": "markdown",
   "metadata": {},
   "source": [
    "## Inheritance and composition\n",
    "\n",
    "\n",
    "![Inheritance](images/OOP-inheritance.png)\n"
   ]
  },
  {
   "cell_type": "markdown",
   "metadata": {},
   "source": [
    "### Inheritance\n",
    "- **Inheritance** means that two objects are related by means of an *Is-A* type of relationship. \n"
   ]
  },
  {
   "cell_type": "code",
   "execution_count": null,
   "metadata": {
    "ExecuteTime": {
     "end_time": "2022-03-07T17:58:51.571702Z",
     "start_time": "2022-03-07T17:58:51.568731Z"
    }
   },
   "outputs": [],
   "source": [
    " class Vehicle:\n",
    "    def __init__(self, brand, model, number_of_passengers=0, owner=None):\n",
    "        self.owner = owner\n",
    "        self.brand = brand \n",
    "        self.model = model\n",
    "        self.number_of_passengers = number_of_passengers         \n",
    "    \n",
    "    def vehicle_info(self):\n",
    "        return f'''Vehicle of brand {self.brand}, model {self.model}, with capacity for {self.number_of_passengers} passengers.\\n The owner is {self.owner}.'''\n"
   ]
  },
  {
   "cell_type": "markdown",
   "metadata": {},
   "source": [
    "Now, a land vehicle is a vehiclecle, so it should have all the vehicle properties (even if they have to be redefined) and some other"
   ]
  },
  {
   "cell_type": "code",
   "execution_count": null,
   "metadata": {
    "ExecuteTime": {
     "end_time": "2022-03-07T17:58:52.853122Z",
     "start_time": "2022-03-07T17:58:52.849424Z"
    }
   },
   "outputs": [],
   "source": [
    "class  LandVehicle(Vehicle):\n",
    "\n",
    "    def __init__(self, land_velocity, wheels, number_of_wheels, brand, model, number_of_passengers=0, owner=None):\n",
    "\n",
    "        # call Vehicle initializer sending the Vehicle's attributes\n",
    "        super().__init__(owner=owner, brand=brand, model=model, number_of_passengers=number_of_passengers); \n",
    "\n",
    "        self.land_velocity = land_velocity;\n",
    "        self.wheels = wheels;\n",
    "        self.number_of_wheels = number_of_wheels;\n",
    "\n",
    "    def vehicle_info(self): # In some case, methods need to be redefined\n",
    "        return  super().vehicle_info() + f''' \\n It has {self.number_of_wheels} wheels with the specifications {self.wheels}. The land velocity is {self.land_velocity}.'''"
   ]
  },
  {
   "cell_type": "code",
   "execution_count": null,
   "metadata": {
    "ExecuteTime": {
     "end_time": "2022-03-07T17:58:54.109054Z",
     "start_time": "2022-03-07T17:58:54.105926Z"
    }
   },
   "outputs": [],
   "source": [
    "lv = LandVehicle(land_velocity=200, \n",
    "                 wheels='225/55 R 17 97 W', \n",
    "                 number_of_wheels=4, \n",
    "                 owner='Margarida', \n",
    "                 brand='Fiat', \n",
    "                 model='500', \n",
    "                 number_of_passengers=4)\n",
    "\n",
    "print(lv.vehicle_info())"
   ]
  },
  {
   "cell_type": "code",
   "execution_count": null,
   "metadata": {
    "ExecuteTime": {
     "end_time": "2022-03-07T17:59:02.991998Z",
     "start_time": "2022-03-07T17:59:02.984421Z"
    }
   },
   "outputs": [],
   "source": [
    "class Car(LandVehicle):\n",
    "            \n",
    "    def __init__(self, engine, number_of_doors, land_velocity, wheels, number_of_wheels, brand, model, number_of_passengers=0, owner=None):\n",
    "    \n",
    "        # call LandVehicle contructor\n",
    "        super().__init__(land_velocity=land_velocity, wheels=wheels, number_of_wheels=number_of_wheels, owner=owner, brand=brand, model=model, number_of_passengers=number_of_passengers)\n",
    "\n",
    "        self.engine = engine\n",
    "        self.number_of_doors = number_of_doors    \n",
    "        self.kms = 0\n",
    "        self.filled_fuel = 0\n",
    "        \n",
    "    def vehicle_info(self): # redefinição do método \n",
    "        return  super().vehicle_info() + f''' Also has an engine with {self.engine}cc and {self.number_of_doors} doors.'''\n",
    "\n",
    "    def add_kms(self, kms):\n",
    "        self.kms += kms\n",
    "    \n",
    "    def add_filled_fuel(self, filled_fuel):\n",
    "        self.filled_fuel += filled_fuel\n",
    "    \n",
    "    def consumption(self):\n",
    "        return self.filled_fuel / self.kms * 100"
   ]
  },
  {
   "cell_type": "code",
   "execution_count": null,
   "metadata": {
    "ExecuteTime": {
     "end_time": "2022-03-07T17:59:03.514021Z",
     "start_time": "2022-03-07T17:59:03.510337Z"
    }
   },
   "outputs": [],
   "source": [
    "c = Car(\n",
    "    engine='1500', \n",
    "    number_of_doors=5, \n",
    "    land_velocity=200, \n",
    "    wheels='225/55 R 17 97 W', \n",
    "    number_of_wheels=4, \n",
    "    owner='Margarida', \n",
    "    brand='Fiat', \n",
    "    model='500', \n",
    "    number_of_passengers=4\n",
    ")\n",
    "\n",
    "print(c.vehicle_info())"
   ]
  },
  {
   "cell_type": "code",
   "execution_count": null,
   "metadata": {
    "ExecuteTime": {
     "end_time": "2022-03-07T17:59:04.977703Z",
     "start_time": "2022-03-07T17:59:04.973259Z"
    }
   },
   "outputs": [],
   "source": [
    "c.add_kms(1823)\n",
    "c.add_filled_fuel(100)\n",
    "\n",
    "c.consumption()"
   ]
  },
  {
   "cell_type": "markdown",
   "metadata": {
    "ExecuteTime": {
     "end_time": "2020-02-20T15:23:16.612911Z",
     "start_time": "2020-02-20T15:23:16.609929Z"
    }
   },
   "source": [
    "### More about `super()`  (optional)\n",
    "\n",
    "The attributes of the super class can be called in a distinct number of ways"
   ]
  },
  {
   "cell_type": "code",
   "execution_count": null,
   "metadata": {
    "ExecuteTime": {
     "end_time": "2022-03-07T17:59:06.434326Z",
     "start_time": "2022-03-07T17:59:06.431519Z"
    }
   },
   "outputs": [],
   "source": [
    "class Book:\n",
    "    def __init__(self, title, publisher, pages):\n",
    "        print('Book')\n",
    "        self.title = title\n",
    "        self.publisher = publisher\n",
    "        self.pages = pages"
   ]
  },
  {
   "cell_type": "markdown",
   "metadata": {},
   "source": [
    "By calling them directly (not advisable)"
   ]
  },
  {
   "cell_type": "code",
   "execution_count": null,
   "metadata": {
    "ExecuteTime": {
     "end_time": "2020-02-20T15:41:06.557936Z",
     "start_time": "2020-02-20T15:41:06.553954Z"
    }
   },
   "outputs": [],
   "source": [
    "class Ebook1(Book): # is a Book\n",
    "    def __init__(self, title, publisher, pages, format_):\n",
    "        self.title = title          # not advisable\n",
    "        self.publisher = publisher  # not advisable\n",
    "        self.pages = pages          # not advisable\n",
    "        self.format_ = format_"
   ]
  },
  {
   "cell_type": "markdown",
   "metadata": {},
   "source": [
    "Using the super's class name, which is better but can lead to problems if the class changes its name"
   ]
  },
  {
   "cell_type": "code",
   "execution_count": null,
   "metadata": {
    "ExecuteTime": {
     "end_time": "2020-02-20T15:38:09.834100Z",
     "start_time": "2020-02-20T15:38:08.580Z"
    }
   },
   "outputs": [],
   "source": [
    "class Ebook2(Book): # is a Book\n",
    "    def __init__(self, title, publisher, pages, format_):\n",
    "        # If we modify the logic within the __init__ method of Book,\n",
    "        # we don't need to touch Book, it will auto adapt to the change. \n",
    "        Book.__init__(self, title, publisher, pages)\n",
    "        # But if we change the name of the Book class...  \n",
    "        self.format_ = format_"
   ]
  },
  {
   "cell_type": "markdown",
   "metadata": {},
   "source": [
    "or using `super()`, as already seen."
   ]
  },
  {
   "cell_type": "code",
   "execution_count": null,
   "metadata": {
    "ExecuteTime": {
     "end_time": "2020-02-20T15:38:09.835098Z",
     "start_time": "2020-02-20T15:38:08.583Z"
    }
   },
   "outputs": [],
   "source": [
    "class Ebook3(Book): # is a Book\n",
    "    def __init__(self, title, publisher, pages, format_):\n",
    "        # now we can change the name of the class\n",
    "        super().__init__(title, publisher, pages)\n",
    "        \n",
    "        # Another way to do the same thing is:\n",
    "        # super(Book, self).__init__(title, publisher, pages)\n",
    "        \n",
    "        self.format_ = format_"
   ]
  },
  {
   "cell_type": "markdown",
   "metadata": {},
   "source": [
    "### Composition\n",
    "\n",
    "- On the other hand, **composition** means that two objects are related by means of a _Has-A_ type of relationship. \n"
   ]
  },
  {
   "cell_type": "code",
   "execution_count": null,
   "metadata": {
    "ExecuteTime": {
     "end_time": "2022-03-07T18:00:38.240794Z",
     "start_time": "2022-03-07T18:00:38.236955Z"
    }
   },
   "outputs": [],
   "source": [
    "class Engine():\n",
    "    def start(self):\n",
    "        print(f'Engine {self.__class__.__name__} started.')\n",
    "\n",
    "    def stop(self):\n",
    "        print(f'Engine {self.__class__.__name__} stopped.')\n"
   ]
  },
  {
   "cell_type": "code",
   "execution_count": null,
   "metadata": {
    "ExecuteTime": {
     "end_time": "2022-03-07T18:00:39.544944Z",
     "start_time": "2022-03-07T18:00:39.541965Z"
    }
   },
   "outputs": [],
   "source": [
    "class ElectricEngine(Engine):       # Is-A Engine\n",
    "    pass\n",
    "\n",
    "class V8Engine(Engine):             # Is-A Engine\n",
    "    pass"
   ]
  },
  {
   "cell_type": "markdown",
   "metadata": {},
   "source": [
    "So, a `Car` **Has-A** `Engine`"
   ]
  },
  {
   "cell_type": "code",
   "execution_count": null,
   "metadata": {
    "ExecuteTime": {
     "end_time": "2022-03-07T18:00:41.598827Z",
     "start_time": "2022-03-07T18:00:41.595296Z"
    }
   },
   "outputs": [],
   "source": [
    "class Car:\n",
    "    def __init__(self, engine):\n",
    "        self.engine = engine     # Has-A Engine\n",
    "        \n",
    "    def start(self):\n",
    "        print('Start engine {0} for car {1}... Wroom!'.format(self.engine.__class__.__name__, self.__class__.__name__))\n",
    "        self.engine.start()\n",
    "        \n",
    "    def stop(self):\n",
    "        self.engine.stop()"
   ]
  },
  {
   "cell_type": "code",
   "execution_count": null,
   "metadata": {
    "ExecuteTime": {
     "end_time": "2022-03-07T18:00:42.488721Z",
     "start_time": "2022-03-07T18:00:42.485950Z"
    }
   },
   "outputs": [],
   "source": [
    "e = Engine()        \n",
    "normal = Car(e)\n",
    "normal.start()\n",
    "normal.stop()"
   ]
  },
  {
   "cell_type": "code",
   "execution_count": null,
   "metadata": {
    "ExecuteTime": {
     "end_time": "2022-03-07T18:00:51.319598Z",
     "start_time": "2022-03-07T18:00:51.315643Z"
    }
   },
   "outputs": [],
   "source": [
    "sport = Car(V8Engine())\n",
    "sport.start()\n",
    "sport.stop()"
   ]
  },
  {
   "cell_type": "markdown",
   "metadata": {},
   "source": [
    "Other ways to implement an engine"
   ]
  },
  {
   "cell_type": "code",
   "execution_count": null,
   "metadata": {
    "ExecuteTime": {
     "end_time": "2022-03-07T18:01:39.007554Z",
     "start_time": "2022-03-07T18:01:39.004814Z"
    }
   },
   "outputs": [],
   "source": [
    "class Car():\n",
    "    engine_cls = Engine\n",
    "    def __init__(self):\n",
    "        self.engine = self.engine_cls()     # Has-A Engine\n",
    "        \n",
    "    def start(self):\n",
    "        print(f'Start engine {self.engine.__class__.__name__} for car {self.__class__.__name__}... Wroom!')\n",
    "        self.engine.start()\n",
    "        \n",
    "    def stop(self):\n",
    "        self.engine.stop()"
   ]
  },
  {
   "cell_type": "code",
   "execution_count": null,
   "metadata": {
    "ExecuteTime": {
     "end_time": "2022-03-07T18:01:40.166651Z",
     "start_time": "2022-03-07T18:01:40.164036Z"
    }
   },
   "outputs": [],
   "source": [
    "class RaceCar(Car):                 # Is-A Car\n",
    "    engine_cls = V8Engine           # Has-A Engine\n",
    "\n",
    "class CityCar(Car):                 # Is-A Car\n",
    "    engine_cls = ElectricEngine     # Has-A Engine\n",
    "\n",
    "class F1Car(RaceCar):               # Is-A RaceCar and also Is-A Car\n",
    "    pass                            # engine_cls = V8Engine"
   ]
  },
  {
   "cell_type": "code",
   "execution_count": null,
   "metadata": {
    "ExecuteTime": {
     "end_time": "2022-03-07T18:01:45.176464Z",
     "start_time": "2022-03-07T18:01:45.171754Z"
    }
   },
   "outputs": [],
   "source": [
    "cars = [Car(), RaceCar(), CityCar(), F1Car()]\n",
    "for car in cars:\n",
    "    car.start()\n",
    "\n",
    "for car in cars:\n",
    "    car.stop()"
   ]
  },
  {
   "cell_type": "markdown",
   "metadata": {},
   "source": [
    "## Multiple Inheritance\n",
    "\n",
    "![Inheritance](images/MultiplaHeranca.png)"
   ]
  },
  {
   "cell_type": "code",
   "execution_count": null,
   "metadata": {
    "ExecuteTime": {
     "end_time": "2022-03-07T18:06:06.283086Z",
     "start_time": "2022-03-07T18:06:06.280167Z"
    }
   },
   "outputs": [],
   "source": [
    "class Vehicle:\n",
    "    def __init__(self, owner, brand):\n",
    "        self.owner = owner\n",
    "        self.brand = brand\n",
    "            \n",
    "    def vehicle_info(self):\n",
    "        raise NotImplementedError(\"vehicle_info: não implementado\")"
   ]
  },
  {
   "cell_type": "code",
   "execution_count": null,
   "metadata": {
    "ExecuteTime": {
     "end_time": "2022-03-07T18:05:30.642381Z",
     "start_time": "2022-03-07T18:05:30.639179Z"
    }
   },
   "outputs": [],
   "source": [
    "class LandVehicle(Vehicle):\n",
    "    def __init__(self, owner, brand, land_velocity):\n",
    "        print(super(LandVehicle, self))\n",
    "        super().__init__(self, owner, brand)\n",
    "        self.land_velocity = land_velocity\n",
    "\n",
    "    @property \n",
    "    def land_velocity(self):\n",
    "        return self.__land_velocity\n",
    "    \n",
    "    @land_velocity.setter\n",
    "    def land_velocity(self, lv):\n",
    "        self.__land_velocity = lv"
   ]
  },
  {
   "cell_type": "code",
   "execution_count": null,
   "metadata": {
    "ExecuteTime": {
     "end_time": "2022-03-07T18:05:31.727350Z",
     "start_time": "2022-03-07T18:05:31.724287Z"
    }
   },
   "outputs": [],
   "source": [
    "class WaterVehicle(Vehicle):\n",
    "    def __init__(self, owner, brand, water_velocity):\n",
    "        print(super(WaterVehicle, self))\n",
    "        Vehicle.__init__(self, owner, brand)\n",
    "        self.water_velocity = water_velocity\n",
    "\n",
    "    @property \n",
    "    def water_velocity(self):\n",
    "        return self.__water_velocity\n",
    "    \n",
    "    @water_velocity.setter\n",
    "    def water_velocity(self, wv):\n",
    "        self.__water_velocity = wv"
   ]
  },
  {
   "cell_type": "code",
   "execution_count": null,
   "metadata": {
    "ExecuteTime": {
     "end_time": "2022-03-07T18:05:32.652796Z",
     "start_time": "2022-03-07T18:05:32.649165Z"
    }
   },
   "outputs": [],
   "source": [
    "class AmphibiousVehicle(LandVehicle, WaterVehicle):\n",
    "    def __init__(self, owner, brand, land_velocity, water_velocity):\n",
    "        LandVehicle.__init__(self, owner, brand, land_velocity)\n",
    "        WaterVehicle.__init__(self, owner, brand, water_velocity)\n",
    "    \n",
    "    def print_info(self):\n",
    "        print(f'''This is an AmphibiousVehicle owned by {self.owner} \n",
    "        from {self.brand} with velocity {self.land_velocity} km/h in land and {self.water_velocity} Knot  in the water''')\n",
    "    "
   ]
  },
  {
   "cell_type": "code",
   "execution_count": null,
   "metadata": {
    "ExecuteTime": {
     "end_time": "2022-03-07T18:05:35.089325Z",
     "start_time": "2022-03-07T18:05:35.086586Z"
    }
   },
   "outputs": [],
   "source": [
    "a = AmphibiousVehicle('Margarida', 'rinspeed splash', 199, 38)\n",
    "a.print_info()"
   ]
  },
  {
   "cell_type": "markdown",
   "metadata": {},
   "source": [
    "The methods resolution order is "
   ]
  },
  {
   "cell_type": "code",
   "execution_count": null,
   "metadata": {
    "ExecuteTime": {
     "end_time": "2022-03-07T18:05:38.314231Z",
     "start_time": "2022-03-07T18:05:38.310612Z"
    }
   },
   "outputs": [],
   "source": [
    "AmphibiousVehicle.__mro__"
   ]
  },
  {
   "cell_type": "markdown",
   "metadata": {},
   "source": [
    "### Another multiple inheritance example (optional)"
   ]
  },
  {
   "cell_type": "code",
   "execution_count": null,
   "metadata": {
    "ExecuteTime": {
     "end_time": "2020-02-20T15:38:09.847087Z",
     "start_time": "2020-02-20T15:38:08.635Z"
    }
   },
   "outputs": [],
   "source": [
    "class Shape(object):\n",
    "    geometric_type = 'Generic Shape'\n",
    "    def area(self):     # This acts as placeholder for the interface\n",
    "        raise NotImplementedError\n",
    "\n",
    "    def get_geometric_type(self):\n",
    "        return self.geometric_type\n",
    "    \n",
    "    def f(self):\n",
    "        print(\"Shape\")\n",
    "\n",
    "class Plotter:\n",
    "    def plot(self, ratio, topleft):\n",
    "        # Imagine some nice plotting logic here...\n",
    "        print('Plotting at {}, ratio {}.'.format( topleft, ratio))\n",
    "    \n",
    "    def f(self):\n",
    "        print(\"Plotter\")\n",
    "        \n",
    "class Polygon(Shape, Plotter):          # base class for polygons\n",
    "    geometric_type = 'Polygon'\n",
    "    \n",
    "    f = Plotter.f\n",
    "\n",
    "class RegularPolygon(Polygon):          # Is-A Polygon\n",
    "    geometric_type = 'Regular Polygon'\n",
    "    def __init__(self, side):\n",
    "        self.side = side"
   ]
  },
  {
   "cell_type": "code",
   "execution_count": null,
   "metadata": {
    "ExecuteTime": {
     "end_time": "2020-02-20T15:38:09.848085Z",
     "start_time": "2020-02-20T15:38:08.639Z"
    }
   },
   "outputs": [],
   "source": [
    "p = Polygon()\n",
    "p.plot(0, (0,0))"
   ]
  },
  {
   "cell_type": "code",
   "execution_count": null,
   "metadata": {
    "ExecuteTime": {
     "end_time": "2020-02-20T15:38:09.848085Z",
     "start_time": "2020-02-20T15:38:08.643Z"
    }
   },
   "outputs": [],
   "source": [
    "p.get_geometric_type()"
   ]
  },
  {
   "cell_type": "code",
   "execution_count": null,
   "metadata": {
    "ExecuteTime": {
     "end_time": "2020-02-20T15:38:09.850083Z",
     "start_time": "2020-02-20T15:38:08.648Z"
    }
   },
   "outputs": [],
   "source": [
    "p.f()"
   ]
  },
  {
   "cell_type": "code",
   "execution_count": null,
   "metadata": {
    "ExecuteTime": {
     "end_time": "2020-02-20T15:38:09.851082Z",
     "start_time": "2020-02-20T15:38:08.652Z"
    }
   },
   "outputs": [],
   "source": [
    "try:\n",
    "    p.cor()\n",
    "except AttributeError as e:\n",
    "    print(\"it hasn't that method\")\n",
    "    print(e)"
   ]
  },
  {
   "cell_type": "code",
   "execution_count": null,
   "metadata": {
    "ExecuteTime": {
     "end_time": "2020-02-20T15:38:09.852081Z",
     "start_time": "2020-02-20T15:38:08.657Z"
    }
   },
   "outputs": [],
   "source": [
    "class RegularHexagon(RegularPolygon):   # Is-A RegularPolygon\n",
    "    geometric_type = 'RegularHexagon'\n",
    "    def area(self):\n",
    "        return 1.5 * (3 ** .5 * self.side ** 2)\n",
    "\n",
    "class Square(RegularPolygon):           # Is-A RegularPolygon\n",
    "    geometric_type = 'Square'\n",
    "    def area(self):\n",
    "        return self.side * self.side"
   ]
  },
  {
   "cell_type": "code",
   "execution_count": null,
   "metadata": {
    "ExecuteTime": {
     "end_time": "2020-02-20T15:38:09.853081Z",
     "start_time": "2020-02-20T15:38:08.662Z"
    }
   },
   "outputs": [],
   "source": [
    "hexagon = RegularHexagon(10)\n",
    "print(hexagon.area())               # 259.8076211353316\n",
    "print(hexagon.get_geometric_type()) # RegularHexagon\n",
    "hexagon.plot(0.8, (75, 77))     "
   ]
  },
  {
   "cell_type": "code",
   "execution_count": null,
   "metadata": {
    "ExecuteTime": {
     "end_time": "2020-02-20T15:38:09.854079Z",
     "start_time": "2020-02-20T15:38:08.665Z"
    }
   },
   "outputs": [],
   "source": [
    "square = Square(12)\n",
    "print(square.area())                # 144\n",
    "print(square.get_geometric_type())  # Square\n",
    "square.plot(0.93, (74, 75))         # Plotting at (74, 75), ratio 0.93."
   ]
  },
  {
   "cell_type": "markdown",
   "metadata": {},
   "source": [
    "## Static methods (optional)\n",
    "\n",
    "- When you create a class object, Python assigns a name to it. That name acts as a namespace, and sometimes it makes sense to group functionalities under it. \n",
    "\n",
    "- Static methods are perfect for this use case since unlike instance methods, they are not passed any special argument. \n",
    "        \n",
    "- Static methods are created by applying the `@staticmethod` decorator to them. \n",
    "        \n",
    "- The class, acts as a container for functions. \n",
    " \n",
    "- Another approach would be to have a separate module with functions inside. "
   ]
  },
  {
   "cell_type": "code",
   "execution_count": null,
   "metadata": {
    "ExecuteTime": {
     "end_time": "2020-02-20T15:38:09.855078Z",
     "start_time": "2020-02-20T15:38:08.670Z"
    }
   },
   "outputs": [],
   "source": [
    "class String:\n",
    "    \n",
    "    @staticmethod           # decorator\n",
    "    def is_palindrome(s, case_insensitive=True):\n",
    "        s = ''.join(c for c in s if c.isalnum()) # Study this!\n",
    "        if case_insensitive:\n",
    "            s = s.lower()\n",
    "        for c in range(len(s) // 2):\n",
    "            if s[c] != s[-c - 1]:\n",
    "                return False\n",
    "        return True\n",
    "\n",
    "    @staticmethod\n",
    "    def get_unique_words(sentence):\n",
    "        return set(sentence.split())"
   ]
  },
  {
   "cell_type": "code",
   "execution_count": null,
   "metadata": {
    "ExecuteTime": {
     "end_time": "2020-02-20T15:38:09.856077Z",
     "start_time": "2020-02-20T15:38:08.673Z"
    }
   },
   "outputs": [],
   "source": [
    "print(String.is_palindrome('Radar', case_insensitive=False)) # False\n",
    "print(String.is_palindrome('A nut for a jar of tuna'))       # True\n",
    "print(String.is_palindrome('Never Odd, Or Even!'))           # True\n",
    "\n",
    "print(String.get_unique_words('I love palindromes. I really really love them!'))   # {'them!', 'really', 'palindromes.', 'I', 'love'}  "
   ]
  },
  {
   "cell_type": "markdown",
   "metadata": {},
   "source": [
    "## Class methods (optional)\n",
    "\n",
    "- Class methods are slightly different from instance methods in that they also take a special first argument, but in this case, it is the class object itself.\n",
    "\n",
    "-  Two very common use cases for coding class methods are to provide \n",
    "    - factory capability to a class \n",
    "    - allow breaking up static methods (which you have to then call using the class name) without having to hardcode the class name in your logic. "
   ]
  },
  {
   "cell_type": "code",
   "execution_count": null,
   "metadata": {
    "ExecuteTime": {
     "end_time": "2020-02-20T15:38:09.857076Z",
     "start_time": "2020-02-20T15:38:08.678Z"
    }
   },
   "outputs": [],
   "source": [
    "class Pizza:\n",
    "    \n",
    "    # area of pizza per person\n",
    "    area_by_person = 750.\n",
    "    \n",
    "    def __init__(self, ingredients):\n",
    "        self.ingredients = ingredients\n",
    "\n",
    "    def __repr__(self):\n",
    "        return f'Pizza({self.ingredients})'\n",
    "\n",
    "    @classmethod\n",
    "    def margherita(cls):\n",
    "        return cls(['mozzarela', 'tomate'])\n",
    "\n",
    "    @classmethod\n",
    "    def prosciutto(cls):\n",
    "        return cls(['mozzarela', 'tomate', 'fiambre'])\n",
    "    \n",
    "    @staticmethod\n",
    "    def how_many_person(radius):\n",
    "        area_pizza = 3.14 * radius ** 2\n",
    "        return area_pizza / Pizza.area_by_person\n",
    "    \n",
    "    @staticmethod\n",
    "    def which_radius(number_of_persons):\n",
    "        area_total = number_of_persons * Pizza.area_by_person \n",
    "        return (area_total / 3.14) ** .5"
   ]
  },
  {
   "cell_type": "code",
   "execution_count": null,
   "metadata": {
    "ExecuteTime": {
     "end_time": "2020-02-20T15:38:09.858075Z",
     "start_time": "2020-02-20T15:38:08.682Z"
    }
   },
   "outputs": [],
   "source": [
    "four_cheeses = Pizza(['mozzarela', 'gorgonzola', 'requeijão', 'parmesão'])\n",
    "four_cheeses"
   ]
  },
  {
   "cell_type": "code",
   "execution_count": null,
   "metadata": {
    "ExecuteTime": {
     "end_time": "2020-02-20T15:38:09.858075Z",
     "start_time": "2020-02-20T15:38:08.686Z"
    }
   },
   "outputs": [],
   "source": [
    "margherita = Pizza.margherita()\n",
    "margherita"
   ]
  },
  {
   "cell_type": "code",
   "execution_count": null,
   "metadata": {
    "ExecuteTime": {
     "end_time": "2020-02-20T15:38:09.859073Z",
     "start_time": "2020-02-20T15:38:08.690Z"
    }
   },
   "outputs": [],
   "source": [
    "r = 30\n",
    "f'a pizza with {r}cm² is enough for {Pizza.how_many_person(r)} person'"
   ]
  },
  {
   "cell_type": "code",
   "execution_count": null,
   "metadata": {
    "ExecuteTime": {
     "end_time": "2020-02-20T15:38:09.861072Z",
     "start_time": "2020-02-20T15:38:08.694Z"
    }
   },
   "outputs": [],
   "source": [
    "p = 4\n",
    "f'for {p} person you shoud order a pizza with {Pizza.which_radius(p)} cm radius'"
   ]
  },
  {
   "cell_type": "markdown",
   "metadata": {},
   "source": [
    "## Private methods and name mangling\n",
    "\n",
    "- In OOP, **public** attributes are accessible from any point in the code, while **private** ones are accessible only within the scope they are defined in.\n",
    "- In Python, there is no such thing: ** everything is public**\n",
    "- Programmers rely on  \n",
    "    - Convention\n",
    "        - If an attribute's name has no leading underscores it is considered **public**. This means you can access it and modify it freely.\n",
    "        - When the name has one leading underscore, the attribute is considered **private**, (probably used internally and you should not use it or modify it from the outside)\n",
    "    - mangling\n",
    "        - Any attribute name that has at least two leading underscores and at most one trailing underscore, like `__my_attr`, is replaced with a name that includes an underscore and the class name before the actual name, like `_ClassName__my_attr` \n",
    "\n",
    "### The `_`  (underscore) convention"
   ]
  },
  {
   "cell_type": "code",
   "execution_count": null,
   "metadata": {
    "ExecuteTime": {
     "end_time": "2020-02-20T15:38:09.862071Z",
     "start_time": "2020-02-20T15:38:08.698Z"
    }
   },
   "outputs": [],
   "source": [
    "class A:\n",
    "    def __init__(self, factor):\n",
    "        self._factor = factor\n",
    "\n",
    "    def op1(self):\n",
    "        print('Op1 with factor {}...'.format(self._factor))\n",
    "\n",
    "class B(A):    # derived from A\n",
    "    def op2(self, factor):\n",
    "        self._factor = factor # you can do this but you probably shouldn't (_factor is private in the mother class)\n",
    "        print('Op2 with factor {}...'.format(self._factor))\n",
    "\n",
    "obj = B(100)\n",
    "obj.op1()           \n",
    "obj.op2(42)        \n",
    "obj.op1()  "
   ]
  },
  {
   "cell_type": "code",
   "execution_count": null,
   "metadata": {
    "ExecuteTime": {
     "end_time": "2020-02-20T15:38:09.863070Z",
     "start_time": "2020-02-20T15:38:08.701Z"
    }
   },
   "outputs": [],
   "source": [
    "obj._factor = 1290    # definetly , you shouldn't do this. _factor should be treated as private!\n",
    "obj.op1()"
   ]
  },
  {
   "cell_type": "code",
   "execution_count": null,
   "metadata": {},
   "outputs": [],
   "source": [
    "dir(obj)"
   ]
  },
  {
   "cell_type": "markdown",
   "metadata": {},
   "source": [
    "### Mangling"
   ]
  },
  {
   "cell_type": "code",
   "execution_count": null,
   "metadata": {
    "ExecuteTime": {
     "end_time": "2020-02-20T15:38:09.864068Z",
     "start_time": "2020-02-20T15:38:08.705Z"
    }
   },
   "outputs": [],
   "source": [
    "class A:\n",
    "    def __init__(self, factor):\n",
    "        self.__factor = factor   # a double underscore\n",
    "    \n",
    "    def op1(self):\n",
    "        print('Op1 with factor {}...'.format(self.__factor)) \n",
    "\n",
    "class B(A):\n",
    "    def op2(self, factor):\n",
    "        self.__factor = factor\n",
    "        print('Op2 with factor {}...'.format(self.__factor))"
   ]
  },
  {
   "cell_type": "code",
   "execution_count": null,
   "metadata": {
    "ExecuteTime": {
     "end_time": "2020-02-20T15:38:09.865067Z",
     "start_time": "2020-02-20T15:38:08.709Z"
    }
   },
   "outputs": [],
   "source": [
    "obj = B(100)\n",
    "obj.op1()       # Op1 with factor 100...\n",
    "obj.op2(42)     # Op2 with factor 42...\n",
    "obj.op1()       # Op1 with factor 100... <- Now you did not change the __factor of class A    "
   ]
  },
  {
   "cell_type": "code",
   "execution_count": null,
   "metadata": {
    "ExecuteTime": {
     "end_time": "2020-02-20T15:38:09.866066Z",
     "start_time": "2020-02-20T15:38:08.713Z"
    }
   },
   "outputs": [],
   "source": [
    "dir(obj) # look for ['_A__factor', '_B__factor', ... , 'op1', 'op2']"
   ]
  },
  {
   "cell_type": "code",
   "execution_count": null,
   "metadata": {
    "ExecuteTime": {
     "end_time": "2020-02-20T15:38:09.867066Z",
     "start_time": "2020-02-20T15:38:08.717Z"
    }
   },
   "outputs": [],
   "source": [
    "print(obj._A__factor)   # 100\n",
    "print(obj._B__factor)   # 42"
   ]
  },
  {
   "cell_type": "code",
   "execution_count": null,
   "metadata": {
    "ExecuteTime": {
     "end_time": "2020-02-20T15:38:09.868064Z",
     "start_time": "2020-02-20T15:38:08.725Z"
    }
   },
   "outputs": [],
   "source": [
    "try:\n",
    "    print(obj.__factor)     # AttributeError: 'B' has no attr '__factor'  \n",
    "except:\n",
    "    print(\"there is no obj.__factor\")"
   ]
  },
  {
   "cell_type": "markdown",
   "metadata": {},
   "source": [
    "### `property` decorator (optional)\n",
    "\n",
    "Imagine that you have an age attribute in a Person class and at some point you want to make sure that when you change its value, you're also checking that age is within a proper range, like [18, 99]. \n",
    "\n",
    "You can write accessor methods, like `get_age()`and `set_age()` (also called getters and setters) and put the logic there.\n",
    "\n",
    "Getters and setters are used in many object oriented programming languages to ensure the principle of data **encapsulation**. They are known as mutator methods as well. According to this principle, the attributes of a class are made private to hide and protect them from other code. \n",
    "\n",
    "But the Pythonic way to introduce attributes is to make them public. \n",
    "\n",
    "#### getters and setters\n",
    "\n",
    "In short, you can use getters and setters, like this"
   ]
  },
  {
   "cell_type": "code",
   "execution_count": null,
   "metadata": {
    "ExecuteTime": {
     "end_time": "2022-03-07T18:07:26.601556Z",
     "start_time": "2022-03-07T18:07:26.597631Z"
    }
   },
   "outputs": [],
   "source": [
    "class PersonNonPythonic:\n",
    "    def __init__(self, age):\n",
    "        self.set_age(age)\n",
    "\n",
    "    def get_age(self):\n",
    "        return self._age\n",
    "\n",
    "    def set_age(self, age):\n",
    "        assert 18 <= age <= 99, 'Age must be within [18, 99]'\n",
    "        self._age = age\n",
    "            \n",
    "p = PersonNonPythonic(20)\n",
    "p.set_age(21)"
   ]
  },
  {
   "cell_type": "code",
   "execution_count": null,
   "metadata": {
    "ExecuteTime": {
     "end_time": "2022-03-07T18:07:36.302815Z",
     "start_time": "2022-03-07T18:07:36.294128Z"
    }
   },
   "outputs": [],
   "source": [
    "p.set_age(11)"
   ]
  },
  {
   "cell_type": "markdown",
   "metadata": {},
   "source": [
    "#### \"properties\" \n",
    "you can also use \"properties\" as follows"
   ]
  },
  {
   "cell_type": "code",
   "execution_count": null,
   "metadata": {
    "ExecuteTime": {
     "end_time": "2022-03-07T18:08:19.672982Z",
     "start_time": "2022-03-07T18:08:19.669946Z"
    }
   },
   "outputs": [],
   "source": [
    "class PersonPythonic:\n",
    "    def __init__(self, age):\n",
    "        self.age = age\n",
    "\n",
    "    @property\n",
    "    def age(self):\n",
    "        return self.__age\n",
    "\n",
    "    @age.setter\n",
    "    def age(self, age):\n",
    "        assert 18 <= age <= 99, 'Age must be within [18, 99]'\n",
    "        self.__age = age"
   ]
  },
  {
   "cell_type": "code",
   "execution_count": null,
   "metadata": {
    "ExecuteTime": {
     "end_time": "2022-03-07T18:08:20.697738Z",
     "start_time": "2022-03-07T18:08:20.694401Z"
    }
   },
   "outputs": [],
   "source": [
    "person = PersonPythonic(39)\n",
    "\n",
    "person.age"
   ]
  },
  {
   "cell_type": "code",
   "execution_count": null,
   "metadata": {
    "ExecuteTime": {
     "end_time": "2022-03-07T18:08:24.161066Z",
     "start_time": "2022-03-07T18:08:24.157326Z"
    }
   },
   "outputs": [],
   "source": [
    "person.age = 18     # Notice we access as data attribute\n",
    "person.age"
   ]
  },
  {
   "cell_type": "code",
   "execution_count": null,
   "metadata": {
    "ExecuteTime": {
     "end_time": "2022-03-07T18:08:34.560690Z",
     "start_time": "2022-03-07T18:08:34.557641Z"
    }
   },
   "outputs": [],
   "source": [
    "try:\n",
    "    person.age = 100    # ValueError: Age must be within [18, 99] \n",
    "except AssertionError as e:\n",
    "    print(e)    "
   ]
  },
  {
   "cell_type": "markdown",
   "metadata": {},
   "source": [
    "Returning to the car example"
   ]
  },
  {
   "cell_type": "code",
   "execution_count": null,
   "metadata": {
    "ExecuteTime": {
     "end_time": "2022-03-07T18:08:56.075135Z",
     "start_time": "2022-03-07T18:08:56.070810Z"
    }
   },
   "outputs": [],
   "source": [
    "class Car:\n",
    "\n",
    "    def __init__(self, color, brand):\n",
    "        self.color = color  # calls the property \n",
    "        self.brand = brand # chama a propriedade (valida dados).E guarda o valor em self.__marca\n",
    "    \n",
    "    @property\n",
    "    def color(self):\n",
    "        return self.__color\n",
    "\n",
    "    @color.setter\n",
    "    def color(self, color):\n",
    "        print('debug: setting a color')\n",
    "        if color.lower() in ['red', 'white', 'yellow']:\n",
    "            self.__color = color\n",
    "        else:\n",
    "            raise BaseException('invalid color')\n",
    "            \n",
    "    @color.deleter\n",
    "    def color(self):\n",
    "        print('debug: setting color to none')\n",
    "        self.__color = None\n",
    "    \n",
    "    @property\n",
    "    def brand(self):\n",
    "        return self.__brand\n",
    "    \n",
    "    @brand.setter\n",
    "    def brand(self, brand):\n",
    "        print('debug: setting brand')\n",
    "        if brand.lower() in ['audi', 'fiat', 'seat', 'ferrari']:\n",
    "            self.__brand = brand\n",
    "        else:\n",
    "            raise"
   ]
  },
  {
   "cell_type": "code",
   "execution_count": null,
   "metadata": {
    "ExecuteTime": {
     "end_time": "2022-03-07T18:08:56.642128Z",
     "start_time": "2022-03-07T18:08:56.638283Z"
    }
   },
   "outputs": [],
   "source": [
    "c = Car('red', 'fiat')"
   ]
  },
  {
   "cell_type": "code",
   "execution_count": null,
   "metadata": {
    "ExecuteTime": {
     "end_time": "2022-03-07T18:08:57.576837Z",
     "start_time": "2022-03-07T18:08:57.573573Z"
    }
   },
   "outputs": [],
   "source": [
    "c.color='white'"
   ]
  },
  {
   "cell_type": "code",
   "execution_count": null,
   "metadata": {
    "ExecuteTime": {
     "end_time": "2022-03-07T18:09:00.624667Z",
     "start_time": "2022-03-07T18:09:00.621438Z"
    }
   },
   "outputs": [],
   "source": [
    "try:\n",
    "    c.color = 'azul'\n",
    "except:\n",
    "    print(\"you are smart!\")"
   ]
  },
  {
   "cell_type": "markdown",
   "metadata": {
    "ExecuteTime": {
     "end_time": "2020-02-20T15:35:47.183464Z",
     "start_time": "2020-02-20T15:35:47.177470Z"
    }
   },
   "source": [
    "### Operator overloading (optional)\n",
    "To overload an operator means to give it a meaning according to the context in which it is used. For example, the `+` operator means addition when we deal with numbers, but concatenation when we deal with sequences."
   ]
  },
  {
   "cell_type": "code",
   "execution_count": null,
   "metadata": {
    "ExecuteTime": {
     "end_time": "2022-03-07T18:09:43.281754Z",
     "start_time": "2022-03-07T18:09:43.277849Z"
    }
   },
   "outputs": [],
   "source": [
    "class OverloadingExamples:\n",
    "    def __init__(self, s):\n",
    "        self._s = s\n",
    "\n",
    "    def __len__(self):\n",
    "        return len(self._s.replace(' ', '')) # strip all spaces\n",
    "\n",
    "    def __bool__(self):\n",
    "        return 'year' in self._s\n",
    "    \n",
    "    def __add__(self, other):\n",
    "        return OverloadingExamples(self._s + other._s) \n",
    "\n",
    "    def __repr__(self):\n",
    "        return \"--\" + self._s + \"--\"\n",
    "    \n",
    "    def __str__(self):\n",
    "        return \"++\" + self._s + \"++\"\n",
    "    \n",
    "    def __eq__(self, other):\n",
    "        return self._s == other._s"
   ]
  },
  {
   "cell_type": "markdown",
   "metadata": {},
   "source": [
    "The following will call `__repr__`"
   ]
  },
  {
   "cell_type": "code",
   "execution_count": null,
   "metadata": {
    "ExecuteTime": {
     "end_time": "2022-03-07T18:11:00.912903Z",
     "start_time": "2022-03-07T18:11:00.909867Z"
    }
   },
   "outputs": [],
   "source": [
    "obj = OverloadingExamples('Hello! My dog is called Olivia and she is 3 months old!')\n",
    "obj  # this will ask for the object's representation (__repr__)"
   ]
  },
  {
   "cell_type": "markdown",
   "metadata": {
    "ExecuteTime": {
     "end_time": "2022-03-07T18:09:56.621585Z",
     "start_time": "2022-03-07T18:09:56.618586Z"
    }
   },
   "source": [
    "The following will call `__str__` (it ask for a string representation of `obj`)"
   ]
  },
  {
   "cell_type": "code",
   "execution_count": null,
   "metadata": {
    "ExecuteTime": {
     "end_time": "2022-03-07T18:11:08.764140Z",
     "start_time": "2022-03-07T18:11:08.761818Z"
    }
   },
   "outputs": [],
   "source": [
    "print(obj)"
   ]
  },
  {
   "cell_type": "code",
   "execution_count": null,
   "metadata": {
    "ExecuteTime": {
     "end_time": "2022-03-07T18:11:09.067316Z",
     "start_time": "2022-03-07T18:11:09.063725Z"
    }
   },
   "outputs": [],
   "source": [
    "str(obj)"
   ]
  },
  {
   "cell_type": "code",
   "execution_count": null,
   "metadata": {
    "ExecuteTime": {
     "end_time": "2022-03-07T18:11:09.484690Z",
     "start_time": "2022-03-07T18:11:09.480496Z"
    }
   },
   "outputs": [],
   "source": [
    "obj.__len__()"
   ]
  },
  {
   "cell_type": "markdown",
   "metadata": {},
   "source": [
    "The following will call `__len__`"
   ]
  },
  {
   "cell_type": "code",
   "execution_count": null,
   "metadata": {
    "ExecuteTime": {
     "end_time": "2022-03-07T18:11:12.430720Z",
     "start_time": "2022-03-07T18:11:12.427540Z"
    }
   },
   "outputs": [],
   "source": [
    "len(obj)"
   ]
  },
  {
   "cell_type": "markdown",
   "metadata": {},
   "source": [
    "The following will call `__bool__`"
   ]
  },
  {
   "cell_type": "code",
   "execution_count": null,
   "metadata": {
    "ExecuteTime": {
     "end_time": "2022-03-07T18:11:35.077570Z",
     "start_time": "2022-03-07T18:11:35.074185Z"
    }
   },
   "outputs": [],
   "source": [
    "bool(obj)"
   ]
  },
  {
   "cell_type": "code",
   "execution_count": null,
   "metadata": {
    "ExecuteTime": {
     "end_time": "2022-03-07T18:11:35.613282Z",
     "start_time": "2022-03-07T18:11:35.609776Z"
    }
   },
   "outputs": [],
   "source": [
    "obj2 = OverloadingExamples('Hello! I am 42 years old!')\n",
    "len(obj2)"
   ]
  },
  {
   "cell_type": "code",
   "execution_count": null,
   "metadata": {
    "ExecuteTime": {
     "end_time": "2022-03-07T18:11:39.037273Z",
     "start_time": "2022-03-07T18:11:39.034377Z"
    }
   },
   "outputs": [],
   "source": [
    "bool(obj2)"
   ]
  },
  {
   "cell_type": "markdown",
   "metadata": {},
   "source": [
    "The following comparison (`==`) will call `__eq__`"
   ]
  },
  {
   "cell_type": "code",
   "execution_count": null,
   "metadata": {
    "ExecuteTime": {
     "end_time": "2022-03-07T18:11:55.901983Z",
     "start_time": "2022-03-07T18:11:55.898292Z"
    }
   },
   "outputs": [],
   "source": [
    "obj3 = OverloadingExamples('Hello! I am 42 years old!')\n",
    "obj4 = OverloadingExamples('Hello! I am 43 years old!')\n",
    "\n",
    "obj3 == obj4 # obj3.__eq__(obj4)"
   ]
  },
  {
   "cell_type": "markdown",
   "metadata": {},
   "source": [
    "The sum ('+') will call `__add__`"
   ]
  },
  {
   "cell_type": "code",
   "execution_count": null,
   "metadata": {
    "ExecuteTime": {
     "end_time": "2022-03-07T18:11:57.075987Z",
     "start_time": "2022-03-07T18:11:57.072216Z"
    }
   },
   "outputs": [],
   "source": [
    "obj = obj3 + obj4  \n",
    "# obj3.__add__(obj4)\n",
    "obj"
   ]
  },
  {
   "cell_type": "markdown",
   "metadata": {},
   "source": [
    "# Exercises\n",
    "\n",
    "[Go here...](exercises/09-exercises.ipynb)"
   ]
  }
 ],
 "metadata": {
  "kernelspec": {
   "display_name": "Python 3 (ipykernel)",
   "language": "python",
   "name": "python3"
  },
  "language_info": {
   "codemirror_mode": {
    "name": "ipython",
    "version": 3
   },
   "file_extension": ".py",
   "mimetype": "text/x-python",
   "name": "python",
   "nbconvert_exporter": "python",
   "pygments_lexer": "ipython3",
   "version": "3.10.6"
  },
  "latex_envs": {
   "LaTeX_envs_menu_present": true,
   "autoclose": true,
   "autocomplete": true,
   "bibliofile": "references.bib",
   "cite_by": "apalike",
   "current_citInitial": 1,
   "eqLabelWithNumbers": false,
   "eqNumInitial": 1,
   "hotkeys": {
    "equation": "Ctrl-E",
    "itemize": "Ctrl-I"
   },
   "labels_anchors": false,
   "latex_user_defs": false,
   "report_style_numbering": true,
   "user_envs_cfg": false
  },
  "nbTranslate": {
   "displayLangs": [
    "*"
   ],
   "hotkey": "alt-t",
   "langInMainMenu": true,
   "sourceLang": "en",
   "targetLang": "fr",
   "useGoogleTranslate": true
  },
  "toc": {
   "base_numbering": 1,
   "nav_menu": {
    "height": "574px",
    "width": "621px"
   },
   "number_sections": true,
   "sideBar": true,
   "skip_h1_title": false,
   "title_cell": "Table of Contents",
   "title_sidebar": "Contents",
   "toc_cell": false,
   "toc_position": {},
   "toc_section_display": "block",
   "toc_window_display": false
  },
  "varInspector": {
   "cols": {
    "lenName": 16,
    "lenType": 16,
    "lenVar": 40
   },
   "kernels_config": {
    "python": {
     "delete_cmd_postfix": "",
     "delete_cmd_prefix": "del ",
     "library": "var_list.py",
     "varRefreshCmd": "print(var_dic_list())"
    },
    "r": {
     "delete_cmd_postfix": ") ",
     "delete_cmd_prefix": "rm(",
     "library": "var_list.r",
     "varRefreshCmd": "cat(var_dic_list()) "
    }
   },
   "types_to_exclude": [
    "module",
    "function",
    "builtin_function_or_method",
    "instance",
    "_Feature"
   ],
   "window_display": false
  }
 },
 "nbformat": 4,
 "nbformat_minor": 2
}
