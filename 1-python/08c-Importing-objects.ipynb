{
 "cells": [
  {
   "cell_type": "markdown",
   "metadata": {},
   "source": [
    "# Importing objects\n",
    "\n",
    "- There are many different ways to import objects into a namespace, but the most common ones are just two: `import module_name` and `from module_name import function_name`.\n",
    "\n",
    "- The form `import module_name` finds the module `module_name` and defines a name for it in the local namespace where the import statement is executed.\n",
    "\n",
    "- The form `from module_name import identifier` finds `module_name` and searches for an attribute (or a submodule) and stores a reference to identifier in the local namespace.\n",
    "        \n",
    "- Both forms have the option to change the name of the imported object using the `as` clause, like: `from mymodule import myfunc as better_named_func`\n",
    "        \n",
    "- When you have a structure  of files starting in the root of your project, you can use the dot notation to get to the object you want to import into your current namespace, be it a package, a module, a class, a function, or anything else. \n",
    " \n",
    " Examples"
   ]
  },
  {
   "cell_type": "code",
   "execution_count": null,
   "metadata": {
    "ExecuteTime": {
     "end_time": "2022-02-18T15:50:12.041028Z",
     "start_time": "2022-02-18T15:50:12.031486Z"
    }
   },
   "outputs": [],
   "source": [
    "import math\n",
    "math.cos(0)"
   ]
  },
  {
   "cell_type": "code",
   "execution_count": null,
   "metadata": {
    "ExecuteTime": {
     "end_time": "2022-02-18T15:51:11.238352Z",
     "start_time": "2022-02-18T15:51:11.234722Z"
    }
   },
   "outputs": [],
   "source": [
    "import numpy as np\n",
    "np.zeros((4,5))"
   ]
  },
  {
   "cell_type": "code",
   "execution_count": null,
   "metadata": {
    "ExecuteTime": {
     "end_time": "2022-02-18T15:51:40.570082Z",
     "start_time": "2022-02-18T15:51:40.566604Z"
    }
   },
   "outputs": [],
   "source": [
    "from sys import path\n",
    "path"
   ]
  },
  {
   "cell_type": "code",
   "execution_count": null,
   "metadata": {
    "ExecuteTime": {
     "end_time": "2022-02-18T15:54:11.518386Z",
     "start_time": "2022-02-18T15:54:11.515275Z"
    }
   },
   "outputs": [],
   "source": [
    "from os import listdir as ls\n",
    "ls()"
   ]
  },
  {
   "cell_type": "markdown",
   "metadata": {},
   "source": [
    "- For some time, in order to tell Python that a folder is a package, we need to put a `__init__.py` module in it.\n",
    "- `__init__.py` can have code in it as you would with any other module. \n",
    "- As of Python 3.3, its presence is no longer required to make a folder be interpreted as a Python package"
   ]
  },
  {
   "cell_type": "markdown",
   "metadata": {
    "ExecuteTime": {
     "end_time": "2022-02-18T15:56:53.441331Z",
     "start_time": "2022-02-18T15:56:53.327383Z"
    }
   },
   "source": [
    "Consider the following structure\n",
    "![images/import.png](images/import.png)\n",
    "\n",
    "where you can see the contents of the files here\n",
    "- [lib/__init__.py](lib/__init__.py)\n",
    "- [lib/funcdef.py](lib/funcdef.py)\n",
    "\n",
    "then, for instance, it is possible to do the following."
   ]
  },
  {
   "cell_type": "code",
   "execution_count": null,
   "metadata": {
    "ExecuteTime": {
     "end_time": "2022-02-18T16:03:17.775846Z",
     "start_time": "2022-02-18T16:03:17.772335Z"
    }
   },
   "outputs": [],
   "source": [
    "from lib.funcdef import square\n",
    "square(2)"
   ]
  },
  {
   "cell_type": "markdown",
   "metadata": {},
   "source": [
    "Or"
   ]
  },
  {
   "cell_type": "code",
   "execution_count": null,
   "metadata": {
    "ExecuteTime": {
     "end_time": "2022-02-18T16:03:39.100157Z",
     "start_time": "2022-02-18T16:03:39.097041Z"
    }
   },
   "outputs": [],
   "source": [
    "import lib\n",
    "lib.funcdef.cube(2)"
   ]
  },
  {
   "cell_type": "markdown",
   "metadata": {},
   "source": [
    "See https://docs.python.org/3/tutorial/modules.html for the full documentation"
   ]
  },
  {
   "cell_type": "code",
   "execution_count": null,
   "metadata": {},
   "outputs": [],
   "source": []
  }
 ],
 "metadata": {
  "kernelspec": {
   "display_name": "Python 3 (ipykernel)",
   "language": "python",
   "name": "python3"
  },
  "language_info": {
   "codemirror_mode": {
    "name": "ipython",
    "version": 3
   },
   "file_extension": ".py",
   "mimetype": "text/x-python",
   "name": "python",
   "nbconvert_exporter": "python",
   "pygments_lexer": "ipython3",
   "version": "3.9.13"
  },
  "latex_envs": {
   "LaTeX_envs_menu_present": true,
   "autoclose": true,
   "autocomplete": true,
   "bibliofile": "references.bib",
   "cite_by": "apalike",
   "current_citInitial": 1,
   "eqLabelWithNumbers": false,
   "eqNumInitial": 1,
   "hotkeys": {
    "equation": "Ctrl-E",
    "itemize": "Ctrl-I"
   },
   "labels_anchors": false,
   "latex_user_defs": false,
   "report_style_numbering": true,
   "user_envs_cfg": false
  },
  "nbTranslate": {
   "displayLangs": [
    "*"
   ],
   "hotkey": "alt-t",
   "langInMainMenu": true,
   "sourceLang": "en",
   "targetLang": "fr",
   "useGoogleTranslate": true
  },
  "toc": {
   "base_numbering": 1,
   "nav_menu": {
    "height": "266px",
    "width": "297px"
   },
   "number_sections": true,
   "sideBar": true,
   "skip_h1_title": false,
   "title_cell": "Table of Contents",
   "title_sidebar": "Contents",
   "toc_cell": false,
   "toc_position": {},
   "toc_section_display": "block",
   "toc_window_display": false
  },
  "varInspector": {
   "cols": {
    "lenName": 16,
    "lenType": 16,
    "lenVar": 40
   },
   "kernels_config": {
    "python": {
     "delete_cmd_postfix": "",
     "delete_cmd_prefix": "del ",
     "library": "var_list.py",
     "varRefreshCmd": "print(var_dic_list())"
    },
    "r": {
     "delete_cmd_postfix": ") ",
     "delete_cmd_prefix": "rm(",
     "library": "var_list.r",
     "varRefreshCmd": "cat(var_dic_list()) "
    }
   },
   "types_to_exclude": [
    "module",
    "function",
    "builtin_function_or_method",
    "instance",
    "_Feature"
   ],
   "window_display": false
  }
 },
 "nbformat": 4,
 "nbformat_minor": 2
}
