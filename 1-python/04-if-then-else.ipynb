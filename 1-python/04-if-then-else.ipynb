{
 "cells": [
  {
   "cell_type": "markdown",
   "source": [
    "___\n",
    "<h1> Machine Learning </h1>\n",
    "<h2> M. Sc. in Electrical and Computer Engineering </h2>\n",
    "<h3> Instituto Superior de Engenharia / Universidade do Algarve </h3>\n",
    "\n",
    "[LESTI](https://ise.ualg.pt/curso/1941) / [ISE](https://ise.ualg.pt) / [UAlg](https://www.ualg.pt)\n",
    "\n",
    "Pedro J. S. Cardoso (pcardoso@ualg.pt)\n",
    "\n",
    "___"
   ],
   "metadata": {
    "collapsed": false
   }
  },
  {
   "cell_type": "markdown",
   "metadata": {},
   "source": [
    "# If ... then ... else/elif ... else ...\n",
    "The `if` statement, comes in different \"forms and colors\", but basically what it does is evaluate an expression and, based on the result, choose which part of the code to execute. "
   ]
  },
  {
   "cell_type": "code",
   "execution_count": null,
   "metadata": {
    "ExecuteTime": {
     "end_time": "2022-02-17T21:49:42.056591Z",
     "start_time": "2022-02-17T21:49:42.053449Z"
    }
   },
   "outputs": [],
   "source": [
    "late = True\n",
    "if late:\n",
    "    print('I need to call my manager!')"
   ]
  },
  {
   "cell_type": "code",
   "execution_count": null,
   "metadata": {
    "ExecuteTime": {
     "end_time": "2022-02-17T21:49:42.067260Z",
     "start_time": "2022-02-17T21:49:42.058496Z"
    }
   },
   "outputs": [],
   "source": [
    "late = False\n",
    "if late:\n",
    "    print('I need to call my manager!')\n",
    "else:\n",
    "    print('No need to call my manager...')"
   ]
  },
  {
   "cell_type": "markdown",
   "metadata": {},
   "source": [
    "Several \"`if`'s\" can ve chained with a final default (`else`) value"
   ]
  },
  {
   "cell_type": "code",
   "execution_count": null,
   "metadata": {
    "ExecuteTime": {
     "end_time": "2022-02-17T21:49:42.123360Z",
     "start_time": "2022-02-17T21:49:42.119233Z"
    }
   },
   "outputs": [],
   "source": [
    "income = 15000\n",
    "\n",
    "if income < 10000:\n",
    "    tax_coefficient = 0.0 \n",
    "elif income < 30000:\n",
    "    tax_coefficient = 0.2 \n",
    "elif income < 100000:\n",
    "    tax_coefficient = 0.35 \n",
    "else:\n",
    "    tax_coefficient = 0.45 \n",
    "\n",
    "print('I will pay:', income * tax_coefficient, 'in taxes')\n"
   ]
  },
  {
   "cell_type": "markdown",
   "metadata": {},
   "source": [
    "Another alternative the use a _ternary operator_"
   ]
  },
  {
   "cell_type": "code",
   "execution_count": null,
   "metadata": {
    "ExecuteTime": {
     "end_time": "2022-02-17T21:49:42.184740Z",
     "start_time": "2022-02-17T21:49:42.181305Z"
    }
   },
   "outputs": [],
   "source": [
    "# the 'old way' \n",
    "order_total = 247 \n",
    "\n",
    "if order_total > 100:\n",
    "    discount = 25 \n",
    "else:\n",
    "    discount = 0 \n",
    "print(order_total, discount)\n",
    "\n",
    "# ternary operator\n",
    "discount = 25 if order_total > 100 else 0\n",
    "print(order_total, discount)"
   ]
  },
  {
   "cell_type": "markdown",
   "metadata": {},
   "source": [
    "## Exercises\n",
    "\n",
    "[Go here...](exercises/04-exercises.ipynb)"
   ]
  },
  {
   "cell_type": "code",
   "execution_count": null,
   "metadata": {},
   "outputs": [],
   "source": []
  }
 ],
 "metadata": {
  "kernelspec": {
   "display_name": "Python 3 (ipykernel)",
   "language": "python",
   "name": "python3"
  },
  "language_info": {
   "codemirror_mode": {
    "name": "ipython",
    "version": 3
   },
   "file_extension": ".py",
   "mimetype": "text/x-python",
   "name": "python",
   "nbconvert_exporter": "python",
   "pygments_lexer": "ipython3",
   "version": "3.9.12"
  },
  "latex_envs": {
   "LaTeX_envs_menu_present": true,
   "autoclose": false,
   "autocomplete": true,
   "bibliofile": "biblio.bib",
   "cite_by": "apalike",
   "current_citInitial": 1,
   "eqLabelWithNumbers": true,
   "eqNumInitial": 1,
   "hotkeys": {
    "equation": "Ctrl-E",
    "itemize": "Ctrl-I"
   },
   "labels_anchors": false,
   "latex_user_defs": false,
   "report_style_numbering": true,
   "user_envs_cfg": true
  },
  "nbTranslate": {
   "displayLangs": [
    "*"
   ],
   "hotkey": "alt-t",
   "langInMainMenu": true,
   "sourceLang": "en",
   "targetLang": "fr",
   "useGoogleTranslate": true
  },
  "toc": {
   "base_numbering": 1,
   "nav_menu": {},
   "number_sections": true,
   "sideBar": true,
   "skip_h1_title": false,
   "title_cell": "Table of Contents",
   "title_sidebar": "Contents",
   "toc_cell": false,
   "toc_position": {},
   "toc_section_display": "block",
   "toc_window_display": false
  },
  "varInspector": {
   "cols": {
    "lenName": 16,
    "lenType": 16,
    "lenVar": 40
   },
   "kernels_config": {
    "python": {
     "delete_cmd_postfix": "",
     "delete_cmd_prefix": "del ",
     "library": "var_list.py",
     "varRefreshCmd": "print(var_dic_list())"
    },
    "r": {
     "delete_cmd_postfix": ") ",
     "delete_cmd_prefix": "rm(",
     "library": "var_list.r",
     "varRefreshCmd": "cat(var_dic_list()) "
    }
   },
   "types_to_exclude": [
    "module",
    "function",
    "builtin_function_or_method",
    "instance",
    "_Feature"
   ],
   "window_display": false
  }
 },
 "nbformat": 4,
 "nbformat_minor": 2
}
