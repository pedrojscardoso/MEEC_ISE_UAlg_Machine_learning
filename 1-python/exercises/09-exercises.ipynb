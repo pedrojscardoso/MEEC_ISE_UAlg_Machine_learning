{
 "cells": [
  {
   "cell_type": "markdown",
   "metadata": {
    "solution2": "hidden",
    "solution2_first": true
   },
   "source": [
    "Implement a program in python, supported on classes, to operate over the database structure presented in the figure \n",
    "\n",
    "![Inheritance](sensor.png)\n",
    "\n",
    "Store the objects on a list or dictionary or other adequate structure. Use `pickle`package to sabe your data to a restore it from a file.\n",
    "\n",
    "The program should implement CRUD operations having, e.g., methods to: \n",
    "\n",
    "1. insert a new location, unit, sensor, reading and alert.\n",
    "1. update the name and description of a location.\n",
    "1. update a sensor's location.\n",
    "1. find sensors at a given location.\n",
    "1. find the id of a location by name.\n",
    "1. find a sensor by name.\n",
    "1. find a sensor by location and name.\n",
    "1. find all sensors returning values from a unit value (e.g., $^o$C or $^o$F).\n",
    "1. find active alerts.\n",
    "1. find all readings from a sensor. \n",
    "1. find readings from a sensor between 2 values.\n",
    "1. find readings from a sensor greater/lower than a value.\n",
    "1. find readings from a sensor for a certain date.\n",
    "1. find readings from a set of sensors for a certain date.\n",
    "     \n",
    "\n",
    "If you want use an editor and make a menu li\n",
    "     \n",
    "```\n",
    "11 - new sensor            21 - new unit    ...\n",
    "12 - list sensors          22 - list units  ...\n",
    "13 - delete sensor         23 - delete unit ...\n",
    "\n",
    "```"
   ]
  },
  {
   "cell_type": "code",
   "execution_count": null,
   "metadata": {
    "solution2": "hidden"
   },
   "outputs": [],
   "source": [
    "class Location:\n",
    "    location_counter = 0\n",
    "    \n",
    "    def __init__(self, nome, description):\n",
    "        Location.location_counter += 1\n",
    "        self.id = Location.location_counter\n",
    "        self.nome = nome\n",
    "        self.description = description\n",
    "    \n",
    "    @property\n",
    "    def nome(self):\n",
    "        return self.__nome\n",
    "    \n",
    "    @nome.setter\n",
    "    def nome(self, nome):\n",
    "        self.__nome = nome.upper()\n",
    "    \n",
    "    def __repr__(self):\n",
    "        return f\"id = {self.id} ({self.nome} - {self.description})\"\n",
    "    \n",
    "    \n",
    "loc1 = Location(\"quarto 1\", \"lote 12\")\n",
    "loc1"
   ]
  },
  {
   "cell_type": "code",
   "execution_count": null,
   "metadata": {
    "solution2": "hidden"
   },
   "outputs": [],
   "source": [
    "def main():\n",
    "    lista_localizacoes = []\n",
    "    \n",
    "    while True:\n",
    "        print(\"Localizacoes (1-nova, 2 lista)\")\n",
    "        print(\"x - sai\")\n",
    "\n",
    "        op = input(\"op? \").lower()\n",
    "\n",
    "        if op == \"x\":\n",
    "            break\n",
    "        elif op == \"1\":\n",
    "            nome = input(\"nome? \")\n",
    "            descricao = input(\"descricao? \")\n",
    "            lista_localizacoes.append(Location(nome, descricao))\n",
    "        elif op == \"2\":\n",
    "            print(lista_localizacoes)\n",
    "            \n",
    "main()\n",
    "        "
   ]
  }
 ],
 "metadata": {
  "kernelspec": {
   "display_name": "Python 3 (ipykernel)",
   "language": "python",
   "name": "python3"
  },
  "language_info": {
   "codemirror_mode": {
    "name": "ipython",
    "version": 3
   },
   "file_extension": ".py",
   "mimetype": "text/x-python",
   "name": "python",
   "nbconvert_exporter": "python",
   "pygments_lexer": "ipython3",
   "version": "3.10.6"
  },
  "nbTranslate": {
   "displayLangs": [
    "*"
   ],
   "hotkey": "alt-t",
   "langInMainMenu": true,
   "sourceLang": "en",
   "targetLang": "fr",
   "useGoogleTranslate": true
  },
  "toc": {
   "base_numbering": 1,
   "nav_menu": {},
   "number_sections": true,
   "sideBar": true,
   "skip_h1_title": false,
   "title_cell": "Table of Contents",
   "title_sidebar": "Contents",
   "toc_cell": false,
   "toc_position": {},
   "toc_section_display": true,
   "toc_window_display": false
  },
  "varInspector": {
   "cols": {
    "lenName": 16,
    "lenType": 16,
    "lenVar": 40
   },
   "kernels_config": {
    "python": {
     "delete_cmd_postfix": "",
     "delete_cmd_prefix": "del ",
     "library": "var_list.py",
     "varRefreshCmd": "print(var_dic_list())"
    },
    "r": {
     "delete_cmd_postfix": ") ",
     "delete_cmd_prefix": "rm(",
     "library": "var_list.r",
     "varRefreshCmd": "cat(var_dic_list()) "
    }
   },
   "types_to_exclude": [
    "module",
    "function",
    "builtin_function_or_method",
    "instance",
    "_Feature"
   ],
   "window_display": false
  }
 },
 "nbformat": 4,
 "nbformat_minor": 4
}
