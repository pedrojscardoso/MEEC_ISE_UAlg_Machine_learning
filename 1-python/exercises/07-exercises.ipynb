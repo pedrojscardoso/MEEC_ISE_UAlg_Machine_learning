{
 "cells": [
  {
   "cell_type": "markdown",
   "metadata": {},
   "source": [
    "# \n",
    "\n",
    "By keeping and only testing the division with known prime numbers, optimize the code below to compute the 𝑛 first prime numbers\n",
    "\n",
    "Remeber: A prime number (or a prime) is a natural number greater than 1 that has no positive divisors other than 1 and itself. A natural number greater than 1 that is not a prime number is called a composite number."
   ]
  },
  {
   "cell_type": "code",
   "execution_count": null,
   "metadata": {},
   "outputs": [],
   "source": [
    "n = 1000\n",
    "p = 2\n",
    "\n",
    "for i in range(n):\n",
    "    print(f\"\\ncomputing {i+1}-th prime...\")\n",
    "    prime = False \n",
    "    while not prime:\n",
    "        print(f\"-- check if {p} is prime:\")\n",
    "        for k in range(2, p//2 + 1):\n",
    "            if p % k == 0:\n",
    "                print(f\" no! Divides by {k}\")\n",
    "                break\n",
    "        else:\n",
    "            print(\" yep!!!\")\n",
    "            prime = True\n",
    "        p += 1"
   ]
  },
  {
   "cell_type": "markdown",
   "metadata": {},
   "source": [
    "# \n",
    "1. Create a program that gets the marks the user has for their classes this year and tells them how many classes they are failing."
   ]
  },
  {
   "cell_type": "code",
   "execution_count": null,
   "metadata": {},
   "outputs": [],
   "source": []
  },
  {
   "cell_type": "markdown",
   "metadata": {},
   "source": [
    "1. The inventor presented the game to a king making him quite pleased.  The king asked what the inventor wanted as payment and he asked for a grain of cereal for the first square and to have each of the next 63 squares double the previous square.  As the story goes the king agrees... but was not to pleased by the final payment.  Create a program that computes how much grain the king had to pay.  Express your answer in kg, assume there are each grains weights 50mg.\t"
   ]
  },
  {
   "cell_type": "code",
   "execution_count": null,
   "metadata": {},
   "outputs": [],
   "source": []
  },
  {
   "cell_type": "markdown",
   "metadata": {},
   "source": [
    "1. Write a program to be used by student council in this upcoming election to tabulate the votes after the election. Your program will ask the number of candidates and their names. Then, the user will enter all of the ballets (1 for the first candidate, 2 for the second candidate, ...) until (s)he enter 0\n",
    "The program will tell who won the election and what percentage each candidate earned.\n",
    "\n",
    "    ```Graham Chapman\n",
    "    John Cleese\n",
    "    Terry Gilliam\n",
    "    Enter Vote (0 to exit) : 2\n",
    "    Enter Vote (0 to exit) : 2\n",
    "    Enter Vote (0 to exit) : 2\n",
    "    Enter Vote (0 to exit) : 1\n",
    "    John Cleese won\n",
    "    John Cleese earned 75\\% of the votes\n",
    "    Graham Chapman earned 25\\% of the votes\n",
    "    Terry Gilliam earned 0\\% of the votes```"
   ]
  },
  {
   "cell_type": "code",
   "execution_count": null,
   "metadata": {},
   "outputs": [],
   "source": []
  },
  {
   "cell_type": "markdown",
   "metadata": {},
   "source": [
    "Palindromes are words that are the same forwards and backwards.  Create a program that gets a word from the user and tells them if it is palindrome or not.  Your program should not care about capitalization."
   ]
  }
 ],
 "metadata": {
  "kernelspec": {
   "display_name": "Python 3",
   "language": "python",
   "name": "python3"
  },
  "language_info": {
   "codemirror_mode": {
    "name": "ipython",
    "version": 3
   },
   "file_extension": ".py",
   "mimetype": "text/x-python",
   "name": "python",
   "nbconvert_exporter": "python",
   "pygments_lexer": "ipython3",
   "version": "3.9.7"
  },
  "nbTranslate": {
   "displayLangs": [
    "*"
   ],
   "hotkey": "alt-t",
   "langInMainMenu": true,
   "sourceLang": "en",
   "targetLang": "fr",
   "useGoogleTranslate": true
  },
  "toc": {
   "base_numbering": 1,
   "nav_menu": {},
   "number_sections": true,
   "sideBar": true,
   "skip_h1_title": false,
   "title_cell": "Table of Contents",
   "title_sidebar": "Contents",
   "toc_cell": false,
   "toc_position": {},
   "toc_section_display": true,
   "toc_window_display": false
  },
  "varInspector": {
   "cols": {
    "lenName": 16,
    "lenType": 16,
    "lenVar": 40
   },
   "kernels_config": {
    "python": {
     "delete_cmd_postfix": "",
     "delete_cmd_prefix": "del ",
     "library": "var_list.py",
     "varRefreshCmd": "print(var_dic_list())"
    },
    "r": {
     "delete_cmd_postfix": ") ",
     "delete_cmd_prefix": "rm(",
     "library": "var_list.r",
     "varRefreshCmd": "cat(var_dic_list()) "
    }
   },
   "types_to_exclude": [
    "module",
    "function",
    "builtin_function_or_method",
    "instance",
    "_Feature"
   ],
   "window_display": false
  }
 },
 "nbformat": 4,
 "nbformat_minor": 4
}
