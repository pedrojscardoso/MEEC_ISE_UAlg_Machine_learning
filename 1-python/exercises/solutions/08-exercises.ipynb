{
 "cells": [
  {
   "cell_type": "markdown",
   "metadata": {
    "solution2": "hidden",
    "solution2_first": true
   },
   "source": [
    "# Exercices \n",
    "\n",
    "Create a function called hypotenuse that calculates the hypotenuse of a right-angle triangle given the other sides. By default the second side is 1"
   ]
  },
  {
   "cell_type": "code",
   "execution_count": 1,
   "metadata": {
    "solution2": "hidden",
    "ExecuteTime": {
     "end_time": "2023-10-04T10:01:09.359396Z",
     "start_time": "2023-10-04T10:01:09.355365Z"
    }
   },
   "outputs": [
    {
     "data": {
      "text/plain": "1.4142135623730951"
     },
     "execution_count": 1,
     "metadata": {},
     "output_type": "execute_result"
    }
   ],
   "source": [
    "def hipotenusa(c1, c2=1):\n",
    "    return (c1**2 + c2**2)**.5\n",
    "hipotenusa(1)"
   ]
  },
  {
   "cell_type": "markdown",
   "metadata": {},
   "source": [
    "A palindrome is a word that reads the same both forward and backwards. Create a function called palindrome that takes a single word as a parameter and returns True if the word is a palindrome and False otherwise."
   ]
  },
  {
   "cell_type": "code",
   "execution_count": 2,
   "metadata": {
    "ExecuteTime": {
     "end_time": "2023-10-04T10:01:19.419432Z",
     "start_time": "2023-10-04T10:01:09.360445Z"
    }
   },
   "outputs": [
    {
     "name": "stdout",
     "output_type": "stream",
     "text": [
      "It's a palindrome!\n"
     ]
    }
   ],
   "source": [
    "word = input(\"Enter a word: \")\n",
    "if word.lower() == word[::-1].lower():\n",
    "    print(\"It's a palindrome!\")\n",
    "else:\n",
    "    print(\"It's not a palindrome!\")"
   ]
  },
  {
   "cell_type": "markdown",
   "metadata": {},
   "source": [
    "Knights in chess move in an L shape.  They go 2 in one direction then one space at a 90 angle. Create a function called knightMove that takes in the current location (row, col) of a knight on the chess board and returns a list of tuples (row, col) of all possible places the knight can move."
   ]
  },
  {
   "cell_type": "code",
   "execution_count": 3,
   "metadata": {
    "ExecuteTime": {
     "end_time": "2023-10-04T10:01:22.772274Z",
     "start_time": "2023-10-04T10:01:19.384812Z"
    }
   },
   "outputs": [
    {
     "name": "stdout",
     "output_type": "stream",
     "text": [
      "The knight can move to the following spaces: \n",
      "(3, 3)\n",
      "(3, 1)\n",
      "(2, 4)\n",
      "(2, 0)\n",
      "(0, 4)\n",
      "(0, 0)\n"
     ]
    }
   ],
   "source": [
    "x = int(input(\"Enter the x coordinate: \"))\n",
    "y = int(input(\"Enter the y coordinate: \"))\n",
    "\n",
    "moves = [(x+2, y+1), (x+2, y-1), (x-2, y+1), (x-2, y-1), (x+1, y+2), (x+1, y-2), (x-1, y+2), (x-1, y-2)]\n",
    "\n",
    "print(\"The knight can move to the following spaces: \")\n",
    "for move in moves:\n",
    "    if move[0] >= 0 and move[0] <= 7 and move[1] >= 0 and move[1] <= 7:\n",
    "        print(move)"
   ]
  },
  {
   "cell_type": "markdown",
   "metadata": {},
   "source": [
    "Write a Python function to find the minimum and maximum of a list of numbers. E.g., (8, 2, 3, 0, 7) $\\rightarrow$  (0, 8)"
   ]
  },
  {
   "cell_type": "code",
   "execution_count": 4,
   "metadata": {
    "ExecuteTime": {
     "end_time": "2023-10-04T10:01:22.772560Z",
     "start_time": "2023-10-04T10:01:22.768976Z"
    }
   },
   "outputs": [
    {
     "data": {
      "text/plain": "(0, 8)"
     },
     "execution_count": 4,
     "metadata": {},
     "output_type": "execute_result"
    }
   ],
   "source": [
    "def min_max(lst):\n",
    "    return min(lst), max(lst)\n",
    "\n",
    "min_max([8, 2, 3, 0, 7])"
   ]
  },
  {
   "cell_type": "markdown",
   "metadata": {},
   "source": [
    "Write a Python function to sum all the numbers in a list. E.g., (8, 2, 1, 0, -10) $\\rightarrow$  1"
   ]
  },
  {
   "cell_type": "code",
   "execution_count": 5,
   "metadata": {
    "ExecuteTime": {
     "end_time": "2023-10-04T10:01:22.779784Z",
     "start_time": "2023-10-04T10:01:22.775917Z"
    }
   },
   "outputs": [
    {
     "data": {
      "text/plain": "1"
     },
     "execution_count": 5,
     "metadata": {},
     "output_type": "execute_result"
    }
   ],
   "source": [
    "def sum_list(lst):\n",
    "    return sum(lst)\n",
    "\n",
    "sum_list([8, 2, 1, 0, -10])"
   ]
  },
  {
   "cell_type": "markdown",
   "metadata": {},
   "source": [
    "Write a Python function to multiply all the numbers in a list.  E.g., (8, 2, 3, -1)  $\\rightarrow$ -48 "
   ]
  },
  {
   "cell_type": "code",
   "execution_count": 6,
   "metadata": {
    "ExecuteTime": {
     "end_time": "2023-10-04T10:01:22.783219Z",
     "start_time": "2023-10-04T10:01:22.780060Z"
    }
   },
   "outputs": [
    {
     "data": {
      "text/plain": "-48"
     },
     "execution_count": 6,
     "metadata": {},
     "output_type": "execute_result"
    }
   ],
   "source": [
    "def mult_list(lst):\n",
    "    result = 1\n",
    "    for num in lst:\n",
    "        result *= num\n",
    "    return result\n",
    "\n",
    "mult_list([8, 2, 3, -1])"
   ]
  },
  {
   "cell_type": "markdown",
   "metadata": {},
   "source": [
    "Write a Python program to reverse a string.  E.g., \"ADAM\"  $\\rightarrow$ \"MADA\""
   ]
  },
  {
   "cell_type": "code",
   "execution_count": 7,
   "metadata": {
    "ExecuteTime": {
     "end_time": "2023-10-04T10:01:26.911268Z",
     "start_time": "2023-10-04T10:01:22.783643Z"
    }
   },
   "outputs": [
    {
     "name": "stdout",
     "output_type": "stream",
     "text": [
      "otatop\n"
     ]
    }
   ],
   "source": [
    "s = input(\"Enter a string: \")\n",
    "print(s[::-1])"
   ]
  },
  {
   "cell_type": "markdown",
   "metadata": {},
   "source": [
    "Write a function which receives 2 ou 3 number and return the minimum of the values"
   ]
  },
  {
   "cell_type": "code",
   "execution_count": 8,
   "metadata": {
    "ExecuteTime": {
     "end_time": "2023-10-04T10:01:26.911588Z",
     "start_time": "2023-10-04T10:01:26.864579Z"
    }
   },
   "outputs": [
    {
     "data": {
      "text/plain": "1"
     },
     "execution_count": 8,
     "metadata": {},
     "output_type": "execute_result"
    }
   ],
   "source": [
    "def minimum_of_2_or_3(a, b, c=None):\n",
    "    if c is None:\n",
    "        return min(a, b)\n",
    "    else:\n",
    "        return min(a, b, c)\n",
    "\n",
    "minimum_of_2_or_3(1, 2, 3)"
   ]
  },
  {
   "cell_type": "markdown",
   "metadata": {},
   "source": [
    "Using lambda functions, write a script to computed the squares of a list of numbers (see the map function)"
   ]
  },
  {
   "cell_type": "code",
   "execution_count": 9,
   "metadata": {
    "ExecuteTime": {
     "end_time": "2023-10-04T10:01:26.911757Z",
     "start_time": "2023-10-04T10:01:26.868778Z"
    }
   },
   "outputs": [
    {
     "data": {
      "text/plain": "[1, 4, 9, 16, 25]"
     },
     "execution_count": 9,
     "metadata": {},
     "output_type": "execute_result"
    }
   ],
   "source": [
    "l = [1, 2, 3, 4, 5]\n",
    "list(map(lambda x: x**2, l))"
   ]
  },
  {
   "cell_type": "code",
   "execution_count": 10,
   "outputs": [
    {
     "data": {
      "text/plain": "[1, 4, 9, 16, 25]"
     },
     "execution_count": 10,
     "metadata": {},
     "output_type": "execute_result"
    }
   ],
   "source": [
    "[x**2 for x in l]"
   ],
   "metadata": {
    "collapsed": false,
    "ExecuteTime": {
     "end_time": "2023-10-04T10:01:26.911993Z",
     "start_time": "2023-10-04T10:01:26.871942Z"
    }
   }
  },
  {
   "cell_type": "markdown",
   "metadata": {},
   "source": [
    "Write a Python function that takes a list and returns a new list with unique elements of the first list. Consider the order of the returned list\n",
    "1. irrelevant\n",
    "2. relevant (keep the 1st occurrence)"
   ]
  },
  {
   "cell_type": "code",
   "execution_count": 11,
   "metadata": {
    "ExecuteTime": {
     "end_time": "2023-10-04T10:01:26.912124Z",
     "start_time": "2023-10-04T10:01:26.873637Z"
    }
   },
   "outputs": [
    {
     "data": {
      "text/plain": "[1, 2, 3, 4, 5]"
     },
     "execution_count": 11,
     "metadata": {},
     "output_type": "execute_result"
    }
   ],
   "source": [
    "l = [2, 3, 4, 1, 2, 3, 4, 5, 1, 5]\n",
    "list(set(l))"
   ]
  },
  {
   "cell_type": "code",
   "execution_count": 12,
   "outputs": [
    {
     "data": {
      "text/plain": "[2, 3, 4, 1, 5]"
     },
     "execution_count": 12,
     "metadata": {},
     "output_type": "execute_result"
    }
   ],
   "source": [
    "l = [2, 3, 4, 1, 2, 3, 4, 5, 1, 5]\n",
    "new_l = []\n",
    "for num in l:\n",
    "    if num not in new_l:\n",
    "        new_l.append(num)\n",
    "new_l"
   ],
   "metadata": {
    "collapsed": false,
    "ExecuteTime": {
     "end_time": "2023-10-04T10:01:26.912231Z",
     "start_time": "2023-10-04T10:01:26.877029Z"
    }
   }
  },
  {
   "cell_type": "markdown",
   "metadata": {},
   "source": [
    "Write a Python function to check whether a string is a pangram or not.\n",
    "*Note : Pangrams are words or sentences containing every letter of the alphabet at least once. For example : \"The quick brown fox jumps over the lazy dog\"*"
   ]
  },
  {
   "cell_type": "code",
   "execution_count": 13,
   "metadata": {
    "ExecuteTime": {
     "end_time": "2023-10-04T10:01:26.912343Z",
     "start_time": "2023-10-04T10:01:26.881352Z"
    }
   },
   "outputs": [
    {
     "name": "stdout",
     "output_type": "stream",
     "text": [
      "It's a pangram!\n"
     ]
    }
   ],
   "source": [
    "s = \"The quick brown fox jumps over the lazy dog\" # input(\"Enter a string: \")\n",
    "alphabet = \"abcdefghijklmnopqrstuvwxyz\"\n",
    "for letter in alphabet:\n",
    "    if letter not in s.lower():\n",
    "        print(\"It's not a pangram!\")\n",
    "        break\n",
    "else:\n",
    "    print(\"It's a pangram!\")"
   ]
  },
  {
   "cell_type": "code",
   "execution_count": 13,
   "outputs": [],
   "source": [],
   "metadata": {
    "collapsed": false,
    "ExecuteTime": {
     "end_time": "2023-10-04T10:01:26.912423Z",
     "start_time": "2023-10-04T10:01:26.884955Z"
    }
   }
  }
 ],
 "metadata": {
  "kernelspec": {
   "display_name": "Python 3 (ipykernel)",
   "language": "python",
   "name": "python3"
  },
  "language_info": {
   "codemirror_mode": {
    "name": "ipython",
    "version": 3
   },
   "file_extension": ".py",
   "mimetype": "text/x-python",
   "name": "python",
   "nbconvert_exporter": "python",
   "pygments_lexer": "ipython3",
   "version": "3.10.6"
  },
  "nbTranslate": {
   "displayLangs": [
    "*"
   ],
   "hotkey": "alt-t",
   "langInMainMenu": true,
   "sourceLang": "en",
   "targetLang": "fr",
   "useGoogleTranslate": true
  },
  "toc": {
   "base_numbering": 1,
   "nav_menu": {},
   "number_sections": true,
   "sideBar": true,
   "skip_h1_title": false,
   "title_cell": "Table of Contents",
   "title_sidebar": "Contents",
   "toc_cell": false,
   "toc_position": {},
   "toc_section_display": true,
   "toc_window_display": false
  },
  "varInspector": {
   "cols": {
    "lenName": 16,
    "lenType": 16,
    "lenVar": 40
   },
   "kernels_config": {
    "python": {
     "delete_cmd_postfix": "",
     "delete_cmd_prefix": "del ",
     "library": "var_list.py",
     "varRefreshCmd": "print(var_dic_list())"
    },
    "r": {
     "delete_cmd_postfix": ") ",
     "delete_cmd_prefix": "rm(",
     "library": "var_list.r",
     "varRefreshCmd": "cat(var_dic_list()) "
    }
   },
   "types_to_exclude": [
    "module",
    "function",
    "builtin_function_or_method",
    "instance",
    "_Feature"
   ],
   "window_display": false
  }
 },
 "nbformat": 4,
 "nbformat_minor": 4
}
