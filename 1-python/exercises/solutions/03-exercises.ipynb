{
 "cells": [
  {
   "cell_type": "markdown",
   "metadata": {},
   "source": [
    "# Exercises"
   ]
  },
  {
   "cell_type": "markdown",
   "metadata": {},
   "source": [
    "## \n",
    "\n",
    "Given v = [1, 2, 3, 4, . . . , 100], without using loops return:\n",
    "1. the first 10 elements\n",
    "1. the last 10 elements\n",
    "1. values in with index between 10 and 20 (inclusive)\n",
    "1. delete number at index 5\n",
    "1. delete number 20\n",
    "1. print number in reverser order\n",
    "1. concatenate `v` with `w = list(\"Data Handling and Machine Learning\")`\n"
   ]
  },
  {
   "cell_type": "code",
   "execution_count": 1,
   "metadata": {
    "ExecuteTime": {
     "end_time": "2023-10-03T15:33:15.632985Z",
     "start_time": "2023-10-03T15:33:15.572099Z"
    }
   },
   "outputs": [
    {
     "name": "stdout",
     "output_type": "stream",
     "text": [
      "[1, 2, 3, 4, 5, 6, 7, 8, 9, 10]\n",
      "[91, 92, 93, 94, 95, 96, 97, 98, 99, 100]\n",
      "[11, 12, 13, 14, 15, 16, 17, 18, 19, 20, 21]\n",
      "[100, 99, 98, 97, 96, 95, 94, 93, 92, 91, 90, 89, 88, 87, 86, 85, 84, 83, 82, 81, 80, 79, 78, 77, 76, 75, 74, 73, 72, 71, 70, 69, 68, 67, 66, 65, 64, 63, 62, 61, 60, 59, 58, 57, 56, 55, 54, 53, 52, 51, 50, 49, 48, 47, 46, 45, 44, 43, 42, 41, 40, 39, 38, 37, 36, 35, 34, 33, 32, 31, 30, 29, 28, 27, 26, 25, 24, 23, 22, 21, 19, 18, 17, 16, 15, 14, 13, 12, 11, 10, 9, 8, 7, 5, 4, 3, 2, 1]\n",
      "[1, 2, 3, 4, 5, 7, 8, 9, 10, 11, 12, 13, 14, 15, 16, 17, 18, 19, 21, 22, 23, 24, 25, 26, 27, 28, 29, 30, 31, 32, 33, 34, 35, 36, 37, 38, 39, 40, 41, 42, 43, 44, 45, 46, 47, 48, 49, 50, 51, 52, 53, 54, 55, 56, 57, 58, 59, 60, 61, 62, 63, 64, 65, 66, 67, 68, 69, 70, 71, 72, 73, 74, 75, 76, 77, 78, 79, 80, 81, 82, 83, 84, 85, 86, 87, 88, 89, 90, 91, 92, 93, 94, 95, 96, 97, 98, 99, 100, 'D', 'a', 't', 'a', ' ', 'H', 'a', 'n', 'd', 'l', 'i', 'n', 'g', ' ', 'a', 'n', 'd', ' ', 'M', 'a', 'c', 'h', 'i', 'n', 'e', ' ', 'L', 'e', 'a', 'r', 'n', 'i', 'n', 'g']\n"
     ]
    }
   ],
   "source": [
    "v = list(range(1, 101))\n",
    "\n",
    "#1\n",
    "print(v[:10])\n",
    "\n",
    "#2\n",
    "print(v[-10:])\n",
    "\n",
    "#3\n",
    "print(v[10:21])\n",
    "\n",
    "#4\n",
    "del v[5]\n",
    "\n",
    "#5\n",
    "v.remove(20)\n",
    "\n",
    "#6\n",
    "print(v[::-1])\n",
    "\n",
    "#7\n",
    "w = list(\"Data Handling and Machine Learning\")\n",
    "print(v + w)\n"
   ]
  },
  {
   "cell_type": "markdown",
   "metadata": {},
   "source": [
    "Create Python programs to do the following:\n",
    "\n",
    "1.  Make a list of five of your friends and a list of five emotions or action words (e.g. \"loves\", \"hates\", \"misses\", ...). For each friend in the list randomly choose a word and another friend in the list.\n",
    "\n",
    "1. Make a list of ten fruits and another list of the price each fruit.  Use these two lists to create an attractive fruit stand menu.\n",
    "    \n"
   ]
  },
  {
   "cell_type": "code",
   "execution_count": 2,
   "metadata": {
    "ExecuteTime": {
     "end_time": "2023-10-03T15:33:15.633185Z",
     "start_time": "2023-10-03T15:33:15.577409Z"
    }
   },
   "outputs": [
    {
     "name": "stdout",
     "output_type": "stream",
     "text": [
      "John dislikes Mary\n",
      "Maggie loves Paul\n",
      "Peter dislikes John\n",
      "Mary misses Maggie\n",
      "Paul loves Peter\n"
     ]
    }
   ],
   "source": [
    "#1\n",
    "import random\n",
    "friends = [\"John\", \"Maggie\", \"Peter\", \"Mary\", \"Paul\"]\n",
    "actions = [\"loves\", \"hates\", \"misses\", \"likes\", \"dislikes\"]\n",
    "for friend in friends:\n",
    "    print(friend, random.choice(actions), random.choice(friends))"
   ]
  },
  {
   "cell_type": "code",
   "execution_count": 3,
   "outputs": [
    {
     "name": "stdout",
     "output_type": "stream",
     "text": [
      "    Fruit Stand     \n",
      "--------------------\n",
      "    Apple - 1.99    \n",
      "   Banana - 2.99    \n",
      "   Orange - 3.99    \n",
      "    Grape - 4.99    \n",
      "    Mango - 5.99    \n",
      "  Pineapple - 6.99  \n",
      " Watermelon - 7.99  \n",
      " Strawberry - 8.99  \n",
      "    Kiwi - 9.99     \n",
      "    Pear - 10.99    \n",
      "--------------------\n"
     ]
    }
   ],
   "source": [
    "#2\n",
    "fruits = [\"apple\", \"banana\", \"orange\", \"grape\", \"mango\", \"pineapple\", \"watermelon\", \"strawberry\", \"kiwi\", \"pear\"]\n",
    "prices = [1.99, 2.99, 3.99, 4.99, 5.99, 6.99, 7.99, 8.99, 9.99, 10.99]\n",
    "\n",
    "print(\"Fruit Stand\".center(20))\n",
    "print(\"-\"*20)\n",
    "for fruit, price in zip(fruits, prices):\n",
    "    print(f\"{fruit.title()} - {price}\".center(20))\n",
    "print(\"-\"*20)"
   ],
   "metadata": {
    "collapsed": false,
    "ExecuteTime": {
     "end_time": "2023-10-03T15:33:15.666385Z",
     "start_time": "2023-10-03T15:33:15.579734Z"
    }
   }
  },
  {
   "cell_type": "markdown",
   "metadata": {},
   "source": [
    "Below are two lists: convert them into the dictionary in the form `{\"one\": 1, etc}` (see `zip`)  "
   ]
  },
  {
   "cell_type": "code",
   "execution_count": 4,
   "metadata": {
    "ExecuteTime": {
     "end_time": "2023-10-03T15:33:15.671754Z",
     "start_time": "2023-10-03T15:33:15.585170Z"
    }
   },
   "outputs": [
    {
     "data": {
      "text/plain": "{'one': 1, 'two': 2, 'three': 3}"
     },
     "execution_count": 4,
     "metadata": {},
     "output_type": "execute_result"
    }
   ],
   "source": [
    "keys = ['one', 'two', 'three']\n",
    "values = [1, 2, 3]\n",
    "\n",
    "{key: value for key, value in zip(keys, values)}"
   ]
  },
  {
   "cell_type": "markdown",
   "metadata": {},
   "source": [
    "Merge following two Python dictionaries into one (look at `**` and/or update)"
   ]
  },
  {
   "cell_type": "code",
   "execution_count": 5,
   "metadata": {
    "ExecuteTime": {
     "end_time": "2023-10-03T15:33:15.671983Z",
     "start_time": "2023-10-03T15:33:15.590107Z"
    }
   },
   "outputs": [
    {
     "data": {
      "text/plain": "{'Ten': 10, 'Twenty': 20, 'Thirty': 30, 'Fourty': 40, 'Fifty': 50}"
     },
     "execution_count": 5,
     "metadata": {},
     "output_type": "execute_result"
    }
   ],
   "source": [
    "dict1 = {'Ten': 10, 'Twenty': 20, 'Thirty': 30}\n",
    "dict2 = {'Thirty': 30, 'Fourty': 40, 'Fifty': 50}\n",
    "\n",
    "dict1.update(dict2)\n",
    "dict1"
   ]
  },
  {
   "cell_type": "markdown",
   "metadata": {},
   "source": [
    "Access the mark attained by Peter in ‘ML’"
   ]
  },
  {
   "cell_type": "code",
   "execution_count": 6,
   "metadata": {
    "ExecuteTime": {
     "end_time": "2023-10-03T15:33:15.672128Z",
     "start_time": "2023-10-03T15:33:15.593686Z"
    }
   },
   "outputs": [
    {
     "name": "stdout",
     "output_type": "stream",
     "text": [
      "100\n"
     ]
    }
   ],
   "source": [
    "Marks = { \n",
    "   \"class\":{ \n",
    "      \"student\":{ \n",
    "         \"name\":\"Peter\",\n",
    "         \"marks\":{ \n",
    "            \"Math\":99,\n",
    "            \"ML\":100\n",
    "         }\n",
    "      }\n",
    "   }\n",
    "}\n",
    "\n",
    "print(Marks[\"class\"][\"student\"][\"marks\"][\"ML\"])"
   ]
  },
  {
   "cell_type": "markdown",
   "metadata": {},
   "source": [
    "Access the mark attained in ‘ML’ by John"
   ]
  },
  {
   "cell_type": "code",
   "execution_count": 7,
   "metadata": {
    "ExecuteTime": {
     "end_time": "2023-10-03T15:33:15.672221Z",
     "start_time": "2023-10-03T15:33:15.596959Z"
    }
   },
   "outputs": [
    {
     "name": "stdout",
     "output_type": "stream",
     "text": [
      "20\n"
     ]
    }
   ],
   "source": [
    "Marks = [\n",
    "    {\n",
    "        \"name\":\"John\",\n",
    "        \"marks\":{ \n",
    "            \"Math\":17,\n",
    "            \"ML\":20\n",
    "        }\n",
    "    },\n",
    "    {\n",
    "        \"name\":\"Maggie\",\n",
    "        \"marks\":{ \n",
    "            \"Math\":20,\n",
    "            \"ML\":17\n",
    "        }\n",
    "    }\n",
    "]\n",
    "\n",
    "print(Marks[0][\"marks\"][\"ML\"])"
   ]
  },
  {
   "cell_type": "markdown",
   "metadata": {},
   "source": [
    "Consider the following dictionary:\n",
    "```python\n",
    "sampleDict = {'a': 1, 'b': 2, 'c': 3}\n",
    "```\n",
    "\n",
    "1. Check if the value 2 exists in a dictionary\n",
    "1. Check if the key 'a' exists in a dictionary"
   ]
  },
  {
   "cell_type": "code",
   "execution_count": 8,
   "metadata": {
    "ExecuteTime": {
     "end_time": "2023-10-03T15:33:15.672305Z",
     "start_time": "2023-10-03T15:33:15.599873Z"
    }
   },
   "outputs": [
    {
     "data": {
      "text/plain": "True"
     },
     "execution_count": 8,
     "metadata": {},
     "output_type": "execute_result"
    }
   ],
   "source": [
    "sampleDict = {'a': 1, 'b': 2, 'c': 3}\n",
    "\n",
    "#1\n",
    "2 in sampleDict.values()"
   ]
  },
  {
   "cell_type": "code",
   "execution_count": 9,
   "outputs": [
    {
     "data": {
      "text/plain": "True"
     },
     "execution_count": 9,
     "metadata": {},
     "output_type": "execute_result"
    }
   ],
   "source": [
    "#2\n",
    "'a' in sampleDict # or 'a' in sampleDict.keys()"
   ],
   "metadata": {
    "collapsed": false,
    "ExecuteTime": {
     "end_time": "2023-10-03T15:33:15.672391Z",
     "start_time": "2023-10-03T15:33:15.602722Z"
    }
   }
  },
  {
   "cell_type": "markdown",
   "metadata": {},
   "source": [
    "Try to explain the following result"
   ]
  },
  {
   "cell_type": "code",
   "execution_count": 10,
   "metadata": {
    "ExecuteTime": {
     "end_time": "2023-10-03T15:33:15.672476Z",
     "start_time": "2023-10-03T15:33:15.606043Z"
    }
   },
   "outputs": [
    {
     "data": {
      "text/plain": "{'a': {'b': [1]}}"
     },
     "execution_count": 10,
     "metadata": {},
     "output_type": "execute_result"
    }
   ],
   "source": [
    "d = {}        # \n",
    "d.setdefault('a', {}).setdefault('b', []).append(1)\n",
    "d"
   ]
  }
 ],
 "metadata": {
  "kernelspec": {
   "display_name": "Python 3 (ipykernel)",
   "language": "python",
   "name": "python3"
  },
  "language_info": {
   "codemirror_mode": {
    "name": "ipython",
    "version": 3
   },
   "file_extension": ".py",
   "mimetype": "text/x-python",
   "name": "python",
   "nbconvert_exporter": "python",
   "pygments_lexer": "ipython3",
   "version": "3.10.6"
  },
  "nbTranslate": {
   "displayLangs": [
    "*"
   ],
   "hotkey": "alt-t",
   "langInMainMenu": true,
   "sourceLang": "en",
   "targetLang": "fr",
   "useGoogleTranslate": true
  },
  "toc": {
   "base_numbering": 1,
   "nav_menu": {},
   "number_sections": true,
   "sideBar": true,
   "skip_h1_title": false,
   "title_cell": "Table of Contents",
   "title_sidebar": "Contents",
   "toc_cell": false,
   "toc_position": {},
   "toc_section_display": true,
   "toc_window_display": false
  },
  "varInspector": {
   "cols": {
    "lenName": 16,
    "lenType": 16,
    "lenVar": 40
   },
   "kernels_config": {
    "python": {
     "delete_cmd_postfix": "",
     "delete_cmd_prefix": "del ",
     "library": "var_list.py",
     "varRefreshCmd": "print(var_dic_list())"
    },
    "r": {
     "delete_cmd_postfix": ") ",
     "delete_cmd_prefix": "rm(",
     "library": "var_list.r",
     "varRefreshCmd": "cat(var_dic_list()) "
    }
   },
   "types_to_exclude": [
    "module",
    "function",
    "builtin_function_or_method",
    "instance",
    "_Feature"
   ],
   "window_display": false
  }
 },
 "nbformat": 4,
 "nbformat_minor": 4
}
