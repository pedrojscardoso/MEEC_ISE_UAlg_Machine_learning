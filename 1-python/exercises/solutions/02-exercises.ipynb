{
 "cells": [
  {
   "cell_type": "markdown",
   "metadata": {},
   "source": [
    "# Exercises\n",
    "\n",
    "These exercises focus on some simple String Manipulation, e.g., concatenation (+), multiplication (*), \n",
    "slices, escape sequences, methods (`len(), upper(), lower(), find(), replace(), count(), split()...)`"
   ]
  },
  {
   "cell_type": "markdown",
   "metadata": {},
   "source": [
    "Get the user's full name with one input and display the name as *last, first* (e.g.,  Margarida Herdeiro $\\rightarrow$ Herdeiro, Margarida)."
   ]
  },
  {
   "cell_type": "code",
   "execution_count": 1,
   "metadata": {
    "ExecuteTime": {
     "end_time": "2024-09-10T15:19:16.461176Z",
     "start_time": "2024-09-10T15:19:16.456691Z"
    }
   },
   "outputs": [
    {
     "name": "stdout",
     "output_type": "stream",
     "text": [
      "Herdeiro, Margarida\n"
     ]
    }
   ],
   "source": [
    "full_name = \"Margarida Herdeiro\" # input(\"What is your full name? \")\n",
    "name_list = full_name.split()\n",
    "print(name_list[1] + \", \" + name_list[0])"
   ]
  },
  {
   "cell_type": "markdown",
   "metadata": {},
   "source": [
    "Get a file name from the user and display just the extension (from the last dot, e.g., file.1.txt $\\rightarrow$ txt)"
   ]
  },
  {
   "cell_type": "code",
   "execution_count": 2,
   "metadata": {
    "ExecuteTime": {
     "end_time": "2024-09-10T15:19:16.465240Z",
     "start_time": "2024-09-10T15:19:16.463104Z"
    }
   },
   "outputs": [
    {
     "name": "stdout",
     "output_type": "stream",
     "text": [
      "txt\n"
     ]
    }
   ],
   "source": [
    "file_name = \"file.1.txt\" # input(\"What is the file name? \")\n",
    "file_name_list = file_name.split(\".\")\n",
    "print(file_name_list[-1])"
   ]
  },
  {
   "cell_type": "markdown",
   "metadata": {},
   "source": [
    "Get a sentence from the user and display it back with one word per line."
   ]
  },
  {
   "cell_type": "code",
   "execution_count": 3,
   "metadata": {
    "ExecuteTime": {
     "end_time": "2024-09-10T15:19:16.468613Z",
     "start_time": "2024-09-10T15:19:16.466478Z"
    }
   },
   "outputs": [
    {
     "name": "stdout",
     "output_type": "stream",
     "text": [
      "line.\n",
      "per\n",
      "word\n",
      "one\n",
      "with\n",
      "back\n",
      "it\n",
      "display\n",
      "and\n",
      "user\n",
      "the\n",
      "from\n",
      "sentence\n",
      "a\n",
      "Get\n"
     ]
    }
   ],
   "source": [
    "sentence = \"Get a sentence from the user and display it back with one word per line.\"\n",
    "sentence_list = sentence.split()[::-1]\n",
    "for word in sentence_list:\n",
    "    print(word)"
   ]
  },
  {
   "cell_type": "code",
   "outputs": [
    {
     "name": "stdout",
     "output_type": "stream",
     "text": [
      "line.\n",
      "per\n",
      "word\n",
      "one\n",
      "with\n",
      "back\n",
      "it\n",
      "display\n",
      "and\n",
      "user\n",
      "the\n",
      "from\n",
      "sentence\n",
      "a\n",
      "Get\n"
     ]
    }
   ],
   "source": [
    "print(\"\\n\".join(sentence_list))"
   ],
   "metadata": {
    "collapsed": false,
    "ExecuteTime": {
     "end_time": "2024-09-10T15:19:16.471255Z",
     "start_time": "2024-09-10T15:19:16.469456Z"
    }
   },
   "execution_count": 4
  },
  {
   "cell_type": "markdown",
   "metadata": {},
   "source": [
    "Get a number from a user ($n$) and create an $n \\times n$ box of Xs on the screen. e.g. If (s)he entered 4:\n",
    "\t\t\tXXXX\n",
    "\t\t\tXXXX\n",
    "\t\t\tXXXX\n",
    "\t\t\tXXXX\n"
   ]
  },
  {
   "cell_type": "code",
   "execution_count": 5,
   "metadata": {
    "ExecuteTime": {
     "end_time": "2024-09-10T15:19:16.474208Z",
     "start_time": "2024-09-10T15:19:16.472457Z"
    }
   },
   "outputs": [
    {
     "name": "stdout",
     "output_type": "stream",
     "text": [
      "XXXX\n",
      "XXXX\n",
      "XXXX\n",
      "XXXX\n"
     ]
    }
   ],
   "source": [
    "n = 4 # int(input(\"What is the size of the box? \"))\n",
    "line = n*\"X\" + \"\\n\"\n",
    "print(n * line)"
   ]
  },
  {
   "cell_type": "markdown",
   "metadata": {},
   "source": [
    "Without using the method `center`, get a string from the user and a field size, then display the string centered within that field, with dots `.` on both sides. Assume that the field size is larger than the length of the string. (size = 10, str = ``hi'' $->$ ``....hi....'')"
   ]
  },
  {
   "cell_type": "code",
   "execution_count": 6,
   "metadata": {
    "ExecuteTime": {
     "end_time": "2024-09-10T15:19:16.476519Z",
     "start_time": "2024-09-10T15:19:16.474672Z"
    }
   },
   "outputs": [
    {
     "name": "stdout",
     "output_type": "stream",
     "text": [
      "...........hi there...........\n"
     ]
    }
   ],
   "source": [
    "size = 30 # int(input(\"What is the size of the field? \"))\n",
    "s = \"hi there\" # input(\"What is the string? \")\n",
    "\n",
    "dots = \".\" * ((size - len(s)) // 2)\n",
    "print( dots + s + dots)\n"
   ]
  },
  {
   "cell_type": "markdown",
   "metadata": {},
   "source": [
    "Get a string from the user and display how many capital letters are in the string."
   ]
  },
  {
   "cell_type": "code",
   "execution_count": 7,
   "metadata": {
    "ExecuteTime": {
     "end_time": "2024-09-10T15:19:16.478807Z",
     "start_time": "2024-09-10T15:19:16.476985Z"
    }
   },
   "outputs": [
    {
     "name": "stdout",
     "output_type": "stream",
     "text": [
      "8\n"
     ]
    }
   ],
   "source": [
    "s = \"Get a string from the user and display how many CAPITAL letters are in the string.\"\n",
    "count = 0\n",
    "for c in s:\n",
    "    if c.isupper():\n",
    "        count += 1\n",
    "print(count)"
   ]
  },
  {
   "cell_type": "code",
   "execution_count": 7,
   "outputs": [],
   "source": [],
   "metadata": {
    "collapsed": false,
    "ExecuteTime": {
     "end_time": "2024-09-10T15:19:16.480826Z",
     "start_time": "2024-09-10T15:19:16.479561Z"
    }
   }
  }
 ],
 "metadata": {
  "kernelspec": {
   "display_name": "Python 3 (ipykernel)",
   "language": "python",
   "name": "python3"
  },
  "language_info": {
   "codemirror_mode": {
    "name": "ipython",
    "version": 3
   },
   "file_extension": ".py",
   "mimetype": "text/x-python",
   "name": "python",
   "nbconvert_exporter": "python",
   "pygments_lexer": "ipython3",
   "version": "3.10.6"
  },
  "nbTranslate": {
   "displayLangs": [
    "*"
   ],
   "hotkey": "alt-t",
   "langInMainMenu": true,
   "sourceLang": "en",
   "targetLang": "fr",
   "useGoogleTranslate": true
  },
  "toc": {
   "base_numbering": 1,
   "nav_menu": {},
   "number_sections": true,
   "sideBar": true,
   "skip_h1_title": false,
   "title_cell": "Table of Contents",
   "title_sidebar": "Contents",
   "toc_cell": false,
   "toc_position": {},
   "toc_section_display": true,
   "toc_window_display": false
  },
  "varInspector": {
   "cols": {
    "lenName": 16,
    "lenType": 16,
    "lenVar": 40
   },
   "kernels_config": {
    "python": {
     "delete_cmd_postfix": "",
     "delete_cmd_prefix": "del ",
     "library": "var_list.py",
     "varRefreshCmd": "print(var_dic_list())"
    },
    "r": {
     "delete_cmd_postfix": ") ",
     "delete_cmd_prefix": "rm(",
     "library": "var_list.r",
     "varRefreshCmd": "cat(var_dic_list()) "
    }
   },
   "types_to_exclude": [
    "module",
    "function",
    "builtin_function_or_method",
    "instance",
    "_Feature"
   ],
   "window_display": false
  }
 },
 "nbformat": 4,
 "nbformat_minor": 4
}
