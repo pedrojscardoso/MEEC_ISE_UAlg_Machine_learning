{
 "cells": [
  {
   "cell_type": "markdown",
   "metadata": {},
   "source": [
    "# Exercises\n",
    "Create Python programs to do the following:"
   ]
  },
  {
   "cell_type": "markdown",
   "metadata": {},
   "source": [
    "Computes the area of a circle with radius 10 cm."
   ]
  },
  {
   "cell_type": "code",
   "execution_count": 1,
   "metadata": {
    "ExecuteTime": {
     "end_time": "2023-10-03T11:00:39.343385Z",
     "start_time": "2023-10-03T11:00:39.340087Z"
    }
   },
   "outputs": [
    {
     "name": "stdout",
     "output_type": "stream",
     "text": [
      "314.159\n"
     ]
    }
   ],
   "source": [
    "radius = 10\n",
    "pi = 3.14159\n",
    "area = pi * radius**2\n",
    "print(area)"
   ]
  },
  {
   "cell_type": "markdown",
   "metadata": {},
   "source": [
    "Get the radius of a circle (use the `input()` command) and compute its area. Remember that the input command returns a string so you will need to convert it to a number."
   ]
  },
  {
   "cell_type": "code",
   "execution_count": 2,
   "metadata": {
    "ExecuteTime": {
     "end_time": "2023-10-03T11:00:57.758111Z",
     "start_time": "2023-10-03T11:00:56.403409Z"
    }
   },
   "outputs": [
    {
     "name": "stdout",
     "output_type": "stream",
     "text": [
      "3.14159\n"
     ]
    }
   ],
   "source": [
    "radius = float(input(\"Enter the radius of the circle: \"))\n",
    "pi = 3.14159\n",
    "area = pi * radius**2\n",
    "print(area)"
   ]
  },
  {
   "cell_type": "markdown",
   "metadata": {},
   "source": [
    "Find the value of a bitcoin in Euros (EUR) and then make a program that allows the user to enter the amount of bitcoins (`input()`) they have and tell them what it is worth in Euros."
   ]
  },
  {
   "cell_type": "code",
   "execution_count": 3,
   "metadata": {
    "ExecuteTime": {
     "end_time": "2023-10-03T11:01:57.003713Z",
     "start_time": "2023-10-03T11:01:55.458302Z"
    }
   },
   "outputs": [
    {
     "name": "stdout",
     "output_type": "stream",
     "text": [
      "10000.0\n"
     ]
    }
   ],
   "source": [
    "bitcoin = float(input(\"Enter the number of bitcoins you have: \"))\n",
    "bitcoin_to_euro = 10000\n",
    "euro = bitcoin * bitcoin_to_euro\n",
    "print(euro)"
   ]
  },
  {
   "cell_type": "markdown",
   "metadata": {},
   "source": [
    "Gets the coordinates for two points from the user and compute the distance between them.  Round your answer to two decimal places."
   ]
  },
  {
   "cell_type": "code",
   "execution_count": 4,
   "metadata": {
    "ExecuteTime": {
     "end_time": "2023-10-03T11:02:27.322566Z",
     "start_time": "2023-10-03T11:02:23.553768Z"
    }
   },
   "outputs": [
    {
     "name": "stdout",
     "output_type": "stream",
     "text": [
      "1.41\n"
     ]
    }
   ],
   "source": [
    "x1 = float(input(\"Enter the x coordinate of the first point: \"))\n",
    "y1 = float(input(\"Enter the y coordinate of the first point: \"))\n",
    "x2 = float(input(\"Enter the x coordinate of the second point: \"))\n",
    "y2 = float(input(\"Enter the y coordinate of the second point: \"))\n",
    "\n",
    "distance = ((x2-x1)**2 + (y2-y1)**2)**0.5\n",
    "print(round(distance, 2))"
   ]
  },
  {
   "cell_type": "markdown",
   "metadata": {},
   "source": [
    "Jenny orders for hers birthday party pizzas totaling 32 slices.  Have the user (probably Jenny) enter the number of people at the party that will be eating pizza and output the number of slices each one gets.  As you know the pizza might not divide evenly.  There are two ways to handle this. The first is to ignore the extra pieces and give everyone the same amount.  The second way is to cut up the extra pieces so that everyone gets the same amount.  Your program must output both options. E.g.:\n",
    "    - Number of guests: 10\n",
    "    - Option 1: 3 slices each, 2 left over\n",
    "    - Option 2: 3.2 slices each"
   ]
  },
  {
   "cell_type": "code",
   "execution_count": 6,
   "metadata": {
    "ExecuteTime": {
     "end_time": "2023-10-03T11:03:58.155839Z",
     "start_time": "2023-10-03T11:03:58.147952Z"
    }
   },
   "outputs": [
    {
     "name": "stdout",
     "output_type": "stream",
     "text": [
      "Number of guests: 10\n",
      "Option 1: 3 slices each, 2 left over\n",
      "Option 2: 3.2 slices each\n"
     ]
    }
   ],
   "source": [
    "number_of_guests = 10# int(input(\"Enter the number of guests: \"))\n",
    "number_of_slices = 32\n",
    "\n",
    "option_1 = number_of_slices // number_of_guests\n",
    "option_2 = number_of_slices / number_of_guests\n",
    "\n",
    "print(\"Number of guests: \" + str(number_of_guests))\n",
    "print(\"Option 1: \" + str(option_1) + \" slices each, \" + str(number_of_slices % number_of_guests) + \" left over\")\n",
    "print(\"Option 2: \" + str(option_2) + \" slices each\")\n",
    "\n"
   ]
  },
  {
   "cell_type": "code",
   "execution_count": null,
   "outputs": [],
   "source": [],
   "metadata": {
    "collapsed": false
   }
  }
 ],
 "metadata": {
  "kernelspec": {
   "display_name": "Python 3 (ipykernel)",
   "language": "python",
   "name": "python3"
  },
  "language_info": {
   "codemirror_mode": {
    "name": "ipython",
    "version": 3
   },
   "file_extension": ".py",
   "mimetype": "text/x-python",
   "name": "python",
   "nbconvert_exporter": "python",
   "pygments_lexer": "ipython3",
   "version": "3.10.6"
  },
  "nbTranslate": {
   "displayLangs": [
    "*"
   ],
   "hotkey": "alt-t",
   "langInMainMenu": true,
   "sourceLang": "en",
   "targetLang": "fr",
   "useGoogleTranslate": true
  },
  "toc": {
   "base_numbering": 1,
   "nav_menu": {},
   "number_sections": true,
   "sideBar": true,
   "skip_h1_title": false,
   "title_cell": "Table of Contents",
   "title_sidebar": "Contents",
   "toc_cell": false,
   "toc_position": {},
   "toc_section_display": true,
   "toc_window_display": false
  },
  "varInspector": {
   "cols": {
    "lenName": 16,
    "lenType": 16,
    "lenVar": 40
   },
   "kernels_config": {
    "python": {
     "delete_cmd_postfix": "",
     "delete_cmd_prefix": "del ",
     "library": "var_list.py",
     "varRefreshCmd": "print(var_dic_list())"
    },
    "r": {
     "delete_cmd_postfix": ") ",
     "delete_cmd_prefix": "rm(",
     "library": "var_list.r",
     "varRefreshCmd": "cat(var_dic_list()) "
    }
   },
   "types_to_exclude": [
    "module",
    "function",
    "builtin_function_or_method",
    "instance",
    "_Feature"
   ],
   "window_display": false
  }
 },
 "nbformat": 4,
 "nbformat_minor": 4
}
