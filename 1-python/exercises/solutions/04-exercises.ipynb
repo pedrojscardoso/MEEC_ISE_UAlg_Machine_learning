{
 "cells": [
  {
   "cell_type": "markdown",
   "metadata": {},
   "source": [
    "# Exercises\n",
    "\n",
    "There exercises focus on some simple Selection *if ... elif ... else*, basic Boolean operators ( >, ==, ...), and operators `and, or, ...`\n",
    "\n",
    "Write a program that reads in a file name from the user and tells them what kind of program is capable of using that file by looking at the extension. Your program must be able to recognize at least 5 different file types. E.g. ``Dogs.doc'' is a Word Document."
   ]
  },
  {
   "cell_type": "code",
   "execution_count": 1,
   "metadata": {
    "ExecuteTime": {
     "end_time": "2023-10-03T15:38:16.774946Z",
     "start_time": "2023-10-03T15:38:16.729213Z"
    }
   },
   "outputs": [
    {
     "name": "stdout",
     "output_type": "stream",
     "text": [
      "Word Document\n"
     ]
    }
   ],
   "source": [
    "map = {\"doc\": \"Word Document\", \"txt\": \"Text Document\", \"pdf\": \"PDF Document\", \"jpg\": \"Image\", \"mp3\": \"Audio\"}\n",
    "\n",
    "file_name = \"file.doc\" # input(\"Enter a file name: \")\n",
    "\n",
    "extension = file_name.split(\".\")[-1]\n",
    "\n",
    "if extension in map:\n",
    "    print(map[extension])\n",
    "else:\n",
    "    print(\"Unknown file type\")"
   ]
  },
  {
   "cell_type": "markdown",
   "metadata": {},
   "source": [
    "Write an if statement that asks for the user's name via input() function. If the inserted name is \"python\" make it print \"Welcome on board master!.\" Otherwise make it print \"Good morning NAME\". (Replace NAME with user's name)"
   ]
  },
  {
   "cell_type": "code",
   "execution_count": 2,
   "metadata": {
    "ExecuteTime": {
     "end_time": "2023-10-03T15:38:16.775099Z",
     "start_time": "2023-10-03T15:38:16.733688Z"
    }
   },
   "outputs": [
    {
     "name": "stdout",
     "output_type": "stream",
     "text": [
      "Good morning python.\n"
     ]
    }
   ],
   "source": [
    "name = \"python.\" # input(\"Enter your name: \")\n",
    "\n",
    "if name == \"python\":\n",
    "    print(\"Welcome on board master!\")\n",
    "else:\n",
    "    print(\"Good morning \" + name)\n"
   ]
  },
  {
   "cell_type": "markdown",
   "metadata": {},
   "source": [
    "Write a function named \"evens\" which returns True if a number is even and otherwise returns False. (use: a)if statment b) don't use an if statment)"
   ]
  },
  {
   "cell_type": "code",
   "execution_count": 3,
   "metadata": {
    "ExecuteTime": {
     "end_time": "2023-10-03T15:38:16.775196Z",
     "start_time": "2023-10-03T15:38:16.736874Z"
    }
   },
   "outputs": [],
   "source": [
    "def evens(number):\n",
    "    if number % 2 == 0:\n",
    "        return True\n",
    "    else:\n",
    "        return False"
   ]
  },
  {
   "cell_type": "code",
   "execution_count": 4,
   "outputs": [],
   "source": [
    "def evens(number):\n",
    "    return number % 2 == 0"
   ],
   "metadata": {
    "collapsed": false,
    "ExecuteTime": {
     "end_time": "2023-10-03T15:38:16.775244Z",
     "start_time": "2023-10-03T15:38:16.739445Z"
    }
   }
  },
  {
   "cell_type": "markdown",
   "metadata": {},
   "source": [
    "Write a function that given a number returns the name of the corresponding player in your national team. E.g., 7 $\\rightarrow$ Cristiano Ronaldo"
   ]
  },
  {
   "cell_type": "code",
   "execution_count": 5,
   "metadata": {
    "ExecuteTime": {
     "end_time": "2023-10-03T15:38:16.793637Z",
     "start_time": "2023-10-03T15:38:16.743817Z"
    }
   },
   "outputs": [],
   "source": [
    "player = {\n",
    "    1: \"Rui Patricio\",\n",
    "    2: \"Nelson Semedo\",\n",
    "    3: \"Pepe\",\n",
    "    4: \"Ruben Dias\",\n",
    "    5: \"Raphael Guerreiro\",\n",
    "    6: \"Jose Fonte\",\n",
    "    7: \"Cristiano Ronaldo\",\n",
    "    8: \"Joao Moutinho\",\n",
    "    9: \"Andre Silva\",\n",
    "    10: \"Bernardo Silva\",\n",
    "    11: \"Bruno Fernandes\",\n",
    "    12: \"Anthony Lopes\",\n",
    "    13: \"Ruben Semedo\",\n",
    "    14: \"Danilo Pereira\",\n",
    "    15: \"Rafa Silva\",\n",
    "    16: \"Renato Sanches\",\n",
    "    17: \"Joao Cancelo\",\n",
    "    18: \"Rui Silva\",\n",
    "    19: \"Mario Rui\",\n",
    "    20: \"Pedro Goncalves\",\n",
    "    22: \"Joao Palhinha\",\n",
    "    23: \"Sergio Oliveira\",\n",
    "    24: \"Diogo Jota\",\n",
    "    25: \"Joao Felix\",\n",
    "    26: \"Andre Gomes\",\n",
    "    27: \"Paulinho\",\n",
    "    28: \"Nuno Mendes\",\n",
    "}\n",
    "\n",
    "def get_player(number):\n",
    "    return player[number]"
   ]
  },
  {
   "cell_type": "code",
   "execution_count": 6,
   "outputs": [
    {
     "data": {
      "text/plain": "'Cristiano Ronaldo'"
     },
     "execution_count": 6,
     "metadata": {},
     "output_type": "execute_result"
    }
   ],
   "source": [
    "get_player(7)"
   ],
   "metadata": {
    "collapsed": false,
    "ExecuteTime": {
     "end_time": "2023-10-03T15:38:16.798781Z",
     "start_time": "2023-10-03T15:38:16.747582Z"
    }
   }
  }
 ],
 "metadata": {
  "kernelspec": {
   "display_name": "Python 3 (ipykernel)",
   "language": "python",
   "name": "python3"
  },
  "language_info": {
   "codemirror_mode": {
    "name": "ipython",
    "version": 3
   },
   "file_extension": ".py",
   "mimetype": "text/x-python",
   "name": "python",
   "nbconvert_exporter": "python",
   "pygments_lexer": "ipython3",
   "version": "3.10.6"
  },
  "nbTranslate": {
   "displayLangs": [
    "*"
   ],
   "hotkey": "alt-t",
   "langInMainMenu": true,
   "sourceLang": "en",
   "targetLang": "fr",
   "useGoogleTranslate": true
  },
  "toc": {
   "base_numbering": 1,
   "nav_menu": {},
   "number_sections": true,
   "sideBar": true,
   "skip_h1_title": false,
   "title_cell": "Table of Contents",
   "title_sidebar": "Contents",
   "toc_cell": false,
   "toc_position": {},
   "toc_section_display": true,
   "toc_window_display": false
  },
  "varInspector": {
   "cols": {
    "lenName": 16,
    "lenType": 16,
    "lenVar": 40
   },
   "kernels_config": {
    "python": {
     "delete_cmd_postfix": "",
     "delete_cmd_prefix": "del ",
     "library": "var_list.py",
     "varRefreshCmd": "print(var_dic_list())"
    },
    "r": {
     "delete_cmd_postfix": ") ",
     "delete_cmd_prefix": "rm(",
     "library": "var_list.r",
     "varRefreshCmd": "cat(var_dic_list()) "
    }
   },
   "types_to_exclude": [
    "module",
    "function",
    "builtin_function_or_method",
    "instance",
    "_Feature"
   ],
   "window_display": false
  }
 },
 "nbformat": 4,
 "nbformat_minor": 4
}
