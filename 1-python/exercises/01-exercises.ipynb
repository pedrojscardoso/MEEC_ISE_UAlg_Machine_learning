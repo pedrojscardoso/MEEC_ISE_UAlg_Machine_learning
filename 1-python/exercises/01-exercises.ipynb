{
 "cells": [
  {
   "cell_type": "markdown",
   "metadata": {},
   "source": [
    "# Exercises\n",
    "Create Python programs to do the following:\n",
    "\n",
    "1. Computes the area of a circle with radius 10 cm.\n",
    "\n",
    "1. Get the radius of a circle (use the `input()` command) and compute its area.\n",
    "\n",
    "1. Find the value of a bitcoin in Euros (EUR) and then make a program that allows the user to enter the amount of bitcoins (`input()`) they have and tell them what it is worth in Euros.\n",
    "\n",
    "1. Gets the coordinates for two points from the user and compute the distance between them.  Round your answer to two decimal places.\n",
    "\n",
    "1. Jenny orders for hers birthday party pizzas totaling 32 slices.  Have the user (probably Jenny) enter the number of people at the party that will be eating pizza and output the number of slices each one gets.  As you know the pizza might not divide evenly.  There are two ways to handle this. The first is to ignore the extra pieces and give everyone the same amount.  The second way is to cut up the extra pieces so that everyone gets the same amount.  Your program must output both options. E.g.:\n",
    "    1. Number of guests: 10\n",
    "    1. Option 1: 3 slices each, 2 left over\n",
    "    1. Option 2: 3.2 slices each"
   ]
  },
  {
   "cell_type": "code",
   "execution_count": null,
   "metadata": {},
   "outputs": [],
   "source": []
  }
 ],
 "metadata": {
  "kernelspec": {
   "display_name": "Python 3",
   "language": "python",
   "name": "python3"
  },
  "language_info": {
   "codemirror_mode": {
    "name": "ipython",
    "version": 3
   },
   "file_extension": ".py",
   "mimetype": "text/x-python",
   "name": "python",
   "nbconvert_exporter": "python",
   "pygments_lexer": "ipython3",
   "version": "3.8.5"
  },
  "nbTranslate": {
   "displayLangs": [
    "*"
   ],
   "hotkey": "alt-t",
   "langInMainMenu": true,
   "sourceLang": "en",
   "targetLang": "fr",
   "useGoogleTranslate": true
  },
  "toc": {
   "base_numbering": 1,
   "nav_menu": {},
   "number_sections": true,
   "sideBar": true,
   "skip_h1_title": false,
   "title_cell": "Table of Contents",
   "title_sidebar": "Contents",
   "toc_cell": false,
   "toc_position": {},
   "toc_section_display": true,
   "toc_window_display": false
  },
  "varInspector": {
   "cols": {
    "lenName": 16,
    "lenType": 16,
    "lenVar": 40
   },
   "kernels_config": {
    "python": {
     "delete_cmd_postfix": "",
     "delete_cmd_prefix": "del ",
     "library": "var_list.py",
     "varRefreshCmd": "print(var_dic_list())"
    },
    "r": {
     "delete_cmd_postfix": ") ",
     "delete_cmd_prefix": "rm(",
     "library": "var_list.r",
     "varRefreshCmd": "cat(var_dic_list()) "
    }
   },
   "types_to_exclude": [
    "module",
    "function",
    "builtin_function_or_method",
    "instance",
    "_Feature"
   ],
   "window_display": false
  }
 },
 "nbformat": 4,
 "nbformat_minor": 4
}
