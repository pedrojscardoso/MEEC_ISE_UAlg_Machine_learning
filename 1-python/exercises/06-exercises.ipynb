{
 "cells": [
  {
   "cell_type": "markdown",
   "metadata": {},
   "source": [
    "# \n",
    "\n",
    "1. Write a program to generate the first 𝑛 number sof the Fibonnaci series (1, 1, 2, 3, 5, 8, 13, 21, ...)\n",
    "\n",
    "1. Write a Python program to count the number of even and odd numbers from the series given by\n",
    "```import random\n",
    "v = random.sample(range(100), 20)\n",
    "```\n",
    "\n",
    "1. Write a Python program which accepts a sequence of comma separated 4 digit binary numbers as its input and print the numbers that are divisible by 5 in a comma separated sequence. Sample Data : 0100,0011,1010,1001,1100,1001 Expected Output : 1010"
   ]
  },
  {
   "cell_type": "markdown",
   "metadata": {
    "solution2": "hidden",
    "solution2_first": true
   },
   "source": [
    "# \n",
    "\n",
    "Present the top 10 words with at least 5 characters in the Lusiadas book (you can get Lusiadas from here http://www.gutenberg.org/cache/epub/3333/pg3333.txt). \n",
    "\n",
    "Notes: \n",
    "- try to not use external libraries (except for `requests`)\n",
    "- remove \"\\n\", \"\\t\", punctuation, etc\n",
    "- do not consider \"stop words\" (for Pt, see https://raw.githubusercontent.com/stopwords-iso/stopwords-pt/master/stopwords-pt.txt)\n"
   ]
  },
  {
   "cell_type": "code",
   "execution_count": null,
   "metadata": {
    "solution2": "hidden"
   },
   "outputs": [],
   "source": [
    "import requests\n",
    "\n",
    "minimum_length_of_words = 5\n",
    "top = 20"
   ]
  },
  {
   "cell_type": "code",
   "execution_count": null,
   "metadata": {
    "solution2": "hidden"
   },
   "outputs": [],
   "source": [
    "stop_word = requests.get(\"https://raw.githubusercontent.com/stopwords-iso/stopwords-pt/master/stopwords-pt.txt\").text\n",
    "list_stop_words = stop_word.replace(\"\\n\", \" \").split()\n",
    "list_stop_words"
   ]
  },
  {
   "cell_type": "code",
   "execution_count": null,
   "metadata": {
    "solution2": "hidden"
   },
   "outputs": [],
   "source": [
    "txt = requests.get(\"http://www.gutenberg.org/cache/epub/3333/pg3333.txt\").text\n",
    "txt = txt.lower()\n",
    "txt"
   ]
  },
  {
   "cell_type": "code",
   "execution_count": null,
   "metadata": {
    "solution2": "hidden"
   },
   "outputs": [],
   "source": [
    "unwanted_characters = \"\\n\\r\\t.;:-,!?[(])#*1234567890]\"\n",
    "for c in unwanted_characters:\n",
    "    txt = txt.replace(c, \" \")\n",
    "    \n",
    "txt = txt.replace(\"\\n\", \" \").replace(\"\\r\", \" \").replace(\"\\t\", \" \").lower()\n",
    "txt"
   ]
  },
  {
   "cell_type": "code",
   "execution_count": null,
   "metadata": {
    "solution2": "hidden"
   },
   "outputs": [],
   "source": [
    "all_words = [w.strip() for w in txt.split()]\n",
    "all_distinct_words = set(all_words)\n",
    "\n",
    "d = {w : all_words.count(w) \n",
    "     for w in all_distinct_words \n",
    "     if (w not in list_stop_words) and (len(w) > minimum_length_of_words) }\n",
    "        \n",
    "d"
   ]
  },
  {
   "cell_type": "code",
   "execution_count": null,
   "metadata": {
    "solution2": "hidden"
   },
   "outputs": [],
   "source": [
    "values = list(d.values())\n",
    "values.sort(reverse=True)\n",
    "values[:top]"
   ]
  },
  {
   "cell_type": "code",
   "execution_count": null,
   "metadata": {
    "solution2": "hidden"
   },
   "outputs": [],
   "source": [
    "[(w,k)  for w, k in d.items() if k in values[:top]]"
   ]
  }
 ],
 "metadata": {
  "kernelspec": {
   "display_name": "Python 3",
   "language": "python",
   "name": "python3"
  },
  "language_info": {
   "codemirror_mode": {
    "name": "ipython",
    "version": 3
   },
   "file_extension": ".py",
   "mimetype": "text/x-python",
   "name": "python",
   "nbconvert_exporter": "python",
   "pygments_lexer": "ipython3",
   "version": "3.8.5"
  },
  "nbTranslate": {
   "displayLangs": [
    "*"
   ],
   "hotkey": "alt-t",
   "langInMainMenu": true,
   "sourceLang": "en",
   "targetLang": "fr",
   "useGoogleTranslate": true
  },
  "toc": {
   "base_numbering": 1,
   "nav_menu": {},
   "number_sections": true,
   "sideBar": true,
   "skip_h1_title": false,
   "title_cell": "Table of Contents",
   "title_sidebar": "Contents",
   "toc_cell": false,
   "toc_position": {},
   "toc_section_display": true,
   "toc_window_display": false
  },
  "varInspector": {
   "cols": {
    "lenName": 16,
    "lenType": 16,
    "lenVar": 40
   },
   "kernels_config": {
    "python": {
     "delete_cmd_postfix": "",
     "delete_cmd_prefix": "del ",
     "library": "var_list.py",
     "varRefreshCmd": "print(var_dic_list())"
    },
    "r": {
     "delete_cmd_postfix": ") ",
     "delete_cmd_prefix": "rm(",
     "library": "var_list.r",
     "varRefreshCmd": "cat(var_dic_list()) "
    }
   },
   "types_to_exclude": [
    "module",
    "function",
    "builtin_function_or_method",
    "instance",
    "_Feature"
   ],
   "window_display": false
  }
 },
 "nbformat": 4,
 "nbformat_minor": 4
}
