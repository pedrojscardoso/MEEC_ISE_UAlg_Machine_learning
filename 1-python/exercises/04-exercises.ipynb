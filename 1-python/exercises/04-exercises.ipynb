{
 "cells": [
  {
   "cell_type": "markdown",
   "metadata": {},
   "source": [
    "# Exercises\n",
    "\n",
    "There exercises focus on some simple Selection *if ... elif ... else*, basic Boolean operators ( >, ==, ...), and operators `and, or, ...`\n",
    "\n",
    "1. Write a program that reads in a file name from the user and tells them what kind of program is capable of using that file by looking at the extension. Your program must be able to recognize at least 5 different file types. E.g. ``Dogs.doc'' is a Word Document.\n",
    "\n",
    "1. Write an if statement that asks for the user's name via input() function. If the inserted name is \"python\" make it print \"Welcome on board master!.\" Otherwise make it print \"Good morning NAME\". (Replace NAME with user's name)\n",
    "\n",
    "1. Write a function named \"evens\" which returns True if a number is even and otherwise returns False. (use: a)if statment b) don't use an if statment)\n",
    "\n",
    "1. Write a function that given a number returns the name of the corresponding player in your national team. E.g., 7 $\\rightarrow$ Cristiano Ronaldo"
   ]
  }
 ],
 "metadata": {
  "kernelspec": {
   "display_name": "Python 3 (ipykernel)",
   "language": "python",
   "name": "python3"
  },
  "language_info": {
   "codemirror_mode": {
    "name": "ipython",
    "version": 3
   },
   "file_extension": ".py",
   "mimetype": "text/x-python",
   "name": "python",
   "nbconvert_exporter": "python",
   "pygments_lexer": "ipython3",
   "version": "3.9.12"
  },
  "nbTranslate": {
   "displayLangs": [
    "*"
   ],
   "hotkey": "alt-t",
   "langInMainMenu": true,
   "sourceLang": "en",
   "targetLang": "fr",
   "useGoogleTranslate": true
  },
  "toc": {
   "base_numbering": 1,
   "nav_menu": {},
   "number_sections": true,
   "sideBar": true,
   "skip_h1_title": false,
   "title_cell": "Table of Contents",
   "title_sidebar": "Contents",
   "toc_cell": false,
   "toc_position": {},
   "toc_section_display": true,
   "toc_window_display": false
  },
  "varInspector": {
   "cols": {
    "lenName": 16,
    "lenType": 16,
    "lenVar": 40
   },
   "kernels_config": {
    "python": {
     "delete_cmd_postfix": "",
     "delete_cmd_prefix": "del ",
     "library": "var_list.py",
     "varRefreshCmd": "print(var_dic_list())"
    },
    "r": {
     "delete_cmd_postfix": ") ",
     "delete_cmd_prefix": "rm(",
     "library": "var_list.r",
     "varRefreshCmd": "cat(var_dic_list()) "
    }
   },
   "types_to_exclude": [
    "module",
    "function",
    "builtin_function_or_method",
    "instance",
    "_Feature"
   ],
   "window_display": false
  }
 },
 "nbformat": 4,
 "nbformat_minor": 4
}
