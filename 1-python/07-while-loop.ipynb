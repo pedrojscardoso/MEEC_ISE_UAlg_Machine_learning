{
 "cells": [
  {
   "cell_type": "markdown",
   "source": [
    "___\n",
    "<h1> Machine Learning </h1>\n",
    "<h2> M. Sc. in Electrical and Computer Engineering </h2>\n",
    "<h3> Instituto Superior de Engenharia / Universidade do Algarve </h3>\n",
    "\n",
    "[LESTI](https://ise.ualg.pt/curso/1941) / [ISE](https://ise.ualg.pt) / [UAlg](https://www.ualg.pt)\n",
    "\n",
    "Pedro J. S. Cardoso (pcardoso@ualg.pt)\n",
    "\n",
    "___"
   ],
   "metadata": {
    "collapsed": false
   }
  },
  {
   "cell_type": "markdown",
   "metadata": {},
   "source": [
    "# While loop\n",
    "Some times we just need to loop until some condition is satisfied, or even loop indefinitely until the application is stopped. \n",
    "\n",
    "Cases where we don't really have something to iterate on, and therefore the `for` loop would be a poor choice. "
   ]
  },
  {
   "cell_type": "code",
   "execution_count": null,
   "metadata": {
    "ExecuteTime": {
     "end_time": "2022-03-07T17:29:49.814997Z",
     "start_time": "2022-03-07T17:29:49.811790Z"
    }
   },
   "outputs": [],
   "source": [
    "n = 39\n",
    "remainders = []\n",
    "\n",
    "while n > 0:\n",
    "    remainder = n % 2            # remainder of division by 2\n",
    "    n //= 2                      # we divide n by 2\n",
    "    remainders.append(remainder) # we keep track of remainders\n",
    "\n",
    "# reassign the list to its reversed copy and print it\n",
    "remainders = remainders[::-1]\n",
    "print(remainders)                # guess what is the remainders list to 39..."
   ]
  },
  {
   "cell_type": "markdown",
   "metadata": {},
   "source": [
    "## continue\n",
    "The continue statement, tells the looping construct (for or while) to immediately stop execution of the body and go to the next iteration, if any."
   ]
  },
  {
   "cell_type": "code",
   "execution_count": null,
   "metadata": {},
   "outputs": [],
   "source": [
    "from datetime import date, timedelta\n",
    "today = date.today()\n",
    "tomorrow = today + timedelta(days=1) # today + 1 day is tomorrow\n",
    "products = [\n",
    "    {'sku': '1', 'expiration_date': today, 'price': 100.0},\n",
    "    {'sku': '2', 'expiration_date': tomorrow, 'price': 50},\n",
    "    {'sku': '3', 'expiration_date': today, 'price': 20},\n",
    "]\n",
    "\n",
    "while products:\n",
    "    product = products.pop()\n",
    "    if product['expiration_date'] != today:\n",
    "        continue                # go to the next product\n",
    "    product['price'] *= 0.8     # equivalent to applying 20% discount\n",
    "    print('Price for sku', product['sku'], 'is now', product['price']) "
   ]
  },
  {
   "cell_type": "markdown",
   "metadata": {},
   "source": [
    "## Break \n",
    "The **break** statement terminates the current loop and resumes execution at the next statement"
   ]
  },
  {
   "cell_type": "code",
   "execution_count": null,
   "metadata": {},
   "outputs": [],
   "source": [
    "items = [0, None, 0.0, True, 0, 7]  # True and 7 evaluate to True\n",
    "found = False                       # this is called \"flag\"\n",
    "\n",
    "while items:\n",
    "    item = items.pop(0)\n",
    "    print('scanning item', item)\n",
    "    if item:                        # item evaluates True?\n",
    "        found = True                # we update the flag\n",
    "        break\n",
    "\n",
    "if found:                           # we inspect the flag\n",
    "    print('At least one item evaluates to True')\n",
    "else:\n",
    "    print('All items evaluate to False')  "
   ]
  },
  {
   "cell_type": "markdown",
   "metadata": {},
   "source": [
    "## else\n",
    "If the loop ends normally, because of exhaustion of the iterator (**for** loop) or because the condition is finally not met (**while** loop), then the **else** suite (if present) is executed. \n",
    "\n",
    "In case execution is interrupted by a **break** statement, the **else** clause is not executed. "
   ]
  },
  {
   "cell_type": "code",
   "execution_count": null,
   "metadata": {},
   "outputs": [],
   "source": [
    "people = [('James', 17), ('Kirk', 9), ('Lars', 13), ('Robert', 8)]\n",
    "driver = None\n",
    "\n",
    "# old way!\n",
    "while people:\n",
    "    person, age = people.pop(0)\n",
    "    if age >= 18:\n",
    "        driver = (person, age)\n",
    "        break\n",
    "        \n",
    "if driver is None:\n",
    "    print('Driver not found.')"
   ]
  },
  {
   "cell_type": "code",
   "execution_count": null,
   "metadata": {},
   "outputs": [],
   "source": [
    "people = [('James', 17), ('Kirk', 9), ('Lars', 13), ('Robert', 8)]\n",
    "driver = None\n",
    "\n",
    "# the same loop in a pythonic way\n",
    "while people:\n",
    "    person, age = people.pop(0)\n",
    "    if age >= 18:\n",
    "        driver = (person, age)\n",
    "        break\n",
    "else:                           # <---else clause! \n",
    "    print('Driver not found.')"
   ]
  },
  {
   "cell_type": "markdown",
   "metadata": {},
   "source": [
    "# Exercises\n",
    "\n",
    "[Go here...](exercises/07-exercises.ipynb)"
   ]
  },
  {
   "cell_type": "code",
   "execution_count": null,
   "metadata": {},
   "outputs": [],
   "source": []
  }
 ],
 "metadata": {
  "kernelspec": {
   "display_name": "Python 3 (ipykernel)",
   "language": "python",
   "name": "python3"
  },
  "language_info": {
   "codemirror_mode": {
    "name": "ipython",
    "version": 3
   },
   "file_extension": ".py",
   "mimetype": "text/x-python",
   "name": "python",
   "nbconvert_exporter": "python",
   "pygments_lexer": "ipython3",
   "version": "3.10.6"
  },
  "latex_envs": {
   "LaTeX_envs_menu_present": true,
   "autoclose": true,
   "autocomplete": true,
   "bibliofile": "references.bib",
   "cite_by": "apalike",
   "current_citInitial": 1,
   "eqLabelWithNumbers": false,
   "eqNumInitial": 1,
   "hotkeys": {
    "equation": "Ctrl-E",
    "itemize": "Ctrl-I"
   },
   "labels_anchors": false,
   "latex_user_defs": false,
   "report_style_numbering": true,
   "user_envs_cfg": false
  },
  "nbTranslate": {
   "displayLangs": [
    "*"
   ],
   "hotkey": "alt-t",
   "langInMainMenu": true,
   "sourceLang": "en",
   "targetLang": "fr",
   "useGoogleTranslate": true
  },
  "toc": {
   "base_numbering": 1,
   "nav_menu": {},
   "number_sections": true,
   "sideBar": true,
   "skip_h1_title": false,
   "title_cell": "Table of Contents",
   "title_sidebar": "Contents",
   "toc_cell": false,
   "toc_position": {},
   "toc_section_display": "block",
   "toc_window_display": false
  },
  "varInspector": {
   "cols": {
    "lenName": 16,
    "lenType": 16,
    "lenVar": 40
   },
   "kernels_config": {
    "python": {
     "delete_cmd_postfix": "",
     "delete_cmd_prefix": "del ",
     "library": "var_list.py",
     "varRefreshCmd": "print(var_dic_list())"
    },
    "r": {
     "delete_cmd_postfix": ") ",
     "delete_cmd_prefix": "rm(",
     "library": "var_list.r",
     "varRefreshCmd": "cat(var_dic_list()) "
    }
   },
   "types_to_exclude": [
    "module",
    "function",
    "builtin_function_or_method",
    "instance",
    "_Feature"
   ],
   "window_display": false
  }
 },
 "nbformat": 4,
 "nbformat_minor": 2
}
