{
 "cells": [
  {
   "cell_type": "markdown",
   "source": [
    "___\n",
    "<h1> Machine Learning </h1>\n",
    "<h2> M. Sc. in Electrical and Computer Engineering </h2>\n",
    "<h3> Instituto Superior de Engenharia / Universidade do Algarve </h3>\n",
    "\n",
    "[LESTI](https://ise.ualg.pt/curso/1941) / [ISE](https://ise.ualg.pt) / [UAlg](https://www.ualg.pt)\n",
    "\n",
    "Pedro J. S. Cardoso (pcardoso@ualg.pt)\n",
    "\n",
    "___"
   ],
   "metadata": {
    "collapsed": false
   }
  },
  {
   "cell_type": "markdown",
   "metadata": {},
   "source": [
    "# Python as a calculator\n",
    "\n",
    "Python can be used as a calculator\n"
   ]
  },
  {
   "cell_type": "code",
   "execution_count": null,
   "metadata": {
    "ExecuteTime": {
     "end_time": "2022-02-17T17:41:32.919564Z",
     "start_time": "2022-02-17T17:41:32.915657Z"
    }
   },
   "outputs": [],
   "source": [
    "1 + 1"
   ]
  },
  {
   "cell_type": "markdown",
   "metadata": {},
   "source": [
    "Being the cast of the values done automatically"
   ]
  },
  {
   "cell_type": "code",
   "execution_count": null,
   "metadata": {
    "ExecuteTime": {
     "end_time": "2022-02-17T17:41:50.210736Z",
     "start_time": "2022-02-17T17:41:50.208000Z"
    }
   },
   "outputs": [],
   "source": [
    "1 + 1.0"
   ]
  },
  {
   "cell_type": "code",
   "execution_count": null,
   "metadata": {
    "ExecuteTime": {
     "end_time": "2022-02-17T17:41:50.983537Z",
     "start_time": "2022-02-17T17:41:50.980391Z"
    }
   },
   "outputs": [],
   "source": [
    "'1' + '1'"
   ]
  },
  {
   "cell_type": "code",
   "execution_count": null,
   "metadata": {
    "ExecuteTime": {
     "end_time": "2022-02-17T17:41:54.100361Z",
     "start_time": "2022-02-17T17:41:54.096808Z"
    }
   },
   "outputs": [],
   "source": [
    "1 + int('1')"
   ]
  },
  {
   "cell_type": "code",
   "execution_count": null,
   "metadata": {
    "ExecuteTime": {
     "end_time": "2022-02-17T17:41:54.988200Z",
     "start_time": "2022-02-17T17:41:54.984973Z"
    }
   },
   "outputs": [],
   "source": [
    "1 + float('1')"
   ]
  },
  {
   "cell_type": "code",
   "execution_count": null,
   "metadata": {
    "ExecuteTime": {
     "end_time": "2022-02-17T17:42:04.485026Z",
     "start_time": "2022-02-17T17:42:04.481958Z"
    }
   },
   "outputs": [],
   "source": [
    "1 + int(1.3)"
   ]
  },
  {
   "cell_type": "markdown",
   "metadata": {},
   "source": [
    "The type of an object can be checked using the `type`methods"
   ]
  },
  {
   "cell_type": "code",
   "execution_count": null,
   "metadata": {
    "ExecuteTime": {
     "end_time": "2022-02-17T17:42:34.644274Z",
     "start_time": "2022-02-17T17:42:34.639402Z"
    }
   },
   "outputs": [],
   "source": [
    "type(1.0)"
   ]
  },
  {
   "cell_type": "code",
   "execution_count": null,
   "metadata": {
    "ExecuteTime": {
     "end_time": "2022-02-17T17:42:40.220420Z",
     "start_time": "2022-02-17T17:42:40.215948Z"
    }
   },
   "outputs": [],
   "source": [
    "type(1)"
   ]
  },
  {
   "cell_type": "markdown",
   "metadata": {},
   "source": [
    "But, sometimes, Python doest't know how it should cast the values (make it int or string!?)"
   ]
  },
  {
   "cell_type": "code",
   "execution_count": null,
   "metadata": {
    "ExecuteTime": {
     "end_time": "2022-02-17T17:43:34.175575Z",
     "start_time": "2022-02-17T17:43:34.166417Z"
    }
   },
   "outputs": [],
   "source": [
    "1 + \"1\""
   ]
  },
  {
   "cell_type": "markdown",
   "metadata": {},
   "source": [
    "# Long Lines\n",
    "Long lines can be breaked by a \" \\ \" - and no following chars"
   ]
  },
  {
   "cell_type": "code",
   "execution_count": null,
   "metadata": {
    "ExecuteTime": {
     "end_time": "2022-02-17T17:44:05.843681Z",
     "start_time": "2022-02-17T17:44:05.841859Z"
    }
   },
   "outputs": [],
   "source": [
    "A = 7 * 3 + \\\n",
    "        5 / 2"
   ]
  },
  {
   "cell_type": "code",
   "execution_count": null,
   "metadata": {
    "ExecuteTime": {
     "end_time": "2022-02-17T17:44:07.925143Z",
     "start_time": "2022-02-17T17:44:07.922100Z"
    }
   },
   "outputs": [],
   "source": [
    "A "
   ]
  },
  {
   "cell_type": "markdown",
   "metadata": {},
   "source": [
    "The next one will rase an error"
   ]
  },
  {
   "cell_type": "code",
   "execution_count": null,
   "metadata": {
    "ExecuteTime": {
     "end_time": "2022-02-17T17:44:22.888358Z",
     "start_time": "2022-02-17T17:44:22.885310Z"
    }
   },
   "outputs": [],
   "source": [
    "D = 1 + 1          \n",
    "*3                     "
   ]
  },
  {
   "cell_type": "markdown",
   "metadata": {
    "ExecuteTime": {
     "end_time": "2022-02-17T17:45:14.841112Z",
     "start_time": "2022-02-17T17:45:14.837681Z"
    }
   },
   "source": [
    "Lines can also be braked in other conditions, such as: list, function arguments, etc."
   ]
  },
  {
   "cell_type": "code",
   "execution_count": null,
   "metadata": {
    "ExecuteTime": {
     "end_time": "2022-02-17T17:45:24.137924Z",
     "start_time": "2022-02-17T17:45:24.135009Z"
    }
   },
   "outputs": [],
   "source": [
    "my_list = ['a', 'b', 'c',       # list (breaked by a ',')\n",
    "        'd' , 'e']\n",
    "c = range(1,            # call to a method (breaked by a ',')\n",
    "        11)      "
   ]
  },
  {
   "cell_type": "markdown",
   "metadata": {},
   "source": [
    "# Everything is an object. \n",
    "- Everything in Python is an object. \n",
    "- A first fundamental distinction that Python makes on data is about whether or not the value of an object changes. If the value can change, the object is called __mutable__, while if the value cannot change, the object is called __immutable__."
   ]
  },
  {
   "cell_type": "code",
   "execution_count": null,
   "metadata": {
    "ExecuteTime": {
     "end_time": "2022-02-17T17:40:36.484689Z",
     "start_time": "2022-02-17T17:40:36.479855Z"
    }
   },
   "outputs": [],
   "source": [
    "age = 42\n",
    "age = 43"
   ]
  },
  {
   "cell_type": "markdown",
   "metadata": {},
   "source": [
    "The 2nd line hasn't changed the value of age but what it is referencing. \n",
    "\n",
    "First line: age is a name that is set to point to an int object, whose value is 42. \n",
    "When we type age = 43 another object is created, of the type int and value 43, and the name age is set to point to it. \n",
    "\n",
    "So, we actually just pointed age to a different location. Let us check it by looking at the `id` of the objects"
   ]
  },
  {
   "cell_type": "code",
   "execution_count": null,
   "metadata": {
    "ExecuteTime": {
     "end_time": "2022-02-17T17:40:36.594674Z",
     "start_time": "2022-02-17T17:40:36.591539Z"
    }
   },
   "outputs": [],
   "source": [
    "age = 42\n",
    "id(age)"
   ]
  },
  {
   "cell_type": "code",
   "execution_count": null,
   "metadata": {
    "ExecuteTime": {
     "end_time": "2022-02-17T17:40:36.623090Z",
     "start_time": "2022-02-17T17:40:36.620077Z"
    }
   },
   "outputs": [],
   "source": [
    "age = 43\n",
    "id(age)"
   ]
  },
  {
   "cell_type": "markdown",
   "metadata": {},
   "source": [
    "Interesting, is that, Python is optimized such that the creation of equal objects is avoided"
   ]
  },
  {
   "cell_type": "code",
   "execution_count": null,
   "metadata": {
    "ExecuteTime": {
     "end_time": "2022-02-17T17:40:36.697248Z",
     "start_time": "2022-02-17T17:40:36.694210Z"
    }
   },
   "outputs": [],
   "source": [
    "x = 42\n",
    "id(x)"
   ]
  },
  {
   "cell_type": "markdown",
   "metadata": {},
   "source": [
    "Another example, now with lists"
   ]
  },
  {
   "cell_type": "code",
   "execution_count": null,
   "metadata": {
    "ExecuteTime": {
     "end_time": "2022-02-17T17:48:49.720259Z",
     "start_time": "2022-02-17T17:48:49.717716Z"
    }
   },
   "outputs": [],
   "source": [
    "A = [1, 2]\n",
    "id(A)"
   ]
  },
  {
   "cell_type": "code",
   "execution_count": null,
   "metadata": {
    "ExecuteTime": {
     "end_time": "2022-02-17T17:40:36.819289Z",
     "start_time": "2022-02-17T17:40:36.817235Z"
    }
   },
   "outputs": [],
   "source": [
    " B = A"
   ]
  },
  {
   "cell_type": "code",
   "execution_count": null,
   "metadata": {
    "ExecuteTime": {
     "end_time": "2022-02-17T17:40:36.845993Z",
     "start_time": "2022-02-17T17:40:36.842348Z"
    }
   },
   "outputs": [],
   "source": [
    "id(B)"
   ]
  },
  {
   "cell_type": "markdown",
   "metadata": {},
   "source": [
    "If the object pointed by A is changed"
   ]
  },
  {
   "cell_type": "code",
   "execution_count": null,
   "metadata": {
    "ExecuteTime": {
     "end_time": "2022-02-17T17:40:36.919951Z",
     "start_time": "2022-02-17T17:40:36.917875Z"
    }
   },
   "outputs": [],
   "source": [
    "A[0] = 10 "
   ]
  },
  {
   "cell_type": "code",
   "execution_count": null,
   "metadata": {
    "ExecuteTime": {
     "end_time": "2022-02-17T17:40:36.941524Z",
     "start_time": "2022-02-17T17:40:36.938449Z"
    }
   },
   "outputs": [],
   "source": [
    "A"
   ]
  },
  {
   "cell_type": "markdown",
   "metadata": {},
   "source": [
    "what would we espect to happen when we look at B?"
   ]
  },
  {
   "cell_type": "code",
   "execution_count": null,
   "metadata": {
    "ExecuteTime": {
     "end_time": "2022-02-17T17:40:37.041260Z",
     "start_time": "2022-02-17T17:40:37.038034Z"
    }
   },
   "outputs": [],
   "source": [
    "B"
   ]
  },
  {
   "cell_type": "markdown",
   "metadata": {},
   "source": [
    "to make a hard copy "
   ]
  },
  {
   "cell_type": "code",
   "execution_count": null,
   "metadata": {
    "ExecuteTime": {
     "end_time": "2022-02-17T17:40:37.119387Z",
     "start_time": "2022-02-17T17:40:37.115842Z"
    }
   },
   "outputs": [],
   "source": [
    "C = A[:]\n",
    "id(C)"
   ]
  },
  {
   "cell_type": "markdown",
   "metadata": {},
   "source": [
    "what to expect next?"
   ]
  },
  {
   "cell_type": "code",
   "execution_count": null,
   "metadata": {
    "ExecuteTime": {
     "end_time": "2022-02-17T17:40:52.698062Z",
     "start_time": "2022-02-17T17:40:52.694848Z"
    }
   },
   "outputs": [],
   "source": [
    "A[1]=111\n",
    "C"
   ]
  },
  {
   "cell_type": "markdown",
   "metadata": {},
   "source": [
    "The following will change not the object which is \"pointed\" by `A` but what `A` \"points\" to"
   ]
  },
  {
   "cell_type": "code",
   "execution_count": null,
   "metadata": {
    "ExecuteTime": {
     "end_time": "2022-02-17T17:40:37.218991Z",
     "start_time": "2022-02-17T17:40:37.216974Z"
    }
   },
   "outputs": [],
   "source": [
    "A = [1, 3]"
   ]
  },
  {
   "cell_type": "code",
   "execution_count": null,
   "metadata": {
    "ExecuteTime": {
     "end_time": "2022-02-17T17:40:37.247576Z",
     "start_time": "2022-02-17T17:40:37.244572Z"
    }
   },
   "outputs": [],
   "source": [
    "id(A)"
   ]
  },
  {
   "cell_type": "markdown",
   "metadata": {},
   "source": [
    "In short,"
   ]
  },
  {
   "cell_type": "code",
   "execution_count": null,
   "metadata": {
    "ExecuteTime": {
     "end_time": "2022-02-17T17:40:37.325839Z",
     "start_time": "2022-02-17T17:40:37.322581Z"
    }
   },
   "outputs": [],
   "source": [
    "A"
   ]
  },
  {
   "cell_type": "code",
   "execution_count": null,
   "metadata": {
    "ExecuteTime": {
     "end_time": "2022-02-17T17:40:37.346161Z",
     "start_time": "2022-02-17T17:40:37.343128Z"
    }
   },
   "outputs": [],
   "source": [
    "B"
   ]
  },
  {
   "cell_type": "code",
   "execution_count": null,
   "metadata": {
    "ExecuteTime": {
     "end_time": "2022-02-17T17:40:37.367936Z",
     "start_time": "2022-02-17T17:40:37.364487Z"
    }
   },
   "outputs": [],
   "source": [
    "C"
   ]
  }
 ],
 "metadata": {
  "kernelspec": {
   "display_name": "Python 3 (ipykernel)",
   "language": "python",
   "name": "python3"
  },
  "language_info": {
   "codemirror_mode": {
    "name": "ipython",
    "version": 3
   },
   "file_extension": ".py",
   "mimetype": "text/x-python",
   "name": "python",
   "nbconvert_exporter": "python",
   "pygments_lexer": "ipython3",
   "version": "3.9.12"
  },
  "latex_envs": {
   "LaTeX_envs_menu_present": true,
   "autoclose": false,
   "autocomplete": true,
   "bibliofile": "biblio.bib",
   "cite_by": "apalike",
   "current_citInitial": 1,
   "eqLabelWithNumbers": true,
   "eqNumInitial": 1,
   "hotkeys": {
    "equation": "Ctrl-E",
    "itemize": "Ctrl-I"
   },
   "labels_anchors": false,
   "latex_user_defs": false,
   "report_style_numbering": true,
   "user_envs_cfg": true
  },
  "nbTranslate": {
   "displayLangs": [
    "*"
   ],
   "hotkey": "alt-t",
   "langInMainMenu": true,
   "sourceLang": "en",
   "targetLang": "fr",
   "useGoogleTranslate": true
  },
  "toc": {
   "base_numbering": 1,
   "nav_menu": {},
   "number_sections": true,
   "sideBar": true,
   "skip_h1_title": false,
   "title_cell": "Table of Contents",
   "title_sidebar": "Contents",
   "toc_cell": false,
   "toc_position": {},
   "toc_section_display": "block",
   "toc_window_display": false
  },
  "varInspector": {
   "cols": {
    "lenName": 16,
    "lenType": 16,
    "lenVar": 40
   },
   "kernels_config": {
    "python": {
     "delete_cmd_postfix": "",
     "delete_cmd_prefix": "del ",
     "library": "var_list.py",
     "varRefreshCmd": "print(var_dic_list())"
    },
    "r": {
     "delete_cmd_postfix": ") ",
     "delete_cmd_prefix": "rm(",
     "library": "var_list.r",
     "varRefreshCmd": "cat(var_dic_list()) "
    }
   },
   "types_to_exclude": [
    "module",
    "function",
    "builtin_function_or_method",
    "instance",
    "_Feature"
   ],
   "window_display": false
  }
 },
 "nbformat": 4,
 "nbformat_minor": 2
}
