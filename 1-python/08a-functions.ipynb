{
 "cells": [
  {
   "cell_type": "markdown",
   "source": [
    "___\n",
    "<h1> Machine Learning </h1>\n",
    "<h2> M. Sc. in Electrical and Computer Engineering </h2>\n",
    "<h3> Instituto Superior de Engenharia / Universidade do Algarve </h3>\n",
    "\n",
    "[LESTI](https://ise.ualg.pt/curso/1941) / [ISE](https://ise.ualg.pt) / [UAlg](https://www.ualg.pt)\n",
    "\n",
    "Pedro J. S. Cardoso (pcardoso@ualg.pt)\n",
    "\n",
    "___"
   ],
   "metadata": {
    "collapsed": false
   }
  },
  {
   "cell_type": "markdown",
   "metadata": {},
   "source": [
    "# Functions\n",
    "\n",
    "- function is a sequence of instructions that perform a task, bundled as a unit.\n",
    "- This unit can then be imported and used wherever it's needed. \n",
    "- A function is a block of instructions, packaged as a whole, like a box. Functions can accept input arguments and produce output values. Both of these are optional.\n",
    "\n",
    "Functions are among the most important concepts and constructs of any language, so let me give you a few reasons why we need them:\n",
    "- They __reduce code duplication__ in a program. By having a specific task taken care of by a nice block of packaged code that we can import and call whenever we want, we don't need to duplicate its implementation.\n",
    "- They help in __splitting a complex task__ or procedure into smaller blocks, each of which becomes a function.\n",
    "- They __hide the implementation__ details from their users.\n",
    "- They improve __traceability__\n",
    "- They improve __readability__ "
   ]
  },
  {
   "cell_type": "markdown",
   "metadata": {},
   "source": [
    "The simpliest function would be somethink like the following (no argument, returns anything)"
   ]
  },
  {
   "cell_type": "code",
   "execution_count": null,
   "metadata": {
    "ExecuteTime": {
     "end_time": "2022-02-17T23:00:02.908572Z",
     "start_time": "2022-02-17T23:00:02.906680Z"
    }
   },
   "outputs": [],
   "source": [
    "def func():\n",
    "    pass"
   ]
  },
  {
   "cell_type": "markdown",
   "metadata": {},
   "source": [
    "Function can receive 0, 1 or multiple alguments and return 0, 1 or multiple values"
   ]
  },
  {
   "cell_type": "code",
   "execution_count": null,
   "metadata": {
    "ExecuteTime": {
     "end_time": "2022-03-07T17:31:13.686235Z",
     "start_time": "2022-03-07T17:31:13.682080Z"
    }
   },
   "outputs": [],
   "source": [
    "def my_function(name):\n",
    "    \"\"\"one argument function\"\"\"\n",
    "    print(f'my_function: Hello {name}')\n",
    "\n",
    "def my_function2(name, age):\n",
    "    \"\"\"two argument function\"\"\"\n",
    "    print(f'my_function2: Hello {name}')\n",
    "    return len(name), 2022 - age\n",
    "\n",
    "my_function('Peter')\n",
    "\n",
    "n, y = my_function2('Peter', 21)\n",
    "\n",
    "print(f\"your name has {n} letters\")\n",
    "print(f\"Were you born in {y}?\")"
   ]
  },
  {
   "cell_type": "code",
   "execution_count": null,
   "metadata": {
    "ExecuteTime": {
     "end_time": "2022-03-07T17:31:24.236481Z",
     "start_time": "2022-03-07T17:31:24.233679Z"
    }
   },
   "outputs": [],
   "source": [
    "help(my_function2)"
   ]
  },
  {
   "cell_type": "markdown",
   "metadata": {},
   "source": [
    "## Variables scopes\n",
    "\n",
    "The scope of one variable refers to where it is visible to the code, and its value"
   ]
  },
  {
   "cell_type": "code",
   "execution_count": null,
   "metadata": {
    "ExecuteTime": {
     "end_time": "2022-03-07T17:31:45.842704Z",
     "start_time": "2022-03-07T17:31:45.832144Z"
    }
   },
   "outputs": [],
   "source": [
    "def outer():\n",
    "    def inner():        # a function inside a function!? yup!\n",
    "        test = 2        # inner scope\n",
    "        print('inner:', test)\n",
    "        \n",
    "    test = 1            # outer scope\n",
    "    inner()\n",
    "    print('outer:', test)\n",
    "\n",
    "test = 0                # global scope\n",
    "outer()\n",
    "print('global:', test)\n",
    "inner()                 # error! function not defined in this scope"
   ]
  },
  {
   "cell_type": "markdown",
   "metadata": {},
   "source": [
    "### global\n",
    "- The `global` statement causes the listed identifiers to refer to the global scope"
   ]
  },
  {
   "cell_type": "code",
   "execution_count": null,
   "metadata": {
    "ExecuteTime": {
     "end_time": "2022-02-17T23:03:10.585880Z",
     "start_time": "2022-02-17T23:03:10.582353Z"
    }
   },
   "outputs": [],
   "source": [
    "m = 5\n",
    "m_g = 5\n",
    "\n",
    "def local():\n",
    "    global m_g\n",
    "    m = 7\n",
    "    m_g = 7\n",
    "    print(f\"m inside local(): {m}\")\n",
    "    print(f\"m_g inside local(): {m_g}\")\n",
    "\n",
    "print(f\"m before calling local(): {m}\")\n",
    "print(f\"m_g before calling local(): {m_g}\")\n",
    "\n",
    "local()\n",
    "\n",
    "print(f\"m after calling local(): {m}\")\n",
    "print(f\"m_g after calling local(): {m_g}\")"
   ]
  },
  {
   "cell_type": "markdown",
   "metadata": {},
   "source": [
    "In a more \"deep construction\" the global also works"
   ]
  },
  {
   "cell_type": "code",
   "execution_count": null,
   "metadata": {},
   "outputs": [],
   "source": [
    "def outer():\n",
    "    test = 1 # outer scope\n",
    "\n",
    "    def inner():\n",
    "        global test         # <------- global\n",
    "        test = 2            \n",
    "        print('inner:', test)\n",
    "\n",
    "    inner()\n",
    "    print('outer:', test)\n",
    "\n",
    "test = 0 # global scope\n",
    "outer()\n",
    "print('global:', test)   "
   ]
  },
  {
   "cell_type": "markdown",
   "metadata": {},
   "source": [
    "### nonlocal\n",
    "\n",
    "- The `nonlocal` statement causes the listed identifiers to refer to previously bound variables in the nearest enclosing scope excluding globals"
   ]
  },
  {
   "cell_type": "code",
   "execution_count": null,
   "metadata": {},
   "outputs": [],
   "source": [
    "def outer():\n",
    "    test = 1 # outer scope\n",
    "\n",
    "    def inner():\n",
    "        nonlocal test          # <------- nonlocal\n",
    "        test = 2 \n",
    "        print('inner:', test)\n",
    "\n",
    "    inner()\n",
    "    print('outer:', test)\n",
    "\n",
    "test = 0 # global scope\n",
    "outer()\n",
    "print('global:', test)  "
   ]
  },
  {
   "cell_type": "markdown",
   "metadata": {
    "collapsed": true
   },
   "source": [
    "## Parameters\n",
    " \n",
    "- Argument passing (parameters) is nothing more than assigning an object to a local variable name\n",
    "- Assigning an object to an argument name inside a function doesn't affect the caller\n",
    "- Changing a mutable object argument in a function affects the caller"
   ]
  },
  {
   "cell_type": "code",
   "execution_count": null,
   "metadata": {
    "ExecuteTime": {
     "end_time": "2022-02-17T23:06:50.874325Z",
     "start_time": "2022-02-17T23:06:50.861622Z"
    }
   },
   "outputs": [],
   "source": [
    "x = 3\n",
    "\n",
    "def func(x):\n",
    "    print(x)\n",
    "    x = 10          # defining a local x, not changing the global one\n",
    "\n",
    "func(x)   \n",
    "print(x)"
   ]
  },
  {
   "cell_type": "code",
   "execution_count": null,
   "metadata": {
    "ExecuteTime": {
     "end_time": "2022-02-17T23:07:18.146590Z",
     "start_time": "2022-02-17T23:07:18.142980Z"
    }
   },
   "outputs": [],
   "source": [
    "x = [1, 2, 3]\n",
    "\n",
    "def func2(x_in):\n",
    "    print(x_in)\n",
    "    x_in[1] = 42    # this affects the caller, because there is a mutable object argument!\n",
    "\n",
    "func2(x)\n",
    "print(x)            "
   ]
  },
  {
   "cell_type": "markdown",
   "metadata": {},
   "source": [
    "Assigning an object to an argument name within a function doesn't affect the caller"
   ]
  },
  {
   "cell_type": "code",
   "execution_count": null,
   "metadata": {
    "ExecuteTime": {
     "end_time": "2022-02-17T23:07:27.323142Z",
     "start_time": "2022-02-17T23:07:27.319792Z"
    }
   },
   "outputs": [],
   "source": [
    "x = [1, 2, 3]\n",
    "\n",
    "def func3(x):\n",
    "    x[1] = 42               # this changes the caller!\n",
    "    x = 'something else'    # this points x to a new string object\n",
    "\n",
    "func3(x)\n",
    "print(x)                    # still prints: [1, 42, 3]    "
   ]
  },
  {
   "cell_type": "markdown",
   "metadata": {},
   "source": [
    "### Positional argument\n",
    "- __Positional arguments__ are read from left to right and they are the most common type of arguments\n",
    "- __Keyword arguments__ are assigned by keyword using the `name=value` syntax\n",
    "- The counterpart of keyword arguments, on the definition side, is __default values__. The syntax is the same, `name=value`, and allows us to not have to provide an argument if we are happy with the given default. You cannot specify a default argument on the left of a positional one"
   ]
  },
  {
   "cell_type": "code",
   "execution_count": null,
   "metadata": {
    "ExecuteTime": {
     "end_time": "2022-02-17T23:09:38.892550Z",
     "start_time": "2022-02-17T23:09:38.890373Z"
    }
   },
   "outputs": [],
   "source": [
    "def func(a, b, c):\n",
    "    print(a, b, c)        "
   ]
  },
  {
   "cell_type": "code",
   "execution_count": null,
   "metadata": {
    "ExecuteTime": {
     "end_time": "2022-02-17T23:09:44.888043Z",
     "start_time": "2022-02-17T23:09:44.885417Z"
    }
   },
   "outputs": [],
   "source": [
    "func(1, 2, 3)"
   ]
  },
  {
   "cell_type": "code",
   "execution_count": null,
   "metadata": {
    "ExecuteTime": {
     "end_time": "2022-02-17T23:09:52.139557Z",
     "start_time": "2022-02-17T23:09:52.136504Z"
    }
   },
   "outputs": [],
   "source": [
    "func(a=1, c=2, b=3) "
   ]
  },
  {
   "cell_type": "code",
   "execution_count": null,
   "metadata": {
    "ExecuteTime": {
     "end_time": "2022-02-17T23:09:56.223721Z",
     "start_time": "2022-02-17T23:09:56.221100Z"
    }
   },
   "outputs": [],
   "source": [
    "\n",
    "func(1, c=2, b=3) "
   ]
  },
  {
   "cell_type": "markdown",
   "metadata": {},
   "source": [
    "with default values for the arguments"
   ]
  },
  {
   "cell_type": "code",
   "execution_count": null,
   "metadata": {
    "ExecuteTime": {
     "end_time": "2022-02-17T23:10:28.546668Z",
     "start_time": "2022-02-17T23:10:28.542973Z"
    }
   },
   "outputs": [],
   "source": [
    "def func2(a, b=4, c=88):\n",
    "    print(a, b, c)\n",
    "\n",
    "func2(1)                 # prints: 1 4 88\n",
    "func2(b=5, a=7, c=9)     # prints: 7 5 9\n",
    "func2(42, c=9)           # prints: 42 4 9"
   ]
  },
  {
   "cell_type": "code",
   "execution_count": null,
   "metadata": {},
   "outputs": [],
   "source": [
    "func2(b=1, c=2, 42)      # SyntaxError: non-keyword arg after keyword arg"
   ]
  },
  {
   "cell_type": "markdown",
   "metadata": {},
   "source": [
    "### Variable positional arguments (optional)\n",
    "\n",
    "Sometimes you may want to pass a non fixed number of positional arguments to a function and Python provides you with the ability to do it"
   ]
  },
  {
   "cell_type": "code",
   "execution_count": null,
   "metadata": {
    "ExecuteTime": {
     "end_time": "2022-02-17T23:11:16.723696Z",
     "start_time": "2022-02-17T23:11:16.719951Z"
    }
   },
   "outputs": [],
   "source": [
    "def minimum(*n):\n",
    "    print(n)            # n is a tuple\n",
    "    if n:               # n <> None\n",
    "        mn = n[0]\n",
    "        for value in n[1:]:\n",
    "            if value < mn:\n",
    "                mn = value\n",
    "        print(mn)"
   ]
  },
  {
   "cell_type": "code",
   "execution_count": null,
   "metadata": {
    "ExecuteTime": {
     "end_time": "2022-02-17T23:11:28.989600Z",
     "start_time": "2022-02-17T23:11:28.986786Z"
    }
   },
   "outputs": [],
   "source": [
    "minimum(1, 3, -7, 9, 10)"
   ]
  },
  {
   "cell_type": "code",
   "execution_count": null,
   "metadata": {
    "ExecuteTime": {
     "end_time": "2022-02-17T23:12:24.142633Z",
     "start_time": "2022-02-17T23:12:24.139636Z"
    }
   },
   "outputs": [],
   "source": [
    "minimum()   "
   ]
  },
  {
   "cell_type": "markdown",
   "metadata": {
    "ExecuteTime": {
     "end_time": "2022-02-17T23:12:49.950386Z",
     "start_time": "2022-02-17T23:12:49.948470Z"
    }
   },
   "source": [
    "### unpacking\n",
    "Considering the simple function"
   ]
  },
  {
   "cell_type": "code",
   "execution_count": null,
   "metadata": {
    "ExecuteTime": {
     "end_time": "2022-02-17T23:13:43.203219Z",
     "start_time": "2022-02-17T23:13:43.200860Z"
    }
   },
   "outputs": [],
   "source": [
    "values = (1, 3, -7, 9)\n",
    "\n",
    "def func(*args):\n",
    "    print(args)"
   ]
  },
  {
   "cell_type": "markdown",
   "metadata": {},
   "source": [
    "The following call is equivalent to: `func((1, 3, -7, 9))`"
   ]
  },
  {
   "cell_type": "code",
   "execution_count": null,
   "metadata": {
    "ExecuteTime": {
     "end_time": "2022-02-17T23:13:57.832948Z",
     "start_time": "2022-02-17T23:13:57.830684Z"
    }
   },
   "outputs": [],
   "source": [
    "func(values)    "
   ]
  },
  {
   "cell_type": "markdown",
   "metadata": {},
   "source": [
    "but, the following is equivalent to: func(1, 3, -7, 9) "
   ]
  },
  {
   "cell_type": "code",
   "execution_count": null,
   "metadata": {
    "ExecuteTime": {
     "end_time": "2022-02-17T23:14:28.509719Z",
     "start_time": "2022-02-17T23:14:28.506818Z"
    }
   },
   "outputs": [],
   "source": [
    "\n",
    "func(*values)    "
   ]
  },
  {
   "cell_type": "markdown",
   "metadata": {},
   "source": [
    "In the first one, we call `func` with one argument, which in the case is a four elements tuple. In the second example, by using the `*` syntax, we're doing something called __unpacking__, which means that the four elements tuple is unpacked, and the function is called with four arguments: 1, 3, -7, 9."
   ]
  },
  {
   "cell_type": "markdown",
   "metadata": {},
   "source": [
    "### Variable keyword arguments\n",
    "Variable keyword arguments are very similar to variable positional arguments. The only difference is the syntax (`**` instead of `*`) and that they are collected in a dictionary."
   ]
  },
  {
   "cell_type": "code",
   "execution_count": null,
   "metadata": {
    "ExecuteTime": {
     "end_time": "2022-02-17T23:16:39.684381Z",
     "start_time": "2022-02-17T23:16:39.681566Z"
    }
   },
   "outputs": [],
   "source": [
    "def func(**kwargs):\n",
    "    print(kwargs)"
   ]
  },
  {
   "cell_type": "markdown",
   "metadata": {},
   "source": [
    "The following calls are equivalent"
   ]
  },
  {
   "cell_type": "code",
   "execution_count": null,
   "metadata": {
    "ExecuteTime": {
     "end_time": "2022-02-17T23:17:02.233930Z",
     "start_time": "2022-02-17T23:17:02.227833Z"
    }
   },
   "outputs": [],
   "source": [
    "func(a=1, b=42)"
   ]
  },
  {
   "cell_type": "code",
   "execution_count": null,
   "metadata": {
    "ExecuteTime": {
     "end_time": "2022-02-17T23:17:02.451682Z",
     "start_time": "2022-02-17T23:17:02.448302Z"
    }
   },
   "outputs": [],
   "source": [
    "func(**{'a': 1, 'b': 42})"
   ]
  },
  {
   "cell_type": "code",
   "execution_count": null,
   "metadata": {
    "ExecuteTime": {
     "end_time": "2022-02-17T23:17:11.012232Z",
     "start_time": "2022-02-17T23:17:11.009418Z"
    }
   },
   "outputs": [],
   "source": [
    "\n",
    "func(**dict(a=1, b=42))  "
   ]
  },
  {
   "cell_type": "markdown",
   "metadata": {
    "ExecuteTime": {
     "end_time": "2022-02-17T23:17:21.613850Z",
     "start_time": "2022-02-17T23:17:21.610555Z"
    }
   },
   "source": [
    "Mixing it all, we can combine input parameters, as long as you follow these ordering rules:\n",
    "\n",
    "- when defining a function, normal positional arguments come first (`name`), then any default arguments (`name=value`), then the variable positional arguments (`*name`, or simply `*`), then any keyword-only arguments (either `name` or `name=value` form is good), then any variable keyword arguments (`**name`).\n",
    "- On the other hand, when calling a function, arguments must be given in the following order: positional arguments first (`value`), then any combination of keyword arguments (`name=value`), variable positional arguments (`*name`), then variable keyword arguments (`**name`)"
   ]
  },
  {
   "cell_type": "code",
   "execution_count": null,
   "metadata": {},
   "outputs": [],
   "source": [
    "def func(a, b, c=7, *args, **kwargs):\n",
    "    print(10 * '-')\n",
    "    print('a, b, c:', a, b, c)\n",
    "    print('args:', args)\n",
    "    print('kwargs:', kwargs)\n",
    "\n",
    "func(1, 2, 3, *(5, 7, 9), **{'A': 'a', 'B': 'b'})"
   ]
  },
  {
   "cell_type": "code",
   "execution_count": null,
   "metadata": {
    "ExecuteTime": {
     "end_time": "2022-02-17T23:18:03.040565Z",
     "start_time": "2022-02-17T23:18:03.007502Z"
    }
   },
   "outputs": [],
   "source": [
    "func(1, 2, 3, 5, 7, 9, A='a', B='b')  # same as previous one "
   ]
  },
  {
   "cell_type": "markdown",
   "metadata": {},
   "source": [
    "and another sometimes useful example"
   ]
  },
  {
   "cell_type": "code",
   "execution_count": null,
   "metadata": {
    "ExecuteTime": {
     "end_time": "2022-02-17T23:18:33.187610Z",
     "start_time": "2022-02-17T23:18:33.181546Z"
    }
   },
   "outputs": [],
   "source": [
    "def connect(**options):\n",
    "    conn_params = {\n",
    "        'host': options.get('host', '127.0.0.1'),\n",
    "        'port': options.get('port', 5432),\n",
    "        'user': options.get('user', ''),\n",
    "        'pwd': options.get('pwd', ''),\n",
    "    }\n",
    "    print(conn_params)\n",
    "    # we then connect to the db (commented out)\n",
    "    # db.connect(**conn_params)\n",
    "    # ...\n",
    "\n",
    "connect()\n",
    "connect(host='127.0.0.42', port=5433)\n",
    "connect(port=5431, user='fab', pwd='gandalf') "
   ]
  },
  {
   "cell_type": "markdown",
   "metadata": {},
   "source": [
    "## Return of values.\n",
    "In Python, you can return a tuple, and this implies that you can return whatever you want"
   ]
  },
  {
   "cell_type": "code",
   "execution_count": null,
   "metadata": {},
   "outputs": [],
   "source": [
    "def factorial(n):\n",
    "    if n == 0:\n",
    "        return 1\n",
    "    \n",
    "    fact = 1\n",
    "    while n > 1:\n",
    "        fact *= n\n",
    "        n = n - 1\n",
    "    return fact\n",
    "        \n",
    "        \n",
    "factorial(5)   "
   ]
  },
  {
   "cell_type": "markdown",
   "metadata": {},
   "source": [
    "Return multiple values"
   ]
  },
  {
   "cell_type": "code",
   "execution_count": null,
   "metadata": {},
   "outputs": [],
   "source": [
    "def moddiv(a, b):\n",
    "    return a // b, a % b\n",
    "\n",
    "print(moddiv(20, 7)) # prints (2, 6)    "
   ]
  },
  {
   "cell_type": "markdown",
   "metadata": {},
   "source": [
    "which can be received in two variables "
   ]
  },
  {
   "cell_type": "code",
   "execution_count": null,
   "metadata": {},
   "outputs": [],
   "source": [
    "d, r = moddiv(20, 7)"
   ]
  },
  {
   "cell_type": "code",
   "execution_count": null,
   "metadata": {},
   "outputs": [],
   "source": [
    "d"
   ]
  },
  {
   "cell_type": "code",
   "execution_count": null,
   "metadata": {},
   "outputs": [],
   "source": [
    "r"
   ]
  },
  {
   "cell_type": "markdown",
   "metadata": {},
   "source": [
    "or in a tuple"
   ]
  },
  {
   "cell_type": "code",
   "execution_count": null,
   "metadata": {},
   "outputs": [],
   "source": [
    "t = moddiv(20, 7)\n",
    "t"
   ]
  },
  {
   "cell_type": "markdown",
   "metadata": {},
   "source": [
    "## Anonymous function - lambda (optional)\n",
    "- Anonymous functions are called lambdas in Python, and are usually used when a fully-fledged function with its own name would be overkill, and all we want is a quick, simple one-liner that does the job\n",
    "        \n",
    "- Defining a lambda is very easy and follows this form: `func_name = lambda [parameter_list]: expression}.` \n",
    "        \n",
    "- A function object is returned, which is equivalent to this: `def func_name([parameter_list]): return expression`"
   ]
  },
  {
   "cell_type": "code",
   "execution_count": null,
   "metadata": {
    "ExecuteTime": {
     "end_time": "2022-03-07T17:37:16.940628Z",
     "start_time": "2022-03-07T17:37:16.935794Z"
    }
   },
   "outputs": [],
   "source": [
    "def is_multiple_of_five(n):\n",
    "    return not n % 5\n",
    "\n",
    "def get_multiples_of_five(n):\n",
    "    return list(filter(is_multiple_of_five, range(n)))\n",
    "\n",
    "print(get_multiples_of_five(50))"
   ]
  },
  {
   "cell_type": "markdown",
   "metadata": {},
   "source": [
    "or, using a lambda function "
   ]
  },
  {
   "cell_type": "code",
   "execution_count": null,
   "metadata": {
    "ExecuteTime": {
     "end_time": "2022-03-07T17:37:37.149784Z",
     "start_time": "2022-03-07T17:37:37.146411Z"
    }
   },
   "outputs": [],
   "source": [
    "def get_multiples_of_five(n):\n",
    "    return list(filter(lambda k : k % 5 == 0, range(n)))\n",
    "\n",
    "print(get_multiples_of_five(50))"
   ]
  },
  {
   "cell_type": "markdown",
   "metadata": {},
   "source": [
    "And 2 more examples"
   ]
  },
  {
   "cell_type": "code",
   "execution_count": null,
   "metadata": {
    "ExecuteTime": {
     "end_time": "2022-03-07T17:37:43.677594Z",
     "start_time": "2022-03-07T17:37:43.665657Z"
    }
   },
   "outputs": [],
   "source": [
    "f = lambda x: x**2\n",
    "\n",
    "f(5)"
   ]
  },
  {
   "cell_type": "code",
   "execution_count": null,
   "metadata": {
    "ExecuteTime": {
     "end_time": "2022-03-07T17:37:46.581189Z",
     "start_time": "2022-03-07T17:37:46.578202Z"
    }
   },
   "outputs": [],
   "source": [
    "odd = lambda x: bool(x % 2)\n",
    "\n",
    "odd(3)"
   ]
  },
  {
   "cell_type": "markdown",
   "metadata": {},
   "source": [
    "## Conclusion\n",
    "In short,  \n",
    "- __Functions should do one thing__: Functions that do one thing are easy to describe in one short sentence. Functions which do multiple things can be split into smaller functions which do one thing. These smaller functions are usually easier to read and understand. \n",
    "        \n",
    "- __Functions should be small__: The smaller they are, the easier it is to test them and to write them so that they do one thing.\n",
    "        \n",
    "- __The fewer input parameters, the better__: Functions which take a lot of arguments quickly become harder to manage (among other issues).\n",
    "\n",
    "- __Functions should be consistent in their return values__: Returning `False` or `None` is not the same thing, even if within a `Boolean` context they both evaluate to `False`.`False` means that we have information (False), while  `None` means that there is no information. Try writing functions which return in a consistent way, no matter what happens in their body.\n",
    "        \n",
    "- __Functions shouldn't have side effects__: In other words, functions should not affect the values you call them with. This is probably the hardest statement to understand at this point, so remember the example above with lists. "
   ]
  },
  {
   "cell_type": "markdown",
   "metadata": {},
   "source": [
    "## Exercises\n",
    "[Go here...](exercises/08-exercises.ipynb)\n"
   ]
  },
  {
   "cell_type": "code",
   "execution_count": null,
   "metadata": {},
   "outputs": [],
   "source": []
  }
 ],
 "metadata": {
  "kernelspec": {
   "display_name": "Python 3 (ipykernel)",
   "language": "python",
   "name": "python3"
  },
  "language_info": {
   "codemirror_mode": {
    "name": "ipython",
    "version": 3
   },
   "file_extension": ".py",
   "mimetype": "text/x-python",
   "name": "python",
   "nbconvert_exporter": "python",
   "pygments_lexer": "ipython3",
   "version": "3.10.6"
  },
  "latex_envs": {
   "LaTeX_envs_menu_present": true,
   "autoclose": true,
   "autocomplete": true,
   "bibliofile": "references.bib",
   "cite_by": "apalike",
   "current_citInitial": 1,
   "eqLabelWithNumbers": false,
   "eqNumInitial": 1,
   "hotkeys": {
    "equation": "Ctrl-E",
    "itemize": "Ctrl-I"
   },
   "labels_anchors": false,
   "latex_user_defs": false,
   "report_style_numbering": true,
   "user_envs_cfg": false
  },
  "nbTranslate": {
   "displayLangs": [
    "*"
   ],
   "hotkey": "alt-t",
   "langInMainMenu": true,
   "sourceLang": "en",
   "targetLang": "fr",
   "useGoogleTranslate": true
  },
  "toc": {
   "base_numbering": 1,
   "nav_menu": {
    "height": "266px",
    "width": "297px"
   },
   "number_sections": true,
   "sideBar": true,
   "skip_h1_title": false,
   "title_cell": "Table of Contents",
   "title_sidebar": "Contents",
   "toc_cell": false,
   "toc_position": {},
   "toc_section_display": "block",
   "toc_window_display": false
  },
  "varInspector": {
   "cols": {
    "lenName": 16,
    "lenType": 16,
    "lenVar": 40
   },
   "kernels_config": {
    "python": {
     "delete_cmd_postfix": "",
     "delete_cmd_prefix": "del ",
     "library": "var_list.py",
     "varRefreshCmd": "print(var_dic_list())"
    },
    "r": {
     "delete_cmd_postfix": ") ",
     "delete_cmd_prefix": "rm(",
     "library": "var_list.r",
     "varRefreshCmd": "cat(var_dic_list()) "
    }
   },
   "types_to_exclude": [
    "module",
    "function",
    "builtin_function_or_method",
    "instance",
    "_Feature"
   ],
   "window_display": false
  }
 },
 "nbformat": 4,
 "nbformat_minor": 2
}
