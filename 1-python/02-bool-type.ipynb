{
 "cells": [
  {
   "cell_type": "markdown",
   "metadata": {},
   "source": [
    "# bool type"
   ]
  },
  {
   "cell_type": "markdown",
   "metadata": {},
   "source": [
    "`True` and `False` are two keywords that are used to represent truth values.\n",
    "\n",
    "Booleans are a subclass of integers, and behave respectively like 1 and 0. \n",
    "\n",
    "The equivalent of the int class for Booleans is the bool class, which returns either True or False. "
   ]
  },
  {
   "cell_type": "code",
   "execution_count": null,
   "metadata": {
    "ExecuteTime": {
     "end_time": "2019-02-14T21:28:49.692395Z",
     "start_time": "2019-02-14T21:28:49.678431Z"
    }
   },
   "outputs": [],
   "source": [
    "int(True)"
   ]
  },
  {
   "cell_type": "code",
   "execution_count": null,
   "metadata": {
    "ExecuteTime": {
     "end_time": "2019-02-14T21:28:53.773486Z",
     "start_time": "2019-02-14T21:28:53.766503Z"
    }
   },
   "outputs": [],
   "source": [
    "int(False)"
   ]
  },
  {
   "cell_type": "code",
   "execution_count": null,
   "metadata": {
    "ExecuteTime": {
     "end_time": "2019-02-14T21:29:24.159063Z",
     "start_time": "2019-02-14T21:29:24.154081Z"
    }
   },
   "outputs": [],
   "source": [
    "bool(1)"
   ]
  },
  {
   "cell_type": "code",
   "execution_count": null,
   "metadata": {
    "ExecuteTime": {
     "end_time": "2019-02-14T21:29:27.461015Z",
     "start_time": "2019-02-14T21:29:27.455533Z"
    }
   },
   "outputs": [],
   "source": [
    "bool(-1324123123)"
   ]
  },
  {
   "cell_type": "code",
   "execution_count": null,
   "metadata": {
    "ExecuteTime": {
     "end_time": "2019-02-14T21:29:29.569916Z",
     "start_time": "2019-02-14T21:29:29.564929Z"
    }
   },
   "outputs": [],
   "source": [
    "bool(0)"
   ]
  },
  {
   "cell_type": "markdown",
   "metadata": {},
   "source": [
    "## Logical operators"
   ]
  },
  {
   "cell_type": "code",
   "execution_count": null,
   "metadata": {},
   "outputs": [],
   "source": [
    "1 < 2 "
   ]
  },
  {
   "cell_type": "code",
   "execution_count": null,
   "metadata": {
    "ExecuteTime": {
     "end_time": "2019-02-14T21:29:37.348492Z",
     "start_time": "2019-02-14T21:29:37.343504Z"
    }
   },
   "outputs": [],
   "source": [
    "1 > 2"
   ]
  },
  {
   "cell_type": "code",
   "execution_count": null,
   "metadata": {
    "ExecuteTime": {
     "end_time": "2019-02-14T21:29:50.069489Z",
     "start_time": "2019-02-14T21:29:50.064502Z"
    }
   },
   "outputs": [],
   "source": [
    "1 < 2 < 3"
   ]
  },
  {
   "cell_type": "code",
   "execution_count": null,
   "metadata": {
    "ExecuteTime": {
     "end_time": "2019-02-14T21:29:55.519804Z",
     "start_time": "2019-02-14T21:29:55.513859Z"
    }
   },
   "outputs": [],
   "source": [
    "1 < 2 > 3"
   ]
  },
  {
   "cell_type": "code",
   "execution_count": null,
   "metadata": {
    "ExecuteTime": {
     "end_time": "2019-02-14T21:30:10.670855Z",
     "start_time": "2019-02-14T21:30:10.665867Z"
    }
   },
   "outputs": [],
   "source": [
    "True or False"
   ]
  },
  {
   "cell_type": "code",
   "execution_count": null,
   "metadata": {
    "ExecuteTime": {
     "end_time": "2019-02-14T21:30:13.639920Z",
     "start_time": "2019-02-14T21:30:13.633967Z"
    }
   },
   "outputs": [],
   "source": [
    "True and False"
   ]
  },
  {
   "cell_type": "code",
   "execution_count": null,
   "metadata": {
    "ExecuteTime": {
     "end_time": "2019-02-14T21:30:27.647728Z",
     "start_time": "2019-02-14T21:30:27.642741Z"
    }
   },
   "outputs": [],
   "source": [
    "True & False"
   ]
  },
  {
   "cell_type": "code",
   "execution_count": null,
   "metadata": {
    "ExecuteTime": {
     "end_time": "2019-02-14T21:30:29.998061Z",
     "start_time": "2019-02-14T21:30:29.993073Z"
    }
   },
   "outputs": [],
   "source": [
    "True | False"
   ]
  },
  {
   "cell_type": "markdown",
   "metadata": {},
   "source": [
    "## What \"is True\"? What \"is False\"?"
   ]
  },
  {
   "cell_type": "code",
   "execution_count": null,
   "metadata": {
    "ExecuteTime": {
     "end_time": "2019-02-14T21:33:12.213200Z",
     "start_time": "2019-02-14T21:33:12.207216Z"
    }
   },
   "outputs": [],
   "source": [
    "bool('')"
   ]
  },
  {
   "cell_type": "code",
   "execution_count": null,
   "metadata": {
    "ExecuteTime": {
     "end_time": "2019-02-14T21:33:24.033934Z",
     "start_time": "2019-02-14T21:33:24.028946Z"
    }
   },
   "outputs": [],
   "source": [
    "bool(' ') # a space"
   ]
  },
  {
   "cell_type": "code",
   "execution_count": null,
   "metadata": {
    "ExecuteTime": {
     "end_time": "2019-02-14T21:33:44.923912Z",
     "start_time": "2019-02-14T21:33:44.918925Z"
    }
   },
   "outputs": [],
   "source": [
    "bool('bla')"
   ]
  },
  {
   "cell_type": "code",
   "execution_count": null,
   "metadata": {
    "ExecuteTime": {
     "end_time": "2019-02-14T21:34:33.104354Z",
     "start_time": "2019-02-14T21:34:33.098413Z"
    }
   },
   "outputs": [],
   "source": [
    "bool([])"
   ]
  },
  {
   "cell_type": "code",
   "execution_count": null,
   "metadata": {
    "ExecuteTime": {
     "end_time": "2019-02-14T21:34:34.723130Z",
     "start_time": "2019-02-14T21:34:34.718140Z"
    }
   },
   "outputs": [],
   "source": [
    "bool([1, 2, 3])"
   ]
  },
  {
   "cell_type": "code",
   "execution_count": null,
   "metadata": {
    "ExecuteTime": {
     "end_time": "2019-02-14T21:36:37.645444Z",
     "start_time": "2019-02-14T21:36:37.639489Z"
    }
   },
   "outputs": [],
   "source": [
    "bool(())"
   ]
  },
  {
   "cell_type": "code",
   "execution_count": null,
   "metadata": {
    "ExecuteTime": {
     "end_time": "2019-02-14T21:36:39.623154Z",
     "start_time": "2019-02-14T21:36:39.618166Z"
    }
   },
   "outputs": [],
   "source": [
    "bool((1,2,3))"
   ]
  },
  {
   "cell_type": "code",
   "execution_count": null,
   "metadata": {
    "ExecuteTime": {
     "end_time": "2019-02-14T21:36:53.839155Z",
     "start_time": "2019-02-14T21:36:53.833170Z"
    }
   },
   "outputs": [],
   "source": [
    "bool({})"
   ]
  },
  {
   "cell_type": "code",
   "execution_count": null,
   "metadata": {
    "ExecuteTime": {
     "end_time": "2019-02-14T21:37:22.785777Z",
     "start_time": "2019-02-14T21:37:22.779793Z"
    }
   },
   "outputs": [],
   "source": [
    "bool({'a' : 1})"
   ]
  },
  {
   "cell_type": "markdown",
   "metadata": {},
   "source": [
    "## Bitwise operations (optional)\n",
    "Remeber that $(2)_b = 010$ and $(7)_b = 111$"
   ]
  },
  {
   "cell_type": "code",
   "execution_count": null,
   "metadata": {
    "ExecuteTime": {
     "end_time": "2019-02-14T21:31:30.890751Z",
     "start_time": "2019-02-14T21:31:30.885763Z"
    }
   },
   "outputs": [],
   "source": [
    "2 | 7 "
   ]
  },
  {
   "cell_type": "code",
   "execution_count": null,
   "metadata": {
    "ExecuteTime": {
     "end_time": "2019-02-14T21:31:31.237824Z",
     "start_time": "2019-02-14T21:31:31.232842Z"
    }
   },
   "outputs": [],
   "source": [
    "2 & 7"
   ]
  },
  {
   "cell_type": "code",
   "execution_count": null,
   "metadata": {
    "ExecuteTime": {
     "end_time": "2019-02-14T21:31:36.540263Z",
     "start_time": "2019-02-14T21:31:36.534276Z"
    }
   },
   "outputs": [],
   "source": [
    "2 ^ 7    # xor"
   ]
  },
  {
   "cell_type": "code",
   "execution_count": null,
   "metadata": {
    "ExecuteTime": {
     "end_time": "2019-02-14T21:31:40.688015Z",
     "start_time": "2019-02-14T21:31:40.683484Z"
    }
   },
   "outputs": [],
   "source": [
    "2 << 1     # left shift"
   ]
  },
  {
   "cell_type": "code",
   "execution_count": null,
   "metadata": {
    "ExecuteTime": {
     "end_time": "2019-02-14T21:31:43.119771Z",
     "start_time": "2019-02-14T21:31:43.114423Z"
    }
   },
   "outputs": [],
   "source": [
    "2 >> 1    # right shift 010 -> 001"
   ]
  },
  {
   "cell_type": "code",
   "execution_count": null,
   "metadata": {},
   "outputs": [],
   "source": []
  }
 ],
 "metadata": {
  "kernelspec": {
   "display_name": "Python 3 (ipykernel)",
   "language": "python",
   "name": "python3"
  },
  "language_info": {
   "codemirror_mode": {
    "name": "ipython",
    "version": 3
   },
   "file_extension": ".py",
   "mimetype": "text/x-python",
   "name": "python",
   "nbconvert_exporter": "python",
   "pygments_lexer": "ipython3",
   "version": "3.9.13"
  },
  "latex_envs": {
   "LaTeX_envs_menu_present": true,
   "autoclose": false,
   "autocomplete": true,
   "bibliofile": "biblio.bib",
   "cite_by": "apalike",
   "current_citInitial": 1,
   "eqLabelWithNumbers": true,
   "eqNumInitial": 1,
   "hotkeys": {
    "equation": "Ctrl-E",
    "itemize": "Ctrl-I"
   },
   "labels_anchors": false,
   "latex_user_defs": false,
   "report_style_numbering": true,
   "user_envs_cfg": true
  },
  "nbTranslate": {
   "displayLangs": [
    "*"
   ],
   "hotkey": "alt-t",
   "langInMainMenu": true,
   "sourceLang": "en",
   "targetLang": "fr",
   "useGoogleTranslate": true
  },
  "toc": {
   "base_numbering": 1,
   "nav_menu": {},
   "number_sections": true,
   "sideBar": true,
   "skip_h1_title": false,
   "title_cell": "Table of Contents",
   "title_sidebar": "Contents",
   "toc_cell": false,
   "toc_position": {},
   "toc_section_display": "block",
   "toc_window_display": false
  },
  "varInspector": {
   "cols": {
    "lenName": 16,
    "lenType": 16,
    "lenVar": 40
   },
   "kernels_config": {
    "python": {
     "delete_cmd_postfix": "",
     "delete_cmd_prefix": "del ",
     "library": "var_list.py",
     "varRefreshCmd": "print(var_dic_list())"
    },
    "r": {
     "delete_cmd_postfix": ") ",
     "delete_cmd_prefix": "rm(",
     "library": "var_list.r",
     "varRefreshCmd": "cat(var_dic_list()) "
    }
   },
   "types_to_exclude": [
    "module",
    "function",
    "builtin_function_or_method",
    "instance",
    "_Feature"
   ],
   "window_display": false
  }
 },
 "nbformat": 4,
 "nbformat_minor": 2
}
