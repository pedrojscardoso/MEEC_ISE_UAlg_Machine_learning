{
 "cells": [
  {
   "cell_type": "markdown",
   "source": [
    "___\n",
    "<h1> Machine Learning </h1>\n",
    "<h2> M. Sc. in Electrical and Computer Engineering </h2>\n",
    "<h3> Instituto Superior de Engenharia / Universidade do Algarve </h3>\n",
    "\n",
    "[LESTI](https://ise.ualg.pt/curso/1941) / [ISE](https://ise.ualg.pt) / [UAlg](https://www.ualg.pt)\n",
    "\n",
    "Pedro J. S. Cardoso (pcardoso@ualg.pt)\n",
    "\n",
    "___"
   ],
   "metadata": {
    "collapsed": false
   }
  },
  {
   "cell_type": "markdown",
   "metadata": {},
   "source": [
    "# Threads (Optional)\n",
    "\n",
    "- The main idea is to more than one thing at a time (open to discussion!)\n",
    "- Interests to programmers writing code for running on big iron, but also of interest for users of multicore PCs, e.g.:  \n",
    "    - A network server that communicates with several hundred clients all connected at once\n",
    "    - A big number crunching job that spreads its work across multiple CPUs"
   ]
  },
  {
   "cell_type": "code",
   "execution_count": null,
   "metadata": {},
   "outputs": [],
   "source": [
    "import time\n",
    "import threading\n",
    "\n",
    "class CountdownThread(threading.Thread):    # inherit from Thread\n",
    "    def __init__(self, n):\n",
    "        threading.Thread.__init__(self)\n",
    "        self.n = n\n",
    "\n",
    "    def run(self):                          # redefine run()\n",
    "        while self.n > 0:\n",
    "            print(self.n)\n",
    "            self.n -= 1\n",
    "            time.sleep(.5)\n",
    "\n",
    "CountdownThread(50).start()       # executes until run() stops\n",
    "CountdownThread(50).start()   "
   ]
  },
  {
   "cell_type": "code",
   "execution_count": null,
   "metadata": {
    "ExecuteTime": {
     "end_time": "2018-02-27T18:47:42.790324Z",
     "start_time": "2018-02-27T18:47:42.721139Z"
    }
   },
   "outputs": [],
   "source": [
    "import time\n",
    "import threading\n",
    "\n",
    "class CountDownThread(threading.Thread):    # inherit from Thread\n",
    "\n",
    "    def __init__(self, n, who_am_i=None):\n",
    "        threading.Thread.__init__(self)\n",
    "        self._n = n\n",
    "        self._who_am_i = who_am_i\n",
    "\n",
    "    def run(self):                          # redefine run()\n",
    "        while self._n > 0:\n",
    "            print(\"{}: {}\".format(self._who_am_i if self._who_am_i else \".\", self._n))\n",
    "            self._n -= 1\n",
    "            time.sleep(.5)\n",
    "            \n",
    "class CountUpThread(threading.Thread):    # inherit from Thread\n",
    "\n",
    "    def __init__(self, n, who_am_i=None):\n",
    "        threading.Thread.__init__(self)\n",
    "        self._n = n\n",
    "        self._who_am_i = who_am_i\n",
    "\n",
    "    def run(self):                          # redefine run()\n",
    "        k = 0\n",
    "        while k < self._n :\n",
    "            print(\"{}: {}\".format(self._who_am_i if self._who_am_i else \".\", k))\n",
    "            k += 1\n",
    "            time.sleep(.5)\n",
    "\n",
    "\n",
    "t1 = CountDownThread(5, 'A')       # executes until run() stops\n",
    "t2 = CountDownThread(8, 'B')       # executes until run() stops\n",
    "t3 = CountUpThread(5, 'C')\n",
    "\n",
    "t1.start()\n",
    "t2.start()\n",
    "t3.start()\n",
    "\n",
    "print('over and out! well... maybe not!')"
   ]
  },
  {
   "cell_type": "markdown",
   "metadata": {},
   "source": [
    "An alternative way of calling the threads"
   ]
  },
  {
   "cell_type": "code",
   "execution_count": null,
   "metadata": {
    "ExecuteTime": {
     "end_time": "2018-02-22T22:00:17.194169Z",
     "start_time": "2018-02-22T22:00:17.175572Z"
    }
   },
   "outputs": [],
   "source": [
    "import time\n",
    "import threading\n",
    "\n",
    "def countdown(n, name):\n",
    "    while n > 0:\n",
    "        print('{}:{}'.format(name, n))\n",
    "        n -= 1\n",
    "        time.sleep(.5)\n",
    "\n",
    "\n",
    "# Creates a Thread object, but its run() method just calls the given function\n",
    "threading.Thread(target=countdown, args=(5, 'A')).start()\n",
    "threading.Thread(target=countdown, args=(5, 'B')).start()\n",
    "\n",
    "print('over and out!')"
   ]
  },
  {
   "cell_type": "code",
   "execution_count": null,
   "metadata": {
    "ExecuteTime": {
     "end_time": "2018-02-27T18:50:15.167756Z",
     "start_time": "2018-02-27T18:50:10.090207Z"
    }
   },
   "outputs": [],
   "source": [
    "import time\n",
    "import threading\n",
    "\n",
    "def countdown(n):\n",
    "    while n > 0:\n",
    "        print(n)\n",
    "        n -= 1\n",
    "        time.sleep(.5)\n",
    "\n",
    "t1 = threading.Thread(target=countdown, args=(10,))\n",
    "t2 = threading.Thread(target=countdown, args=(5,))\n",
    "\n",
    "t1.start()\n",
    "t2.start()\n",
    "\n",
    "t1.join()       # Use t.join() to wait for a thread to exit\n",
    "t2.join()\n",
    "\n",
    "print('over and out!')"
   ]
  },
  {
   "cell_type": "markdown",
   "metadata": {},
   "source": [
    "* Threads share all of the data in your program\n",
    "* Thread scheduling is non-deterministic\n",
    "* Operations often take several steps and might be interrupted mid-stream (non-atomic)\n",
    "* Thus, access to any kind of shared data is also non-deterministic"
   ]
  },
  {
   "cell_type": "code",
   "execution_count": null,
   "metadata": {
    "ExecuteTime": {
     "end_time": "2018-02-27T18:53:24.841310Z",
     "start_time": "2018-02-27T18:53:24.829274Z"
    }
   },
   "outputs": [],
   "source": [
    "import time\n",
    "import threading\n",
    "\n",
    "def my_print(s):\n",
    "    time.sleep(.5)\n",
    "    print(s + ' ', end='')\n",
    "\n",
    "print('Why did the multithreaded chicken cross the road?')\n",
    "\n",
    "for s in 'To get to the other side.'.split():\n",
    "    threading.Thread(target=my_print, args=(s,)).start()"
   ]
  },
  {
   "cell_type": "markdown",
   "metadata": {},
   "source": [
    "Accessing Shared Data"
   ]
  },
  {
   "cell_type": "code",
   "execution_count": null,
   "metadata": {
    "ExecuteTime": {
     "end_time": "2018-02-27T19:06:54.020243Z",
     "start_time": "2018-02-27T19:06:53.843520Z"
    }
   },
   "outputs": [],
   "source": [
    "import threading\n",
    "\n",
    "M, k = 1000000, 0\n",
    "\n",
    "def up():\n",
    "    global k\n",
    "    for i in range(M):\n",
    "        k += 1\n",
    "\n",
    "def down():\n",
    "    global k\n",
    "    for i in range(M):\n",
    "        k -= 1\n",
    "\n",
    "t1 = threading.Thread(target=up)\n",
    "t2 = threading.Thread(target=down)\n",
    "\n",
    "t1.start() \n",
    "t2.start()\n",
    "\n",
    "t1.join()\n",
    "t2.join()\n",
    "\n",
    "print(k)   # Oh! this (almost) never is equal to zero!?"
   ]
  },
  {
   "cell_type": "markdown",
   "metadata": {},
   "source": [
    "## Thread Synchronization Primitives: Mutex Locks\n",
    "\n",
    "* Acquired locks must always be released\n",
    "* However, it gets evil with exceptions and other non-linear forms of control-flow\n",
    "* There are synchronization primitives, look for: Lock, RLock, Semaphore, BoundedSemaphore, Event, and Condition\n"
   ]
  },
  {
   "cell_type": "code",
   "execution_count": null,
   "metadata": {
    "ExecuteTime": {
     "end_time": "2018-02-27T19:07:03.815731Z",
     "start_time": "2018-02-27T19:07:02.373551Z"
    },
    "scrolled": false
   },
   "outputs": [],
   "source": [
    "import threading\n",
    "        \n",
    "lock = threading.Lock()\n",
    "\n",
    "M = 1000000;        \n",
    "k = 0\n",
    "\n",
    "def up():\n",
    "    global k, lock\n",
    "    for i in range(M):\n",
    "        lock.acquire()\n",
    "        k += 1\n",
    "        lock.release()\n",
    "\n",
    "def down():\n",
    "    global k, lock\n",
    "    for i in range(M):\n",
    "        lock.acquire()\n",
    "        k -= 1\n",
    "        lock.release()\n",
    "\n",
    "t1 = threading.Thread(target=up)\n",
    "t2 = threading.Thread(target=down)\n",
    "\n",
    "t1.start()\n",
    "t2.start()\n",
    "\n",
    "t1.join()\n",
    "t2.join()        \n",
    "print(k)"
   ]
  },
  {
   "cell_type": "markdown",
   "metadata": {
    "ExecuteTime": {
     "end_time": "2018-02-22T14:14:22.801479Z",
     "start_time": "2018-02-22T14:14:22.770245Z"
    }
   },
   "source": [
    "Using the `with` command"
   ]
  },
  {
   "cell_type": "code",
   "execution_count": null,
   "metadata": {
    "ExecuteTime": {
     "end_time": "2018-02-27T19:09:41.958867Z",
     "start_time": "2018-02-27T19:09:40.436047Z"
    }
   },
   "outputs": [],
   "source": [
    "import threading\n",
    "        \n",
    "lock = threading.Lock()\n",
    "\n",
    "M = 1000000;        \n",
    "k = 0\n",
    "\n",
    "def up():\n",
    "    global k, lock\n",
    "    for i in range(M):\n",
    "        with lock:\n",
    "            k += 1\n",
    "            \n",
    "def down():\n",
    "    global k, lock\n",
    "    for i in range(M):\n",
    "        with lock:\n",
    "            k -= 1\n",
    "\n",
    "t1 = threading.Thread(target=up)\n",
    "t2 = threading.Thread(target=down)\n",
    "\n",
    "t1.start()\n",
    "t2.start()\n",
    "\n",
    "t1.join()\n",
    "t2.join()        \n",
    "print(k)"
   ]
  },
  {
   "cell_type": "markdown",
   "metadata": {},
   "source": [
    "## Queues"
   ]
  },
  {
   "cell_type": "code",
   "execution_count": null,
   "metadata": {
    "ExecuteTime": {
     "end_time": "2018-02-27T19:16:28.346847Z",
     "start_time": "2018-02-27T19:16:28.340832Z"
    }
   },
   "outputs": [],
   "source": [
    "import urllib.request, time, threading\n",
    "from queue import Queue\n",
    "from urls import url_list           # url_list - tuple of urls "
   ]
  },
  {
   "cell_type": "code",
   "execution_count": null,
   "metadata": {},
   "outputs": [],
   "source": [
    "N = 20                              # number of urls to fetch"
   ]
  },
  {
   "cell_type": "code",
   "execution_count": null,
   "metadata": {
    "ExecuteTime": {
     "end_time": "2018-02-27T19:18:17.205716Z",
     "start_time": "2018-02-27T19:18:07.600472Z"
    }
   },
   "outputs": [],
   "source": [
    "\"\"\" count the chars in a list of web pages\"\"\"  # SEQUENCIAL VERSION\n",
    "\n",
    "chars_total = 0                     # chars counter\n",
    "\n",
    "def get_page_size(url):             # sum the chars of each page\n",
    "    global chars_total\n",
    "    try:\n",
    "        with urllib.request.urlopen(url) as response:\n",
    "            chars_total += len(response.read())\n",
    "    except:\n",
    "        print('error reading {}'.format(url))\n",
    "\n",
    "s = time.time()\n",
    "for url in url_list[:N]:           \n",
    "    get_page_size(url)\n",
    "\n",
    "print(chars_total)\n",
    "print('took {} seconds'.format(time.time() - s))"
   ]
  },
  {
   "cell_type": "code",
   "execution_count": null,
   "metadata": {
    "ExecuteTime": {
     "end_time": "2018-02-27T19:25:55.454481Z",
     "start_time": "2018-02-27T19:25:41.397293Z"
    }
   },
   "outputs": [],
   "source": [
    "''' count the chars in a list of web pages '''  # THREADED VERSION\n",
    "\n",
    "def queued_get_page_size():\n",
    "    global chars_total\n",
    "    while not q.empty():\n",
    "        url = q.get()               # get a 'job' from the Queue\n",
    "        try:\n",
    "            with urllib.request.urlopen(url) as response:\n",
    "                lock.acquire()      # just in case!\n",
    "                chars_total += len(response.read())\n",
    "                lock.release()\n",
    "        except:\n",
    "            print('error reading {}'.format(url))\n",
    "        q.task_done()               # Signal that work is done\n",
    "\n",
    "\n",
    "chars_total = 0                     # chars counter\n",
    "\n",
    "s = time.time();        \n",
    "\n",
    "q = Queue();                        # define a queue \n",
    "for url in url_list[:N]:            # 'put' jobs in the Queue\n",
    "    q.put(url)\n",
    "\n",
    "lock = threading.Lock()\n",
    "\n",
    "workers = []\n",
    "for _ in range(10):                 # create 10 (!) workers\n",
    "    w = threading.Thread(target=queued_get_page_size)\n",
    "    workers.append(w)\n",
    "    w.start()                       \n",
    "\n",
    "q.join()                            # Wait for all work to be done\n",
    "\n",
    "for w in workers:\n",
    "    w.join()\n",
    "\n",
    "print(chars_total)\n",
    "print('took {} seconds'.format(time.time() - s))"
   ]
  },
  {
   "cell_type": "code",
   "execution_count": null,
   "metadata": {},
   "outputs": [],
   "source": []
  }
 ],
 "metadata": {
  "kernelspec": {
   "display_name": "Python 3 (ipykernel)",
   "language": "python",
   "name": "python3"
  },
  "language_info": {
   "codemirror_mode": {
    "name": "ipython",
    "version": 3
   },
   "file_extension": ".py",
   "mimetype": "text/x-python",
   "name": "python",
   "nbconvert_exporter": "python",
   "pygments_lexer": "ipython3",
   "version": "3.10.6"
  },
  "latex_envs": {
   "LaTeX_envs_menu_present": true,
   "autoclose": false,
   "autocomplete": true,
   "bibliofile": "biblio.bib",
   "cite_by": "apalike",
   "current_citInitial": 1,
   "eqLabelWithNumbers": true,
   "eqNumInitial": 1,
   "hotkeys": {
    "equation": "Ctrl-E",
    "itemize": "Ctrl-I"
   },
   "labels_anchors": false,
   "latex_user_defs": false,
   "report_style_numbering": true,
   "user_envs_cfg": true
  },
  "nbTranslate": {
   "displayLangs": [
    "*"
   ],
   "hotkey": "alt-t",
   "langInMainMenu": true,
   "sourceLang": "en",
   "targetLang": "fr",
   "useGoogleTranslate": true
  },
  "toc": {
   "base_numbering": 1,
   "nav_menu": {},
   "number_sections": true,
   "sideBar": true,
   "skip_h1_title": false,
   "title_cell": "Table of Contents",
   "title_sidebar": "Contents",
   "toc_cell": false,
   "toc_position": {},
   "toc_section_display": true,
   "toc_window_display": false
  },
  "varInspector": {
   "cols": {
    "lenName": 16,
    "lenType": 16,
    "lenVar": 40
   },
   "kernels_config": {
    "python": {
     "delete_cmd_postfix": "",
     "delete_cmd_prefix": "del ",
     "library": "var_list.py",
     "varRefreshCmd": "print(var_dic_list())"
    },
    "r": {
     "delete_cmd_postfix": ") ",
     "delete_cmd_prefix": "rm(",
     "library": "var_list.r",
     "varRefreshCmd": "cat(var_dic_list()) "
    }
   },
   "types_to_exclude": [
    "module",
    "function",
    "builtin_function_or_method",
    "instance",
    "_Feature"
   ],
   "window_display": false
  }
 },
 "nbformat": 4,
 "nbformat_minor": 2
}
