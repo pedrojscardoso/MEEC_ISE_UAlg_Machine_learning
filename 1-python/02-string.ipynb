{
 "cells": [
  {
   "cell_type": "markdown",
   "metadata": {},
   "source": [
    "# Strings \n",
    "\n",
    "- Textual data in Python is handled with `str` objects, more commonly known as strings. \n",
    "- They are `immutable` sequences of unicode code points. \n",
    "- When it comes to store textual data though, or send it on the network, you may want to encode it, using an appropriate encoding for the medium you're using. \n",
    "- String literals are written in Python using single, double or triple quotes (both single or double). \n",
    "\n",
    "4 ways to define a string"
   ]
  },
  {
   "cell_type": "code",
   "execution_count": null,
   "metadata": {
    "ExecuteTime": {
     "end_time": "2022-02-17T18:01:25.673099Z",
     "start_time": "2022-02-17T18:01:25.671001Z"
    }
   },
   "outputs": [],
   "source": [
    "str1 = 'This is a string. We built it with single quotes.'"
   ]
  },
  {
   "cell_type": "code",
   "execution_count": null,
   "metadata": {
    "ExecuteTime": {
     "end_time": "2022-02-17T18:01:28.575693Z",
     "start_time": "2022-02-17T18:01:28.573559Z"
    }
   },
   "outputs": [],
   "source": [
    " str2 = \"This is also a string, but built with double quotes.\""
   ]
  },
  {
   "cell_type": "code",
   "execution_count": null,
   "metadata": {
    "ExecuteTime": {
     "end_time": "2022-02-17T18:01:29.005713Z",
     "start_time": "2022-02-17T18:01:29.003190Z"
    }
   },
   "outputs": [],
   "source": [
    "str3 = '''This is built using triple quotes,\n",
    "so it can span multiple lines.'''"
   ]
  },
  {
   "cell_type": "code",
   "execution_count": null,
   "metadata": {
    "ExecuteTime": {
     "end_time": "2022-02-17T18:01:29.609769Z",
     "start_time": "2022-02-17T18:01:29.605624Z"
    }
   },
   "outputs": [],
   "source": [
    "str4 = \"\"\"This too \n",
    "is a multiline one, \n",
    "built with triple double-quotes.\"\"\""
   ]
  },
  {
   "cell_type": "code",
   "execution_count": null,
   "metadata": {
    "ExecuteTime": {
     "end_time": "2022-02-17T18:01:31.081029Z",
     "start_time": "2022-02-17T18:01:31.074761Z"
    }
   },
   "outputs": [],
   "source": [
    "str4"
   ]
  },
  {
   "cell_type": "code",
   "execution_count": null,
   "metadata": {
    "ExecuteTime": {
     "end_time": "2022-02-17T18:01:35.121598Z",
     "start_time": "2022-02-17T18:01:35.119146Z"
    }
   },
   "outputs": [],
   "source": [
    "print(str4)"
   ]
  },
  {
   "cell_type": "code",
   "execution_count": null,
   "metadata": {
    "ExecuteTime": {
     "end_time": "2022-02-17T18:02:34.543460Z",
     "start_time": "2022-02-17T18:02:34.540366Z"
    }
   },
   "outputs": [],
   "source": [
    "len(str4)"
   ]
  },
  {
   "cell_type": "markdown",
   "metadata": {
    "ExecuteTime": {
     "end_time": "2022-02-17T18:03:06.140134Z",
     "start_time": "2022-02-17T18:03:06.137182Z"
    }
   },
   "source": [
    "As these are instances of the `str`class, they have associated methods and properties"
   ]
  },
  {
   "cell_type": "code",
   "execution_count": null,
   "metadata": {
    "ExecuteTime": {
     "end_time": "2022-02-17T18:03:44.767741Z",
     "start_time": "2022-02-17T18:03:44.758361Z"
    }
   },
   "outputs": [],
   "source": [
    "dir(str4)"
   ]
  },
  {
   "cell_type": "markdown",
   "metadata": {},
   "source": [
    "which can be called in a traditional OOP way"
   ]
  },
  {
   "cell_type": "code",
   "execution_count": null,
   "metadata": {
    "ExecuteTime": {
     "end_time": "2022-02-17T18:04:18.941756Z",
     "start_time": "2022-02-17T18:04:18.938553Z"
    }
   },
   "outputs": [],
   "source": [
    "str1.lower()"
   ]
  },
  {
   "cell_type": "code",
   "execution_count": null,
   "metadata": {
    "ExecuteTime": {
     "end_time": "2022-02-17T18:04:28.939622Z",
     "start_time": "2022-02-17T18:04:28.933393Z"
    }
   },
   "outputs": [],
   "source": [
    "str1.upper()"
   ]
  },
  {
   "cell_type": "code",
   "execution_count": null,
   "metadata": {
    "ExecuteTime": {
     "end_time": "2022-02-17T18:04:36.848353Z",
     "start_time": "2022-02-17T18:04:36.844933Z"
    }
   },
   "outputs": [],
   "source": [
    "str1.title()"
   ]
  },
  {
   "cell_type": "code",
   "execution_count": null,
   "metadata": {
    "ExecuteTime": {
     "end_time": "2022-02-17T18:04:51.686493Z",
     "start_time": "2022-02-17T18:04:51.682926Z"
    }
   },
   "outputs": [],
   "source": [
    "str1.split()"
   ]
  },
  {
   "cell_type": "markdown",
   "metadata": {},
   "source": [
    "## Indexing and slicing\n",
    "\n",
    "- When manipulating sequences, it's very common to have to access them at one precise position (indexing), or to get a subsequence out of them (slicing). \n",
    "- When dealing with immutable sequences, both operations are read-only.\n",
    "- When you get a slice of a sequence, you can specify the start and stop positions, and the step: `my_sequence[start:stop:step]`. \n",
    "\n",
    "![indexing](images/indexing.png)\n"
   ]
  },
  {
   "cell_type": "code",
   "execution_count": null,
   "metadata": {
    "ExecuteTime": {
     "end_time": "2019-02-14T21:47:53.828288Z",
     "start_time": "2019-02-14T21:47:53.824457Z"
    }
   },
   "outputs": [],
   "source": [
    "s = 'Are you suggesting that coconuts migrate?'"
   ]
  },
  {
   "cell_type": "code",
   "execution_count": null,
   "metadata": {
    "ExecuteTime": {
     "end_time": "2018-02-08T22:29:28.724382Z",
     "start_time": "2018-02-08T22:29:28.716358Z"
    }
   },
   "outputs": [],
   "source": [
    "s[0] = 't'"
   ]
  },
  {
   "cell_type": "code",
   "execution_count": null,
   "metadata": {
    "ExecuteTime": {
     "end_time": "2018-02-08T22:29:37.561645Z",
     "start_time": "2018-02-08T22:29:37.556084Z"
    }
   },
   "outputs": [],
   "source": [
    "s[0]"
   ]
  },
  {
   "cell_type": "code",
   "execution_count": null,
   "metadata": {
    "ExecuteTime": {
     "end_time": "2018-02-08T22:29:42.021072Z",
     "start_time": "2018-02-08T22:29:42.016058Z"
    }
   },
   "outputs": [],
   "source": [
    "s[5]"
   ]
  },
  {
   "cell_type": "code",
   "execution_count": null,
   "metadata": {
    "ExecuteTime": {
     "end_time": "2018-02-08T22:29:53.428438Z",
     "start_time": "2018-02-08T22:29:53.423423Z"
    }
   },
   "outputs": [],
   "source": [
    "s[:4]"
   ]
  },
  {
   "cell_type": "code",
   "execution_count": null,
   "metadata": {
    "ExecuteTime": {
     "end_time": "2018-02-08T22:30:10.249942Z",
     "start_time": "2018-02-08T22:30:10.243927Z"
    }
   },
   "outputs": [],
   "source": [
    "s[4:]"
   ]
  },
  {
   "cell_type": "code",
   "execution_count": null,
   "metadata": {
    "ExecuteTime": {
     "end_time": "2018-02-08T22:30:42.121510Z",
     "start_time": "2018-02-08T22:30:42.115456Z"
    }
   },
   "outputs": [],
   "source": [
    "s[4:14]"
   ]
  },
  {
   "cell_type": "code",
   "execution_count": null,
   "metadata": {},
   "outputs": [],
   "source": [
    "list(zip(s, range(len(s))))"
   ]
  },
  {
   "cell_type": "code",
   "execution_count": null,
   "metadata": {},
   "outputs": [],
   "source": [
    "s[4:14:3]        # slicing, start, stop and step (every 3 chars)"
   ]
  },
  {
   "cell_type": "code",
   "execution_count": null,
   "metadata": {},
   "outputs": [],
   "source": [
    "s"
   ]
  },
  {
   "cell_type": "code",
   "execution_count": null,
   "metadata": {},
   "outputs": [],
   "source": [
    "s[-1]            # indexing at last position"
   ]
  },
  {
   "cell_type": "code",
   "execution_count": null,
   "metadata": {},
   "outputs": [],
   "source": [
    "s[-5:]"
   ]
  },
  {
   "cell_type": "code",
   "execution_count": null,
   "metadata": {},
   "outputs": [],
   "source": [
    "s[:-5]"
   ]
  },
  {
   "cell_type": "code",
   "execution_count": null,
   "metadata": {},
   "outputs": [],
   "source": [
    "s[5:-5]"
   ]
  },
  {
   "cell_type": "code",
   "execution_count": null,
   "metadata": {
    "ExecuteTime": {
     "end_time": "2018-02-08T22:31:15.238965Z",
     "start_time": "2018-02-08T22:31:15.233944Z"
    }
   },
   "outputs": [],
   "source": [
    "s[:]"
   ]
  },
  {
   "cell_type": "code",
   "execution_count": null,
   "metadata": {
    "ExecuteTime": {
     "end_time": "2018-02-08T22:34:24.743088Z",
     "start_time": "2018-02-08T22:34:24.739078Z"
    }
   },
   "outputs": [],
   "source": [
    "r = s"
   ]
  },
  {
   "cell_type": "code",
   "execution_count": null,
   "metadata": {
    "ExecuteTime": {
     "end_time": "2018-02-08T22:34:28.926413Z",
     "start_time": "2018-02-08T22:34:28.918389Z"
    }
   },
   "outputs": [],
   "source": [
    "id(s)"
   ]
  },
  {
   "cell_type": "code",
   "execution_count": null,
   "metadata": {
    "ExecuteTime": {
     "end_time": "2018-02-08T22:34:33.893896Z",
     "start_time": "2018-02-08T22:34:33.889888Z"
    }
   },
   "outputs": [],
   "source": [
    "id(r)"
   ]
  },
  {
   "cell_type": "code",
   "execution_count": null,
   "metadata": {},
   "outputs": [],
   "source": [
    "s_copy = s[:5] + s[5:]\n",
    "print(s_copy)\n",
    "id(s_copy)"
   ]
  },
  {
   "cell_type": "code",
   "execution_count": null,
   "metadata": {},
   "outputs": [],
   "source": [
    "s_copy = s[:]\n",
    "id(s_copy)"
   ]
  },
  {
   "cell_type": "code",
   "execution_count": null,
   "metadata": {},
   "outputs": [],
   "source": [
    "s_copy = 'Are you suggesting that coconuts migrate?'\n",
    "id(s_copy)"
   ]
  },
  {
   "cell_type": "code",
   "execution_count": null,
   "metadata": {
    "ExecuteTime": {
     "end_time": "2018-02-08T22:35:27.412010Z",
     "start_time": "2018-02-08T22:35:27.406999Z"
    }
   },
   "outputs": [],
   "source": [
    "import copy\n",
    "t = copy.deepcopy(s)"
   ]
  },
  {
   "cell_type": "code",
   "execution_count": null,
   "metadata": {
    "ExecuteTime": {
     "end_time": "2018-02-08T22:35:30.422205Z",
     "start_time": "2018-02-08T22:35:30.417158Z"
    }
   },
   "outputs": [],
   "source": [
    "id(t)"
   ]
  },
  {
   "cell_type": "markdown",
   "metadata": {},
   "source": [
    "## Encode and decoding strings (optional)\n",
    "\n",
    "- Using the encode/decode methods, we can encode unicode strings and decode bytes objects. \n",
    "- Utf-8 is a variable length character encoding, capable of encoding all possible unicode code points. \n",
    "- Notice also that by adding a literal b in front of a string declaration, we're creating a bytes object."
   ]
  },
  {
   "cell_type": "code",
   "execution_count": null,
   "metadata": {
    "ExecuteTime": {
     "end_time": "2022-02-17T18:05:52.847141Z",
     "start_time": "2022-02-17T18:05:52.843545Z"
    }
   },
   "outputs": [],
   "source": [
    "s = \"This is üñíção\"            # unicode string: code points\n",
    "s"
   ]
  },
  {
   "cell_type": "code",
   "execution_count": null,
   "metadata": {
    "ExecuteTime": {
     "end_time": "2022-02-17T18:05:53.471294Z",
     "start_time": "2022-02-17T18:05:53.467632Z"
    }
   },
   "outputs": [],
   "source": [
    "type(s)"
   ]
  },
  {
   "cell_type": "code",
   "execution_count": null,
   "metadata": {
    "ExecuteTime": {
     "end_time": "2022-02-17T18:06:05.186882Z",
     "start_time": "2022-02-17T18:06:05.183357Z"
    }
   },
   "outputs": [],
   "source": [
    "encoded_s = s.encode('utf-8')  # utf-8 encoded version of s\n",
    "type(encoded_s)"
   ]
  },
  {
   "cell_type": "code",
   "execution_count": null,
   "metadata": {
    "ExecuteTime": {
     "end_time": "2022-02-17T18:06:11.217866Z",
     "start_time": "2022-02-17T18:06:11.214767Z"
    }
   },
   "outputs": [],
   "source": [
    "encoded_s"
   ]
  },
  {
   "cell_type": "code",
   "execution_count": null,
   "metadata": {
    "ExecuteTime": {
     "end_time": "2022-02-17T18:06:18.774607Z",
     "start_time": "2022-02-17T18:06:18.766193Z"
    }
   },
   "outputs": [],
   "source": [
    "encoded_s.decode('utf-8')"
   ]
  },
  {
   "cell_type": "code",
   "execution_count": null,
   "metadata": {
    "ExecuteTime": {
     "end_time": "2022-02-17T18:06:23.284709Z",
     "start_time": "2022-02-17T18:06:23.281513Z"
    }
   },
   "outputs": [],
   "source": [
    "b\"This is \\xc3\\xbc\\xc3\\xb1\\xc3\\xad\\xc3\\xa7\\xc3\\xa3o\""
   ]
  },
  {
   "cell_type": "code",
   "execution_count": null,
   "metadata": {
    "ExecuteTime": {
     "end_time": "2022-02-17T18:06:26.009903Z",
     "start_time": "2022-02-17T18:06:26.006989Z"
    }
   },
   "outputs": [],
   "source": [
    "b\"This is \\xc3\\xbc\\xc3\\xb1\\xc3\\xad\\xc3\\xa7\\xc3\\xa3o\".decode('utf-8')"
   ]
  },
  {
   "cell_type": "code",
   "execution_count": null,
   "metadata": {
    "ExecuteTime": {
     "end_time": "2022-02-17T18:06:28.473493Z",
     "start_time": "2022-02-17T18:06:28.437307Z"
    }
   },
   "outputs": [],
   "source": [
    "\"This is \\xc3\\xbc\\xc3\\xb1\\xc3\\xad\\xc3\\xa7\\xc3\\xa3o\".decode('utf-8')"
   ]
  },
  {
   "cell_type": "markdown",
   "metadata": {},
   "source": [
    "# Exercises\n",
    "\n",
    "[Go here...](exercises/02-exercises.ipynb)"
   ]
  }
 ],
 "metadata": {
  "kernelspec": {
   "display_name": "Python 3 (ipykernel)",
   "language": "python",
   "name": "python3"
  },
  "language_info": {
   "codemirror_mode": {
    "name": "ipython",
    "version": 3
   },
   "file_extension": ".py",
   "mimetype": "text/x-python",
   "name": "python",
   "nbconvert_exporter": "python",
   "pygments_lexer": "ipython3",
   "version": "3.9.13"
  },
  "latex_envs": {
   "LaTeX_envs_menu_present": true,
   "autoclose": false,
   "autocomplete": true,
   "bibliofile": "biblio.bib",
   "cite_by": "apalike",
   "current_citInitial": 1,
   "eqLabelWithNumbers": true,
   "eqNumInitial": 1,
   "hotkeys": {
    "equation": "Ctrl-E",
    "itemize": "Ctrl-I"
   },
   "labels_anchors": false,
   "latex_user_defs": false,
   "report_style_numbering": true,
   "user_envs_cfg": true
  },
  "nbTranslate": {
   "displayLangs": [
    "*"
   ],
   "hotkey": "alt-t",
   "langInMainMenu": true,
   "sourceLang": "en",
   "targetLang": "fr",
   "useGoogleTranslate": true
  },
  "toc": {
   "base_numbering": 1,
   "nav_menu": {},
   "number_sections": true,
   "sideBar": true,
   "skip_h1_title": false,
   "title_cell": "Table of Contents",
   "title_sidebar": "Contents",
   "toc_cell": false,
   "toc_position": {},
   "toc_section_display": "block",
   "toc_window_display": false
  },
  "varInspector": {
   "cols": {
    "lenName": 16,
    "lenType": 16,
    "lenVar": 40
   },
   "kernels_config": {
    "python": {
     "delete_cmd_postfix": "",
     "delete_cmd_prefix": "del ",
     "library": "var_list.py",
     "varRefreshCmd": "print(var_dic_list())"
    },
    "r": {
     "delete_cmd_postfix": ") ",
     "delete_cmd_prefix": "rm(",
     "library": "var_list.r",
     "varRefreshCmd": "cat(var_dic_list()) "
    }
   },
   "types_to_exclude": [
    "module",
    "function",
    "builtin_function_or_method",
    "instance",
    "_Feature"
   ],
   "window_display": false
  }
 },
 "nbformat": 4,
 "nbformat_minor": 2
}
