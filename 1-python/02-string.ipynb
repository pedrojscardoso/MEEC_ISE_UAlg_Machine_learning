{
 "cells": [
  {
   "cell_type": "markdown",
   "source": [
    "___\n",
    "<h1> Machine Learning </h1>\n",
    "<h2> M. Sc. in Electrical and Computer Engineering </h2>\n",
    "<h3> Instituto Superior de Engenharia / Universidade do Algarve </h3>\n",
    "\n",
    "[LESTI](https://ise.ualg.pt/curso/1941) / [ISE](https://ise.ualg.pt) / [UAlg](https://www.ualg.pt)\n",
    "\n",
    "Pedro J. S. Cardoso (pcardoso@ualg.pt)\n",
    "\n",
    "___"
   ],
   "metadata": {
    "collapsed": false
   }
  },
  {
   "cell_type": "markdown",
   "metadata": {},
   "source": [
    "# Strings \n",
    "\n",
    "- Textual data in Python is handled with `str` objects, more commonly known as strings. \n",
    "- They are `immutable` sequences of unicode code points. \n",
    "- When it comes to store textual data though, or send it on the network, you may want to encode it, using an appropriate encoding for the medium you're using. \n",
    "- String literals are written in Python using single, double or triple quotes (both single or double). \n",
    "\n",
    "4 ways to define a string"
   ]
  },
  {
   "cell_type": "code",
   "execution_count": null,
   "metadata": {},
   "outputs": [],
   "source": [
    "str1 = 'This is a string. We built it with single quotes.'"
   ]
  },
  {
   "cell_type": "code",
   "execution_count": null,
   "metadata": {},
   "outputs": [],
   "source": [
    "str2 = \"This is also a string, but built with double-quotes.\""
   ]
  },
  {
   "cell_type": "code",
   "execution_count": null,
   "metadata": {},
   "outputs": [],
   "source": [
    "str3 = '''This is built using triple quotes,\n",
    "so it can span multiple lines.'''"
   ]
  },
  {
   "cell_type": "code",
   "execution_count": null,
   "metadata": {},
   "outputs": [],
   "source": [
    "str4 = \"\"\"This too \n",
    "is a multiline one, \n",
    "built with triple double-quotes.\"\"\""
   ]
  },
  {
   "cell_type": "markdown",
   "metadata": {},
   "source": [
    "What is diference in the following 2 lines?"
   ]
  },
  {
   "cell_type": "code",
   "execution_count": null,
   "metadata": {},
   "outputs": [],
   "source": [
    "str4"
   ]
  },
  {
   "cell_type": "code",
   "execution_count": null,
   "metadata": {},
   "outputs": [],
   "source": [
    "print(str4)"
   ]
  },
  {
   "cell_type": "markdown",
   "source": [
    "to get the length of a string, use the `len` function"
   ],
   "metadata": {
    "collapsed": false
   }
  },
  {
   "cell_type": "code",
   "execution_count": null,
   "metadata": {},
   "outputs": [],
   "source": [
    "len(str4)"
   ]
  },
  {
   "cell_type": "markdown",
   "metadata": {
    "ExecuteTime": {
     "end_time": "2022-02-17T18:03:06.140134Z",
     "start_time": "2022-02-17T18:03:06.137182Z"
    }
   },
   "source": [
    "As these are instances of the `str` class, they have associated methods and properties"
   ]
  },
  {
   "cell_type": "code",
   "execution_count": null,
   "metadata": {},
   "outputs": [],
   "source": [
    "dir(str4)"
   ]
  },
  {
   "cell_type": "markdown",
   "metadata": {},
   "source": [
    "which can be called in a traditional OOP way"
   ]
  },
  {
   "cell_type": "code",
   "execution_count": null,
   "metadata": {},
   "outputs": [],
   "source": [
    "str1.lower()"
   ]
  },
  {
   "cell_type": "code",
   "execution_count": null,
   "metadata": {},
   "outputs": [],
   "source": [
    "str1.upper()"
   ]
  },
  {
   "cell_type": "code",
   "execution_count": null,
   "metadata": {},
   "outputs": [],
   "source": [
    "str1.title()"
   ]
  },
  {
   "cell_type": "code",
   "execution_count": null,
   "metadata": {},
   "outputs": [],
   "source": [
    "str1.split()"
   ]
  },
  {
   "cell_type": "markdown",
   "source": [
    "Other methods are:\n",
    "- `strip`: remove leading and trailing whitespace\n",
    "- `replace`: replace a substring with another\n",
    "- `find`: find the first occurrence of a substring\n",
    "- `count`: count the number of occurrences of a substring\n",
    "- `startswith`: check if a string starts with a given substring\n",
    "- `endswith`: check if a string ends with a given substring\n",
    "- `join`: join a list of strings with a given separator\n",
    "- `isalnum`: check if a string is alphanumeric\n",
    "- `isalpha`: check if a string is alphabetic\n",
    "- `isdigit`: check if a string is numeric\n",
    "- `islower`: check if a string is lowercase\n",
    "- `isupper`: check if a string is uppercase\n",
    "- `isspace`: check if a string is whitespace\n",
    "- `istitle`: check if a string is titlecase\n",
    "- `isidentifier`: check if a string is a valid identifier\n",
    "- `isprintable`: check if a string is printable\n",
    "- `isdecimal`: check if a string is decimal\n",
    "- etc.\n",
    "See [here](https://docs.python.org/3/library/stdtypes.html#string-methods) for a complete list."
   ],
   "metadata": {
    "collapsed": false
   }
  },
  {
   "cell_type": "markdown",
   "metadata": {},
   "source": [
    "You can also repeat a string very easely, like this:"
   ]
  },
  {
   "cell_type": "code",
   "execution_count": null,
   "metadata": {},
   "outputs": [],
   "source": [
    "20 * '-*'"
   ]
  },
  {
   "cell_type": "markdown",
   "metadata": {},
   "source": [
    "## Indexing and slicing\n",
    "\n",
    "- When manipulating sequences, it's very common to have to access them at one precise position (indexing), or to get a subsequence out of them (slicing). \n",
    "- When dealing with immutable sequences, both operations are read-only.\n",
    "- When you get a slice of a sequence, you can specify the start and stop positions, and the step: `my_sequence[start:stop:step]`. \n",
    "\n",
    "![indexing](images/indexing.png)\n"
   ]
  },
  {
   "cell_type": "code",
   "execution_count": null,
   "metadata": {},
   "outputs": [],
   "source": [
    "s = 'Are you suggesting that coconuts migrate?'"
   ]
  },
  {
   "cell_type": "markdown",
   "source": [
    "Strings are immutable so you can't change them"
   ],
   "metadata": {
    "collapsed": false
   }
  },
  {
   "cell_type": "code",
   "execution_count": null,
   "metadata": {},
   "outputs": [],
   "source": [
    "s[0] = 't'"
   ]
  },
  {
   "cell_type": "markdown",
   "source": [
    "But you can access them. To get the first character of a string, you can use the index 0"
   ],
   "metadata": {
    "collapsed": false
   }
  },
  {
   "cell_type": "code",
   "execution_count": null,
   "metadata": {},
   "outputs": [],
   "source": [
    "s[0]"
   ]
  },
  {
   "cell_type": "markdown",
   "source": [
    "To get the 6th character of a string, you can use the index 5"
   ],
   "metadata": {
    "collapsed": false
   }
  },
  {
   "cell_type": "code",
   "execution_count": null,
   "metadata": {},
   "outputs": [],
   "source": [
    "s[5]"
   ]
  },
  {
   "cell_type": "markdown",
   "source": [
    "To the first 4 characters of a string, you can use the slice `0:4`, or just `:4`"
   ],
   "metadata": {
    "collapsed": false
   }
  },
  {
   "cell_type": "code",
   "execution_count": null,
   "metadata": {},
   "outputs": [],
   "source": [
    "s[:4]"
   ]
  },
  {
   "cell_type": "markdown",
   "source": [
    "To get the the 5th and beyond characters of a string, you can use the slice `4:`"
   ],
   "metadata": {
    "collapsed": false
   }
  },
  {
   "cell_type": "code",
   "execution_count": null,
   "metadata": {},
   "outputs": [],
   "source": [
    "s[4:]"
   ]
  },
  {
   "cell_type": "markdown",
   "source": [
    "To get the 5th to the 14th characters of a string, you can use the slice `4:14`. Note this are the characters at positions 4, 5, 6, 7, 8, 9, 10, 11, 12 and 13."
   ],
   "metadata": {
    "collapsed": false
   }
  },
  {
   "cell_type": "code",
   "execution_count": null,
   "metadata": {},
   "outputs": [],
   "source": [
    "s[4:14]"
   ]
  },
  {
   "cell_type": "markdown",
   "source": [
    "the `zip` function can be used to iterate over two sequences at the same time, returning a tuple with the elements of each sequence at the same position"
   ],
   "metadata": {
    "collapsed": false
   }
  },
  {
   "cell_type": "code",
   "execution_count": null,
   "metadata": {},
   "outputs": [],
   "source": [
    "list(zip(s, range(len(s))))"
   ]
  },
  {
   "cell_type": "markdown",
   "source": [
    "To get the 5th to the 14th characters of a string with a step of 3, you can use the slice `4:14:3`. Note this are the characters at positions 4, 7, 10 and 13."
   ],
   "metadata": {
    "collapsed": false
   }
  },
  {
   "cell_type": "code",
   "execution_count": null,
   "metadata": {},
   "outputs": [],
   "source": [
    "s[4:14:3]        # slicing, start, stop and step (every 3 chars)"
   ]
  },
  {
   "cell_type": "markdown",
   "source": [
    "Remember the strings ..."
   ],
   "metadata": {
    "collapsed": false
   }
  },
  {
   "cell_type": "code",
   "execution_count": null,
   "metadata": {},
   "outputs": [],
   "source": [
    "s"
   ]
  },
  {
   "cell_type": "markdown",
   "source": [
    "To get the last character of a string, you can use the index -1"
   ],
   "metadata": {
    "collapsed": false
   }
  },
  {
   "cell_type": "code",
   "execution_count": null,
   "metadata": {},
   "outputs": [],
   "source": [
    "s[-1]            # indexing at last position"
   ]
  },
  {
   "cell_type": "markdown",
   "source": [
    "To get the last 5 characters of a string, you can use the slice `-5:`"
   ],
   "metadata": {
    "collapsed": false
   }
  },
  {
   "cell_type": "code",
   "execution_count": null,
   "metadata": {},
   "outputs": [],
   "source": [
    "s[-5:]"
   ]
  },
  {
   "cell_type": "markdown",
   "source": [
    "To get up to the last 5 characters of a string, you can use the slice `:-5`"
   ],
   "metadata": {
    "collapsed": false
   }
  },
  {
   "cell_type": "code",
   "execution_count": null,
   "metadata": {},
   "outputs": [],
   "source": [
    "s[:-5]"
   ]
  },
  {
   "cell_type": "markdown",
   "source": [
    "To get the 6th to the 5th last characters of a string, you can use the slice `5:-5`"
   ],
   "metadata": {
    "collapsed": false
   }
  },
  {
   "cell_type": "code",
   "execution_count": null,
   "metadata": {},
   "outputs": [],
   "source": [
    "s[5:-5]"
   ]
  },
  {
   "cell_type": "markdown",
   "source": [
    "to get all the characters of a string, you can use the slice `:`"
   ],
   "metadata": {
    "collapsed": false
   }
  },
  {
   "cell_type": "code",
   "execution_count": null,
   "metadata": {},
   "outputs": [],
   "source": [
    "s[:]"
   ]
  },
  {
   "cell_type": "markdown",
   "source": [
    "Copies of stings might not be what you expect... doing the following will return a copy of the reference to the string"
   ],
   "metadata": {
    "collapsed": false
   }
  },
  {
   "cell_type": "code",
   "execution_count": null,
   "metadata": {},
   "outputs": [],
   "source": [
    "r = s"
   ]
  },
  {
   "cell_type": "markdown",
   "source": [
    "So, the ´id` of both variables will be the same"
   ],
   "metadata": {
    "collapsed": false
   }
  },
  {
   "cell_type": "code",
   "execution_count": null,
   "metadata": {},
   "outputs": [],
   "source": [
    "id(s)"
   ]
  },
  {
   "cell_type": "code",
   "execution_count": null,
   "metadata": {},
   "outputs": [],
   "source": [
    "id(r)"
   ]
  },
  {
   "cell_type": "markdown",
   "source": [
    "Making copies of slices will return a copy of the string"
   ],
   "metadata": {
    "collapsed": false
   }
  },
  {
   "cell_type": "code",
   "execution_count": null,
   "metadata": {},
   "outputs": [],
   "source": [
    "s_copy = s[:5] + s[5:]\n",
    "print(s_copy)\n",
    "id(s_copy)"
   ]
  },
  {
   "cell_type": "markdown",
   "source": [
    "But, since strings are immutable, the `id` of the copy will not be different from the original (optimization)"
   ],
   "metadata": {
    "collapsed": false
   }
  },
  {
   "cell_type": "code",
   "execution_count": null,
   "metadata": {},
   "outputs": [],
   "source": [
    "s_copy = s[:]\n",
    "id(s_copy)"
   ]
  },
  {
   "cell_type": "markdown",
   "source": [
    "The following creates a new string, so the `id` will be different"
   ],
   "metadata": {
    "collapsed": false
   }
  },
  {
   "cell_type": "code",
   "execution_count": null,
   "metadata": {},
   "outputs": [],
   "source": [
    "s_copy = 'Are you suggesting that coconuts migrate?'\n",
    "id(s_copy)"
   ]
  },
  {
   "cell_type": "markdown",
   "source": [
    "the `copy` module can be used to make a copy of a string."
   ],
   "metadata": {
    "collapsed": false
   }
  },
  {
   "cell_type": "code",
   "execution_count": null,
   "metadata": {},
   "outputs": [],
   "source": [
    "import copy\n",
    "t = copy.deepcopy(s)"
   ]
  },
  {
   "cell_type": "code",
   "execution_count": null,
   "metadata": {},
   "outputs": [],
   "source": [
    "id(t)"
   ]
  },
  {
   "cell_type": "markdown",
   "metadata": {},
   "source": [
    "## Encode and decoding strings (optional)\n",
    "\n",
    "- Using the encode/decode methods, we can encode unicode strings and decode bytes objects. \n",
    "- Utf-8 is a variable length character encoding, capable of encoding all possible unicode code points. \n",
    "- Notice also that by adding a literal b in front of a string declaration, we're creating a bytes object."
   ]
  },
  {
   "cell_type": "code",
   "execution_count": null,
   "metadata": {},
   "outputs": [],
   "source": [
    "s = \"This is üñíção\"            # unicode string: code points\n",
    "s"
   ]
  },
  {
   "cell_type": "code",
   "execution_count": null,
   "metadata": {},
   "outputs": [],
   "source": [
    "type(s)"
   ]
  },
  {
   "cell_type": "code",
   "execution_count": null,
   "metadata": {},
   "outputs": [],
   "source": [
    "encoded_s = s.encode('utf-8')  # utf-8 encoded version of s\n",
    "type(encoded_s)"
   ]
  },
  {
   "cell_type": "code",
   "execution_count": null,
   "metadata": {},
   "outputs": [],
   "source": [
    "encoded_s"
   ]
  },
  {
   "cell_type": "code",
   "execution_count": null,
   "metadata": {},
   "outputs": [],
   "source": [
    "encoded_s.decode('utf-8')"
   ]
  },
  {
   "cell_type": "code",
   "execution_count": null,
   "metadata": {},
   "outputs": [],
   "source": [
    "b\"This is \\xc3\\xbc\\xc3\\xb1\\xc3\\xad\\xc3\\xa7\\xc3\\xa3o\""
   ]
  },
  {
   "cell_type": "code",
   "execution_count": null,
   "metadata": {},
   "outputs": [],
   "source": [
    "b\"This is \\xc3\\xbc\\xc3\\xb1\\xc3\\xad\\xc3\\xa7\\xc3\\xa3o\".decode('utf-8')"
   ]
  },
  {
   "cell_type": "code",
   "execution_count": null,
   "metadata": {},
   "outputs": [],
   "source": [
    "\"This is \\xc3\\xbc\\xc3\\xb1\\xc3\\xad\\xc3\\xa7\\xc3\\xa3o\".decode('utf-8')"
   ]
  },
  {
   "cell_type": "markdown",
   "metadata": {},
   "source": [
    "# Exercises\n",
    "\n",
    "[Go here...](exercises/02-exercises.ipynb)"
   ]
  }
 ],
 "metadata": {
  "kernelspec": {
   "display_name": "Python 3 (ipykernel)",
   "language": "python",
   "name": "python3"
  },
  "language_info": {
   "codemirror_mode": {
    "name": "ipython",
    "version": 3
   },
   "file_extension": ".py",
   "mimetype": "text/x-python",
   "name": "python",
   "nbconvert_exporter": "python",
   "pygments_lexer": "ipython3",
   "version": "3.10.6"
  },
  "latex_envs": {
   "LaTeX_envs_menu_present": true,
   "autoclose": false,
   "autocomplete": true,
   "bibliofile": "biblio.bib",
   "cite_by": "apalike",
   "current_citInitial": 1,
   "eqLabelWithNumbers": true,
   "eqNumInitial": 1,
   "hotkeys": {
    "equation": "Ctrl-E",
    "itemize": "Ctrl-I"
   },
   "labels_anchors": false,
   "latex_user_defs": false,
   "report_style_numbering": true,
   "user_envs_cfg": true
  },
  "nbTranslate": {
   "displayLangs": [
    "*"
   ],
   "hotkey": "alt-t",
   "langInMainMenu": true,
   "sourceLang": "en",
   "targetLang": "fr",
   "useGoogleTranslate": true
  },
  "toc": {
   "base_numbering": 1,
   "nav_menu": {},
   "number_sections": true,
   "sideBar": true,
   "skip_h1_title": false,
   "title_cell": "Table of Contents",
   "title_sidebar": "Contents",
   "toc_cell": false,
   "toc_position": {},
   "toc_section_display": "block",
   "toc_window_display": false
  },
  "varInspector": {
   "cols": {
    "lenName": 16,
    "lenType": 16,
    "lenVar": 40
   },
   "kernels_config": {
    "python": {
     "delete_cmd_postfix": "",
     "delete_cmd_prefix": "del ",
     "library": "var_list.py",
     "varRefreshCmd": "print(var_dic_list())"
    },
    "r": {
     "delete_cmd_postfix": ") ",
     "delete_cmd_prefix": "rm(",
     "library": "var_list.r",
     "varRefreshCmd": "cat(var_dic_list()) "
    }
   },
   "types_to_exclude": [
    "module",
    "function",
    "builtin_function_or_method",
    "instance",
    "_Feature"
   ],
   "window_display": false
  }
 },
 "nbformat": 4,
 "nbformat_minor": 2
}
