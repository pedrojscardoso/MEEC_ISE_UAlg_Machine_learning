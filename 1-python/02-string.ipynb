{
 "cells": [
  {
   "cell_type": "markdown",
   "source": [
    "___\n",
    "<h1> Machine Learning </h1>\n",
    "<h2> M. Sc. in Electrical and Computer Engineering </h2>\n",
    "<h3> Instituto Superior de Engenharia / Universidade do Algarve </h3>\n",
    "\n",
    "[LESTI](https://ise.ualg.pt/curso/1941) / [ISE](https://ise.ualg.pt) / [UAlg](https://www.ualg.pt)\n",
    "\n",
    "Pedro J. S. Cardoso (pcardoso@ualg.pt)\n",
    "\n",
    "___"
   ],
   "metadata": {
    "collapsed": false
   }
  },
  {
   "cell_type": "markdown",
   "metadata": {},
   "source": [
    "# Strings \n",
    "\n",
    "- Textual data in Python is handled with `str` objects, more commonly known as strings. \n",
    "- They are `immutable` sequences of unicode code points. \n",
    "- When it comes to store textual data though, or send it on the network, you may want to encode it, using an appropriate encoding for the medium you're using. \n",
    "- String literals are written in Python using single, double or triple quotes (both single or double). \n",
    "\n",
    "4 ways to define a string"
   ]
  },
  {
   "cell_type": "code",
   "execution_count": 1,
   "metadata": {
    "ExecuteTime": {
     "end_time": "2024-09-10T15:13:11.291243Z",
     "start_time": "2024-09-10T15:13:11.287525Z"
    }
   },
   "outputs": [],
   "source": [
    "str1 = 'This is a string. We built it with single quotes.'"
   ]
  },
  {
   "cell_type": "code",
   "execution_count": 2,
   "metadata": {
    "ExecuteTime": {
     "end_time": "2024-09-10T15:13:11.296212Z",
     "start_time": "2024-09-10T15:13:11.294544Z"
    }
   },
   "outputs": [],
   "source": [
    "str2 = \"This is also a string, but built with double-quotes.\""
   ]
  },
  {
   "cell_type": "code",
   "execution_count": 3,
   "metadata": {
    "ExecuteTime": {
     "end_time": "2024-09-10T15:13:11.346846Z",
     "start_time": "2024-09-10T15:13:11.344939Z"
    }
   },
   "outputs": [],
   "source": [
    "str3 = '''This is built using triple quotes,\n",
    "so it can span multiple lines.'''"
   ]
  },
  {
   "cell_type": "code",
   "execution_count": 4,
   "metadata": {
    "ExecuteTime": {
     "end_time": "2024-09-10T15:13:11.360124Z",
     "start_time": "2024-09-10T15:13:11.358195Z"
    }
   },
   "outputs": [],
   "source": [
    "str4 = \"\"\"This too \n",
    "is a multiline one, \n",
    "built with triple double-quotes.\"\"\""
   ]
  },
  {
   "cell_type": "markdown",
   "metadata": {},
   "source": [
    "What is diference in the following 2 lines?"
   ]
  },
  {
   "cell_type": "code",
   "execution_count": 5,
   "metadata": {
    "ExecuteTime": {
     "end_time": "2024-09-10T15:13:11.403888Z",
     "start_time": "2024-09-10T15:13:11.398983Z"
    }
   },
   "outputs": [
    {
     "data": {
      "text/plain": "'This too \\nis a multiline one, \\nbuilt with triple double-quotes.'"
     },
     "execution_count": 5,
     "metadata": {},
     "output_type": "execute_result"
    }
   ],
   "source": [
    "str4"
   ]
  },
  {
   "cell_type": "code",
   "execution_count": 6,
   "metadata": {
    "ExecuteTime": {
     "end_time": "2024-09-10T15:13:11.497757Z",
     "start_time": "2024-09-10T15:13:11.495693Z"
    }
   },
   "outputs": [
    {
     "name": "stdout",
     "output_type": "stream",
     "text": [
      "This too \n",
      "is a multiline one, \n",
      "built with triple double-quotes.\n"
     ]
    }
   ],
   "source": [
    "print(str4)"
   ]
  },
  {
   "cell_type": "markdown",
   "source": [
    "to get the length of a string, use the `len` function"
   ],
   "metadata": {
    "collapsed": false
   }
  },
  {
   "cell_type": "code",
   "execution_count": 7,
   "metadata": {
    "ExecuteTime": {
     "end_time": "2024-09-10T15:13:11.502037Z",
     "start_time": "2024-09-10T15:13:11.499883Z"
    }
   },
   "outputs": [
    {
     "data": {
      "text/plain": "63"
     },
     "execution_count": 7,
     "metadata": {},
     "output_type": "execute_result"
    }
   ],
   "source": [
    "len(str4)"
   ]
  },
  {
   "cell_type": "markdown",
   "metadata": {
    "ExecuteTime": {
     "end_time": "2022-02-17T18:03:06.140134Z",
     "start_time": "2022-02-17T18:03:06.137182Z"
    }
   },
   "source": [
    "As these are instances of the `str` class, they have associated methods and properties"
   ]
  },
  {
   "cell_type": "code",
   "execution_count": 8,
   "metadata": {
    "ExecuteTime": {
     "end_time": "2024-09-10T15:13:11.529628Z",
     "start_time": "2024-09-10T15:13:11.526652Z"
    }
   },
   "outputs": [
    {
     "data": {
      "text/plain": "['__add__',\n '__class__',\n '__contains__',\n '__delattr__',\n '__dir__',\n '__doc__',\n '__eq__',\n '__format__',\n '__ge__',\n '__getattribute__',\n '__getitem__',\n '__getnewargs__',\n '__getstate__',\n '__gt__',\n '__hash__',\n '__init__',\n '__init_subclass__',\n '__iter__',\n '__le__',\n '__len__',\n '__lt__',\n '__mod__',\n '__mul__',\n '__ne__',\n '__new__',\n '__reduce__',\n '__reduce_ex__',\n '__repr__',\n '__rmod__',\n '__rmul__',\n '__setattr__',\n '__sizeof__',\n '__str__',\n '__subclasshook__',\n 'capitalize',\n 'casefold',\n 'center',\n 'count',\n 'encode',\n 'endswith',\n 'expandtabs',\n 'find',\n 'format',\n 'format_map',\n 'index',\n 'isalnum',\n 'isalpha',\n 'isascii',\n 'isdecimal',\n 'isdigit',\n 'isidentifier',\n 'islower',\n 'isnumeric',\n 'isprintable',\n 'isspace',\n 'istitle',\n 'isupper',\n 'join',\n 'ljust',\n 'lower',\n 'lstrip',\n 'maketrans',\n 'partition',\n 'removeprefix',\n 'removesuffix',\n 'replace',\n 'rfind',\n 'rindex',\n 'rjust',\n 'rpartition',\n 'rsplit',\n 'rstrip',\n 'split',\n 'splitlines',\n 'startswith',\n 'strip',\n 'swapcase',\n 'title',\n 'translate',\n 'upper',\n 'zfill']"
     },
     "execution_count": 8,
     "metadata": {},
     "output_type": "execute_result"
    }
   ],
   "source": [
    "dir(str4)"
   ]
  },
  {
   "cell_type": "markdown",
   "metadata": {},
   "source": [
    "which can be called in a traditional OOP way"
   ]
  },
  {
   "cell_type": "code",
   "execution_count": 9,
   "metadata": {
    "ExecuteTime": {
     "end_time": "2024-09-10T15:13:11.582875Z",
     "start_time": "2024-09-10T15:13:11.580529Z"
    }
   },
   "outputs": [
    {
     "data": {
      "text/plain": "'this is a string. we built it with single quotes.'"
     },
     "execution_count": 9,
     "metadata": {},
     "output_type": "execute_result"
    }
   ],
   "source": [
    "str1.lower() # returns a new string with all characters in lowercase    "
   ]
  },
  {
   "cell_type": "code",
   "execution_count": 10,
   "metadata": {
    "ExecuteTime": {
     "end_time": "2024-09-10T15:13:11.600949Z",
     "start_time": "2024-09-10T15:13:11.598484Z"
    }
   },
   "outputs": [
    {
     "data": {
      "text/plain": "'THIS IS A STRING. WE BUILT IT WITH SINGLE QUOTES.'"
     },
     "execution_count": 10,
     "metadata": {},
     "output_type": "execute_result"
    }
   ],
   "source": [
    "str1.upper() # returns a new string with all characters in uppercase"
   ]
  },
  {
   "cell_type": "code",
   "execution_count": 11,
   "metadata": {
    "ExecuteTime": {
     "end_time": "2024-09-10T15:13:11.632507Z",
     "start_time": "2024-09-10T15:13:11.629435Z"
    }
   },
   "outputs": [
    {
     "data": {
      "text/plain": "'This Is A String. We Built It With Single Quotes.'"
     },
     "execution_count": 11,
     "metadata": {},
     "output_type": "execute_result"
    }
   ],
   "source": [
    "str1.title() # returns a new string with the first character of each word in uppercase"
   ]
  },
  {
   "cell_type": "code",
   "execution_count": 12,
   "metadata": {
    "ExecuteTime": {
     "end_time": "2024-09-10T15:13:11.685238Z",
     "start_time": "2024-09-10T15:13:11.682576Z"
    }
   },
   "outputs": [
    {
     "data": {
      "text/plain": "['This',\n 'is',\n 'a',\n 'string.',\n 'We',\n 'built',\n 'it',\n 'with',\n 'single',\n 'quotes.']"
     },
     "execution_count": 12,
     "metadata": {},
     "output_type": "execute_result"
    }
   ],
   "source": [
    "str1.split() # returns a list of words in the string"
   ]
  },
  {
   "cell_type": "markdown",
   "source": [
    "Other methods are:\n",
    "- `strip`: remove leading and trailing whitespace\n",
    "- `replace`: replace a substring with another\n",
    "- `find`: find the first occurrence of a substring\n",
    "- `count`: count the number of occurrences of a substring\n",
    "- `startswith`: check if a string starts with a given substring\n",
    "- `endswith`: check if a string ends with a given substring\n",
    "- `join`: join a list of strings with a given separator\n",
    "- `isalnum`: check if a string is alphanumeric\n",
    "- `isalpha`: check if a string is alphabetic\n",
    "- `isdigit`: check if a string is numeric\n",
    "- `islower`: check if a string is lowercase\n",
    "- `isupper`: check if a string is uppercase\n",
    "- `isspace`: check if a string is whitespace\n",
    "- `istitle`: check if a string is titlecase\n",
    "- `isidentifier`: check if a string is a valid identifier\n",
    "- `isprintable`: check if a string is printable\n",
    "- `isdecimal`: check if a string is decimal\n",
    "- etc.\n",
    "See [here](https://docs.python.org/3/library/stdtypes.html#string-methods) for a complete list."
   ],
   "metadata": {
    "collapsed": false
   }
  },
  {
   "cell_type": "markdown",
   "metadata": {},
   "source": [
    "You can also repeat a string very easely, like this:"
   ]
  },
  {
   "cell_type": "code",
   "execution_count": 13,
   "metadata": {
    "ExecuteTime": {
     "end_time": "2024-09-10T15:13:11.797334Z",
     "start_time": "2024-09-10T15:13:11.794797Z"
    }
   },
   "outputs": [
    {
     "data": {
      "text/plain": "'-*-*-*-*-*-*-*-*-*-*-*-*-*-*-*-*-*-*-*-*'"
     },
     "execution_count": 13,
     "metadata": {},
     "output_type": "execute_result"
    }
   ],
   "source": [
    "20 * '-*'"
   ]
  },
  {
   "cell_type": "markdown",
   "metadata": {},
   "source": [
    "## Indexing and slicing\n",
    "\n",
    "- When manipulating sequences, it's very common to have to access them at one precise position (indexing), or to get a subsequence out of them (slicing). \n",
    "- When dealing with immutable sequences, both operations are read-only.\n",
    "- When you get a slice of a sequence, you can specify the start and stop positions, and the step: `my_sequence[start:stop:step]`. \n",
    "\n",
    "![indexing](images/indexing.png)\n"
   ]
  },
  {
   "cell_type": "code",
   "execution_count": 14,
   "metadata": {
    "ExecuteTime": {
     "end_time": "2024-09-10T15:13:11.835150Z",
     "start_time": "2024-09-10T15:13:11.833335Z"
    }
   },
   "outputs": [],
   "source": [
    "s = 'Are you suggesting that coconuts migrate?'"
   ]
  },
  {
   "cell_type": "markdown",
   "source": [
    "Strings are immutable so you can't change them"
   ],
   "metadata": {
    "collapsed": false
   }
  },
  {
   "cell_type": "code",
   "execution_count": 15,
   "metadata": {
    "ExecuteTime": {
     "end_time": "2024-09-10T15:13:12.145004Z",
     "start_time": "2024-09-10T15:13:11.911836Z"
    }
   },
   "outputs": [
    {
     "ename": "TypeError",
     "evalue": "'str' object does not support item assignment",
     "output_type": "error",
     "traceback": [
      "\u001B[0;31m---------------------------------------------------------------------------\u001B[0m",
      "\u001B[0;31mTypeError\u001B[0m                                 Traceback (most recent call last)",
      "Cell \u001B[0;32mIn[15], line 1\u001B[0m\n\u001B[0;32m----> 1\u001B[0m s[\u001B[38;5;241m0\u001B[39m] \u001B[38;5;241m=\u001B[39m \u001B[38;5;124m'\u001B[39m\u001B[38;5;124mt\u001B[39m\u001B[38;5;124m'\u001B[39m\n",
      "\u001B[0;31mTypeError\u001B[0m: 'str' object does not support item assignment"
     ]
    }
   ],
   "source": [
    "s[0] = 't'"
   ]
  },
  {
   "cell_type": "markdown",
   "source": [
    "But you can access them. To get the first character of a string, you can use the index 0"
   ],
   "metadata": {
    "collapsed": false
   }
  },
  {
   "cell_type": "code",
   "execution_count": null,
   "metadata": {
    "ExecuteTime": {
     "end_time": "2024-09-10T15:13:12.146461Z",
     "start_time": "2024-09-10T15:13:12.146406Z"
    }
   },
   "outputs": [],
   "source": [
    "s[0]"
   ]
  },
  {
   "cell_type": "markdown",
   "source": [
    "To get the 6th character of a string, you can use the index 5"
   ],
   "metadata": {
    "collapsed": false
   }
  },
  {
   "cell_type": "code",
   "execution_count": null,
   "metadata": {
    "ExecuteTime": {
     "end_time": "2024-09-10T15:13:12.147402Z",
     "start_time": "2024-09-10T15:13:12.147240Z"
    }
   },
   "outputs": [],
   "source": [
    "s[5]"
   ]
  },
  {
   "cell_type": "markdown",
   "source": [
    "To the first 4 characters of a string, you can use the slice `0:4`, or just `:4`"
   ],
   "metadata": {
    "collapsed": false
   }
  },
  {
   "cell_type": "code",
   "execution_count": null,
   "metadata": {},
   "outputs": [],
   "source": [
    "s[:4]"
   ]
  },
  {
   "cell_type": "markdown",
   "source": [
    "To get the the 5th and beyond characters of a string, you can use the slice `4:`"
   ],
   "metadata": {
    "collapsed": false
   }
  },
  {
   "cell_type": "code",
   "execution_count": null,
   "metadata": {},
   "outputs": [],
   "source": [
    "s[4:]"
   ]
  },
  {
   "cell_type": "markdown",
   "source": [
    "To get the 5th to the 14th characters of a string, you can use the slice `4:14`. Note this are the characters at positions 4, 5, 6, 7, 8, 9, 10, 11, 12 and 13."
   ],
   "metadata": {
    "collapsed": false
   }
  },
  {
   "cell_type": "code",
   "execution_count": null,
   "metadata": {},
   "outputs": [],
   "source": [
    "s[4:14]"
   ]
  },
  {
   "cell_type": "markdown",
   "source": [
    "the `zip` function can be used to iterate over two sequences at the same time, returning a tuple with the elements of each sequence at the same position. In the example, the `list` function is used to convert the result of the `zip` function to a list, because `zip` returns an iterator."
   ],
   "metadata": {
    "collapsed": false
   }
  },
  {
   "cell_type": "code",
   "execution_count": null,
   "metadata": {},
   "outputs": [],
   "source": [
    "list(zip(s, range(len(s))))"
   ]
  },
  {
   "cell_type": "markdown",
   "source": [
    "To get the 5th to the 14th characters of a string with a step of 3, you can use the slice `4:14:3`. Note this are the characters at positions 4, 7, 10 and 13."
   ],
   "metadata": {
    "collapsed": false
   }
  },
  {
   "cell_type": "code",
   "execution_count": null,
   "metadata": {},
   "outputs": [],
   "source": [
    "s[4:14:3]        # slicing, start, stop and step (every 3 chars)"
   ]
  },
  {
   "cell_type": "markdown",
   "source": [
    "Remember the strings ..."
   ],
   "metadata": {
    "collapsed": false
   }
  },
  {
   "cell_type": "code",
   "execution_count": null,
   "metadata": {},
   "outputs": [],
   "source": [
    "s"
   ]
  },
  {
   "cell_type": "markdown",
   "source": [
    "To get the last character of a string, you can use the index -1"
   ],
   "metadata": {
    "collapsed": false
   }
  },
  {
   "cell_type": "code",
   "execution_count": null,
   "metadata": {},
   "outputs": [],
   "source": [
    "s[-1]            # indexing at last position"
   ]
  },
  {
   "cell_type": "markdown",
   "source": [
    "To get the last 5 characters of a string, you can use the slice `-5:`"
   ],
   "metadata": {
    "collapsed": false
   }
  },
  {
   "cell_type": "code",
   "execution_count": 16,
   "metadata": {
    "ExecuteTime": {
     "end_time": "2024-09-10T15:13:12.180794Z",
     "start_time": "2024-09-10T15:13:12.178342Z"
    }
   },
   "outputs": [
    {
     "data": {
      "text/plain": "'rate?'"
     },
     "execution_count": 16,
     "metadata": {},
     "output_type": "execute_result"
    }
   ],
   "source": [
    "s[-5:]"
   ]
  },
  {
   "cell_type": "markdown",
   "source": [
    "To get up to the last 5 characters of a string, you can use the slice `:-5`"
   ],
   "metadata": {
    "collapsed": false
   }
  },
  {
   "cell_type": "code",
   "execution_count": 17,
   "metadata": {
    "ExecuteTime": {
     "end_time": "2024-09-10T15:13:12.281399Z",
     "start_time": "2024-09-10T15:13:12.278868Z"
    }
   },
   "outputs": [
    {
     "data": {
      "text/plain": "'Are you suggesting that coconuts mig'"
     },
     "execution_count": 17,
     "metadata": {},
     "output_type": "execute_result"
    }
   ],
   "source": [
    "s[:-5]"
   ]
  },
  {
   "cell_type": "markdown",
   "source": [
    "To get the 6th to the 5th last characters of a string, you can use the slice `5:-5`"
   ],
   "metadata": {
    "collapsed": false
   }
  },
  {
   "cell_type": "code",
   "execution_count": 18,
   "metadata": {
    "ExecuteTime": {
     "end_time": "2024-09-10T15:13:12.428448Z",
     "start_time": "2024-09-10T15:13:12.425608Z"
    }
   },
   "outputs": [
    {
     "data": {
      "text/plain": "'ou suggesting that coconuts mig'"
     },
     "execution_count": 18,
     "metadata": {},
     "output_type": "execute_result"
    }
   ],
   "source": [
    "s[5:-5]"
   ]
  },
  {
   "cell_type": "markdown",
   "source": [
    "## The `id` of a string (optional)\n",
    "\n",
    "to get all the characters of a string, you can use the slice `:`"
   ],
   "metadata": {
    "collapsed": false
   }
  },
  {
   "cell_type": "code",
   "execution_count": 19,
   "metadata": {
    "ExecuteTime": {
     "end_time": "2024-09-10T15:13:12.487772Z",
     "start_time": "2024-09-10T15:13:12.484672Z"
    }
   },
   "outputs": [
    {
     "data": {
      "text/plain": "'Are you suggesting that coconuts migrate?'"
     },
     "execution_count": 19,
     "metadata": {},
     "output_type": "execute_result"
    }
   ],
   "source": [
    "s[:]"
   ]
  },
  {
   "cell_type": "markdown",
   "source": [
    "Copies of stings might not be what you expect... doing the following will return a copy of the reference to the string"
   ],
   "metadata": {
    "collapsed": false
   }
  },
  {
   "cell_type": "code",
   "execution_count": 20,
   "metadata": {
    "ExecuteTime": {
     "end_time": "2024-09-10T15:13:12.532342Z",
     "start_time": "2024-09-10T15:13:12.530781Z"
    }
   },
   "outputs": [],
   "source": [
    "r = s"
   ]
  },
  {
   "cell_type": "markdown",
   "source": [
    "So, the ´id` of both variables will be the same"
   ],
   "metadata": {
    "collapsed": false
   }
  },
  {
   "cell_type": "code",
   "execution_count": 21,
   "metadata": {
    "ExecuteTime": {
     "end_time": "2024-09-10T15:13:12.618889Z",
     "start_time": "2024-09-10T15:13:12.616568Z"
    }
   },
   "outputs": [
    {
     "data": {
      "text/plain": "4423916816"
     },
     "execution_count": 21,
     "metadata": {},
     "output_type": "execute_result"
    }
   ],
   "source": [
    "id(s)"
   ]
  },
  {
   "cell_type": "code",
   "execution_count": 22,
   "metadata": {
    "ExecuteTime": {
     "end_time": "2024-09-10T15:13:12.679063Z",
     "start_time": "2024-09-10T15:13:12.676522Z"
    }
   },
   "outputs": [
    {
     "data": {
      "text/plain": "4423916816"
     },
     "execution_count": 22,
     "metadata": {},
     "output_type": "execute_result"
    }
   ],
   "source": [
    "id(r)"
   ]
  },
  {
   "cell_type": "markdown",
   "source": [
    "Making copies of slices will return a copy of the string"
   ],
   "metadata": {
    "collapsed": false
   }
  },
  {
   "cell_type": "code",
   "execution_count": 23,
   "metadata": {
    "ExecuteTime": {
     "end_time": "2024-09-10T15:13:12.732804Z",
     "start_time": "2024-09-10T15:13:12.730099Z"
    }
   },
   "outputs": [
    {
     "name": "stdout",
     "output_type": "stream",
     "text": [
      "Are you suggesting that coconuts migrate?\n"
     ]
    },
    {
     "data": {
      "text/plain": "4571499664"
     },
     "execution_count": 23,
     "metadata": {},
     "output_type": "execute_result"
    }
   ],
   "source": [
    "s_copy = s[:5] + s[5:]\n",
    "print(s_copy)\n",
    "id(s_copy)"
   ]
  },
  {
   "cell_type": "markdown",
   "source": [
    "But, since strings are immutable, the `id` of the copy will not be different from the original (optimization)"
   ],
   "metadata": {
    "collapsed": false
   }
  },
  {
   "cell_type": "code",
   "execution_count": 24,
   "metadata": {
    "ExecuteTime": {
     "end_time": "2024-09-10T15:13:12.778785Z",
     "start_time": "2024-09-10T15:13:12.776413Z"
    }
   },
   "outputs": [
    {
     "data": {
      "text/plain": "4423916816"
     },
     "execution_count": 24,
     "metadata": {},
     "output_type": "execute_result"
    }
   ],
   "source": [
    "s_copy = s[:]\n",
    "id(s_copy)"
   ]
  },
  {
   "cell_type": "markdown",
   "source": [
    "The following creates a new string, so the `id` will be different"
   ],
   "metadata": {
    "collapsed": false
   }
  },
  {
   "cell_type": "code",
   "execution_count": 25,
   "metadata": {
    "ExecuteTime": {
     "end_time": "2024-09-10T15:13:12.834780Z",
     "start_time": "2024-09-10T15:13:12.832426Z"
    }
   },
   "outputs": [
    {
     "data": {
      "text/plain": "4423912112"
     },
     "execution_count": 25,
     "metadata": {},
     "output_type": "execute_result"
    }
   ],
   "source": [
    "s_copy = 'Are you suggesting that coconuts migrate?'\n",
    "id(s_copy)"
   ]
  },
  {
   "cell_type": "markdown",
   "source": [
    "the `copy` module can be used to make a copy of a string."
   ],
   "metadata": {
    "collapsed": false
   }
  },
  {
   "cell_type": "code",
   "execution_count": 26,
   "metadata": {
    "ExecuteTime": {
     "end_time": "2024-09-10T15:13:12.913159Z",
     "start_time": "2024-09-10T15:13:12.911408Z"
    }
   },
   "outputs": [],
   "source": [
    "import copy\n",
    "t = copy.deepcopy(s)"
   ]
  },
  {
   "cell_type": "code",
   "execution_count": 27,
   "metadata": {
    "ExecuteTime": {
     "end_time": "2024-09-10T15:13:12.968392Z",
     "start_time": "2024-09-10T15:13:12.965948Z"
    }
   },
   "outputs": [
    {
     "data": {
      "text/plain": "4423916816"
     },
     "execution_count": 27,
     "metadata": {},
     "output_type": "execute_result"
    }
   ],
   "source": [
    "id(t)"
   ]
  },
  {
   "cell_type": "markdown",
   "metadata": {},
   "source": [
    "## Encode and decoding strings (optional)\n",
    "\n",
    "- Using the encode/decode methods, we can encode unicode strings and decode bytes objects. \n",
    "- Utf-8 is a variable length character encoding, capable of encoding all possible unicode code points. \n",
    "- Notice also that by adding a literal b in front of a string declaration, we're creating a bytes object."
   ]
  },
  {
   "cell_type": "code",
   "execution_count": 28,
   "metadata": {
    "ExecuteTime": {
     "end_time": "2024-09-10T15:13:13.016039Z",
     "start_time": "2024-09-10T15:13:13.013627Z"
    }
   },
   "outputs": [
    {
     "data": {
      "text/plain": "'This is üñíção'"
     },
     "execution_count": 28,
     "metadata": {},
     "output_type": "execute_result"
    }
   ],
   "source": [
    "s = \"This is üñíção\"            # unicode string: code points\n",
    "s"
   ]
  },
  {
   "cell_type": "code",
   "execution_count": 29,
   "metadata": {
    "ExecuteTime": {
     "end_time": "2024-09-10T15:13:13.065975Z",
     "start_time": "2024-09-10T15:13:13.063885Z"
    }
   },
   "outputs": [
    {
     "data": {
      "text/plain": "str"
     },
     "execution_count": 29,
     "metadata": {},
     "output_type": "execute_result"
    }
   ],
   "source": [
    "type(s)"
   ]
  },
  {
   "cell_type": "code",
   "execution_count": 30,
   "metadata": {
    "ExecuteTime": {
     "end_time": "2024-09-10T15:13:13.112741Z",
     "start_time": "2024-09-10T15:13:13.110298Z"
    }
   },
   "outputs": [
    {
     "data": {
      "text/plain": "bytes"
     },
     "execution_count": 30,
     "metadata": {},
     "output_type": "execute_result"
    }
   ],
   "source": [
    "encoded_s = s.encode('utf-8')  # utf-8 encoded version of s\n",
    "type(encoded_s)"
   ]
  },
  {
   "cell_type": "code",
   "execution_count": 31,
   "metadata": {
    "ExecuteTime": {
     "end_time": "2024-09-10T15:13:13.165627Z",
     "start_time": "2024-09-10T15:13:13.163258Z"
    }
   },
   "outputs": [
    {
     "data": {
      "text/plain": "b'This is \\xc3\\xbc\\xc3\\xb1\\xc3\\xad\\xc3\\xa7\\xc3\\xa3o'"
     },
     "execution_count": 31,
     "metadata": {},
     "output_type": "execute_result"
    }
   ],
   "source": [
    "encoded_s"
   ]
  },
  {
   "cell_type": "code",
   "execution_count": 32,
   "metadata": {
    "ExecuteTime": {
     "end_time": "2024-09-10T15:13:13.214293Z",
     "start_time": "2024-09-10T15:13:13.211750Z"
    }
   },
   "outputs": [
    {
     "data": {
      "text/plain": "'This is üñíção'"
     },
     "execution_count": 32,
     "metadata": {},
     "output_type": "execute_result"
    }
   ],
   "source": [
    "encoded_s.decode('utf-8')"
   ]
  },
  {
   "cell_type": "code",
   "execution_count": 33,
   "metadata": {
    "ExecuteTime": {
     "end_time": "2024-09-10T15:13:13.238666Z",
     "start_time": "2024-09-10T15:13:13.236459Z"
    }
   },
   "outputs": [
    {
     "data": {
      "text/plain": "b'This is \\xc3\\xbc\\xc3\\xb1\\xc3\\xad\\xc3\\xa7\\xc3\\xa3o'"
     },
     "execution_count": 33,
     "metadata": {},
     "output_type": "execute_result"
    }
   ],
   "source": [
    "b\"This is \\xc3\\xbc\\xc3\\xb1\\xc3\\xad\\xc3\\xa7\\xc3\\xa3o\""
   ]
  },
  {
   "cell_type": "code",
   "execution_count": 34,
   "metadata": {
    "ExecuteTime": {
     "end_time": "2024-09-10T15:13:13.294053Z",
     "start_time": "2024-09-10T15:13:13.291688Z"
    }
   },
   "outputs": [
    {
     "data": {
      "text/plain": "'This is üñíção'"
     },
     "execution_count": 34,
     "metadata": {},
     "output_type": "execute_result"
    }
   ],
   "source": [
    "b\"This is \\xc3\\xbc\\xc3\\xb1\\xc3\\xad\\xc3\\xa7\\xc3\\xa3o\".decode('utf-8')"
   ]
  },
  {
   "cell_type": "code",
   "execution_count": 35,
   "metadata": {
    "ExecuteTime": {
     "end_time": "2024-09-10T15:13:13.372828Z",
     "start_time": "2024-09-10T15:13:13.365013Z"
    }
   },
   "outputs": [
    {
     "ename": "AttributeError",
     "evalue": "'str' object has no attribute 'decode'",
     "output_type": "error",
     "traceback": [
      "\u001B[0;31m---------------------------------------------------------------------------\u001B[0m",
      "\u001B[0;31mAttributeError\u001B[0m                            Traceback (most recent call last)",
      "Cell \u001B[0;32mIn[35], line 1\u001B[0m\n\u001B[0;32m----> 1\u001B[0m \u001B[38;5;124m\"\u001B[39m\u001B[38;5;124mThis is \u001B[39m\u001B[38;5;130;01m\\xc3\u001B[39;00m\u001B[38;5;130;01m\\xbc\u001B[39;00m\u001B[38;5;130;01m\\xc3\u001B[39;00m\u001B[38;5;130;01m\\xb1\u001B[39;00m\u001B[38;5;130;01m\\xc3\u001B[39;00m\u001B[38;5;130;01m\\xad\u001B[39;00m\u001B[38;5;130;01m\\xc3\u001B[39;00m\u001B[38;5;130;01m\\xa7\u001B[39;00m\u001B[38;5;130;01m\\xc3\u001B[39;00m\u001B[38;5;130;01m\\xa3\u001B[39;00m\u001B[38;5;124mo\u001B[39m\u001B[38;5;124m\"\u001B[39m\u001B[38;5;241m.\u001B[39mdecode(\u001B[38;5;124m'\u001B[39m\u001B[38;5;124mutf-8\u001B[39m\u001B[38;5;124m'\u001B[39m)\n",
      "\u001B[0;31mAttributeError\u001B[0m: 'str' object has no attribute 'decode'"
     ]
    }
   ],
   "source": [
    "\"This is \\xc3\\xbc\\xc3\\xb1\\xc3\\xad\\xc3\\xa7\\xc3\\xa3o\".decode('utf-8')"
   ]
  },
  {
   "cell_type": "markdown",
   "metadata": {},
   "source": [
    "# Exercises\n",
    "\n",
    "[Go here...](exercises/02-exercises.ipynb)"
   ]
  }
 ],
 "metadata": {
  "kernelspec": {
   "display_name": "Python 3 (ipykernel)",
   "language": "python",
   "name": "python3"
  },
  "language_info": {
   "codemirror_mode": {
    "name": "ipython",
    "version": 3
   },
   "file_extension": ".py",
   "mimetype": "text/x-python",
   "name": "python",
   "nbconvert_exporter": "python",
   "pygments_lexer": "ipython3",
   "version": "3.10.6"
  },
  "latex_envs": {
   "LaTeX_envs_menu_present": true,
   "autoclose": false,
   "autocomplete": true,
   "bibliofile": "biblio.bib",
   "cite_by": "apalike",
   "current_citInitial": 1,
   "eqLabelWithNumbers": true,
   "eqNumInitial": 1,
   "hotkeys": {
    "equation": "Ctrl-E",
    "itemize": "Ctrl-I"
   },
   "labels_anchors": false,
   "latex_user_defs": false,
   "report_style_numbering": true,
   "user_envs_cfg": true
  },
  "nbTranslate": {
   "displayLangs": [
    "*"
   ],
   "hotkey": "alt-t",
   "langInMainMenu": true,
   "sourceLang": "en",
   "targetLang": "fr",
   "useGoogleTranslate": true
  },
  "toc": {
   "base_numbering": 1,
   "nav_menu": {},
   "number_sections": true,
   "sideBar": true,
   "skip_h1_title": false,
   "title_cell": "Table of Contents",
   "title_sidebar": "Contents",
   "toc_cell": false,
   "toc_position": {},
   "toc_section_display": "block",
   "toc_window_display": false
  },
  "varInspector": {
   "cols": {
    "lenName": 16,
    "lenType": 16,
    "lenVar": 40
   },
   "kernels_config": {
    "python": {
     "delete_cmd_postfix": "",
     "delete_cmd_prefix": "del ",
     "library": "var_list.py",
     "varRefreshCmd": "print(var_dic_list())"
    },
    "r": {
     "delete_cmd_postfix": ") ",
     "delete_cmd_prefix": "rm(",
     "library": "var_list.r",
     "varRefreshCmd": "cat(var_dic_list()) "
    }
   },
   "types_to_exclude": [
    "module",
    "function",
    "builtin_function_or_method",
    "instance",
    "_Feature"
   ],
   "window_display": false
  }
 },
 "nbformat": 4,
 "nbformat_minor": 2
}
