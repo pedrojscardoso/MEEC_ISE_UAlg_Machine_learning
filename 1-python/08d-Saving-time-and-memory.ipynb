{
 "cells": [
  {
   "cell_type": "markdown",
   "source": [
    "___\n",
    "<h1> Machine Learning </h1>\n",
    "<h2> M. Sc. in Electrical and Computer Engineering </h2>\n",
    "<h3> Instituto Superior de Engenharia / Universidade do Algarve </h3>\n",
    "\n",
    "[LESTI](https://ise.ualg.pt/curso/1941) / [ISE](https://ise.ualg.pt) / [UAlg](https://www.ualg.pt)\n",
    "\n",
    "Pedro J. S. Cardoso (pcardoso@ualg.pt)\n",
    "\n",
    "___"
   ],
   "metadata": {
    "collapsed": false
   }
  },
  {
   "cell_type": "markdown",
   "id": "innocent-croatia",
   "metadata": {},
   "source": [
    "# Saving time and memory\n",
    "There are some method that allow to save time, memory, coding effort and improve readability. Let us see some of them.\n",
    "\n",
    "## `map` function\n",
    "`map(function, iterable, ...)` returns an iterator that applies `function` to every item of` iterable`, yielding the results. If additional `iterable` arguments are passed, function must take that many arguments and is applied to the items from all `iterables` in parallel. With multiple `iterables`, the iterator stops when the shortest `iterable` is exhausted.\n",
    "\n",
    "So, using a lambda function `map` can be used for instance in the following way."
   ]
  },
  {
   "cell_type": "code",
   "execution_count": null,
   "id": "improved-mozambique",
   "metadata": {
    "ExecuteTime": {
     "end_time": "2022-03-07T17:42:16.551023Z",
     "start_time": "2022-03-07T17:42:16.547609Z"
    }
   },
   "outputs": [],
   "source": [
    "map(lambda a: (a, ),  range(3))"
   ]
  },
  {
   "cell_type": "markdown",
   "id": "registered-dating",
   "metadata": {},
   "source": [
    "Function `map` yelds an iterator object which can be latter consumed. To see its values its is enough to wrap in a list"
   ]
  },
  {
   "cell_type": "code",
   "execution_count": null,
   "id": "former-spanish",
   "metadata": {
    "ExecuteTime": {
     "end_time": "2022-03-07T17:42:17.982300Z",
     "start_time": "2022-03-07T17:42:17.977922Z"
    }
   },
   "outputs": [],
   "source": [
    "list(map(lambda a: (a, ), range(3)))"
   ]
  },
  {
   "cell_type": "markdown",
   "id": "d1b2611b",
   "metadata": {
    "ExecuteTime": {
     "end_time": "2022-03-07T17:42:24.752690Z",
     "start_time": "2022-03-07T17:42:24.748753Z"
    }
   },
   "source": [
    "With multiple iterators"
   ]
  },
  {
   "cell_type": "code",
   "execution_count": null,
   "id": "perfect-twist",
   "metadata": {
    "ExecuteTime": {
     "end_time": "2022-03-07T17:42:30.103832Z",
     "start_time": "2022-03-07T17:42:30.100360Z"
    }
   },
   "outputs": [],
   "source": [
    "list(map(lambda *a: a, range(3), 'abc', range(4, 7))) "
   ]
  },
  {
   "cell_type": "markdown",
   "id": "refined-immigration",
   "metadata": {},
   "source": [
    "## `zip` function\n",
    "`zip(*iterables)` returns an iterator of tuples, where the i-th tuple contains the i-th element from each of the argument sequences or iterables. The iterator stops when the shortest input iterable is exhausted. With a single iterable argument, it returns an iterator of 1-tuples. With no arguments, it returns an empty iterator.   "
   ]
  },
  {
   "cell_type": "code",
   "execution_count": null,
   "id": "atmospheric-adoption",
   "metadata": {
    "ExecuteTime": {
     "end_time": "2022-03-07T17:43:21.008077Z",
     "start_time": "2022-03-07T17:43:21.004129Z"
    }
   },
   "outputs": [],
   "source": [
    "day_temperature = [18, 23, 30, 27, 15, 9, 22]\n",
    "avg_temperature = [22, 21, 29, 24, 18, 18, 24]\n",
    "        \n",
    "list(zip(day_temperature, avg_temperature))        "
   ]
  },
  {
   "cell_type": "markdown",
   "id": "instrumental-microwave",
   "metadata": {},
   "source": [
    "Of course, in some cases, we can use `map` is a somehow equivalent solution"
   ]
  },
  {
   "cell_type": "code",
   "execution_count": null,
   "id": "suffering-grill",
   "metadata": {
    "ExecuteTime": {
     "end_time": "2022-03-07T17:44:06.462345Z",
     "start_time": "2022-03-07T17:44:06.459257Z"
    }
   },
   "outputs": [],
   "source": [
    "list(map(lambda *a: a, day_temperature, avg_temperature))"
   ]
  },
  {
   "cell_type": "code",
   "execution_count": null,
   "id": "divine-sunrise",
   "metadata": {
    "ExecuteTime": {
     "end_time": "2022-03-07T17:44:16.885567Z",
     "start_time": "2022-03-07T17:44:16.882520Z"
    }
   },
   "outputs": [],
   "source": [
    "for tt, at in zip(day_temperature, avg_temperature):\n",
    "    print(f\"Day's temperature was {tt}ºC being usual to have {at}ºC\")"
   ]
  },
  {
   "cell_type": "markdown",
   "id": "directed-clock",
   "metadata": {},
   "source": [
    " ## `filter` function\n",
    " `filter(function, iterable)` construct an iterator from those elements of iterable for which function returns `True`. `iterable` may be either a sequence, a container which supports iteration, or an iterator. If function is None, the identity function is assumed, that is, all elements of iterable that are false are removed.\n",
    " "
   ]
  },
  {
   "cell_type": "code",
   "execution_count": null,
   "id": "radio-drink",
   "metadata": {
    "ExecuteTime": {
     "end_time": "2022-03-07T17:44:38.139193Z",
     "start_time": "2022-03-07T17:44:38.134795Z"
    }
   },
   "outputs": [],
   "source": [
    "test = [2, 5, 8, 0, 0, 1, 0]        "
   ]
  },
  {
   "cell_type": "code",
   "execution_count": null,
   "id": "confidential-treasurer",
   "metadata": {
    "ExecuteTime": {
     "end_time": "2022-03-07T17:44:38.882442Z",
     "start_time": "2022-03-07T17:44:38.460629Z"
    }
   },
   "outputs": [],
   "source": [
    "list(filter(None, test))"
   ]
  },
  {
   "cell_type": "code",
   "execution_count": null,
   "id": "recreational-albany",
   "metadata": {
    "ExecuteTime": {
     "end_time": "2022-03-07T17:44:52.357907Z",
     "start_time": "2022-03-07T17:44:52.354061Z"
    }
   },
   "outputs": [],
   "source": [
    "list(filter(lambda x: x, test))    "
   ]
  },
  {
   "cell_type": "markdown",
   "id": "defined-challenge",
   "metadata": {
    "ExecuteTime": {
     "end_time": "2022-02-21T12:53:42.202620Z",
     "start_time": "2022-02-21T12:53:42.195130Z"
    }
   },
   "source": [
    "Keep only items > 4"
   ]
  },
  {
   "cell_type": "code",
   "execution_count": null,
   "id": "municipal-delivery",
   "metadata": {
    "ExecuteTime": {
     "end_time": "2022-03-07T17:45:09.334999Z",
     "start_time": "2022-03-07T17:45:09.331746Z"
    }
   },
   "outputs": [],
   "source": [
    "list(filter(lambda x: x > 4, test)) "
   ]
  },
  {
   "cell_type": "markdown",
   "id": "stainless-korean",
   "metadata": {
    "ExecuteTime": {
     "end_time": "2022-02-21T12:54:12.380050Z",
     "start_time": "2022-02-21T12:54:12.377366Z"
    }
   },
   "source": [
    "Of course it's not mandatory to use lambda function"
   ]
  },
  {
   "cell_type": "code",
   "execution_count": null,
   "id": "eleven-diversity",
   "metadata": {
    "ExecuteTime": {
     "end_time": "2022-03-07T17:45:11.964668Z",
     "start_time": "2022-03-07T17:45:11.958645Z"
    }
   },
   "outputs": [],
   "source": [
    "def square(x):\n",
    "    return x**2\n",
    "\n",
    "list(map(square, [1,2,3,4]))"
   ]
  },
  {
   "cell_type": "code",
   "execution_count": null,
   "id": "competitive-attack",
   "metadata": {
    "ExecuteTime": {
     "end_time": "2022-03-07T17:45:13.091447Z",
     "start_time": "2022-03-07T17:45:13.086617Z"
    }
   },
   "outputs": [],
   "source": [
    "def high_speed(x):\n",
    "    return x>120\n",
    "\n",
    "list(filter(high_speed, [110,90,140,60]))"
   ]
  },
  {
   "cell_type": "markdown",
   "id": "toxic-vehicle",
   "metadata": {},
   "source": [
    "## List and dictionaries by Comprehensions\n",
    "\n",
    "lets show it by examples\n",
    "### lists"
   ]
  },
  {
   "cell_type": "code",
   "execution_count": null,
   "id": "sexual-forge",
   "metadata": {
    "ExecuteTime": {
     "end_time": "2022-03-07T17:45:21.180738Z",
     "start_time": "2022-03-07T17:45:21.174251Z"
    }
   },
   "outputs": [],
   "source": [
    "[n ** 2 for n in range(10)]"
   ]
  },
  {
   "cell_type": "code",
   "execution_count": null,
   "id": "substantial-shanghai",
   "metadata": {
    "ExecuteTime": {
     "end_time": "2022-03-07T17:45:36.532489Z",
     "start_time": "2022-03-07T17:45:36.528341Z"
    }
   },
   "outputs": [],
   "source": [
    "[n ** 2 for n in range(10) if n % 2]"
   ]
  },
  {
   "cell_type": "code",
   "execution_count": null,
   "id": "hundred-relay",
   "metadata": {
    "ExecuteTime": {
     "end_time": "2022-03-07T17:45:39.995154Z",
     "start_time": "2022-03-07T17:45:39.989753Z"
    }
   },
   "outputs": [],
   "source": [
    "items = 'ABCD'\n",
    "pairs = [(items[a], items[b]) \n",
    "         for a in range(len(items)) \n",
    "         for b in range(a, len(items))]\n",
    "pairs"
   ]
  },
  {
   "cell_type": "markdown",
   "id": "extraordinary-representative",
   "metadata": {
    "ExecuteTime": {
     "end_time": "2022-02-21T13:02:01.194014Z",
     "start_time": "2022-02-21T13:02:01.192133Z"
    }
   },
   "source": [
    "### dictionaries"
   ]
  },
  {
   "cell_type": "code",
   "execution_count": null,
   "id": "suspended-opera",
   "metadata": {
    "ExecuteTime": {
     "end_time": "2022-03-07T17:45:51.302628Z",
     "start_time": "2022-03-07T17:45:51.298556Z"
    }
   },
   "outputs": [],
   "source": [
    "from string import ascii_lowercase\n",
    "letter_map = dict((c, k) for k, c in enumerate(ascii_lowercase, 1))\n",
    "letter_map"
   ]
  },
  {
   "cell_type": "code",
   "execution_count": null,
   "id": "listed-investment",
   "metadata": {
    "ExecuteTime": {
     "end_time": "2022-03-07T17:46:09.163204Z",
     "start_time": "2022-03-07T17:46:09.159913Z"
    }
   },
   "outputs": [],
   "source": [
    "word = 'Hello'\n",
    "positions = {c: k for k, c in enumerate(word)}\n",
    "positions"
   ]
  },
  {
   "cell_type": "code",
   "execution_count": null,
   "id": "micro-hearing",
   "metadata": {
    "ExecuteTime": {
     "end_time": "2022-03-07T17:46:14.616716Z",
     "start_time": "2022-03-07T17:46:14.613475Z"
    }
   },
   "outputs": [],
   "source": [
    "{k: c for k, c in enumerate(word)}"
   ]
  },
  {
   "cell_type": "markdown",
   "id": "arabic-monday",
   "metadata": {
    "ExecuteTime": {
     "end_time": "2022-02-21T13:02:16.057872Z",
     "start_time": "2022-02-21T13:02:16.056016Z"
    }
   },
   "source": [
    "### Sets"
   ]
  },
  {
   "cell_type": "code",
   "execution_count": null,
   "id": "alien-moscow",
   "metadata": {
    "ExecuteTime": {
     "end_time": "2022-03-07T17:46:21.233574Z",
     "start_time": "2022-03-07T17:46:21.229602Z"
    }
   },
   "outputs": [],
   "source": [
    "word = 'Hello'\n",
    "set(c for c in word)"
   ]
  },
  {
   "cell_type": "code",
   "execution_count": null,
   "id": "greatest-brunswick",
   "metadata": {
    "ExecuteTime": {
     "end_time": "2022-03-07T17:46:23.098026Z",
     "start_time": "2022-03-07T17:46:23.093854Z"
    }
   },
   "outputs": [],
   "source": [
    "{c for c in word}"
   ]
  }
 ],
 "metadata": {
  "kernelspec": {
   "display_name": "Python 3 (ipykernel)",
   "language": "python",
   "name": "python3"
  },
  "language_info": {
   "codemirror_mode": {
    "name": "ipython",
    "version": 3
   },
   "file_extension": ".py",
   "mimetype": "text/x-python",
   "name": "python",
   "nbconvert_exporter": "python",
   "pygments_lexer": "ipython3",
   "version": "3.10.6"
  },
  "latex_envs": {
   "LaTeX_envs_menu_present": true,
   "autoclose": true,
   "autocomplete": true,
   "bibliofile": "references.bib",
   "cite_by": "apalike",
   "current_citInitial": 1,
   "eqLabelWithNumbers": false,
   "eqNumInitial": 1,
   "hotkeys": {
    "equation": "Ctrl-E",
    "itemize": "Ctrl-I"
   },
   "labels_anchors": false,
   "latex_user_defs": false,
   "report_style_numbering": true,
   "user_envs_cfg": false
  },
  "nbTranslate": {
   "displayLangs": [
    "*"
   ],
   "hotkey": "alt-t",
   "langInMainMenu": true,
   "sourceLang": "en",
   "targetLang": "fr",
   "useGoogleTranslate": true
  },
  "toc": {
   "base_numbering": 1,
   "nav_menu": {},
   "number_sections": true,
   "sideBar": true,
   "skip_h1_title": false,
   "title_cell": "Table of Contents",
   "title_sidebar": "Contents",
   "toc_cell": false,
   "toc_position": {},
   "toc_section_display": true,
   "toc_window_display": false
  },
  "varInspector": {
   "cols": {
    "lenName": 16,
    "lenType": 16,
    "lenVar": 40
   },
   "kernels_config": {
    "python": {
     "delete_cmd_postfix": "",
     "delete_cmd_prefix": "del ",
     "library": "var_list.py",
     "varRefreshCmd": "print(var_dic_list())"
    },
    "r": {
     "delete_cmd_postfix": ") ",
     "delete_cmd_prefix": "rm(",
     "library": "var_list.r",
     "varRefreshCmd": "cat(var_dic_list()) "
    }
   },
   "types_to_exclude": [
    "module",
    "function",
    "builtin_function_or_method",
    "instance",
    "_Feature"
   ],
   "window_display": false
  }
 },
 "nbformat": 4,
 "nbformat_minor": 5
}
