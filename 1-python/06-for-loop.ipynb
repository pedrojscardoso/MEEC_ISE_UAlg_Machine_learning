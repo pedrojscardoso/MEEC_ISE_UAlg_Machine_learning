{
 "cells": [
  {
   "cell_type": "markdown",
   "source": [
    "___\n",
    "<h1> Machine Learning </h1>\n",
    "<h2> M. Sc. in Electrical and Computer Engineering </h2>\n",
    "<h3> Instituto Superior de Engenharia / Universidade do Algarve </h3>\n",
    "\n",
    "[LESTI](https://ise.ualg.pt/curso/1941) / [ISE](https://ise.ualg.pt) / [UAlg](https://www.ualg.pt)\n",
    "\n",
    "Pedro J. S. Cardoso (pcardoso@ualg.pt)\n",
    "\n",
    "___"
   ],
   "metadata": {
    "collapsed": false
   }
  },
  {
   "cell_type": "markdown",
   "metadata": {},
   "source": [
    "# For cycle\n",
    "\n",
    "The for loop is used when looping over a sequence, like a list, tuple, or a collection of objects.\n",
    "\n",
    "An iterable is an object capable of returning its members one at a time. Examples of iterables include all sequence types (such as list, str, and tuple) and some non-sequence types like dict, or file objects.\n",
    "\n",
    "Objects of any classes you define with an `__iter__()` or `__getitem__()` method.\n",
    "\n",
    "## Basic syntax"
   ]
  },
  {
   "cell_type": "code",
   "execution_count": null,
   "metadata": {},
   "outputs": [],
   "source": [
    "for number in [0, 1, 2, 3, 4]:\n",
    "    print(number)\n",
    "    print(number ** 2)"
   ]
  },
  {
   "cell_type": "markdown",
   "metadata": {},
   "source": [
    "Iterating over a range (e.g. range(5) is the sequence 0, 1, 2, 3, 4)"
   ]
  },
  {
   "cell_type": "code",
   "execution_count": null,
   "metadata": {},
   "outputs": [],
   "source": [
    "for number in range(5): \n",
    "    print(number) "
   ]
  },
  {
   "cell_type": "markdown",
   "metadata": {},
   "source": [
    "Iterating over another range [3, 4, 5, 6, 7]"
   ]
  },
  {
   "cell_type": "code",
   "execution_count": null,
   "metadata": {},
   "outputs": [],
   "source": [
    "for number in range(3, 8): \n",
    "    print(number)"
   ]
  },
  {
   "cell_type": "markdown",
   "metadata": {},
   "source": [
    "Iterating even over another range [-10, -6, -2, 2, 6 ]"
   ]
  },
  {
   "cell_type": "code",
   "execution_count": null,
   "metadata": {},
   "outputs": [],
   "source": [
    "for number in range(-10, 10, 4):  \n",
    "    print(number) "
   ]
  },
  {
   "cell_type": "markdown",
   "metadata": {},
   "source": [
    "Iterating over a sequence"
   ]
  },
  {
   "cell_type": "code",
   "execution_count": null,
   "metadata": {},
   "outputs": [],
   "source": [
    "surnames = ['Rivest', 'Shamir', 'Adleman']\n",
    "for surname in surnames:\n",
    "    print(surname)"
   ]
  },
  {
   "cell_type": "markdown",
   "metadata": {},
   "source": [
    "Iterating over a sequence with index - old way"
   ]
  },
  {
   "cell_type": "code",
   "execution_count": null,
   "metadata": {},
   "outputs": [],
   "source": [
    "for position in range(len(surnames)):\n",
    "    print(position, surnames[position])"
   ]
  },
  {
   "cell_type": "markdown",
   "metadata": {},
   "source": [
    "Iterating over a sequence with index - Python way: use the `enumerate()` function which returns a sequence of (i, value) tuples"
   ]
  },
  {
   "cell_type": "code",
   "execution_count": null,
   "metadata": {},
   "outputs": [],
   "source": [
    "for position, surname in enumerate(surnames):\n",
    "    print(position, surname)"
   ]
  },
  {
   "cell_type": "markdown",
   "metadata": {},
   "source": [
    "Iterating over a sequence with index, position starting at 1"
   ]
  },
  {
   "cell_type": "code",
   "execution_count": null,
   "metadata": {},
   "outputs": [],
   "source": [
    "for position, surname in enumerate(surnames, 1):\n",
    "    print(position, surname)"
   ]
  },
  {
   "cell_type": "markdown",
   "metadata": {},
   "source": [
    "In short,\n",
    "- An iterable is an object capable of returning its members one at a time.\n",
    "- Examples of iterables include all sequence types (such as list, str, and tuple) and some non-sequence types like dict, or file objects. Or objects of any classes you define with  an `__iter__()` or `__getitem__()`"
   ]
  },
  {
   "cell_type": "markdown",
   "metadata": {},
   "source": [
    "## Iterating over multiple sequences\n",
    "How to iterate over multiple sequences\n",
    "\n",
    "### Old way"
   ]
  },
  {
   "cell_type": "code",
   "execution_count": null,
   "metadata": {},
   "outputs": [],
   "source": [
    "people = ['Rafa', 'António', 'Florentino', 'Ramos']\n",
    "ages = [25, 20, 26, 20]\n",
    "\n",
    "# old way!\n",
    "for position in range(len(people)):\n",
    "    person = people[position]\n",
    "    age = ages[position]\n",
    "    print(person, age)"
   ]
  },
  {
   "cell_type": "markdown",
   "metadata": {},
   "source": [
    "### More pythonic "
   ]
  },
  {
   "cell_type": "code",
   "execution_count": null,
   "metadata": {},
   "outputs": [],
   "source": [
    "for position, person in enumerate(people):\n",
    "    age = ages[position]\n",
    "    print(person, age)"
   ]
  },
  {
   "cell_type": "markdown",
   "metadata": {},
   "source": [
    "### Pythonic way\n",
    "and, the pythonic way used the `zip()` function which returns a sequence of tuples, where the i-th tuple contains the i-th element from each of the argument sequences or iterables."
   ]
  },
  {
   "cell_type": "code",
   "execution_count": null,
   "metadata": {},
   "outputs": [],
   "source": [
    "for person, age in zip(people, ages):\n",
    "    print(person, age) "
   ]
  },
  {
   "cell_type": "code",
   "execution_count": null,
   "metadata": {},
   "outputs": [],
   "source": [
    "for person_age in zip(people, ages):\n",
    "    print(person_age) "
   ]
  },
  {
   "cell_type": "code",
   "execution_count": null,
   "metadata": {},
   "outputs": [],
   "source": [
    "nationalities = ['Uruguay', 'Portugal', 'Greek', 'Portugal']\n",
    "\n",
    "for person, age, nationality in zip(people, ages, nationalities):\n",
    "    print(person, age, nationality)"
   ]
  },
  {
   "cell_type": "markdown",
   "metadata": {},
   "source": [
    "## The `continue` clause\n",
    "The **continue** statement, tells the looping construct (**for** or **while**) to immediately stop execution of the body and go to the next iteration, if any."
   ]
  },
  {
   "cell_type": "code",
   "execution_count": null,
   "metadata": {},
   "outputs": [],
   "source": [
    "from datetime import date, timedelta\n",
    "today = date.today()\n",
    "tomorrow = today + timedelta(days=1) # today + 1 day is tomorrow\n",
    "\n",
    "products = [\n",
    "    {'sku': '1', 'expiration_date': today, 'price': 100.0},\n",
    "    {'sku': '2', 'expiration_date': tomorrow, 'price': 50},\n",
    "    {'sku': '3', 'expiration_date': today, 'price': 20},\n",
    "]\n",
    "\n",
    "for product in products:\n",
    "    if product['expiration_date'] != today:\n",
    "        continue                # go to the next product\n",
    "    product['price'] *= 0.8     # apply 20% discount\n",
    "    print('Price for sku', product['sku'], 'is now', product['price']) "
   ]
  },
  {
   "cell_type": "markdown",
   "metadata": {},
   "source": [
    "## The `break` clause \n",
    "The **break** statement terminates the current loop and resumes execution at the next statement"
   ]
  },
  {
   "cell_type": "code",
   "execution_count": null,
   "metadata": {},
   "outputs": [],
   "source": [
    "items = [0, None, 0.0, True, 0, 7]  # True and 7 evaluate to True\n",
    "found = False                       # this is called \"flag\"\n",
    "\n",
    "for item in items:\n",
    "    print('scanning item', item)\n",
    "    if item:\n",
    "        found = True                # we update the flag\n",
    "        break\n",
    "\n",
    "if found:                           # we inspect the flag\n",
    "    print('At least one item evaluates to True')\n",
    "else:\n",
    "    print('All items evaluate to False')   "
   ]
  },
  {
   "cell_type": "markdown",
   "metadata": {},
   "source": [
    "## The `else` clause\n",
    "If the loop ends normally, because of exhaustion of the iterator (**for** loop) or because the condition is finally not met (**while** loop), then the **else** suite (if present) is executed. \n",
    "\n",
    "In case execution is interrupted by a **break** statement, the **else** clause is not executed. "
   ]
  },
  {
   "cell_type": "code",
   "execution_count": null,
   "metadata": {},
   "outputs": [],
   "source": [
    "people = [('James', 17), ('Kirk', 9), ('Lars', 13), ('Robert', 8)]\n",
    "driver = None\n",
    "\n",
    "# old way!\n",
    "for person, age in people:\n",
    "    if age >= 18:\n",
    "        driver = (person, age)\n",
    "        break\n",
    "        \n",
    "if driver is None:\n",
    "    print('Driver not found.')"
   ]
  },
  {
   "cell_type": "code",
   "execution_count": null,
   "metadata": {},
   "outputs": [],
   "source": [
    "# the same loop in a pythonic way\n",
    "for person, age in people:\n",
    "    if age >= 18:\n",
    "        driver = (person, age)\n",
    "        break\n",
    "else:                           # <------------\n",
    "    print('Driver not found.')"
   ]
  },
  {
   "cell_type": "markdown",
   "metadata": {},
   "source": [
    "Returning to the previous example"
   ]
  },
  {
   "cell_type": "code",
   "execution_count": null,
   "metadata": {},
   "outputs": [],
   "source": [
    "items = [0, None, 0.0, True, 0, 7]  # True and 7 evaluate to True\n",
    "\n",
    "for item in items:\n",
    "    print('scanning item', item)\n",
    "    if item:\n",
    "        found = True                # we update the flag\n",
    "        break\n",
    "else:\n",
    "    found = False                  # the \"flag\" will became false if the cycle never runs the 'break' clause\n",
    "\n",
    "if found:                           # we inspect the flag\n",
    "    print('At least one item evaluates to True')\n",
    "else:\n",
    "    print('All items evaluate to False')   "
   ]
  },
  {
   "cell_type": "markdown",
   "metadata": {},
   "source": [
    "## Iterables (optional)\n",
    "\n",
    "- An iterable is an object capable of returning its members one at a time.\n",
    "- Examples of iterables include all sequence types (such as `list, str`, and `tuple`) and some non-sequence types like `dict`, or `file` objects.\n",
    "- Objects of any classes you define with an `__iter__()` or `__getitem__()` method.\n"
   ]
  },
  {
   "cell_type": "code",
   "execution_count": null,
   "metadata": {},
   "outputs": [],
   "source": [
    "for key in {\"title\": \"And Now for Something Completely Different\", \"year\": 1971}:\n",
    "    print(key)"
   ]
  },
  {
   "cell_type": "code",
   "execution_count": null,
   "metadata": {},
   "outputs": [],
   "source": [
    "for key, value in {\"title\": \"And Now for Something Completely Different\", \"year\": 1971}.items():\n",
    "    print(key, value)"
   ]
  },
  {
   "cell_type": "markdown",
   "metadata": {},
   "source": [
    "# Exercises\n",
    "\n",
    "[Go here...](exercises/06-exercises.ipynb)"
   ]
  }
 ],
 "metadata": {
  "kernelspec": {
   "display_name": "Python 3 (ipykernel)",
   "language": "python",
   "name": "python3"
  },
  "language_info": {
   "codemirror_mode": {
    "name": "ipython",
    "version": 3
   },
   "file_extension": ".py",
   "mimetype": "text/x-python",
   "name": "python",
   "nbconvert_exporter": "python",
   "pygments_lexer": "ipython3",
   "version": "3.10.6"
  },
  "latex_envs": {
   "LaTeX_envs_menu_present": true,
   "autoclose": true,
   "autocomplete": true,
   "bibliofile": "references.bib",
   "cite_by": "apalike",
   "current_citInitial": 1,
   "eqLabelWithNumbers": false,
   "eqNumInitial": 1,
   "hotkeys": {
    "equation": "Ctrl-E",
    "itemize": "Ctrl-I"
   },
   "labels_anchors": false,
   "latex_user_defs": false,
   "report_style_numbering": true,
   "user_envs_cfg": false
  },
  "nbTranslate": {
   "displayLangs": [
    "*"
   ],
   "hotkey": "alt-t",
   "langInMainMenu": true,
   "sourceLang": "en",
   "targetLang": "fr",
   "useGoogleTranslate": true
  },
  "toc": {
   "base_numbering": 1,
   "nav_menu": {
    "height": "234px",
    "width": "384px"
   },
   "number_sections": true,
   "sideBar": true,
   "skip_h1_title": false,
   "title_cell": "Table of Contents",
   "title_sidebar": "Contents",
   "toc_cell": false,
   "toc_position": {},
   "toc_section_display": "block",
   "toc_window_display": false
  },
  "varInspector": {
   "cols": {
    "lenName": 16,
    "lenType": 16,
    "lenVar": 40
   },
   "kernels_config": {
    "python": {
     "delete_cmd_postfix": "",
     "delete_cmd_prefix": "del ",
     "library": "var_list.py",
     "varRefreshCmd": "print(var_dic_list())"
    },
    "r": {
     "delete_cmd_postfix": ") ",
     "delete_cmd_prefix": "rm(",
     "library": "var_list.r",
     "varRefreshCmd": "cat(var_dic_list()) "
    }
   },
   "types_to_exclude": [
    "module",
    "function",
    "builtin_function_or_method",
    "instance",
    "_Feature"
   ],
   "window_display": false
  }
 },
 "nbformat": 4,
 "nbformat_minor": 2
}
